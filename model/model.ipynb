{
 "nbformat": 4,
 "nbformat_minor": 0,
 "metadata": {
  "colab": {
   "provenance": [],
   "authorship_tag": "ABX9TyMPb1me9HBu/V/0aLhCwxO2"
  },
  "kernelspec": {
   "name": "python3",
   "display_name": "Python 3"
  },
  "language_info": {
   "name": "python"
  },
  "widgets": {
   "application/vnd.jupyter.widget-state+json": {
    "state": {},
    "5f10170bd8044d9a8538d3a92dfad649": {
     "model_module": "@jupyter-widgets/controls",
     "model_name": "VBoxModel",
     "model_module_version": "1.5.0",
     "state": {
      "_dom_classes": [],
      "_model_module": "@jupyter-widgets/controls",
      "_model_module_version": "1.5.0",
      "_model_name": "VBoxModel",
      "_view_count": null,
      "_view_module": "@jupyter-widgets/controls",
      "_view_module_version": "1.5.0",
      "_view_name": "VBoxView",
      "box_style": "",
      "children": [
       "IPY_MODEL_f5013b6bb63b4f87996df6d9d8c604da",
       "IPY_MODEL_7757dae08bb84c27952a85c31c92d212",
       "IPY_MODEL_835164cddfc643d7bcac084ee123d6a2"
      ],
      "layout": "IPY_MODEL_d3434de66dd14f1f87cd68a38819f6de"
     }
    },
    "f5013b6bb63b4f87996df6d9d8c604da": {
     "model_module": "@jupyter-widgets/controls",
     "model_name": "FloatSliderModel",
     "model_module_version": "1.5.0",
     "state": {
      "_dom_classes": [],
      "_model_module": "@jupyter-widgets/controls",
      "_model_module_version": "1.5.0",
      "_model_name": "FloatSliderModel",
      "_view_count": null,
      "_view_module": "@jupyter-widgets/controls",
      "_view_module_version": "1.5.0",
      "_view_name": "FloatSliderView",
      "continuous_update": true,
      "description": "Velocity:",
      "description_tooltip": null,
      "disabled": false,
      "layout": "IPY_MODEL_4944d041602240cbade808e67ea448df",
      "max": 150,
      "min": -150,
      "orientation": "horizontal",
      "readout": true,
      "readout_format": ".2f",
      "step": 0.1,
      "style": "IPY_MODEL_cf415f87d22e4d80a3cb2fe54115c85c",
      "value": 0
     }
    },
    "7757dae08bb84c27952a85c31c92d212": {
     "model_module": "@jupyter-widgets/controls",
     "model_name": "FloatSliderModel",
     "model_module_version": "1.5.0",
     "state": {
      "_dom_classes": [],
      "_model_module": "@jupyter-widgets/controls",
      "_model_module_version": "1.5.0",
      "_model_name": "FloatSliderModel",
      "_view_count": null,
      "_view_module": "@jupyter-widgets/controls",
      "_view_module_version": "1.5.0",
      "_view_name": "FloatSliderView",
      "continuous_update": true,
      "description": "Angular velocity:",
      "description_tooltip": null,
      "disabled": false,
      "layout": "IPY_MODEL_229c343f11894a8eace05ff7452a762f",
      "max": 30,
      "min": -30,
      "orientation": "horizontal",
      "readout": true,
      "readout_format": ".2f",
      "step": 0.1,
      "style": "IPY_MODEL_33ba571895c34a869f1d3958eb8a5183",
      "value": 0
     }
    },
    "835164cddfc643d7bcac084ee123d6a2": {
     "model_module": "@jupyter-widgets/controls",
     "model_name": "CheckboxModel",
     "model_module_version": "1.5.0",
     "state": {
      "_dom_classes": [],
      "_model_module": "@jupyter-widgets/controls",
      "_model_module_version": "1.5.0",
      "_model_name": "CheckboxModel",
      "_view_count": null,
      "_view_module": "@jupyter-widgets/controls",
      "_view_module_version": "1.5.0",
      "_view_name": "CheckboxView",
      "description": "Auto-center plot",
      "description_tooltip": null,
      "disabled": false,
      "indent": true,
      "layout": "IPY_MODEL_56528962296b47fa8fc79680b244c937",
      "style": "IPY_MODEL_4be54616d9bc4e22a3449751f1dab3c4",
      "value": true
     }
    },
    "d3434de66dd14f1f87cd68a38819f6de": {
     "model_module": "@jupyter-widgets/base",
     "model_name": "LayoutModel",
     "model_module_version": "1.2.0",
     "state": {
      "_model_module": "@jupyter-widgets/base",
      "_model_module_version": "1.2.0",
      "_model_name": "LayoutModel",
      "_view_count": null,
      "_view_module": "@jupyter-widgets/base",
      "_view_module_version": "1.2.0",
      "_view_name": "LayoutView",
      "align_content": null,
      "align_items": null,
      "align_self": null,
      "border": null,
      "bottom": null,
      "display": null,
      "flex": null,
      "flex_flow": null,
      "grid_area": null,
      "grid_auto_columns": null,
      "grid_auto_flow": null,
      "grid_auto_rows": null,
      "grid_column": null,
      "grid_gap": null,
      "grid_row": null,
      "grid_template_areas": null,
      "grid_template_columns": null,
      "grid_template_rows": null,
      "height": null,
      "justify_content": null,
      "justify_items": null,
      "left": null,
      "margin": null,
      "max_height": null,
      "max_width": null,
      "min_height": null,
      "min_width": null,
      "object_fit": null,
      "object_position": null,
      "order": null,
      "overflow": null,
      "overflow_x": null,
      "overflow_y": null,
      "padding": null,
      "right": null,
      "top": null,
      "visibility": null,
      "width": null
     }
    },
    "4944d041602240cbade808e67ea448df": {
     "model_module": "@jupyter-widgets/base",
     "model_name": "LayoutModel",
     "model_module_version": "1.2.0",
     "state": {
      "_model_module": "@jupyter-widgets/base",
      "_model_module_version": "1.2.0",
      "_model_name": "LayoutModel",
      "_view_count": null,
      "_view_module": "@jupyter-widgets/base",
      "_view_module_version": "1.2.0",
      "_view_name": "LayoutView",
      "align_content": null,
      "align_items": null,
      "align_self": null,
      "border": null,
      "bottom": null,
      "display": null,
      "flex": null,
      "flex_flow": null,
      "grid_area": null,
      "grid_auto_columns": null,
      "grid_auto_flow": null,
      "grid_auto_rows": null,
      "grid_column": null,
      "grid_gap": null,
      "grid_row": null,
      "grid_template_areas": null,
      "grid_template_columns": null,
      "grid_template_rows": null,
      "height": null,
      "justify_content": null,
      "justify_items": null,
      "left": null,
      "margin": null,
      "max_height": null,
      "max_width": null,
      "min_height": null,
      "min_width": null,
      "object_fit": null,
      "object_position": null,
      "order": null,
      "overflow": null,
      "overflow_x": null,
      "overflow_y": null,
      "padding": null,
      "right": null,
      "top": null,
      "visibility": null,
      "width": null
     }
    },
    "cf415f87d22e4d80a3cb2fe54115c85c": {
     "model_module": "@jupyter-widgets/controls",
     "model_name": "SliderStyleModel",
     "model_module_version": "1.5.0",
     "state": {
      "_model_module": "@jupyter-widgets/controls",
      "_model_module_version": "1.5.0",
      "_model_name": "SliderStyleModel",
      "_view_count": null,
      "_view_module": "@jupyter-widgets/base",
      "_view_module_version": "1.2.0",
      "_view_name": "StyleView",
      "description_width": "",
      "handle_color": null
     }
    },
    "229c343f11894a8eace05ff7452a762f": {
     "model_module": "@jupyter-widgets/base",
     "model_name": "LayoutModel",
     "model_module_version": "1.2.0",
     "state": {
      "_model_module": "@jupyter-widgets/base",
      "_model_module_version": "1.2.0",
      "_model_name": "LayoutModel",
      "_view_count": null,
      "_view_module": "@jupyter-widgets/base",
      "_view_module_version": "1.2.0",
      "_view_name": "LayoutView",
      "align_content": null,
      "align_items": null,
      "align_self": null,
      "border": null,
      "bottom": null,
      "display": null,
      "flex": null,
      "flex_flow": null,
      "grid_area": null,
      "grid_auto_columns": null,
      "grid_auto_flow": null,
      "grid_auto_rows": null,
      "grid_column": null,
      "grid_gap": null,
      "grid_row": null,
      "grid_template_areas": null,
      "grid_template_columns": null,
      "grid_template_rows": null,
      "height": null,
      "justify_content": null,
      "justify_items": null,
      "left": null,
      "margin": null,
      "max_height": null,
      "max_width": null,
      "min_height": null,
      "min_width": null,
      "object_fit": null,
      "object_position": null,
      "order": null,
      "overflow": null,
      "overflow_x": null,
      "overflow_y": null,
      "padding": null,
      "right": null,
      "top": null,
      "visibility": null,
      "width": null
     }
    },
    "33ba571895c34a869f1d3958eb8a5183": {
     "model_module": "@jupyter-widgets/controls",
     "model_name": "SliderStyleModel",
     "model_module_version": "1.5.0",
     "state": {
      "_model_module": "@jupyter-widgets/controls",
      "_model_module_version": "1.5.0",
      "_model_name": "SliderStyleModel",
      "_view_count": null,
      "_view_module": "@jupyter-widgets/base",
      "_view_module_version": "1.2.0",
      "_view_name": "StyleView",
      "description_width": "",
      "handle_color": null
     }
    },
    "56528962296b47fa8fc79680b244c937": {
     "model_module": "@jupyter-widgets/base",
     "model_name": "LayoutModel",
     "model_module_version": "1.2.0",
     "state": {
      "_model_module": "@jupyter-widgets/base",
      "_model_module_version": "1.2.0",
      "_model_name": "LayoutModel",
      "_view_count": null,
      "_view_module": "@jupyter-widgets/base",
      "_view_module_version": "1.2.0",
      "_view_name": "LayoutView",
      "align_content": null,
      "align_items": null,
      "align_self": null,
      "border": null,
      "bottom": null,
      "display": null,
      "flex": null,
      "flex_flow": null,
      "grid_area": null,
      "grid_auto_columns": null,
      "grid_auto_flow": null,
      "grid_auto_rows": null,
      "grid_column": null,
      "grid_gap": null,
      "grid_row": null,
      "grid_template_areas": null,
      "grid_template_columns": null,
      "grid_template_rows": null,
      "height": null,
      "justify_content": null,
      "justify_items": null,
      "left": null,
      "margin": null,
      "max_height": null,
      "max_width": null,
      "min_height": null,
      "min_width": null,
      "object_fit": null,
      "object_position": null,
      "order": null,
      "overflow": null,
      "overflow_x": null,
      "overflow_y": null,
      "padding": null,
      "right": null,
      "top": null,
      "visibility": null,
      "width": null
     }
    },
    "4be54616d9bc4e22a3449751f1dab3c4": {
     "model_module": "@jupyter-widgets/controls",
     "model_name": "DescriptionStyleModel",
     "model_module_version": "1.5.0",
     "state": {
      "_model_module": "@jupyter-widgets/controls",
      "_model_module_version": "1.5.0",
      "_model_name": "DescriptionStyleModel",
      "_view_count": null,
      "_view_module": "@jupyter-widgets/base",
      "_view_module_version": "1.2.0",
      "_view_name": "StyleView",
      "description_width": ""
     }
    }
   }
  }
 },
 "cells": [
  {
   "metadata": {},
   "cell_type": "markdown",
   "source": [
    "# 5DOF Cart-Pole System Model - Position\n",
    "\n",
    "Theoretical mathematical model of the 4DOF cart-pole system in the coordinate system $ (x, y, z, \\theta, \\varphi) $ with external normal velocity as free variable.\n",
    "\n",
    "Dynamic model uses Euler-Lagrange equations."
   ]
  },
  {
   "metadata": {},
   "cell_type": "markdown",
   "source": [
    "Prefixes:\n",
    "- cs: coordinate system\n",
    "- fn: function\n",
    "- fv: free variable\n",
    "- l: lagrangian/energy\n",
    "- p: point"
   ]
  },
  {
   "metadata": {},
   "cell_type": "markdown",
   "source": "## Classes"
  },
  {
   "cell_type": "code",
   "metadata": {
    "id": "YbIjnNRBpt-u",
    "executionInfo": {
     "status": "ok",
     "timestamp": 1750814199696,
     "user_tz": 180,
     "elapsed": 6,
     "user": {
      "displayName": "Marcos Belizario",
      "userId": "10631893326976706194"
     }
    },
    "ExecuteTime": {
     "end_time": "2025-07-30T18:51:31.388682Z",
     "start_time": "2025-07-30T18:51:29.521581Z"
    }
   },
   "source": [
    "import importlib.util\n",
    "import matplotlib.pyplot as plt\n",
    "import numpy as np\n",
    "import sympy as sp\n",
    "\n",
    "from IPython.display import display, Math, Latex\n",
    "from qpsolvers import solve_qp\n",
    "from scipy.integrate import solve_ivp"
   ],
   "outputs": [],
   "execution_count": 1
  },
  {
   "metadata": {
    "ExecuteTime": {
     "end_time": "2025-07-30T18:51:31.547277Z",
     "start_time": "2025-07-30T18:51:31.522897Z"
    }
   },
   "cell_type": "code",
   "source": [
    "class StateXyz:\n",
    "    _map = {\n",
    "        'x': (0, 'X'), 'y': (1, 'X'), 'z': (2, 'X'),\n",
    "        'xd': (0, 'Xd'), 'yd': (1, 'Xd'), 'zd': (2, 'Xd'),\n",
    "        'xdd': (0, 'Xdd'), 'ydd': (1, 'Xdd'), 'zdd': (2, 'Xdd')\n",
    "    }\n",
    "\n",
    "    def __init__(self, name, X=None, Xd=None, Xdd=None):\n",
    "        self._name = name\n",
    "        self.X = X\n",
    "        self.Xd = Xd\n",
    "        self.Xdd = Xdd\n",
    "        self._X_norm = self._Xd_norm = self._Xdd_norm = None\n",
    "\n",
    "    def __getattr__(self, key):\n",
    "        if key in self._map:\n",
    "            idx, attr = self._map[key]\n",
    "            val = getattr(self, attr)\n",
    "            if val is not None:\n",
    "                return val[idx]\n",
    "            raise AttributeError(f\"{attr} is None for key '{key}'\")\n",
    "        raise AttributeError(f\"{key} not found\")\n",
    "\n",
    "    def __setattr__(self, key, value):\n",
    "        if key in {'_name', 'X', 'Xd', 'Xdd', '_X_norm', '_Xd_norm', '_Xdd_norm'}:\n",
    "            super().__setattr__(key, value)\n",
    "        elif key in self._map:\n",
    "            idx, attr = self._map[key]\n",
    "            array = getattr(self, attr)\n",
    "            if array is not None:\n",
    "                array[idx] = value\n",
    "            else:\n",
    "                raise AttributeError(f\"{attr} is None, cannot assign '{key}'\")\n",
    "        else:\n",
    "            super().__setattr__(key, value)\n",
    "\n",
    "    @property\n",
    "    def X_norm(self):\n",
    "        if self._X_norm is None and self.X is not None:\n",
    "            return sp.sqrt(self.X.dot(self.X))\n",
    "        return self._X_norm\n",
    "\n",
    "    @X_norm.setter\n",
    "    def X_norm(self, value):\n",
    "        self._X_norm = value\n",
    "\n",
    "    @property\n",
    "    def Xd_norm(self):\n",
    "        if self._Xd_norm is None and self.Xd is not None:\n",
    "            return sp.sqrt(self.Xd.dot(self.Xd))\n",
    "        return self._Xd_norm\n",
    "\n",
    "    @Xd_norm.setter\n",
    "    def Xd_norm(self, value):\n",
    "        self._Xd_norm = value\n",
    "\n",
    "    @property\n",
    "    def Xdd_norm(self):\n",
    "        if self._Xdd_norm is None and self.Xdd is not None:\n",
    "            return sp.sqrt(self.Xdd.dot(self.Xdd))\n",
    "        return self._Xdd_norm\n",
    "\n",
    "    @Xdd_norm.setter\n",
    "    def Xdd_norm(self, value):\n",
    "        self._Xdd_norm = value\n",
    "\n",
    "    def diff(self, wrt):\n",
    "        if self.X is not None:\n",
    "            self.Xd = self.X.diff(wrt)\n",
    "\n",
    "    def diff2(self, wrt):\n",
    "        if self.Xd is not None:\n",
    "            self.Xdd = self.Xd.diff(wrt)\n",
    "\n",
    "\n",
    "class StateGen:\n",
    "    _map = {\n",
    "        'x': (0, 'Q'), 'y': (1, 'Q'), 'z': (2, 'Q'), 't': (3, 'Q'), 'p': (4, 'Q'),\n",
    "        'xd': (0, 'Qd'), 'yd': (1, 'Qd'), 'zd': (2, 'Qd'), 'td': (3, 'Qd'), 'pd': (4, 'Qd'),\n",
    "        'xdd': (0, 'Qdd'), 'ydd': (1, 'Qdd'), 'zdd': (2, 'Qdd'), 'tdd': (3, 'Qdd'), 'pdd': (4, 'Qdd')\n",
    "    }\n",
    "\n",
    "    def __init__(self, name, Q=None, Qd=None, Qdd=None):\n",
    "        self._name = name\n",
    "\n",
    "        if Q is None:\n",
    "            self.Q = sp.Matrix([\n",
    "                sp.Symbol(r'x_{' + name + '}'),\n",
    "                sp.Symbol(r'y_{' + name + '}'),\n",
    "                sp.Symbol(r'z_{' + name + '}'),\n",
    "                sp.Symbol(r'\\theta_{' + name + '}'),\n",
    "                sp.Symbol(r'\\phi_{' + name + '}')\n",
    "            ])\n",
    "        elif isinstance(Q, sp.Matrix):\n",
    "            self.Q = Q\n",
    "        else:\n",
    "            raise TypeError(f\"Q must be a Matrix, not {type(Q)}\")\n",
    "\n",
    "        if Qd is None:\n",
    "            self.Qd = sp.Matrix([\n",
    "                sp.Symbol(r'\\dot{x}_{' + name + '}'),\n",
    "                sp.Symbol(r'\\dot{y}_{' + name + '}'),\n",
    "                sp.Symbol(r'\\dot{z}_{' + name + '}'),\n",
    "                sp.Symbol(r'\\dot{\\theta}_{' + name + '}'),\n",
    "                sp.Symbol(r'\\dot{\\phi}_{' + name + '}')\n",
    "            ])\n",
    "        elif isinstance(Qd, sp.Matrix):\n",
    "            self.Qd = Qd\n",
    "        else:\n",
    "            raise TypeError(f\"Qd must be a Matrix, not {type(Qd)}\")\n",
    "\n",
    "        if Qdd is None:\n",
    "            self.Qdd = sp.Matrix([\n",
    "                sp.Symbol(r'\\ddot{x}_{' + name + '}'),\n",
    "                sp.Symbol(r'\\ddot{y}_{' + name + '}'),\n",
    "                sp.Symbol(r'\\ddot{z}_{' + name + '}'),\n",
    "                sp.Symbol(r'\\ddot{\\theta}_{' + name + '}'),\n",
    "                sp.Symbol(r'\\ddot{\\phi}_{' + name + '}')\n",
    "            ])\n",
    "        elif isinstance(Qdd, sp.Matrix):\n",
    "            self.Qdd = Qdd\n",
    "        else:\n",
    "            raise TypeError(f\"Qdd must be a Matrix, not {type(Qdd)}\")\n",
    "\n",
    "        self._Q_norm = self._Qd_norm = self._Qdd_norm = None\n",
    "\n",
    "    def __getattr__(self, key):\n",
    "        if key in self._map:\n",
    "            idx, attr = self._map[key]\n",
    "            val = getattr(self, attr)\n",
    "            if val is not None:\n",
    "                return val[idx]\n",
    "            raise AttributeError(f\"{attr} is None for key '{key}'\")\n",
    "        raise AttributeError(f\"{key} not found\")\n",
    "\n",
    "    def __setattr__(self, key, value):\n",
    "        if key in {'_name', 'Q', 'Qd', 'Qdd', '_Q_norm', '_Qd_norm', '_Qdd_norm'}:\n",
    "            super().__setattr__(key, value)\n",
    "        elif key in self._map:\n",
    "            idx, attr = self._map[key]\n",
    "            array = getattr(self, attr)\n",
    "            if array is not None:\n",
    "                array[idx] = value\n",
    "            else:\n",
    "                raise AttributeError(f\"{attr} is None, cannot assign '{key}'\")\n",
    "        else:\n",
    "            super().__setattr__(key, value)\n",
    "\n",
    "    @property\n",
    "    def Q_norm(self):\n",
    "        if self._Q_norm is None and self.Q is not None:\n",
    "            return sp.sqrt(self.Q.dot(self.Q))\n",
    "        return self._Q_norm\n",
    "\n",
    "    @Q_norm.setter\n",
    "    def Q_norm(self, value):\n",
    "        self._Q_norm = value\n",
    "\n",
    "    @property\n",
    "    def Qd_norm(self):\n",
    "        if self._Qd_norm is None and self.Qd is not None:\n",
    "            return sp.sqrt(self.Qd.dot(self.Qd))\n",
    "        return self._Qd_norm\n",
    "\n",
    "    @Qd_norm.setter\n",
    "    def Qd_norm(self, value):\n",
    "        self._Qd_norm = value\n",
    "\n",
    "    @property\n",
    "    def Qdd_norm(self):\n",
    "        if self._Qdd_norm is None and self.Qdd is not None:\n",
    "            return sp.sqrt(self.Qdd.dot(self.Qdd))\n",
    "        return self._Qdd_norm\n",
    "\n",
    "    @Qdd_norm.setter\n",
    "    def Qdd_norm(self, value):\n",
    "        self._Qdd_norm = value\n",
    "\n",
    "    def diff(self, wrt):\n",
    "        if self.Q is not None:\n",
    "            self.Qd = self.Q.diff(wrt)\n",
    "        return self.Qd\n",
    "\n",
    "    def diff2(self, wrt):\n",
    "        if self.Qd is not None:\n",
    "            self.Qdd = self.Qd.diff(wrt)\n",
    "        return self.Qdd\n",
    "\n",
    "\n",
    "class Lagrangian:\n",
    "    def __init__(self, name, t, state_gen=None):\n",
    "        self._name = name\n",
    "        self._t = t\n",
    "        self._cs = state_gen\n",
    "\n",
    "        self._L = None\n",
    "        self._L_dq = None\n",
    "        self._L_dqd = None\n",
    "        self._L_dqd_dt = None\n",
    "\n",
    "    @property\n",
    "    def L(self):\n",
    "        return self._L\n",
    "\n",
    "    @L.setter\n",
    "    def L(self, value):\n",
    "        self._L = value\n",
    "        self._L_dq = sp.simplify(self._L.diff(self._cs.Q))\n",
    "        self._L_dqd = sp.simplify(self._L.diff(self._cs.Qd))\n",
    "        self._L_dqd_dt = sp.simplify(self._L_dqd.diff(self._t))\n",
    "\n",
    "    @property\n",
    "    def L_dq(self):\n",
    "        return self._L_dq\n",
    "\n",
    "    @property\n",
    "    def L_dqd(self):\n",
    "        return self._L_dqd\n",
    "\n",
    "    @property\n",
    "    def L_dqd_dt(self):\n",
    "        return self._L_dqd_dt\n",
    "\n",
    "    def __add__(self, other):\n",
    "        if isinstance(other, Lagrangian):\n",
    "            tmp = Lagrangian(f\"{self._name}+{other._name}\", self._t, self._cs)\n",
    "            tmp.L = self.L + other.L\n",
    "            return tmp\n",
    "        else:\n",
    "            return NotImplemented"
   ],
   "outputs": [],
   "execution_count": 2
  },
  {
   "metadata": {},
   "cell_type": "markdown",
   "source": " ## Model"
  },
  {
   "metadata": {
    "ExecuteTime": {
     "end_time": "2025-07-30T18:51:31.619373Z",
     "start_time": "2025-07-30T18:51:31.583587Z"
    }
   },
   "cell_type": "code",
   "source": [
    "dof = 5\n",
    "\n",
    "t = sp.symbols(r't')\n",
    "\n",
    "cs_q = StateGen('q')\n",
    "cs_q.x = sp.Function(r'x')(t)\n",
    "cs_q.y = sp.Function(r'y')(t)\n",
    "cs_q.z = sp.Function(r'z')(t)\n",
    "cs_q.t = sp.Function(r'\\theta')(t)\n",
    "cs_q.p = sp.Function(r'\\varphi')(t)\n",
    "cs_q.diff(t)\n",
    "cs_q.diff2(t)\n",
    "\n",
    "args_cs = [t, cs_q.x, cs_q.xd, cs_q.y, cs_q.yd, cs_q.z, cs_q.zd, cs_q.t, cs_q.td, cs_q.p, cs_q.pd]"
   ],
   "outputs": [],
   "execution_count": 3
  },
  {
   "metadata": {
    "ExecuteTime": {
     "end_time": "2025-07-30T18:51:31.737257Z",
     "start_time": "2025-07-30T18:51:31.734425Z"
    }
   },
   "cell_type": "code",
   "source": [
    "fv_omega_l = sp.symbols(r'\\omega_l', constant=True)  # angular velocity of the cart's left wheel, free variable\n",
    "fv_omega_r = sp.symbols(r'\\omega_r', constant=True)  # angular velocity of the cart's right wheel, free variable\n",
    "\n",
    "args_fv = [fv_omega_l, fv_omega_r]"
   ],
   "outputs": [],
   "execution_count": 4
  },
  {
   "metadata": {
    "ExecuteTime": {
     "end_time": "2025-07-30T18:51:31.848285Z",
     "start_time": "2025-07-30T18:51:31.846411Z"
    }
   },
   "cell_type": "code",
   "source": "args = args_cs + args_fv",
   "outputs": [],
   "execution_count": 5
  },
  {
   "metadata": {
    "ExecuteTime": {
     "end_time": "2025-07-30T18:51:31.917240Z",
     "start_time": "2025-07-30T18:51:31.912547Z"
    }
   },
   "cell_type": "code",
   "source": [
    "# Utils\n",
    "sp_half = sp.Rational(1, 2)\n",
    "plane_dir = sp.Matrix([sp.cos(cs_q.p), sp.sin(cs_q.p), 0])"
   ],
   "outputs": [],
   "execution_count": 6
  },
  {
   "metadata": {
    "ExecuteTime": {
     "end_time": "2025-07-30T18:51:32.102731Z",
     "start_time": "2025-07-30T18:51:32.099945Z"
    }
   },
   "cell_type": "code",
   "source": [
    "# Constants\n",
    "hb, hr, hbc, eb, ew, dw = sp.symbols(r'h_b, h_r, h_bc, e_b, e_w, d_w', constant=True)\n",
    "m, Ir, Iz, Iw, ba, bw, bd, ct, rho, g = sp.symbols(r'm, I_r, I_z, I_w, b_a, b_w, b_d, c_{\\theta}, \\rho, g', constant=True)\n",
    "\n",
    "params = [\n",
    "    hbc,  # height of body center\n",
    "    hb,  # height of body\n",
    "    eb,  # body width\n",
    "    dw,  # wheel diameter\n",
    "    m,  # mass in kg\n",
    "    Ir,  # moment of inertia\n",
    "    Iz,  # moment of inertia\n",
    "    Iw,  # moment of inertia\n",
    "    ba,  # damping coefficient\n",
    "    bw,  # damping coefficient\n",
    "    bd,  # drag coefficient\n",
    "    ct,  # theta_dot correction factor, ideally sp.tanh(theta_dot - (omega_l + omega_r))\n",
    "    rho,  # air density\n",
    "    g,  # gravity in m/s^2\n",
    "]"
   ],
   "outputs": [],
   "execution_count": 7
  },
  {
   "metadata": {
    "id": "Z70PgnAzp3iF"
   },
   "cell_type": "markdown",
   "source": "### Kinematic model"
  },
  {
   "metadata": {},
   "cell_type": "markdown",
   "source": "#### Kinematics of the body's left wheel"
  },
  {
   "metadata": {
    "ExecuteTime": {
     "end_time": "2025-07-30T18:51:32.193502Z",
     "start_time": "2025-07-30T18:51:32.191663Z"
    }
   },
   "cell_type": "code",
   "source": "p_whl = StateXyz('wh,l')",
   "outputs": [],
   "execution_count": 8
  },
  {
   "metadata": {
    "ExecuteTime": {
     "end_time": "2025-07-30T18:51:32.320541Z",
     "start_time": "2025-07-30T18:51:32.310819Z"
    }
   },
   "cell_type": "code",
   "source": [
    "p_whl.Xd = ((fv_omega_l + cs_q.td) * dw / 2) * plane_dir\n",
    "p_whl.zd = cs_q.zd\n",
    "\n",
    "# Output\n",
    "display(p_whl.Xd)"
   ],
   "outputs": [
    {
     "data": {
      "text/plain": [
       "Matrix([\n",
       "[d_w*(\\omega_l + Derivative(\\theta(t), t))*cos(\\varphi(t))/2],\n",
       "[d_w*(\\omega_l + Derivative(\\theta(t), t))*sin(\\varphi(t))/2],\n",
       "[                                        Derivative(z(t), t)]])"
      ],
      "text/latex": "$\\displaystyle \\left[\\begin{matrix}\\frac{d_{w} \\left(\\omega_{l} + \\frac{d}{d t} \\theta{\\left(t \\right)}\\right) \\cos{\\left(\\varphi{\\left(t \\right)} \\right)}}{2}\\\\\\frac{d_{w} \\left(\\omega_{l} + \\frac{d}{d t} \\theta{\\left(t \\right)}\\right) \\sin{\\left(\\varphi{\\left(t \\right)} \\right)}}{2}\\\\\\frac{d}{d t} z{\\left(t \\right)}\\end{matrix}\\right]$"
     },
     "metadata": {},
     "output_type": "display_data"
    }
   ],
   "execution_count": 9
  },
  {
   "metadata": {},
   "cell_type": "markdown",
   "source": "#### Kinematics of the body's right wheel"
  },
  {
   "metadata": {
    "ExecuteTime": {
     "end_time": "2025-07-30T18:51:32.403708Z",
     "start_time": "2025-07-30T18:51:32.401622Z"
    }
   },
   "cell_type": "code",
   "source": "p_whr = StateXyz('wh,r')",
   "outputs": [],
   "execution_count": 10
  },
  {
   "metadata": {
    "ExecuteTime": {
     "end_time": "2025-07-30T18:51:32.574726Z",
     "start_time": "2025-07-30T18:51:32.569274Z"
    }
   },
   "cell_type": "code",
   "source": [
    "p_whr.Xd = ((fv_omega_r + cs_q.td) * dw / 2) * plane_dir\n",
    "p_whr.zd = cs_q.zd\n",
    "\n",
    "# Output\n",
    "display(p_whr.Xd)"
   ],
   "outputs": [
    {
     "data": {
      "text/plain": [
       "Matrix([\n",
       "[d_w*(\\omega_r + Derivative(\\theta(t), t))*cos(\\varphi(t))/2],\n",
       "[d_w*(\\omega_r + Derivative(\\theta(t), t))*sin(\\varphi(t))/2],\n",
       "[                                        Derivative(z(t), t)]])"
      ],
      "text/latex": "$\\displaystyle \\left[\\begin{matrix}\\frac{d_{w} \\left(\\omega_{r} + \\frac{d}{d t} \\theta{\\left(t \\right)}\\right) \\cos{\\left(\\varphi{\\left(t \\right)} \\right)}}{2}\\\\\\frac{d_{w} \\left(\\omega_{r} + \\frac{d}{d t} \\theta{\\left(t \\right)}\\right) \\sin{\\left(\\varphi{\\left(t \\right)} \\right)}}{2}\\\\\\frac{d}{d t} z{\\left(t \\right)}\\end{matrix}\\right]$"
     },
     "metadata": {},
     "output_type": "display_data"
    }
   ],
   "execution_count": 11
  },
  {
   "metadata": {},
   "cell_type": "markdown",
   "source": "#### Movement due to the wheels"
  },
  {
   "metadata": {
    "ExecuteTime": {
     "end_time": "2025-07-30T18:51:32.747149Z",
     "start_time": "2025-07-30T18:51:32.744569Z"
    }
   },
   "cell_type": "code",
   "source": [
    "v = sp_half * dw * (fv_omega_l + fv_omega_r) / 2\n",
    "# phi_dot = (omega_l - omega_r) / 2"
   ],
   "outputs": [],
   "execution_count": 12
  },
  {
   "metadata": {},
   "cell_type": "markdown",
   "source": "#### Kinematics of the body's origin"
  },
  {
   "metadata": {
    "ExecuteTime": {
     "end_time": "2025-07-30T18:51:32.849909Z",
     "start_time": "2025-07-30T18:51:32.847991Z"
    }
   },
   "cell_type": "code",
   "source": "p_origin = StateXyz('o')",
   "outputs": [],
   "execution_count": 13
  },
  {
   "metadata": {
    "ExecuteTime": {
     "end_time": "2025-07-30T18:51:32.971347Z",
     "start_time": "2025-07-30T18:51:32.959284Z"
    }
   },
   "cell_type": "code",
   "source": [
    "p_origin.X = sp.Matrix([\n",
    "    cs_q.x,  # + sp.integrate(v * sp.cos(cs_q.p), (t, 0, t)),\n",
    "    cs_q.y,  # + sp.integrate(v * sp.sin(cs_q.p), (t, 0, t)),\n",
    "    cs_q.z,\n",
    "])\n",
    "\n",
    "# Lambdify\n",
    "fn_Xo = sp.lambdify(args + params, p_origin.X)\n",
    "\n",
    "# Output\n",
    "display(p_origin.X)"
   ],
   "outputs": [
    {
     "data": {
      "text/plain": [
       "Matrix([\n",
       "[x(t)],\n",
       "[y(t)],\n",
       "[z(t)]])"
      ],
      "text/latex": "$\\displaystyle \\left[\\begin{matrix}x{\\left(t \\right)}\\\\y{\\left(t \\right)}\\\\z{\\left(t \\right)}\\end{matrix}\\right]$"
     },
     "metadata": {},
     "output_type": "display_data"
    }
   ],
   "execution_count": 14
  },
  {
   "metadata": {
    "ExecuteTime": {
     "end_time": "2025-07-30T18:51:33.051393Z",
     "start_time": "2025-07-30T18:51:33.030223Z"
    }
   },
   "cell_type": "code",
   "source": [
    "p_origin.Xd = p_origin.X.diff(t) + v * plane_dir\n",
    "\n",
    "# Lambdify\n",
    "fn_Xo_dot = sp.lambdify(args + params, p_origin.Xd)\n",
    "\n",
    "# Output\n",
    "display(p_origin.Xd)"
   ],
   "outputs": [
    {
     "data": {
      "text/plain": [
       "Matrix([\n",
       "[d_w*(\\omega_l + \\omega_r)*cos(\\varphi(t))/4 + Derivative(x(t), t)],\n",
       "[d_w*(\\omega_l + \\omega_r)*sin(\\varphi(t))/4 + Derivative(y(t), t)],\n",
       "[                                              Derivative(z(t), t)]])"
      ],
      "text/latex": "$\\displaystyle \\left[\\begin{matrix}\\frac{d_{w} \\left(\\omega_{l} + \\omega_{r}\\right) \\cos{\\left(\\varphi{\\left(t \\right)} \\right)}}{4} + \\frac{d}{d t} x{\\left(t \\right)}\\\\\\frac{d_{w} \\left(\\omega_{l} + \\omega_{r}\\right) \\sin{\\left(\\varphi{\\left(t \\right)} \\right)}}{4} + \\frac{d}{d t} y{\\left(t \\right)}\\\\\\frac{d}{d t} z{\\left(t \\right)}\\end{matrix}\\right]$"
     },
     "metadata": {},
     "output_type": "display_data"
    }
   ],
   "execution_count": 15
  },
  {
   "metadata": {},
   "cell_type": "markdown",
   "source": "#### Kinematics of the body's center of mass"
  },
  {
   "metadata": {
    "ExecuteTime": {
     "end_time": "2025-07-30T18:51:33.225290Z",
     "start_time": "2025-07-30T18:51:33.223474Z"
    }
   },
   "cell_type": "code",
   "source": [
    "p_center_origin = StateXyz('c,o')\n",
    "p_center = StateXyz('c')"
   ],
   "outputs": [],
   "execution_count": 16
  },
  {
   "metadata": {
    "ExecuteTime": {
     "end_time": "2025-07-30T19:57:09.995950Z",
     "start_time": "2025-07-30T19:57:09.981555Z"
    }
   },
   "cell_type": "code",
   "source": [
    "p_center_origin.X = sp.rot_givens(1, 0, cs_q.p) * (sp.rot_givens(0, 2, cs_q.t) * sp.Matrix([0, 0, hbc]))\n",
    "\n",
    "# Lambdify\n",
    "fn_Xco = sp.lambdify(args + params, p_center_origin.X)\n",
    "\n",
    "# Output\n",
    "display(p_center_origin.X)"
   ],
   "outputs": [
    {
     "data": {
      "text/plain": [
       "Matrix([\n",
       "[h_bc*sin(\\theta(t))*cos(\\varphi(t))],\n",
       "[h_bc*sin(\\theta(t))*sin(\\varphi(t))],\n",
       "[                h_bc*cos(\\theta(t))]])"
      ],
      "text/latex": "$\\displaystyle \\left[\\begin{matrix}h_{bc} \\sin{\\left(\\theta{\\left(t \\right)} \\right)} \\cos{\\left(\\varphi{\\left(t \\right)} \\right)}\\\\h_{bc} \\sin{\\left(\\theta{\\left(t \\right)} \\right)} \\sin{\\left(\\varphi{\\left(t \\right)} \\right)}\\\\h_{bc} \\cos{\\left(\\theta{\\left(t \\right)} \\right)}\\end{matrix}\\right]$"
     },
     "metadata": {},
     "output_type": "display_data"
    }
   ],
   "execution_count": 88
  },
  {
   "metadata": {
    "ExecuteTime": {
     "end_time": "2025-07-30T19:57:33.267967Z",
     "start_time": "2025-07-30T19:57:33.252153Z"
    }
   },
   "cell_type": "code",
   "source": [
    "p_center_origin.diff(t)\n",
    "\n",
    "# Lambdify\n",
    "fn_Xco_dot = sp.lambdify(args + params, p_center_origin.Xd)\n",
    "\n",
    "# Output\n",
    "display(p_center_origin.Xd)"
   ],
   "outputs": [
    {
     "data": {
      "text/plain": [
       "Matrix([\n",
       "[-h_bc*sin(\\theta(t))*sin(\\varphi(t))*Derivative(\\varphi(t), t) + h_bc*cos(\\theta(t))*cos(\\varphi(t))*Derivative(\\theta(t), t)],\n",
       "[ h_bc*sin(\\theta(t))*cos(\\varphi(t))*Derivative(\\varphi(t), t) + h_bc*sin(\\varphi(t))*cos(\\theta(t))*Derivative(\\theta(t), t)],\n",
       "[                                                                                -h_bc*sin(\\theta(t))*Derivative(\\theta(t), t)]])"
      ],
      "text/latex": "$\\displaystyle \\left[\\begin{matrix}- h_{bc} \\sin{\\left(\\theta{\\left(t \\right)} \\right)} \\sin{\\left(\\varphi{\\left(t \\right)} \\right)} \\frac{d}{d t} \\varphi{\\left(t \\right)} + h_{bc} \\cos{\\left(\\theta{\\left(t \\right)} \\right)} \\cos{\\left(\\varphi{\\left(t \\right)} \\right)} \\frac{d}{d t} \\theta{\\left(t \\right)}\\\\h_{bc} \\sin{\\left(\\theta{\\left(t \\right)} \\right)} \\cos{\\left(\\varphi{\\left(t \\right)} \\right)} \\frac{d}{d t} \\varphi{\\left(t \\right)} + h_{bc} \\sin{\\left(\\varphi{\\left(t \\right)} \\right)} \\cos{\\left(\\theta{\\left(t \\right)} \\right)} \\frac{d}{d t} \\theta{\\left(t \\right)}\\\\- h_{bc} \\sin{\\left(\\theta{\\left(t \\right)} \\right)} \\frac{d}{d t} \\theta{\\left(t \\right)}\\end{matrix}\\right]$"
     },
     "metadata": {},
     "output_type": "display_data"
    }
   ],
   "execution_count": 89
  },
  {
   "metadata": {
    "ExecuteTime": {
     "end_time": "2025-07-30T18:51:33.612896Z",
     "start_time": "2025-07-30T18:51:33.599553Z"
    }
   },
   "cell_type": "code",
   "source": [
    "p_center.X = p_origin.X + p_center_origin.X\n",
    "\n",
    "# Lambdify\n",
    "fn_Xc = sp.lambdify(args + params, p_center.X)\n",
    "\n",
    "# Output\n",
    "display(p_center.X)"
   ],
   "outputs": [
    {
     "data": {
      "text/plain": [
       "Matrix([\n",
       "[h_bc*sin(\\theta(t))*cos(\\varphi(t)) + x(t)],\n",
       "[h_bc*sin(\\theta(t))*sin(\\varphi(t)) + y(t)],\n",
       "[                h_bc*cos(\\theta(t)) + z(t)]])"
      ],
      "text/latex": "$\\displaystyle \\left[\\begin{matrix}h_{bc} \\sin{\\left(\\theta{\\left(t \\right)} \\right)} \\cos{\\left(\\varphi{\\left(t \\right)} \\right)} + x{\\left(t \\right)}\\\\h_{bc} \\sin{\\left(\\theta{\\left(t \\right)} \\right)} \\sin{\\left(\\varphi{\\left(t \\right)} \\right)} + y{\\left(t \\right)}\\\\h_{bc} \\cos{\\left(\\theta{\\left(t \\right)} \\right)} + z{\\left(t \\right)}\\end{matrix}\\right]$"
     },
     "metadata": {},
     "output_type": "display_data"
    }
   ],
   "execution_count": 19
  },
  {
   "metadata": {
    "ExecuteTime": {
     "end_time": "2025-07-30T18:51:33.701304Z",
     "start_time": "2025-07-30T18:51:33.684312Z"
    }
   },
   "cell_type": "code",
   "source": [
    "# TODO: Analyze the correct approach to Xc_dot\n",
    "p_center.Xd = p_origin.Xd + p_center_origin.Xd\n",
    "\n",
    "# omegao = sp.Matrix([\n",
    "#     0,\n",
    "#     theta_dot,\n",
    "#     phi_dot,\n",
    "# ])\n",
    "#\n",
    "# omegac = sp.rot_givens(1, 0, phi) * (sp.rot_givens(0, 2, theta) * omegao)\n",
    "# Xc_dot = Xo_dot + omegac.cross(Xco)\n",
    "\n",
    "# Lambdify\n",
    "fn_Xc_dot = sp.lambdify(args + params, p_center.Xd)\n",
    "\n",
    "# Output\n",
    "display(p_center.Xd)"
   ],
   "outputs": [
    {
     "data": {
      "text/plain": [
       "Matrix([\n",
       "[d_w*(\\omega_l + \\omega_r)*cos(\\varphi(t))/4 - h_bc*sin(\\theta(t))*sin(\\varphi(t))*Derivative(\\varphi(t), t) + h_bc*cos(\\theta(t))*cos(\\varphi(t))*Derivative(\\theta(t), t) + Derivative(x(t), t)],\n",
       "[d_w*(\\omega_l + \\omega_r)*sin(\\varphi(t))/4 + h_bc*sin(\\theta(t))*cos(\\varphi(t))*Derivative(\\varphi(t), t) + h_bc*sin(\\varphi(t))*cos(\\theta(t))*Derivative(\\theta(t), t) + Derivative(y(t), t)],\n",
       "[                                                                                                                             -h_bc*sin(\\theta(t))*Derivative(\\theta(t), t) + Derivative(z(t), t)]])"
      ],
      "text/latex": "$\\displaystyle \\left[\\begin{matrix}\\frac{d_{w} \\left(\\omega_{l} + \\omega_{r}\\right) \\cos{\\left(\\varphi{\\left(t \\right)} \\right)}}{4} - h_{bc} \\sin{\\left(\\theta{\\left(t \\right)} \\right)} \\sin{\\left(\\varphi{\\left(t \\right)} \\right)} \\frac{d}{d t} \\varphi{\\left(t \\right)} + h_{bc} \\cos{\\left(\\theta{\\left(t \\right)} \\right)} \\cos{\\left(\\varphi{\\left(t \\right)} \\right)} \\frac{d}{d t} \\theta{\\left(t \\right)} + \\frac{d}{d t} x{\\left(t \\right)}\\\\\\frac{d_{w} \\left(\\omega_{l} + \\omega_{r}\\right) \\sin{\\left(\\varphi{\\left(t \\right)} \\right)}}{4} + h_{bc} \\sin{\\left(\\theta{\\left(t \\right)} \\right)} \\cos{\\left(\\varphi{\\left(t \\right)} \\right)} \\frac{d}{d t} \\varphi{\\left(t \\right)} + h_{bc} \\sin{\\left(\\varphi{\\left(t \\right)} \\right)} \\cos{\\left(\\theta{\\left(t \\right)} \\right)} \\frac{d}{d t} \\theta{\\left(t \\right)} + \\frac{d}{d t} y{\\left(t \\right)}\\\\- h_{bc} \\sin{\\left(\\theta{\\left(t \\right)} \\right)} \\frac{d}{d t} \\theta{\\left(t \\right)} + \\frac{d}{d t} z{\\left(t \\right)}\\end{matrix}\\right]$"
     },
     "metadata": {},
     "output_type": "display_data"
    }
   ],
   "execution_count": 20
  },
  {
   "metadata": {
    "ExecuteTime": {
     "end_time": "2025-07-30T18:51:33.848571Z",
     "start_time": "2025-07-30T18:51:33.833893Z"
    }
   },
   "cell_type": "code",
   "source": [
    "# Output\n",
    "display(p_center.Xd_norm)"
   ],
   "outputs": [
    {
     "data": {
      "text/plain": [
       "sqrt((-h_bc*sin(\\theta(t))*Derivative(\\theta(t), t) + Derivative(z(t), t))**2 + (d_w*(\\omega_l + \\omega_r)*sin(\\varphi(t))/4 + h_bc*sin(\\theta(t))*cos(\\varphi(t))*Derivative(\\varphi(t), t) + h_bc*sin(\\varphi(t))*cos(\\theta(t))*Derivative(\\theta(t), t) + Derivative(y(t), t))**2 + (d_w*(\\omega_l + \\omega_r)*cos(\\varphi(t))/4 - h_bc*sin(\\theta(t))*sin(\\varphi(t))*Derivative(\\varphi(t), t) + h_bc*cos(\\theta(t))*cos(\\varphi(t))*Derivative(\\theta(t), t) + Derivative(x(t), t))**2)"
      ],
      "text/latex": "$\\displaystyle \\sqrt{\\left(- h_{bc} \\sin{\\left(\\theta{\\left(t \\right)} \\right)} \\frac{d}{d t} \\theta{\\left(t \\right)} + \\frac{d}{d t} z{\\left(t \\right)}\\right)^{2} + \\left(\\frac{d_{w} \\left(\\omega_{l} + \\omega_{r}\\right) \\sin{\\left(\\varphi{\\left(t \\right)} \\right)}}{4} + h_{bc} \\sin{\\left(\\theta{\\left(t \\right)} \\right)} \\cos{\\left(\\varphi{\\left(t \\right)} \\right)} \\frac{d}{d t} \\varphi{\\left(t \\right)} + h_{bc} \\sin{\\left(\\varphi{\\left(t \\right)} \\right)} \\cos{\\left(\\theta{\\left(t \\right)} \\right)} \\frac{d}{d t} \\theta{\\left(t \\right)} + \\frac{d}{d t} y{\\left(t \\right)}\\right)^{2} + \\left(\\frac{d_{w} \\left(\\omega_{l} + \\omega_{r}\\right) \\cos{\\left(\\varphi{\\left(t \\right)} \\right)}}{4} - h_{bc} \\sin{\\left(\\theta{\\left(t \\right)} \\right)} \\sin{\\left(\\varphi{\\left(t \\right)} \\right)} \\frac{d}{d t} \\varphi{\\left(t \\right)} + h_{bc} \\cos{\\left(\\theta{\\left(t \\right)} \\right)} \\cos{\\left(\\varphi{\\left(t \\right)} \\right)} \\frac{d}{d t} \\theta{\\left(t \\right)} + \\frac{d}{d t} x{\\left(t \\right)}\\right)^{2}}$"
     },
     "metadata": {},
     "output_type": "display_data"
    }
   ],
   "execution_count": 21
  },
  {
   "metadata": {},
   "cell_type": "markdown",
   "source": "### Dynamic model"
  },
  {
   "metadata": {},
   "cell_type": "markdown",
   "source": [
    "#### Kinect energy of the body\n",
    "\n",
    "Assuming the hypothesis $ \\frac{ 2 ||\\dot{X_l}|| }{ dw } \\gg \\dot{\\theta} $, then the kinetic energy from $ \\omega_l $ and $ \\omega_r $ can be simplified by removing the effect of $ \\dot{\\theta} $.\n",
    "This hypothesis is valid when $ \\dot{\\theta} \\approx 0 $ or $ \\dot{\\theta} \\approx \\omega_l + \\omega_r $.\n",
    "\n",
    "We assume that $ \\dot{\\theta} \\ll \\omega_l + \\omega_r $ iff $ \\dot{\\theta} \\approx 0 $.\n",
    "Therefore, we can add a correction term only for the case $ \\dot{\\theta} \\gg \\omega_l + \\omega_r $ by adding $ c_{\\theta} \\cdot 2 \\dot{\\theta} ^2 $."
   ]
  },
  {
   "metadata": {
    "ExecuteTime": {
     "end_time": "2025-07-30T18:51:56.912923Z",
     "start_time": "2025-07-30T18:51:33.963170Z"
    }
   },
   "cell_type": "code",
   "source": [
    "l_kinect = Lagrangian('T', t, cs_q)\n",
    "\n",
    "l_kinect.L = (\n",
    "        sp_half * m * p_center.Xd_norm ** 2\n",
    "        + sp_half * Ir * cs_q.td ** 2\n",
    "        + sp_half * (Iz + m * (hbc * sp.sin(cs_q.t)) ** 2) * cs_q.pd ** 2\n",
    "        + sp_half * Iw * ((fv_omega_l + cs_q.td) ** 2 + (fv_omega_r + cs_q.td) ** 2 + ct * 2 * cs_q.td ** 2)\n",
    ")\n",
    "\n",
    "# Output\n",
    "l_kinect.L = sp.simplify(l_kinect.L)\n",
    "display(l_kinect.L)"
   ],
   "outputs": [
    {
     "data": {
      "text/plain": [
       "I_r*Derivative(\\theta(t), t)**2/2 + I_w*(2*c_{\\theta}*Derivative(\\theta(t), t)**2 + (\\omega_l + Derivative(\\theta(t), t))**2 + (\\omega_r + Derivative(\\theta(t), t))**2)/2 + m*(16*(h_bc*sin(\\theta(t))*Derivative(\\theta(t), t) - Derivative(z(t), t))**2 + (d_w*(\\omega_l + \\omega_r)*sin(\\varphi(t)) + 4*h_bc*sin(\\theta(t))*cos(\\varphi(t))*Derivative(\\varphi(t), t) + 4*h_bc*sin(\\varphi(t))*cos(\\theta(t))*Derivative(\\theta(t), t) + 4*Derivative(y(t), t))**2 + (d_w*(\\omega_l + \\omega_r)*cos(\\varphi(t)) - 4*h_bc*sin(\\theta(t))*sin(\\varphi(t))*Derivative(\\varphi(t), t) + 4*h_bc*cos(\\theta(t))*cos(\\varphi(t))*Derivative(\\theta(t), t) + 4*Derivative(x(t), t))**2)/32 + (I_z + h_bc**2*m*sin(\\theta(t))**2)*Derivative(\\varphi(t), t)**2/2"
      ],
      "text/latex": "$\\displaystyle \\frac{I_{r} \\left(\\frac{d}{d t} \\theta{\\left(t \\right)}\\right)^{2}}{2} + \\frac{I_{w} \\left(2 c_{\\theta} \\left(\\frac{d}{d t} \\theta{\\left(t \\right)}\\right)^{2} + \\left(\\omega_{l} + \\frac{d}{d t} \\theta{\\left(t \\right)}\\right)^{2} + \\left(\\omega_{r} + \\frac{d}{d t} \\theta{\\left(t \\right)}\\right)^{2}\\right)}{2} + \\frac{m \\left(16 \\left(h_{bc} \\sin{\\left(\\theta{\\left(t \\right)} \\right)} \\frac{d}{d t} \\theta{\\left(t \\right)} - \\frac{d}{d t} z{\\left(t \\right)}\\right)^{2} + \\left(d_{w} \\left(\\omega_{l} + \\omega_{r}\\right) \\sin{\\left(\\varphi{\\left(t \\right)} \\right)} + 4 h_{bc} \\sin{\\left(\\theta{\\left(t \\right)} \\right)} \\cos{\\left(\\varphi{\\left(t \\right)} \\right)} \\frac{d}{d t} \\varphi{\\left(t \\right)} + 4 h_{bc} \\sin{\\left(\\varphi{\\left(t \\right)} \\right)} \\cos{\\left(\\theta{\\left(t \\right)} \\right)} \\frac{d}{d t} \\theta{\\left(t \\right)} + 4 \\frac{d}{d t} y{\\left(t \\right)}\\right)^{2} + \\left(d_{w} \\left(\\omega_{l} + \\omega_{r}\\right) \\cos{\\left(\\varphi{\\left(t \\right)} \\right)} - 4 h_{bc} \\sin{\\left(\\theta{\\left(t \\right)} \\right)} \\sin{\\left(\\varphi{\\left(t \\right)} \\right)} \\frac{d}{d t} \\varphi{\\left(t \\right)} + 4 h_{bc} \\cos{\\left(\\theta{\\left(t \\right)} \\right)} \\cos{\\left(\\varphi{\\left(t \\right)} \\right)} \\frac{d}{d t} \\theta{\\left(t \\right)} + 4 \\frac{d}{d t} x{\\left(t \\right)}\\right)^{2}\\right)}{32} + \\frac{\\left(I_{z} + h_{bc}^{2} m \\sin^{2}{\\left(\\theta{\\left(t \\right)} \\right)}\\right) \\left(\\frac{d}{d t} \\varphi{\\left(t \\right)}\\right)^{2}}{2}$"
     },
     "metadata": {},
     "output_type": "display_data"
    }
   ],
   "execution_count": 22
  },
  {
   "metadata": {},
   "cell_type": "markdown",
   "source": "#### Potential energy of the body"
  },
  {
   "metadata": {
    "ExecuteTime": {
     "end_time": "2025-07-30T18:51:56.989440Z",
     "start_time": "2025-07-30T18:51:56.925280Z"
    }
   },
   "cell_type": "code",
   "source": [
    "l_potential = Lagrangian('V', t, cs_q)\n",
    "\n",
    "l_potential.L = m * g * p_center.X.dot(sp.Matrix([0, 0, 1]))\n",
    "\n",
    "# Output\n",
    "l_potential.L = sp.simplify(l_potential.L)\n",
    "display(l_potential.L)"
   ],
   "outputs": [
    {
     "data": {
      "text/plain": [
       "g*m*(h_bc*cos(\\theta(t)) + z(t))"
      ],
      "text/latex": "$\\displaystyle g m \\left(h_{bc} \\cos{\\left(\\theta{\\left(t \\right)} \\right)} + z{\\left(t \\right)}\\right)$"
     },
     "metadata": {},
     "output_type": "display_data"
    }
   ],
   "execution_count": 23
  },
  {
   "metadata": {},
   "cell_type": "markdown",
   "source": [
    "#### Dissipation energy of the body\n",
    "\n",
    "Assuming the hypothesis of no slip, then the dissipation from the wheel-ground contact $ D_w $ is zero.\n",
    "\n",
    "Dissipation from the axle $ D_a $.\n",
    "\n",
    "Assuming the hypothesis $ \\frac{ 2 ||\\dot{X_l}|| }{ dw } \\gg \\dot{\\theta} $, then the kinetic energy from $ \\omega_l $ and $ \\omega_r $ can be simplified by removing the effect of $ \\dot{\\theta} $.\n",
    "This hypothesis is valid when $ \\dot{\\theta} \\approx 0 $ or $ \\dot{\\theta} \\approx \\omega_l + \\omega_r $.\n",
    "\n",
    "We assume that $ \\dot{\\theta} \\ll \\omega_l + \\omega_r $ iff $ \\dot{\\theta} \\approx 0 $.\n",
    "Therefore, we can add a correction term only for the case $ \\dot{\\theta} \\gg \\omega_l + \\omega_r $ by adding $ c_{\\theta} \\cdot 2 \\dot{\\theta} ^2 $."
   ]
  },
  {
   "metadata": {
    "ExecuteTime": {
     "end_time": "2025-07-30T18:51:57.083315Z",
     "start_time": "2025-07-30T18:51:57.055798Z"
    }
   },
   "cell_type": "code",
   "source": [
    "l_diss_axle = Lagrangian('D,a', t, cs_q)\n",
    "\n",
    "l_diss_axle.L = sp_half * ba * (fv_omega_l ** 2 + fv_omega_r ** 2)\n",
    "\n",
    "# Output\n",
    "l_diss_axle.L = sp.simplify(l_diss_axle.L)\n",
    "display(l_diss_axle.L)"
   ],
   "outputs": [
    {
     "data": {
      "text/plain": [
       "b_a*(\\omega_l**2 + \\omega_r**2)/2"
      ],
      "text/latex": "$\\displaystyle \\frac{b_{a} \\left(\\omega_{l}^{2} + \\omega_{r}^{2}\\right)}{2}$"
     },
     "metadata": {},
     "output_type": "display_data"
    }
   ],
   "execution_count": 24
  },
  {
   "metadata": {
    "ExecuteTime": {
     "end_time": "2025-07-30T18:51:57.512313Z",
     "start_time": "2025-07-30T18:51:57.145254Z"
    }
   },
   "cell_type": "code",
   "source": [
    "l_diss_wheels = Lagrangian('D,w', t, cs_q)\n",
    "\n",
    "l_diss_wheels.L = sp_half * bw * (p_whl.Xd_norm ** 2 + p_whr.Xd_norm ** 2)\n",
    "\n",
    "# Output\n",
    "l_diss_wheels.L = sp.simplify(l_diss_wheels.L)\n",
    "display(l_diss_wheels.L)"
   ],
   "outputs": [
    {
     "data": {
      "text/plain": [
       "b_w*(\\omega_l**2*d_w**2 + 2*\\omega_l*d_w**2*Derivative(\\theta(t), t) + \\omega_r**2*d_w**2 + 2*\\omega_r*d_w**2*Derivative(\\theta(t), t) + 2*d_w**2*Derivative(\\theta(t), t)**2 + 8*Derivative(z(t), t)**2)/8"
      ],
      "text/latex": "$\\displaystyle \\frac{b_{w} \\left(\\omega_{l}^{2} d_{w}^{2} + 2 \\omega_{l} d_{w}^{2} \\frac{d}{d t} \\theta{\\left(t \\right)} + \\omega_{r}^{2} d_{w}^{2} + 2 \\omega_{r} d_{w}^{2} \\frac{d}{d t} \\theta{\\left(t \\right)} + 2 d_{w}^{2} \\left(\\frac{d}{d t} \\theta{\\left(t \\right)}\\right)^{2} + 8 \\left(\\frac{d}{d t} z{\\left(t \\right)}\\right)^{2}\\right)}{8}$"
     },
     "metadata": {},
     "output_type": "display_data"
    }
   ],
   "execution_count": 25
  },
  {
   "metadata": {
    "ExecuteTime": {
     "end_time": "2025-07-30T18:51:57.678090Z",
     "start_time": "2025-07-30T18:51:57.523369Z"
    }
   },
   "cell_type": "code",
   "source": [
    "l_diss = Lagrangian('D', t, cs_q)\n",
    "\n",
    "l_diss = l_diss_axle + l_diss_wheels\n",
    "\n",
    "# Output\n",
    "l_diss.L = sp.simplify(l_diss.L)\n",
    "display(l_diss.L)"
   ],
   "outputs": [
    {
     "data": {
      "text/plain": [
       "b_a*(\\omega_l**2 + \\omega_r**2)/2 + b_w*(\\omega_l**2*d_w**2 + 2*\\omega_l*d_w**2*Derivative(\\theta(t), t) + \\omega_r**2*d_w**2 + 2*\\omega_r*d_w**2*Derivative(\\theta(t), t) + 2*d_w**2*Derivative(\\theta(t), t)**2 + 8*Derivative(z(t), t)**2)/8"
      ],
      "text/latex": "$\\displaystyle \\frac{b_{a} \\left(\\omega_{l}^{2} + \\omega_{r}^{2}\\right)}{2} + \\frac{b_{w} \\left(\\omega_{l}^{2} d_{w}^{2} + 2 \\omega_{l} d_{w}^{2} \\frac{d}{d t} \\theta{\\left(t \\right)} + \\omega_{r}^{2} d_{w}^{2} + 2 \\omega_{r} d_{w}^{2} \\frac{d}{d t} \\theta{\\left(t \\right)} + 2 d_{w}^{2} \\left(\\frac{d}{d t} \\theta{\\left(t \\right)}\\right)^{2} + 8 \\left(\\frac{d}{d t} z{\\left(t \\right)}\\right)^{2}\\right)}{8}$"
     },
     "metadata": {},
     "output_type": "display_data"
    }
   ],
   "execution_count": 26
  },
  {
   "metadata": {},
   "cell_type": "markdown",
   "source": [
    "#### External forces\n",
    "\n",
    "Air drag $ E_d $ with executed work $ Q_d $. Assuming the hypothesis of the air relative velocity being small, we can take the first-order approximation $ x^2 \\approx x $."
   ]
  },
  {
   "metadata": {
    "ExecuteTime": {
     "end_time": "2025-07-30T18:51:57.711797Z",
     "start_time": "2025-07-30T18:51:57.697287Z"
    }
   },
   "cell_type": "code",
   "source": [
    "Xair_dot = p_center.Xd + hbc * cs_q.td * sp.Matrix([sp.sin(cs_q.t) * sp.cos(cs_q.p), sp.sin(cs_q.t) * sp.sin(cs_q.p), sp.cos(cs_q.t)])\n",
    "Ed = - sp_half * rho * bd * Xair_dot\n",
    "\n",
    "# Output\n",
    "display(Ed)"
   ],
   "outputs": [
    {
     "data": {
      "text/plain": [
       "Matrix([\n",
       "[-\\rho*b_d*(d_w*(\\omega_l + \\omega_r)*cos(\\varphi(t))/4 - h_bc*sin(\\theta(t))*sin(\\varphi(t))*Derivative(\\varphi(t), t) + h_bc*sin(\\theta(t))*cos(\\varphi(t))*Derivative(\\theta(t), t) + h_bc*cos(\\theta(t))*cos(\\varphi(t))*Derivative(\\theta(t), t) + Derivative(x(t), t))/2],\n",
       "[-\\rho*b_d*(d_w*(\\omega_l + \\omega_r)*sin(\\varphi(t))/4 + h_bc*sin(\\theta(t))*sin(\\varphi(t))*Derivative(\\theta(t), t) + h_bc*sin(\\theta(t))*cos(\\varphi(t))*Derivative(\\varphi(t), t) + h_bc*sin(\\varphi(t))*cos(\\theta(t))*Derivative(\\theta(t), t) + Derivative(y(t), t))/2],\n",
       "[                                                                                                                                             -\\rho*b_d*(-h_bc*sin(\\theta(t))*Derivative(\\theta(t), t) + h_bc*cos(\\theta(t))*Derivative(\\theta(t), t) + Derivative(z(t), t))/2]])"
      ],
      "text/latex": "$\\displaystyle \\left[\\begin{matrix}- \\frac{\\rho b_{d} \\left(\\frac{d_{w} \\left(\\omega_{l} + \\omega_{r}\\right) \\cos{\\left(\\varphi{\\left(t \\right)} \\right)}}{4} - h_{bc} \\sin{\\left(\\theta{\\left(t \\right)} \\right)} \\sin{\\left(\\varphi{\\left(t \\right)} \\right)} \\frac{d}{d t} \\varphi{\\left(t \\right)} + h_{bc} \\sin{\\left(\\theta{\\left(t \\right)} \\right)} \\cos{\\left(\\varphi{\\left(t \\right)} \\right)} \\frac{d}{d t} \\theta{\\left(t \\right)} + h_{bc} \\cos{\\left(\\theta{\\left(t \\right)} \\right)} \\cos{\\left(\\varphi{\\left(t \\right)} \\right)} \\frac{d}{d t} \\theta{\\left(t \\right)} + \\frac{d}{d t} x{\\left(t \\right)}\\right)}{2}\\\\- \\frac{\\rho b_{d} \\left(\\frac{d_{w} \\left(\\omega_{l} + \\omega_{r}\\right) \\sin{\\left(\\varphi{\\left(t \\right)} \\right)}}{4} + h_{bc} \\sin{\\left(\\theta{\\left(t \\right)} \\right)} \\sin{\\left(\\varphi{\\left(t \\right)} \\right)} \\frac{d}{d t} \\theta{\\left(t \\right)} + h_{bc} \\sin{\\left(\\theta{\\left(t \\right)} \\right)} \\cos{\\left(\\varphi{\\left(t \\right)} \\right)} \\frac{d}{d t} \\varphi{\\left(t \\right)} + h_{bc} \\sin{\\left(\\varphi{\\left(t \\right)} \\right)} \\cos{\\left(\\theta{\\left(t \\right)} \\right)} \\frac{d}{d t} \\theta{\\left(t \\right)} + \\frac{d}{d t} y{\\left(t \\right)}\\right)}{2}\\\\- \\frac{\\rho b_{d} \\left(- h_{bc} \\sin{\\left(\\theta{\\left(t \\right)} \\right)} \\frac{d}{d t} \\theta{\\left(t \\right)} + h_{bc} \\cos{\\left(\\theta{\\left(t \\right)} \\right)} \\frac{d}{d t} \\theta{\\left(t \\right)} + \\frac{d}{d t} z{\\left(t \\right)}\\right)}{2}\\end{matrix}\\right]$"
     },
     "metadata": {},
     "output_type": "display_data"
    }
   ],
   "execution_count": 27
  },
  {
   "metadata": {
    "ExecuteTime": {
     "end_time": "2025-07-30T18:51:59.569250Z",
     "start_time": "2025-07-30T18:51:57.770168Z"
    }
   },
   "cell_type": "code",
   "source": [
    "Qd_dq = sp.Matrix([Ed.dot(p_center.X.diff(qi)) for qi in cs_q.Q])\n",
    "\n",
    "# Output\n",
    "Qd_dq = sp.simplify(Qd_dq)\n",
    "display(Qd_dq)"
   ],
   "outputs": [
    {
     "data": {
      "text/plain": [
       "Matrix([\n",
       "[                -\\rho*b_d*(\\omega_l*d_w*cos(\\varphi(t)) + \\omega_r*d_w*cos(\\varphi(t)) + 4*sqrt(2)*h_bc*sin(\\theta(t) + pi/4)*cos(\\varphi(t))*Derivative(\\theta(t), t) - 4*h_bc*sin(\\theta(t))*sin(\\varphi(t))*Derivative(\\varphi(t), t) + 4*Derivative(x(t), t))/8],\n",
       "[                -\\rho*b_d*(\\omega_l*d_w*sin(\\varphi(t)) + \\omega_r*d_w*sin(\\varphi(t)) + 4*sqrt(2)*h_bc*sin(\\theta(t) + pi/4)*sin(\\varphi(t))*Derivative(\\theta(t), t) + 4*h_bc*sin(\\theta(t))*cos(\\varphi(t))*Derivative(\\varphi(t), t) + 4*Derivative(y(t), t))/8],\n",
       "[                                                                                                                                                                    -\\rho*b_d*(sqrt(2)*h_bc*cos(\\theta(t) + pi/4)*Derivative(\\theta(t), t) + Derivative(z(t), t))/2],\n",
       "[\\rho*b_d*h_bc*(-\\omega_l*d_w*cos(\\theta(t)) - \\omega_r*d_w*cos(\\theta(t)) - 4*h_bc*Derivative(\\theta(t), t) + 4*sin(\\theta(t))*Derivative(z(t), t) - 4*sin(\\varphi(t))*cos(\\theta(t))*Derivative(y(t), t) - 4*cos(\\theta(t))*cos(\\varphi(t))*Derivative(x(t), t))/8],\n",
       "[                                                                                                        \\rho*b_d*h_bc*(-h_bc*sin(\\theta(t))*Derivative(\\varphi(t), t) + sin(\\varphi(t))*Derivative(x(t), t) - cos(\\varphi(t))*Derivative(y(t), t))*sin(\\theta(t))/2]])"
      ],
      "text/latex": "$\\displaystyle \\left[\\begin{matrix}- \\frac{\\rho b_{d} \\left(\\omega_{l} d_{w} \\cos{\\left(\\varphi{\\left(t \\right)} \\right)} + \\omega_{r} d_{w} \\cos{\\left(\\varphi{\\left(t \\right)} \\right)} + 4 \\sqrt{2} h_{bc} \\sin{\\left(\\theta{\\left(t \\right)} + \\frac{\\pi}{4} \\right)} \\cos{\\left(\\varphi{\\left(t \\right)} \\right)} \\frac{d}{d t} \\theta{\\left(t \\right)} - 4 h_{bc} \\sin{\\left(\\theta{\\left(t \\right)} \\right)} \\sin{\\left(\\varphi{\\left(t \\right)} \\right)} \\frac{d}{d t} \\varphi{\\left(t \\right)} + 4 \\frac{d}{d t} x{\\left(t \\right)}\\right)}{8}\\\\- \\frac{\\rho b_{d} \\left(\\omega_{l} d_{w} \\sin{\\left(\\varphi{\\left(t \\right)} \\right)} + \\omega_{r} d_{w} \\sin{\\left(\\varphi{\\left(t \\right)} \\right)} + 4 \\sqrt{2} h_{bc} \\sin{\\left(\\theta{\\left(t \\right)} + \\frac{\\pi}{4} \\right)} \\sin{\\left(\\varphi{\\left(t \\right)} \\right)} \\frac{d}{d t} \\theta{\\left(t \\right)} + 4 h_{bc} \\sin{\\left(\\theta{\\left(t \\right)} \\right)} \\cos{\\left(\\varphi{\\left(t \\right)} \\right)} \\frac{d}{d t} \\varphi{\\left(t \\right)} + 4 \\frac{d}{d t} y{\\left(t \\right)}\\right)}{8}\\\\- \\frac{\\rho b_{d} \\left(\\sqrt{2} h_{bc} \\cos{\\left(\\theta{\\left(t \\right)} + \\frac{\\pi}{4} \\right)} \\frac{d}{d t} \\theta{\\left(t \\right)} + \\frac{d}{d t} z{\\left(t \\right)}\\right)}{2}\\\\\\frac{\\rho b_{d} h_{bc} \\left(- \\omega_{l} d_{w} \\cos{\\left(\\theta{\\left(t \\right)} \\right)} - \\omega_{r} d_{w} \\cos{\\left(\\theta{\\left(t \\right)} \\right)} - 4 h_{bc} \\frac{d}{d t} \\theta{\\left(t \\right)} + 4 \\sin{\\left(\\theta{\\left(t \\right)} \\right)} \\frac{d}{d t} z{\\left(t \\right)} - 4 \\sin{\\left(\\varphi{\\left(t \\right)} \\right)} \\cos{\\left(\\theta{\\left(t \\right)} \\right)} \\frac{d}{d t} y{\\left(t \\right)} - 4 \\cos{\\left(\\theta{\\left(t \\right)} \\right)} \\cos{\\left(\\varphi{\\left(t \\right)} \\right)} \\frac{d}{d t} x{\\left(t \\right)}\\right)}{8}\\\\\\frac{\\rho b_{d} h_{bc} \\left(- h_{bc} \\sin{\\left(\\theta{\\left(t \\right)} \\right)} \\frac{d}{d t} \\varphi{\\left(t \\right)} + \\sin{\\left(\\varphi{\\left(t \\right)} \\right)} \\frac{d}{d t} x{\\left(t \\right)} - \\cos{\\left(\\varphi{\\left(t \\right)} \\right)} \\frac{d}{d t} y{\\left(t \\right)}\\right) \\sin{\\left(\\theta{\\left(t \\right)} \\right)}}{2}\\end{matrix}\\right]$"
     },
     "metadata": {},
     "output_type": "display_data"
    }
   ],
   "execution_count": 28
  },
  {
   "metadata": {
    "ExecuteTime": {
     "end_time": "2025-07-30T18:51:59.648718Z",
     "start_time": "2025-07-30T18:51:59.635289Z"
    }
   },
   "cell_type": "code",
   "source": [
    "Q_dq = Qd_dq\n",
    "Q_dq"
   ],
   "outputs": [
    {
     "data": {
      "text/plain": [
       "Matrix([\n",
       "[                -\\rho*b_d*(\\omega_l*d_w*cos(\\varphi(t)) + \\omega_r*d_w*cos(\\varphi(t)) + 4*sqrt(2)*h_bc*sin(\\theta(t) + pi/4)*cos(\\varphi(t))*Derivative(\\theta(t), t) - 4*h_bc*sin(\\theta(t))*sin(\\varphi(t))*Derivative(\\varphi(t), t) + 4*Derivative(x(t), t))/8],\n",
       "[                -\\rho*b_d*(\\omega_l*d_w*sin(\\varphi(t)) + \\omega_r*d_w*sin(\\varphi(t)) + 4*sqrt(2)*h_bc*sin(\\theta(t) + pi/4)*sin(\\varphi(t))*Derivative(\\theta(t), t) + 4*h_bc*sin(\\theta(t))*cos(\\varphi(t))*Derivative(\\varphi(t), t) + 4*Derivative(y(t), t))/8],\n",
       "[                                                                                                                                                                    -\\rho*b_d*(sqrt(2)*h_bc*cos(\\theta(t) + pi/4)*Derivative(\\theta(t), t) + Derivative(z(t), t))/2],\n",
       "[\\rho*b_d*h_bc*(-\\omega_l*d_w*cos(\\theta(t)) - \\omega_r*d_w*cos(\\theta(t)) - 4*h_bc*Derivative(\\theta(t), t) + 4*sin(\\theta(t))*Derivative(z(t), t) - 4*sin(\\varphi(t))*cos(\\theta(t))*Derivative(y(t), t) - 4*cos(\\theta(t))*cos(\\varphi(t))*Derivative(x(t), t))/8],\n",
       "[                                                                                                        \\rho*b_d*h_bc*(-h_bc*sin(\\theta(t))*Derivative(\\varphi(t), t) + sin(\\varphi(t))*Derivative(x(t), t) - cos(\\varphi(t))*Derivative(y(t), t))*sin(\\theta(t))/2]])"
      ],
      "text/latex": "$\\displaystyle \\left[\\begin{matrix}- \\frac{\\rho b_{d} \\left(\\omega_{l} d_{w} \\cos{\\left(\\varphi{\\left(t \\right)} \\right)} + \\omega_{r} d_{w} \\cos{\\left(\\varphi{\\left(t \\right)} \\right)} + 4 \\sqrt{2} h_{bc} \\sin{\\left(\\theta{\\left(t \\right)} + \\frac{\\pi}{4} \\right)} \\cos{\\left(\\varphi{\\left(t \\right)} \\right)} \\frac{d}{d t} \\theta{\\left(t \\right)} - 4 h_{bc} \\sin{\\left(\\theta{\\left(t \\right)} \\right)} \\sin{\\left(\\varphi{\\left(t \\right)} \\right)} \\frac{d}{d t} \\varphi{\\left(t \\right)} + 4 \\frac{d}{d t} x{\\left(t \\right)}\\right)}{8}\\\\- \\frac{\\rho b_{d} \\left(\\omega_{l} d_{w} \\sin{\\left(\\varphi{\\left(t \\right)} \\right)} + \\omega_{r} d_{w} \\sin{\\left(\\varphi{\\left(t \\right)} \\right)} + 4 \\sqrt{2} h_{bc} \\sin{\\left(\\theta{\\left(t \\right)} + \\frac{\\pi}{4} \\right)} \\sin{\\left(\\varphi{\\left(t \\right)} \\right)} \\frac{d}{d t} \\theta{\\left(t \\right)} + 4 h_{bc} \\sin{\\left(\\theta{\\left(t \\right)} \\right)} \\cos{\\left(\\varphi{\\left(t \\right)} \\right)} \\frac{d}{d t} \\varphi{\\left(t \\right)} + 4 \\frac{d}{d t} y{\\left(t \\right)}\\right)}{8}\\\\- \\frac{\\rho b_{d} \\left(\\sqrt{2} h_{bc} \\cos{\\left(\\theta{\\left(t \\right)} + \\frac{\\pi}{4} \\right)} \\frac{d}{d t} \\theta{\\left(t \\right)} + \\frac{d}{d t} z{\\left(t \\right)}\\right)}{2}\\\\\\frac{\\rho b_{d} h_{bc} \\left(- \\omega_{l} d_{w} \\cos{\\left(\\theta{\\left(t \\right)} \\right)} - \\omega_{r} d_{w} \\cos{\\left(\\theta{\\left(t \\right)} \\right)} - 4 h_{bc} \\frac{d}{d t} \\theta{\\left(t \\right)} + 4 \\sin{\\left(\\theta{\\left(t \\right)} \\right)} \\frac{d}{d t} z{\\left(t \\right)} - 4 \\sin{\\left(\\varphi{\\left(t \\right)} \\right)} \\cos{\\left(\\theta{\\left(t \\right)} \\right)} \\frac{d}{d t} y{\\left(t \\right)} - 4 \\cos{\\left(\\theta{\\left(t \\right)} \\right)} \\cos{\\left(\\varphi{\\left(t \\right)} \\right)} \\frac{d}{d t} x{\\left(t \\right)}\\right)}{8}\\\\\\frac{\\rho b_{d} h_{bc} \\left(- h_{bc} \\sin{\\left(\\theta{\\left(t \\right)} \\right)} \\frac{d}{d t} \\varphi{\\left(t \\right)} + \\sin{\\left(\\varphi{\\left(t \\right)} \\right)} \\frac{d}{d t} x{\\left(t \\right)} - \\cos{\\left(\\varphi{\\left(t \\right)} \\right)} \\frac{d}{d t} y{\\left(t \\right)}\\right) \\sin{\\left(\\theta{\\left(t \\right)} \\right)}}{2}\\end{matrix}\\right]$"
     },
     "execution_count": 29,
     "metadata": {},
     "output_type": "execute_result"
    }
   ],
   "execution_count": 29
  },
  {
   "metadata": {},
   "cell_type": "markdown",
   "source": [
    "#### Constraints\n",
    "\n",
    "The constraints are applied using Lagrange multipliers and Baumgarte stabilization to avoid numerical drift.\n",
    "\n",
    "The ground is assumed to be a horizontal plane.\n",
    "\n",
    "Constraints:\n",
    "- $ z_{wheel} = z_o - \\frac{ d_w }{ 2 } \\ge - \\frac{ d_w }{ 2 } $\n",
    "- $ z_{tip} = z_o + h_b cos(\\theta) \\ge - \\frac{ d_w }{ 2 } $"
   ]
  },
  {
   "metadata": {},
   "cell_type": "markdown",
   "source": "##### Holomonic constraints"
  },
  {
   "metadata": {},
   "cell_type": "markdown",
   "source": "##### Non-holomonic constraints"
  },
  {
   "metadata": {
    "ExecuteTime": {
     "end_time": "2025-07-30T18:51:59.735153Z",
     "start_time": "2025-07-30T18:51:59.729806Z"
    }
   },
   "cell_type": "code",
   "source": [
    "cons_zwheel = sp.Symbol(r'cons_{z,wheel}')\n",
    "cons_zwheel = p_origin.z\n",
    "\n",
    "# Output\n",
    "cons_zwheel"
   ],
   "outputs": [
    {
     "data": {
      "text/plain": [
       "z(t)"
      ],
      "text/latex": "$\\displaystyle z{\\left(t \\right)}$"
     },
     "execution_count": 30,
     "metadata": {},
     "output_type": "execute_result"
    }
   ],
   "execution_count": 30
  },
  {
   "metadata": {
    "ExecuteTime": {
     "end_time": "2025-07-30T18:51:59.926351Z",
     "start_time": "2025-07-30T18:51:59.922017Z"
    }
   },
   "cell_type": "code",
   "source": [
    "cons_ztip = sp.Symbol(r'cons_{z,tip}')\n",
    "cons_ztip = hb * sp.cos(cs_q.t) + p_origin.z + dw / 2\n",
    "\n",
    "# Output\n",
    "cons_ztip"
   ],
   "outputs": [
    {
     "data": {
      "text/plain": [
       "d_w/2 + h_b*cos(\\theta(t)) + z(t)"
      ],
      "text/latex": "$\\displaystyle \\frac{d_{w}}{2} + h_{b} \\cos{\\left(\\theta{\\left(t \\right)} \\right)} + z{\\left(t \\right)}$"
     },
     "execution_count": 31,
     "metadata": {},
     "output_type": "execute_result"
    }
   ],
   "execution_count": 31
  },
  {
   "metadata": {
    "ExecuteTime": {
     "end_time": "2025-07-30T18:52:00.041094Z",
     "start_time": "2025-07-30T18:52:00.037447Z"
    }
   },
   "cell_type": "code",
   "source": [
    "Cons = sp.Matrix([cons_zwheel, cons_ztip])\n",
    "ncons = len(Cons)\n",
    "\n",
    "# Output\n",
    "Cons"
   ],
   "outputs": [
    {
     "data": {
      "text/plain": [
       "Matrix([\n",
       "[                             z(t)],\n",
       "[d_w/2 + h_b*cos(\\theta(t)) + z(t)]])"
      ],
      "text/latex": "$\\displaystyle \\left[\\begin{matrix}z{\\left(t \\right)}\\\\\\frac{d_{w}}{2} + h_{b} \\cos{\\left(\\theta{\\left(t \\right)} \\right)} + z{\\left(t \\right)}\\end{matrix}\\right]$"
     },
     "execution_count": 32,
     "metadata": {},
     "output_type": "execute_result"
    }
   ],
   "execution_count": 32
  },
  {
   "metadata": {
    "ExecuteTime": {
     "end_time": "2025-07-30T18:52:00.246650Z",
     "start_time": "2025-07-30T18:52:00.237728Z"
    }
   },
   "cell_type": "code",
   "source": [
    "Cons_gradq = sp.Matrix([[Cons.diff(qi) for qi in cs_q.Q]])\n",
    "\n",
    "# Output\n",
    "Cons_gradq"
   ],
   "outputs": [
    {
     "data": {
      "text/plain": [
       "Matrix([\n",
       "[0, 0, 1,                   0, 0],\n",
       "[0, 0, 1, -h_b*sin(\\theta(t)), 0]])"
      ],
      "text/latex": "$\\displaystyle \\left[\\begin{matrix}0 & 0 & 1 & 0 & 0\\\\0 & 0 & 1 & - h_{b} \\sin{\\left(\\theta{\\left(t \\right)} \\right)} & 0\\end{matrix}\\right]$"
     },
     "execution_count": 33,
     "metadata": {},
     "output_type": "execute_result"
    }
   ],
   "execution_count": 33
  },
  {
   "metadata": {
    "ExecuteTime": {
     "end_time": "2025-07-30T18:52:00.365994Z",
     "start_time": "2025-07-30T18:52:00.358095Z"
    }
   },
   "cell_type": "code",
   "source": [
    "Cons_gradqd = sp.Matrix([[Cons.diff(qdi) for qdi in cs_q.Qd]])\n",
    "\n",
    "# Output\n",
    "Cons_gradqd"
   ],
   "outputs": [
    {
     "data": {
      "text/plain": [
       "Matrix([\n",
       "[0, 0, 0, 0, 0],\n",
       "[0, 0, 0, 0, 0]])"
      ],
      "text/latex": "$\\displaystyle \\left[\\begin{matrix}0 & 0 & 0 & 0 & 0\\\\0 & 0 & 0 & 0 & 0\\end{matrix}\\right]$"
     },
     "execution_count": 34,
     "metadata": {},
     "output_type": "execute_result"
    }
   ],
   "execution_count": 34
  },
  {
   "metadata": {},
   "cell_type": "markdown",
   "source": " #### Lagrangian"
  },
  {
   "metadata": {
    "ExecuteTime": {
     "end_time": "2025-07-30T18:52:19.692393Z",
     "start_time": "2025-07-30T18:52:00.442718Z"
    }
   },
   "cell_type": "code",
   "source": [
    "l_lagrangian = Lagrangian('L', t, cs_q)\n",
    "\n",
    "l_lagrangian = l_kinect + l_potential\n",
    "\n",
    "# Output\n",
    "l_lagrangian.L = sp.simplify(l_lagrangian.L)\n",
    "display(l_lagrangian.L)"
   ],
   "outputs": [
    {
     "data": {
      "text/plain": [
       "I_r*Derivative(\\theta(t), t)**2/2 + I_w*(2*c_{\\theta}*Derivative(\\theta(t), t)**2 + (\\omega_l + Derivative(\\theta(t), t))**2 + (\\omega_r + Derivative(\\theta(t), t))**2)/2 + g*m*(h_bc*cos(\\theta(t)) + z(t)) + m*(16*(h_bc*sin(\\theta(t))*Derivative(\\theta(t), t) - Derivative(z(t), t))**2 + (d_w*(\\omega_l + \\omega_r)*sin(\\varphi(t)) + 4*h_bc*sin(\\theta(t))*cos(\\varphi(t))*Derivative(\\varphi(t), t) + 4*h_bc*sin(\\varphi(t))*cos(\\theta(t))*Derivative(\\theta(t), t) + 4*Derivative(y(t), t))**2 + (d_w*(\\omega_l + \\omega_r)*cos(\\varphi(t)) - 4*h_bc*sin(\\theta(t))*sin(\\varphi(t))*Derivative(\\varphi(t), t) + 4*h_bc*cos(\\theta(t))*cos(\\varphi(t))*Derivative(\\theta(t), t) + 4*Derivative(x(t), t))**2)/32 + (I_z + h_bc**2*m*sin(\\theta(t))**2)*Derivative(\\varphi(t), t)**2/2"
      ],
      "text/latex": "$\\displaystyle \\frac{I_{r} \\left(\\frac{d}{d t} \\theta{\\left(t \\right)}\\right)^{2}}{2} + \\frac{I_{w} \\left(2 c_{\\theta} \\left(\\frac{d}{d t} \\theta{\\left(t \\right)}\\right)^{2} + \\left(\\omega_{l} + \\frac{d}{d t} \\theta{\\left(t \\right)}\\right)^{2} + \\left(\\omega_{r} + \\frac{d}{d t} \\theta{\\left(t \\right)}\\right)^{2}\\right)}{2} + g m \\left(h_{bc} \\cos{\\left(\\theta{\\left(t \\right)} \\right)} + z{\\left(t \\right)}\\right) + \\frac{m \\left(16 \\left(h_{bc} \\sin{\\left(\\theta{\\left(t \\right)} \\right)} \\frac{d}{d t} \\theta{\\left(t \\right)} - \\frac{d}{d t} z{\\left(t \\right)}\\right)^{2} + \\left(d_{w} \\left(\\omega_{l} + \\omega_{r}\\right) \\sin{\\left(\\varphi{\\left(t \\right)} \\right)} + 4 h_{bc} \\sin{\\left(\\theta{\\left(t \\right)} \\right)} \\cos{\\left(\\varphi{\\left(t \\right)} \\right)} \\frac{d}{d t} \\varphi{\\left(t \\right)} + 4 h_{bc} \\sin{\\left(\\varphi{\\left(t \\right)} \\right)} \\cos{\\left(\\theta{\\left(t \\right)} \\right)} \\frac{d}{d t} \\theta{\\left(t \\right)} + 4 \\frac{d}{d t} y{\\left(t \\right)}\\right)^{2} + \\left(d_{w} \\left(\\omega_{l} + \\omega_{r}\\right) \\cos{\\left(\\varphi{\\left(t \\right)} \\right)} - 4 h_{bc} \\sin{\\left(\\theta{\\left(t \\right)} \\right)} \\sin{\\left(\\varphi{\\left(t \\right)} \\right)} \\frac{d}{d t} \\varphi{\\left(t \\right)} + 4 h_{bc} \\cos{\\left(\\theta{\\left(t \\right)} \\right)} \\cos{\\left(\\varphi{\\left(t \\right)} \\right)} \\frac{d}{d t} \\theta{\\left(t \\right)} + 4 \\frac{d}{d t} x{\\left(t \\right)}\\right)^{2}\\right)}{32} + \\frac{\\left(I_{z} + h_{bc}^{2} m \\sin^{2}{\\left(\\theta{\\left(t \\right)} \\right)}\\right) \\left(\\frac{d}{d t} \\varphi{\\left(t \\right)}\\right)^{2}}{2}$"
     },
     "metadata": {},
     "output_type": "display_data"
    }
   ],
   "execution_count": 35
  },
  {
   "metadata": {},
   "cell_type": "markdown",
   "source": "#### Compiled model"
  },
  {
   "metadata": {
    "ExecuteTime": {
     "end_time": "2025-07-30T18:52:28.277915Z",
     "start_time": "2025-07-30T18:52:19.719117Z"
    }
   },
   "cell_type": "code",
   "source": [
    "model = (l_kinect.L_dqd_dt - l_potential.L_dqd_dt) - (l_kinect.L_dq - l_potential.L_dq) + l_diss.L_dqd - Q_dq\n",
    "\n",
    "# Output\n",
    "model = sp.simplify(model)\n",
    "display(model)"
   ],
   "outputs": [
    {
     "data": {
      "text/plain": [
       "Matrix([\n",
       "[                                                                                                                                                                                                                                                                                                                                                                                          \\rho*b_d*(\\omega_l*d_w*cos(\\varphi(t)) + \\omega_r*d_w*cos(\\varphi(t)) + 4*sqrt(2)*h_bc*sin(\\theta(t) + pi/4)*cos(\\varphi(t))*Derivative(\\theta(t), t) - 4*h_bc*sin(\\theta(t))*sin(\\varphi(t))*Derivative(\\varphi(t), t) + 4*Derivative(x(t), t))/8 - m*(d_w*(\\omega_l + \\omega_r)*sin(\\varphi(t))*Derivative(\\varphi(t), t) + 4*h_bc*sin(\\theta(t))*sin(\\varphi(t))*Derivative(\\varphi(t), (t, 2)) + 4*h_bc*sin(\\theta(t))*cos(\\varphi(t))*Derivative(\\theta(t), t)**2 + 4*h_bc*sin(\\theta(t))*cos(\\varphi(t))*Derivative(\\varphi(t), t)**2 + 8*h_bc*sin(\\varphi(t))*cos(\\theta(t))*Derivative(\\theta(t), t)*Derivative(\\varphi(t), t) - 4*h_bc*cos(\\theta(t))*cos(\\varphi(t))*Derivative(\\theta(t), (t, 2)) - 4*Derivative(x(t), (t, 2)))/4],\n",
       "[                                                                                                                                                                                                                                                                                                                                                                                          \\rho*b_d*(\\omega_l*d_w*sin(\\varphi(t)) + \\omega_r*d_w*sin(\\varphi(t)) + 4*sqrt(2)*h_bc*sin(\\theta(t) + pi/4)*sin(\\varphi(t))*Derivative(\\theta(t), t) + 4*h_bc*sin(\\theta(t))*cos(\\varphi(t))*Derivative(\\varphi(t), t) + 4*Derivative(y(t), t))/8 + m*(d_w*(\\omega_l + \\omega_r)*cos(\\varphi(t))*Derivative(\\varphi(t), t) - 4*h_bc*sin(\\theta(t))*sin(\\varphi(t))*Derivative(\\theta(t), t)**2 - 4*h_bc*sin(\\theta(t))*sin(\\varphi(t))*Derivative(\\varphi(t), t)**2 + 4*h_bc*sin(\\theta(t))*cos(\\varphi(t))*Derivative(\\varphi(t), (t, 2)) + 4*h_bc*sin(\\varphi(t))*cos(\\theta(t))*Derivative(\\theta(t), (t, 2)) + 8*h_bc*cos(\\theta(t))*cos(\\varphi(t))*Derivative(\\theta(t), t)*Derivative(\\varphi(t), t) + 4*Derivative(y(t), (t, 2)))/4],\n",
       "[                                                                                                                                                                                                                                                                                                                                                                                                                                                                                                                                                                                                                                                                                                                                                                                                                                                                 \\rho*b_d*(sqrt(2)*h_bc*cos(\\theta(t) + pi/4)*Derivative(\\theta(t), t) + Derivative(z(t), t))/2 + 2*b_w*Derivative(z(t), t) + g*m - m*(h_bc*sin(\\theta(t))*Derivative(\\theta(t), (t, 2)) + h_bc*cos(\\theta(t))*Derivative(\\theta(t), t)**2 - Derivative(z(t), (t, 2)))],\n",
       "[I_r*Derivative(\\theta(t), (t, 2)) + 2*I_w*c_{\\theta}*Derivative(\\theta(t), (t, 2)) + 2*I_w*Derivative(\\theta(t), (t, 2)) + \\omega_l*\\rho*b_d*d_w*h_bc*cos(\\theta(t))/8 + \\omega_l*b_w*d_w**2/4 + \\omega_r*\\rho*b_d*d_w*h_bc*cos(\\theta(t))/8 + \\omega_r*b_w*d_w**2/4 + \\rho*b_d*h_bc**2*Derivative(\\theta(t), t)/2 - \\rho*b_d*h_bc*sin(\\theta(t) - \\varphi(t))*Derivative(y(t), t)/4 + \\rho*b_d*h_bc*sin(\\theta(t) + \\varphi(t))*Derivative(y(t), t)/4 - \\rho*b_d*h_bc*sin(\\theta(t))*Derivative(z(t), t)/2 + \\rho*b_d*h_bc*cos(\\theta(t) - \\varphi(t))*Derivative(x(t), t)/4 + \\rho*b_d*h_bc*cos(\\theta(t) + \\varphi(t))*Derivative(x(t), t)/4 + b_w*d_w**2*Derivative(\\theta(t), t)/2 - g*h_bc*m*sin(\\theta(t)) - h_bc**2*m*sin(2*\\theta(t))*Derivative(\\varphi(t), t)**2 + h_bc**2*m*Derivative(\\theta(t), (t, 2)) - h_bc*m*sin(\\theta(t) - \\varphi(t))*Derivative(y(t), (t, 2))/2 + h_bc*m*sin(\\theta(t) + \\varphi(t))*Derivative(y(t), (t, 2))/2 - h_bc*m*sin(\\theta(t))*Derivative(z(t), (t, 2)) + h_bc*m*cos(\\theta(t) - \\varphi(t))*Derivative(x(t), (t, 2))/2 + h_bc*m*cos(\\theta(t) + \\varphi(t))*Derivative(x(t), (t, 2))/2],\n",
       "[                                                                                                                                                                                                                                                                                                                                                                          I_z*Derivative(\\varphi(t), (t, 2)) + \\omega_l*d_w*m*sin(\\varphi(t))*Derivative(x(t), t)/4 - \\omega_l*d_w*m*cos(\\varphi(t))*Derivative(y(t), t)/4 + \\omega_r*d_w*m*sin(\\varphi(t))*Derivative(x(t), t)/4 - \\omega_r*d_w*m*cos(\\varphi(t))*Derivative(y(t), t)/4 + \\rho*b_d*h_bc**2*sin(\\theta(t))**2*Derivative(\\varphi(t), t)/2 - \\rho*b_d*h_bc*sin(\\theta(t))*sin(\\varphi(t))*Derivative(x(t), t)/2 + \\rho*b_d*h_bc*sin(\\theta(t))*cos(\\varphi(t))*Derivative(y(t), t)/2 + 2*h_bc**2*m*sin(\\theta(t))**2*Derivative(\\varphi(t), (t, 2)) + 2*h_bc**2*m*sin(2*\\theta(t))*Derivative(\\theta(t), t)*Derivative(\\varphi(t), t) - h_bc*m*sin(\\theta(t))*sin(\\varphi(t))*Derivative(x(t), (t, 2)) + h_bc*m*sin(\\theta(t))*cos(\\varphi(t))*Derivative(y(t), (t, 2))]])"
      ],
      "text/latex": "$\\displaystyle \\left[\\begin{matrix}\\frac{\\rho b_{d} \\left(\\omega_{l} d_{w} \\cos{\\left(\\varphi{\\left(t \\right)} \\right)} + \\omega_{r} d_{w} \\cos{\\left(\\varphi{\\left(t \\right)} \\right)} + 4 \\sqrt{2} h_{bc} \\sin{\\left(\\theta{\\left(t \\right)} + \\frac{\\pi}{4} \\right)} \\cos{\\left(\\varphi{\\left(t \\right)} \\right)} \\frac{d}{d t} \\theta{\\left(t \\right)} - 4 h_{bc} \\sin{\\left(\\theta{\\left(t \\right)} \\right)} \\sin{\\left(\\varphi{\\left(t \\right)} \\right)} \\frac{d}{d t} \\varphi{\\left(t \\right)} + 4 \\frac{d}{d t} x{\\left(t \\right)}\\right)}{8} - \\frac{m \\left(d_{w} \\left(\\omega_{l} + \\omega_{r}\\right) \\sin{\\left(\\varphi{\\left(t \\right)} \\right)} \\frac{d}{d t} \\varphi{\\left(t \\right)} + 4 h_{bc} \\sin{\\left(\\theta{\\left(t \\right)} \\right)} \\sin{\\left(\\varphi{\\left(t \\right)} \\right)} \\frac{d^{2}}{d t^{2}} \\varphi{\\left(t \\right)} + 4 h_{bc} \\sin{\\left(\\theta{\\left(t \\right)} \\right)} \\cos{\\left(\\varphi{\\left(t \\right)} \\right)} \\left(\\frac{d}{d t} \\theta{\\left(t \\right)}\\right)^{2} + 4 h_{bc} \\sin{\\left(\\theta{\\left(t \\right)} \\right)} \\cos{\\left(\\varphi{\\left(t \\right)} \\right)} \\left(\\frac{d}{d t} \\varphi{\\left(t \\right)}\\right)^{2} + 8 h_{bc} \\sin{\\left(\\varphi{\\left(t \\right)} \\right)} \\cos{\\left(\\theta{\\left(t \\right)} \\right)} \\frac{d}{d t} \\theta{\\left(t \\right)} \\frac{d}{d t} \\varphi{\\left(t \\right)} - 4 h_{bc} \\cos{\\left(\\theta{\\left(t \\right)} \\right)} \\cos{\\left(\\varphi{\\left(t \\right)} \\right)} \\frac{d^{2}}{d t^{2}} \\theta{\\left(t \\right)} - 4 \\frac{d^{2}}{d t^{2}} x{\\left(t \\right)}\\right)}{4}\\\\\\frac{\\rho b_{d} \\left(\\omega_{l} d_{w} \\sin{\\left(\\varphi{\\left(t \\right)} \\right)} + \\omega_{r} d_{w} \\sin{\\left(\\varphi{\\left(t \\right)} \\right)} + 4 \\sqrt{2} h_{bc} \\sin{\\left(\\theta{\\left(t \\right)} + \\frac{\\pi}{4} \\right)} \\sin{\\left(\\varphi{\\left(t \\right)} \\right)} \\frac{d}{d t} \\theta{\\left(t \\right)} + 4 h_{bc} \\sin{\\left(\\theta{\\left(t \\right)} \\right)} \\cos{\\left(\\varphi{\\left(t \\right)} \\right)} \\frac{d}{d t} \\varphi{\\left(t \\right)} + 4 \\frac{d}{d t} y{\\left(t \\right)}\\right)}{8} + \\frac{m \\left(d_{w} \\left(\\omega_{l} + \\omega_{r}\\right) \\cos{\\left(\\varphi{\\left(t \\right)} \\right)} \\frac{d}{d t} \\varphi{\\left(t \\right)} - 4 h_{bc} \\sin{\\left(\\theta{\\left(t \\right)} \\right)} \\sin{\\left(\\varphi{\\left(t \\right)} \\right)} \\left(\\frac{d}{d t} \\theta{\\left(t \\right)}\\right)^{2} - 4 h_{bc} \\sin{\\left(\\theta{\\left(t \\right)} \\right)} \\sin{\\left(\\varphi{\\left(t \\right)} \\right)} \\left(\\frac{d}{d t} \\varphi{\\left(t \\right)}\\right)^{2} + 4 h_{bc} \\sin{\\left(\\theta{\\left(t \\right)} \\right)} \\cos{\\left(\\varphi{\\left(t \\right)} \\right)} \\frac{d^{2}}{d t^{2}} \\varphi{\\left(t \\right)} + 4 h_{bc} \\sin{\\left(\\varphi{\\left(t \\right)} \\right)} \\cos{\\left(\\theta{\\left(t \\right)} \\right)} \\frac{d^{2}}{d t^{2}} \\theta{\\left(t \\right)} + 8 h_{bc} \\cos{\\left(\\theta{\\left(t \\right)} \\right)} \\cos{\\left(\\varphi{\\left(t \\right)} \\right)} \\frac{d}{d t} \\theta{\\left(t \\right)} \\frac{d}{d t} \\varphi{\\left(t \\right)} + 4 \\frac{d^{2}}{d t^{2}} y{\\left(t \\right)}\\right)}{4}\\\\\\frac{\\rho b_{d} \\left(\\sqrt{2} h_{bc} \\cos{\\left(\\theta{\\left(t \\right)} + \\frac{\\pi}{4} \\right)} \\frac{d}{d t} \\theta{\\left(t \\right)} + \\frac{d}{d t} z{\\left(t \\right)}\\right)}{2} + 2 b_{w} \\frac{d}{d t} z{\\left(t \\right)} + g m - m \\left(h_{bc} \\sin{\\left(\\theta{\\left(t \\right)} \\right)} \\frac{d^{2}}{d t^{2}} \\theta{\\left(t \\right)} + h_{bc} \\cos{\\left(\\theta{\\left(t \\right)} \\right)} \\left(\\frac{d}{d t} \\theta{\\left(t \\right)}\\right)^{2} - \\frac{d^{2}}{d t^{2}} z{\\left(t \\right)}\\right)\\\\I_{r} \\frac{d^{2}}{d t^{2}} \\theta{\\left(t \\right)} + 2 I_{w} c_{\\theta} \\frac{d^{2}}{d t^{2}} \\theta{\\left(t \\right)} + 2 I_{w} \\frac{d^{2}}{d t^{2}} \\theta{\\left(t \\right)} + \\frac{\\omega_{l} \\rho b_{d} d_{w} h_{bc} \\cos{\\left(\\theta{\\left(t \\right)} \\right)}}{8} + \\frac{\\omega_{l} b_{w} d_{w}^{2}}{4} + \\frac{\\omega_{r} \\rho b_{d} d_{w} h_{bc} \\cos{\\left(\\theta{\\left(t \\right)} \\right)}}{8} + \\frac{\\omega_{r} b_{w} d_{w}^{2}}{4} + \\frac{\\rho b_{d} h_{bc}^{2} \\frac{d}{d t} \\theta{\\left(t \\right)}}{2} - \\frac{\\rho b_{d} h_{bc} \\sin{\\left(\\theta{\\left(t \\right)} - \\varphi{\\left(t \\right)} \\right)} \\frac{d}{d t} y{\\left(t \\right)}}{4} + \\frac{\\rho b_{d} h_{bc} \\sin{\\left(\\theta{\\left(t \\right)} + \\varphi{\\left(t \\right)} \\right)} \\frac{d}{d t} y{\\left(t \\right)}}{4} - \\frac{\\rho b_{d} h_{bc} \\sin{\\left(\\theta{\\left(t \\right)} \\right)} \\frac{d}{d t} z{\\left(t \\right)}}{2} + \\frac{\\rho b_{d} h_{bc} \\cos{\\left(\\theta{\\left(t \\right)} - \\varphi{\\left(t \\right)} \\right)} \\frac{d}{d t} x{\\left(t \\right)}}{4} + \\frac{\\rho b_{d} h_{bc} \\cos{\\left(\\theta{\\left(t \\right)} + \\varphi{\\left(t \\right)} \\right)} \\frac{d}{d t} x{\\left(t \\right)}}{4} + \\frac{b_{w} d_{w}^{2} \\frac{d}{d t} \\theta{\\left(t \\right)}}{2} - g h_{bc} m \\sin{\\left(\\theta{\\left(t \\right)} \\right)} - h_{bc}^{2} m \\sin{\\left(2 \\theta{\\left(t \\right)} \\right)} \\left(\\frac{d}{d t} \\varphi{\\left(t \\right)}\\right)^{2} + h_{bc}^{2} m \\frac{d^{2}}{d t^{2}} \\theta{\\left(t \\right)} - \\frac{h_{bc} m \\sin{\\left(\\theta{\\left(t \\right)} - \\varphi{\\left(t \\right)} \\right)} \\frac{d^{2}}{d t^{2}} y{\\left(t \\right)}}{2} + \\frac{h_{bc} m \\sin{\\left(\\theta{\\left(t \\right)} + \\varphi{\\left(t \\right)} \\right)} \\frac{d^{2}}{d t^{2}} y{\\left(t \\right)}}{2} - h_{bc} m \\sin{\\left(\\theta{\\left(t \\right)} \\right)} \\frac{d^{2}}{d t^{2}} z{\\left(t \\right)} + \\frac{h_{bc} m \\cos{\\left(\\theta{\\left(t \\right)} - \\varphi{\\left(t \\right)} \\right)} \\frac{d^{2}}{d t^{2}} x{\\left(t \\right)}}{2} + \\frac{h_{bc} m \\cos{\\left(\\theta{\\left(t \\right)} + \\varphi{\\left(t \\right)} \\right)} \\frac{d^{2}}{d t^{2}} x{\\left(t \\right)}}{2}\\\\I_{z} \\frac{d^{2}}{d t^{2}} \\varphi{\\left(t \\right)} + \\frac{\\omega_{l} d_{w} m \\sin{\\left(\\varphi{\\left(t \\right)} \\right)} \\frac{d}{d t} x{\\left(t \\right)}}{4} - \\frac{\\omega_{l} d_{w} m \\cos{\\left(\\varphi{\\left(t \\right)} \\right)} \\frac{d}{d t} y{\\left(t \\right)}}{4} + \\frac{\\omega_{r} d_{w} m \\sin{\\left(\\varphi{\\left(t \\right)} \\right)} \\frac{d}{d t} x{\\left(t \\right)}}{4} - \\frac{\\omega_{r} d_{w} m \\cos{\\left(\\varphi{\\left(t \\right)} \\right)} \\frac{d}{d t} y{\\left(t \\right)}}{4} + \\frac{\\rho b_{d} h_{bc}^{2} \\sin^{2}{\\left(\\theta{\\left(t \\right)} \\right)} \\frac{d}{d t} \\varphi{\\left(t \\right)}}{2} - \\frac{\\rho b_{d} h_{bc} \\sin{\\left(\\theta{\\left(t \\right)} \\right)} \\sin{\\left(\\varphi{\\left(t \\right)} \\right)} \\frac{d}{d t} x{\\left(t \\right)}}{2} + \\frac{\\rho b_{d} h_{bc} \\sin{\\left(\\theta{\\left(t \\right)} \\right)} \\cos{\\left(\\varphi{\\left(t \\right)} \\right)} \\frac{d}{d t} y{\\left(t \\right)}}{2} + 2 h_{bc}^{2} m \\sin^{2}{\\left(\\theta{\\left(t \\right)} \\right)} \\frac{d^{2}}{d t^{2}} \\varphi{\\left(t \\right)} + 2 h_{bc}^{2} m \\sin{\\left(2 \\theta{\\left(t \\right)} \\right)} \\frac{d}{d t} \\theta{\\left(t \\right)} \\frac{d}{d t} \\varphi{\\left(t \\right)} - h_{bc} m \\sin{\\left(\\theta{\\left(t \\right)} \\right)} \\sin{\\left(\\varphi{\\left(t \\right)} \\right)} \\frac{d^{2}}{d t^{2}} x{\\left(t \\right)} + h_{bc} m \\sin{\\left(\\theta{\\left(t \\right)} \\right)} \\cos{\\left(\\varphi{\\left(t \\right)} \\right)} \\frac{d^{2}}{d t^{2}} y{\\left(t \\right)}\\end{matrix}\\right]$"
     },
     "metadata": {},
     "output_type": "display_data"
    }
   ],
   "execution_count": 36
  },
  {
   "metadata": {
    "ExecuteTime": {
     "end_time": "2025-07-30T18:52:33.105698Z",
     "start_time": "2025-07-30T18:52:28.316477Z"
    }
   },
   "cell_type": "code",
   "source": [
    "# Separate model into `M * Qi_ddot + H = Mii * Qi_ddot + Bi2 * Qi_dot**2 + Bij * Qi_dot * Qj_dot + Bi * Qi_dot + C + U` form\n",
    "dim = len(model)\n",
    "model_expand = sp.zeros(dim, 1)\n",
    "for i, eq in enumerate(model):\n",
    "    model_expand[i] = sp.expand(eq)\n",
    "\n",
    "Mii = sp.zeros(dim, dim)\n",
    "Bi2 = sp.zeros(dim, dim)\n",
    "Bij = sp.zeros(dim, dim)\n",
    "Bi = sp.zeros(dim, dim)\n",
    "C = sp.zeros(dim, 1)\n",
    "U = sp.zeros(dim, 1)\n",
    "\n",
    "# Collect coefficients for each second derivative term\n",
    "for i, eq in enumerate(model_expand):\n",
    "    subs_list = []\n",
    "\n",
    "    # Isolate second-order and squared first-order derivatives\n",
    "    for j, qi_dot in enumerate(cs_q.Qd):\n",
    "        Mii[i, j] = eq.coeff(cs_q.Qdd[j], 1)\n",
    "        subs_list += [(cs_q.Qdd[j], 0)]\n",
    "\n",
    "        Bi2[i, j] = eq.coeff(qi_dot, 2)\n",
    "        subs_list += [(qi_dot ** 2, 0)]\n",
    "\n",
    "    terms = sp.Add.make_args(eq)\n",
    "    for term in terms:\n",
    "        # Isolate second-order distinct derivatives\n",
    "        all_dot = [term.has(d) for d in cs_q.Qd]\n",
    "        idx_dot = [i for i in range(len(all_dot)) if all_dot[i] == True]\n",
    "        qi_dot = [d for d in all_dot if d == True]\n",
    "        if len(idx_dot) == 2:\n",
    "            for j in idx_dot:\n",
    "                Bij[i, j] += term.coeff(cs_q.Qd[j], 1) / len(idx_dot)\n",
    "                subs_list += [(term.coeff(cs_q.Qd[j], 1), 0)]\n",
    "\n",
    "        # Isolate first-order linear derivatives\n",
    "        for j, qi_dot in enumerate(cs_q.Qd):\n",
    "            if term.count(qi_dot) == 1:\n",
    "                other_derivs = [x for x in cs_q.Qd if x != qi_dot]\n",
    "                if not any(term.has(od) for od in other_derivs):\n",
    "                    Bi[i, j] += term.coeff(qi_dot, 1)\n",
    "                    subs_list += [(term.coeff(qi_dot, 1), 0)]\n",
    "\n",
    "        # Isolate zero-order derivatives\n",
    "        if (sum(term.count(qi_ddot) for qi_ddot in cs_q.Qdd) == 0) and (sum(term.count(qi_dot) for qi_dot in cs_q.Qd) == 0):\n",
    "            C[i] += term\n",
    "            subs_list += [(term, 0)]\n",
    "\n",
    "    model_expand[i] = eq.subs(subs_list)\n",
    "    model_expand[i] = sp.expand(model_expand[i])\n",
    "\n",
    "# Output\n",
    "Mii = sp.simplify(Mii)\n",
    "Bi2 = sp.simplify(Bi2)\n",
    "Bij = sp.simplify(Bij)\n",
    "Bi = sp.simplify(Bi)\n",
    "C = sp.simplify(C)\n",
    "\n",
    "H = Bi2 * sp.Matrix([qi_dot ** 2 for qi_dot in cs_q.Qd]) + Bij * cs_q.Qd + Bi * cs_q.Qd + C + U\n",
    "H = sp.simplify(H)\n",
    "\n",
    "display(Mii)\n",
    "display(Bi2)\n",
    "display(Bij)\n",
    "display(Bi)\n",
    "display(C)\n",
    "\n",
    "# Verification\n",
    "model_is_simplified = sp.simplify(\n",
    "    (Mii * cs_q.Qdd + Bi2 * sp.Matrix([qi_dot ** 2 for qi_dot in cs_q.Qd]) + Bij * cs_q.Qd + Bi * cs_q.Qd + C) - model) == sp.Matrix(dim * [0])\n",
    "print(model_is_simplified)"
   ],
   "outputs": [
    {
     "data": {
      "text/plain": [
       "Matrix([\n",
       "[                                     m,                                     0,                      0,      h_bc*m*cos(\\theta(t))*cos(\\varphi(t)), -h_bc*m*sin(\\theta(t))*sin(\\varphi(t))],\n",
       "[                                     0,                                     m,                      0,      h_bc*m*sin(\\varphi(t))*cos(\\theta(t)),  h_bc*m*sin(\\theta(t))*cos(\\varphi(t))],\n",
       "[                                     0,                                     0,                      m,                     -h_bc*m*sin(\\theta(t)),                                      0],\n",
       "[ h_bc*m*cos(\\theta(t))*cos(\\varphi(t)), h_bc*m*sin(\\varphi(t))*cos(\\theta(t)), -h_bc*m*sin(\\theta(t)), I_r + 2*I_w*c_{\\theta} + 2*I_w + h_bc**2*m,                                      0],\n",
       "[-h_bc*m*sin(\\theta(t))*sin(\\varphi(t)), h_bc*m*sin(\\theta(t))*cos(\\varphi(t)),                      0,                                          0,    I_z + 2*h_bc**2*m*sin(\\theta(t))**2]])"
      ],
      "text/latex": "$\\displaystyle \\left[\\begin{matrix}m & 0 & 0 & h_{bc} m \\cos{\\left(\\theta{\\left(t \\right)} \\right)} \\cos{\\left(\\varphi{\\left(t \\right)} \\right)} & - h_{bc} m \\sin{\\left(\\theta{\\left(t \\right)} \\right)} \\sin{\\left(\\varphi{\\left(t \\right)} \\right)}\\\\0 & m & 0 & h_{bc} m \\sin{\\left(\\varphi{\\left(t \\right)} \\right)} \\cos{\\left(\\theta{\\left(t \\right)} \\right)} & h_{bc} m \\sin{\\left(\\theta{\\left(t \\right)} \\right)} \\cos{\\left(\\varphi{\\left(t \\right)} \\right)}\\\\0 & 0 & m & - h_{bc} m \\sin{\\left(\\theta{\\left(t \\right)} \\right)} & 0\\\\h_{bc} m \\cos{\\left(\\theta{\\left(t \\right)} \\right)} \\cos{\\left(\\varphi{\\left(t \\right)} \\right)} & h_{bc} m \\sin{\\left(\\varphi{\\left(t \\right)} \\right)} \\cos{\\left(\\theta{\\left(t \\right)} \\right)} & - h_{bc} m \\sin{\\left(\\theta{\\left(t \\right)} \\right)} & I_{r} + 2 I_{w} c_{\\theta} + 2 I_{w} + h_{bc}^{2} m & 0\\\\- h_{bc} m \\sin{\\left(\\theta{\\left(t \\right)} \\right)} \\sin{\\left(\\varphi{\\left(t \\right)} \\right)} & h_{bc} m \\sin{\\left(\\theta{\\left(t \\right)} \\right)} \\cos{\\left(\\varphi{\\left(t \\right)} \\right)} & 0 & 0 & I_{z} + 2 h_{bc}^{2} m \\sin^{2}{\\left(\\theta{\\left(t \\right)} \\right)}\\end{matrix}\\right]$"
     },
     "metadata": {},
     "output_type": "display_data"
    },
    {
     "data": {
      "text/plain": [
       "Matrix([\n",
       "[0, 0, 0, -h_bc*m*sin(\\theta(t))*cos(\\varphi(t)), -h_bc*m*sin(\\theta(t))*cos(\\varphi(t))],\n",
       "[0, 0, 0, -h_bc*m*sin(\\theta(t))*sin(\\varphi(t)), -h_bc*m*sin(\\theta(t))*sin(\\varphi(t))],\n",
       "[0, 0, 0,                 -h_bc*m*cos(\\theta(t)),                                      0],\n",
       "[0, 0, 0,                                      0,            -h_bc**2*m*sin(2*\\theta(t))],\n",
       "[0, 0, 0,                                      0,                                      0]])"
      ],
      "text/latex": "$\\displaystyle \\left[\\begin{matrix}0 & 0 & 0 & - h_{bc} m \\sin{\\left(\\theta{\\left(t \\right)} \\right)} \\cos{\\left(\\varphi{\\left(t \\right)} \\right)} & - h_{bc} m \\sin{\\left(\\theta{\\left(t \\right)} \\right)} \\cos{\\left(\\varphi{\\left(t \\right)} \\right)}\\\\0 & 0 & 0 & - h_{bc} m \\sin{\\left(\\theta{\\left(t \\right)} \\right)} \\sin{\\left(\\varphi{\\left(t \\right)} \\right)} & - h_{bc} m \\sin{\\left(\\theta{\\left(t \\right)} \\right)} \\sin{\\left(\\varphi{\\left(t \\right)} \\right)}\\\\0 & 0 & 0 & - h_{bc} m \\cos{\\left(\\theta{\\left(t \\right)} \\right)} & 0\\\\0 & 0 & 0 & 0 & - h_{bc}^{2} m \\sin{\\left(2 \\theta{\\left(t \\right)} \\right)}\\\\0 & 0 & 0 & 0 & 0\\end{matrix}\\right]$"
     },
     "metadata": {},
     "output_type": "display_data"
    },
    {
     "data": {
      "text/plain": [
       "Matrix([\n",
       "[0, 0, 0, -h_bc*m*sin(\\varphi(t))*cos(\\theta(t))*Derivative(\\varphi(t), t), -h_bc*m*sin(\\varphi(t))*cos(\\theta(t))*Derivative(\\theta(t), t)],\n",
       "[0, 0, 0,  h_bc*m*cos(\\theta(t))*cos(\\varphi(t))*Derivative(\\varphi(t), t),  h_bc*m*cos(\\theta(t))*cos(\\varphi(t))*Derivative(\\theta(t), t)],\n",
       "[0, 0, 0,                                                                0,                                                               0],\n",
       "[0, 0, 0,                                                                0,                                                               0],\n",
       "[0, 0, 0,             h_bc**2*m*sin(2*\\theta(t))*Derivative(\\varphi(t), t),             h_bc**2*m*sin(2*\\theta(t))*Derivative(\\theta(t), t)]])"
      ],
      "text/latex": "$\\displaystyle \\left[\\begin{matrix}0 & 0 & 0 & - h_{bc} m \\sin{\\left(\\varphi{\\left(t \\right)} \\right)} \\cos{\\left(\\theta{\\left(t \\right)} \\right)} \\frac{d}{d t} \\varphi{\\left(t \\right)} & - h_{bc} m \\sin{\\left(\\varphi{\\left(t \\right)} \\right)} \\cos{\\left(\\theta{\\left(t \\right)} \\right)} \\frac{d}{d t} \\theta{\\left(t \\right)}\\\\0 & 0 & 0 & h_{bc} m \\cos{\\left(\\theta{\\left(t \\right)} \\right)} \\cos{\\left(\\varphi{\\left(t \\right)} \\right)} \\frac{d}{d t} \\varphi{\\left(t \\right)} & h_{bc} m \\cos{\\left(\\theta{\\left(t \\right)} \\right)} \\cos{\\left(\\varphi{\\left(t \\right)} \\right)} \\frac{d}{d t} \\theta{\\left(t \\right)}\\\\0 & 0 & 0 & 0 & 0\\\\0 & 0 & 0 & 0 & 0\\\\0 & 0 & 0 & h_{bc}^{2} m \\sin{\\left(2 \\theta{\\left(t \\right)} \\right)} \\frac{d}{d t} \\varphi{\\left(t \\right)} & h_{bc}^{2} m \\sin{\\left(2 \\theta{\\left(t \\right)} \\right)} \\frac{d}{d t} \\theta{\\left(t \\right)}\\end{matrix}\\right]$"
     },
     "metadata": {},
     "output_type": "display_data"
    },
    {
     "data": {
      "text/plain": [
       "Matrix([\n",
       "[                                                                          \\rho*b_d/2,                                                                                     0,                               0, sqrt(2)*\\rho*b_d*h_bc*sin(\\theta(t) + pi/4)*cos(\\varphi(t))/2, -(\\omega_l*d_w*m + \\omega_r*d_w*m + 2*\\rho*b_d*h_bc*sin(\\theta(t)))*sin(\\varphi(t))/4],\n",
       "[                                                                                   0,                                                                            \\rho*b_d/2,                               0, sqrt(2)*\\rho*b_d*h_bc*sin(\\theta(t) + pi/4)*sin(\\varphi(t))/2,  (\\omega_l*d_w*m + \\omega_r*d_w*m + 2*\\rho*b_d*h_bc*sin(\\theta(t)))*cos(\\varphi(t))/4],\n",
       "[                                                                                   0,                                                                                     0,              \\rho*b_d/2 + 2*b_w,                 sqrt(2)*\\rho*b_d*h_bc*cos(\\theta(t) + pi/4)/2,                                                                                     0],\n",
       "[                                      \\rho*b_d*h_bc*cos(\\theta(t))*cos(\\varphi(t))/2,                                        \\rho*b_d*h_bc*sin(\\varphi(t))*cos(\\theta(t))/2, -\\rho*b_d*h_bc*sin(\\theta(t))/2,                             \\rho*b_d*h_bc**2/2 + b_w*d_w**2/2,                                                                                     0],\n",
       "[(\\omega_l*d_w*m + \\omega_r*d_w*m - 2*\\rho*b_d*h_bc*sin(\\theta(t)))*sin(\\varphi(t))/4, (-\\omega_l*d_w*m - \\omega_r*d_w*m + 2*\\rho*b_d*h_bc*sin(\\theta(t)))*cos(\\varphi(t))/4,                               0,                                                             0,                                                  \\rho*b_d*h_bc**2*sin(\\theta(t))**2/2]])"
      ],
      "text/latex": "$\\displaystyle \\left[\\begin{matrix}\\frac{\\rho b_{d}}{2} & 0 & 0 & \\frac{\\sqrt{2} \\rho b_{d} h_{bc} \\sin{\\left(\\theta{\\left(t \\right)} + \\frac{\\pi}{4} \\right)} \\cos{\\left(\\varphi{\\left(t \\right)} \\right)}}{2} & - \\frac{\\left(\\omega_{l} d_{w} m + \\omega_{r} d_{w} m + 2 \\rho b_{d} h_{bc} \\sin{\\left(\\theta{\\left(t \\right)} \\right)}\\right) \\sin{\\left(\\varphi{\\left(t \\right)} \\right)}}{4}\\\\0 & \\frac{\\rho b_{d}}{2} & 0 & \\frac{\\sqrt{2} \\rho b_{d} h_{bc} \\sin{\\left(\\theta{\\left(t \\right)} + \\frac{\\pi}{4} \\right)} \\sin{\\left(\\varphi{\\left(t \\right)} \\right)}}{2} & \\frac{\\left(\\omega_{l} d_{w} m + \\omega_{r} d_{w} m + 2 \\rho b_{d} h_{bc} \\sin{\\left(\\theta{\\left(t \\right)} \\right)}\\right) \\cos{\\left(\\varphi{\\left(t \\right)} \\right)}}{4}\\\\0 & 0 & \\frac{\\rho b_{d}}{2} + 2 b_{w} & \\frac{\\sqrt{2} \\rho b_{d} h_{bc} \\cos{\\left(\\theta{\\left(t \\right)} + \\frac{\\pi}{4} \\right)}}{2} & 0\\\\\\frac{\\rho b_{d} h_{bc} \\cos{\\left(\\theta{\\left(t \\right)} \\right)} \\cos{\\left(\\varphi{\\left(t \\right)} \\right)}}{2} & \\frac{\\rho b_{d} h_{bc} \\sin{\\left(\\varphi{\\left(t \\right)} \\right)} \\cos{\\left(\\theta{\\left(t \\right)} \\right)}}{2} & - \\frac{\\rho b_{d} h_{bc} \\sin{\\left(\\theta{\\left(t \\right)} \\right)}}{2} & \\frac{\\rho b_{d} h_{bc}^{2}}{2} + \\frac{b_{w} d_{w}^{2}}{2} & 0\\\\\\frac{\\left(\\omega_{l} d_{w} m + \\omega_{r} d_{w} m - 2 \\rho b_{d} h_{bc} \\sin{\\left(\\theta{\\left(t \\right)} \\right)}\\right) \\sin{\\left(\\varphi{\\left(t \\right)} \\right)}}{4} & \\frac{\\left(- \\omega_{l} d_{w} m - \\omega_{r} d_{w} m + 2 \\rho b_{d} h_{bc} \\sin{\\left(\\theta{\\left(t \\right)} \\right)}\\right) \\cos{\\left(\\varphi{\\left(t \\right)} \\right)}}{4} & 0 & 0 & \\frac{\\rho b_{d} h_{bc}^{2} \\sin^{2}{\\left(\\theta{\\left(t \\right)} \\right)}}{2}\\end{matrix}\\right]$"
     },
     "metadata": {},
     "output_type": "display_data"
    },
    {
     "data": {
      "text/plain": [
       "Matrix([\n",
       "[                                                                                                               \\rho*b_d*d_w*(\\omega_l + \\omega_r)*cos(\\varphi(t))/8],\n",
       "[                                                                                                               \\rho*b_d*d_w*(\\omega_l + \\omega_r)*sin(\\varphi(t))/8],\n",
       "[                                                                                                                                                                g*m],\n",
       "[\\omega_l*\\rho*b_d*d_w*h_bc*cos(\\theta(t))/8 + \\omega_l*b_w*d_w**2/4 + \\omega_r*\\rho*b_d*d_w*h_bc*cos(\\theta(t))/8 + \\omega_r*b_w*d_w**2/4 - g*h_bc*m*sin(\\theta(t))],\n",
       "[                                                                                                                                                                  0]])"
      ],
      "text/latex": "$\\displaystyle \\left[\\begin{matrix}\\frac{\\rho b_{d} d_{w} \\left(\\omega_{l} + \\omega_{r}\\right) \\cos{\\left(\\varphi{\\left(t \\right)} \\right)}}{8}\\\\\\frac{\\rho b_{d} d_{w} \\left(\\omega_{l} + \\omega_{r}\\right) \\sin{\\left(\\varphi{\\left(t \\right)} \\right)}}{8}\\\\g m\\\\\\frac{\\omega_{l} \\rho b_{d} d_{w} h_{bc} \\cos{\\left(\\theta{\\left(t \\right)} \\right)}}{8} + \\frac{\\omega_{l} b_{w} d_{w}^{2}}{4} + \\frac{\\omega_{r} \\rho b_{d} d_{w} h_{bc} \\cos{\\left(\\theta{\\left(t \\right)} \\right)}}{8} + \\frac{\\omega_{r} b_{w} d_{w}^{2}}{4} - g h_{bc} m \\sin{\\left(\\theta{\\left(t \\right)} \\right)}\\\\0\\end{matrix}\\right]$"
     },
     "metadata": {},
     "output_type": "display_data"
    },
    {
     "name": "stdout",
     "output_type": "stream",
     "text": [
      "True\n"
     ]
    }
   ],
   "execution_count": 37
  },
  {
   "metadata": {
    "ExecuteTime": {
     "end_time": "2025-07-30T18:53:40.217959Z",
     "start_time": "2025-07-30T18:52:33.171975Z"
    }
   },
   "cell_type": "code",
   "source": [
    "U = Mii.LUsolve(-H)\n",
    "\n",
    "# Output\n",
    "U = sp.simplify(U)\n",
    "U"
   ],
   "outputs": [
    {
     "data": {
      "text/plain": [
       "Matrix([\n",
       "[(-2*h_bc*m**2*(I_r + 2*I_w*c_{\\theta} + 2*I_w)*(-\\omega_l*d_w*h_bc*sin(\\theta(t))*Derivative(\\varphi(t), t) + \\omega_l*d_w*sin(\\varphi(t))*Derivative(x(t), t) - \\omega_l*d_w*cos(\\varphi(t))*Derivative(y(t), t) - \\omega_r*d_w*h_bc*sin(\\theta(t))*Derivative(\\varphi(t), t) + \\omega_r*d_w*sin(\\varphi(t))*Derivative(x(t), t) - \\omega_r*d_w*cos(\\varphi(t))*Derivative(y(t), t) + 4*h_bc**2*sin(2*\\theta(t))*Derivative(\\theta(t), t)*Derivative(\\varphi(t), t))*sin(\\theta(t))*sin(\\varphi(t)) + 2*h_bc*m*(I_z + h_bc**2*m*sin(\\theta(t))**2)*(\\omega_l*b_w*d_w**2 + \\omega_r*b_w*d_w**2 + 2*b_w*d_w**2*Derivative(\\theta(t), t) + 8*b_w*h_bc*sin(\\theta(t))*Derivative(z(t), t) - 2*h_bc**2*m*sin(2*\\theta(t))*Derivative(\\varphi(t), t)**2)*cos(\\theta(t))*cos(\\varphi(t)) + (I_z + h_bc**2*m*sin(\\theta(t))**2)*(I_r + 2*I_w*c_{\\theta} + 2*I_w)*(-\\rho*b_d*d_w*(\\omega_l + \\omega_r)*cos(\\varphi(t)) - 4*sqrt(2)*\\rho*b_d*h_bc*sin(\\theta(t) + pi/4)*cos(\\varphi(t))*Derivative(\\theta(t), t) - 4*\\rho*b_d*Derivative(x(t), t) + 8*h_bc*m*sin(\\theta(t))*cos(\\varphi(t))*Derivative(\\theta(t), t)**2 + 8*h_bc*m*sin(\\theta(t))*cos(\\varphi(t))*Derivative(\\varphi(t), t)**2 + 16*h_bc*m*sin(\\varphi(t))*cos(\\theta(t))*Derivative(\\theta(t), t)*Derivative(\\varphi(t), t) + 2*(\\omega_l*d_w*m + \\omega_r*d_w*m + 2*\\rho*b_d*h_bc*sin(\\theta(t)))*sin(\\varphi(t))*Derivative(\\varphi(t), t)))/(8*m*(I_z + h_bc**2*m*sin(\\theta(t))**2)*(I_r + 2*I_w*c_{\\theta} + 2*I_w))],\n",
       "[  (2*h_bc*m**2*(I_r + 2*I_w*c_{\\theta} + 2*I_w)*(-\\omega_l*d_w*h_bc*sin(\\theta(t))*Derivative(\\varphi(t), t) + \\omega_l*d_w*sin(\\varphi(t))*Derivative(x(t), t) - \\omega_l*d_w*cos(\\varphi(t))*Derivative(y(t), t) - \\omega_r*d_w*h_bc*sin(\\theta(t))*Derivative(\\varphi(t), t) + \\omega_r*d_w*sin(\\varphi(t))*Derivative(x(t), t) - \\omega_r*d_w*cos(\\varphi(t))*Derivative(y(t), t) + 4*h_bc**2*sin(2*\\theta(t))*Derivative(\\theta(t), t)*Derivative(\\varphi(t), t))*sin(\\theta(t))*cos(\\varphi(t)) + 2*h_bc*m*(I_z + h_bc**2*m*sin(\\theta(t))**2)*(\\omega_l*b_w*d_w**2 + \\omega_r*b_w*d_w**2 + 2*b_w*d_w**2*Derivative(\\theta(t), t) + 8*b_w*h_bc*sin(\\theta(t))*Derivative(z(t), t) - 2*h_bc**2*m*sin(2*\\theta(t))*Derivative(\\varphi(t), t)**2)*sin(\\varphi(t))*cos(\\theta(t)) - (I_z + h_bc**2*m*sin(\\theta(t))**2)*(I_r + 2*I_w*c_{\\theta} + 2*I_w)*(\\rho*b_d*d_w*(\\omega_l + \\omega_r)*sin(\\varphi(t)) + 4*sqrt(2)*\\rho*b_d*h_bc*sin(\\theta(t) + pi/4)*sin(\\varphi(t))*Derivative(\\theta(t), t) + 4*\\rho*b_d*Derivative(y(t), t) - 8*h_bc*m*sin(\\theta(t))*sin(\\varphi(t))*Derivative(\\theta(t), t)**2 - 8*h_bc*m*sin(\\theta(t))*sin(\\varphi(t))*Derivative(\\varphi(t), t)**2 + 16*h_bc*m*cos(\\theta(t))*cos(\\varphi(t))*Derivative(\\theta(t), t)*Derivative(\\varphi(t), t) + 2*(\\omega_l*d_w*m + \\omega_r*d_w*m + 2*\\rho*b_d*h_bc*sin(\\theta(t)))*cos(\\varphi(t))*Derivative(\\varphi(t), t)))/(8*m*(I_z + h_bc**2*m*sin(\\theta(t))**2)*(I_r + 2*I_w*c_{\\theta} + 2*I_w))],\n",
       "[                                                                                                                                                                                                                                                                                                                                                                                                                                                                                                                                                                                                                                                                                                                                                                                                                                                                                                                                                                                               -(h_bc*m*(\\omega_l*b_w*d_w**2 + \\omega_r*b_w*d_w**2 + 2*b_w*d_w**2*Derivative(\\theta(t), t) + 8*b_w*h_bc*sin(\\theta(t))*Derivative(z(t), t) - 2*h_bc**2*m*sin(2*\\theta(t))*Derivative(\\varphi(t), t)**2)*sin(\\theta(t)) + 2*(I_r + 2*I_w*c_{\\theta} + 2*I_w)*(sqrt(2)*\\rho*b_d*h_bc*cos(\\theta(t) + pi/4)*Derivative(\\theta(t), t) + 2*g*m - 2*h_bc*m*cos(\\theta(t))*Derivative(\\theta(t), t)**2 + (\\rho*b_d + 4*b_w)*Derivative(z(t), t)))/(4*m*(I_r + 2*I_w*c_{\\theta} + 2*I_w))],\n",
       "[                                                                                                                                                                                                                                                                                                                                                                                                                                                                                                                                                                                                                                                                                                                                                                                                                                                                                                                                                                                                                                                                                                                                                                                                                                              (-\\omega_l*b_w*d_w**2 - \\omega_r*b_w*d_w**2 - 2*b_w*d_w**2*Derivative(\\theta(t), t) - 8*b_w*h_bc*sin(\\theta(t))*Derivative(z(t), t) + 2*h_bc**2*m*sin(2*\\theta(t))*Derivative(\\varphi(t), t)**2)/(4*I_r + 8*I_w*c_{\\theta} + 8*I_w)],\n",
       "[                                                                                                                                                                                                                                                                                                                                                                                                                                                                                                                                                                                                                                                                                                                                                                                                                                                                                                                                                                                                                  m*(\\omega_l*d_w*h_bc*sin(\\theta(t))*Derivative(\\varphi(t), t) - \\omega_l*d_w*sin(\\varphi(t))*Derivative(x(t), t) + \\omega_l*d_w*cos(\\varphi(t))*Derivative(y(t), t) + \\omega_r*d_w*h_bc*sin(\\theta(t))*Derivative(\\varphi(t), t) - \\omega_r*d_w*sin(\\varphi(t))*Derivative(x(t), t) + \\omega_r*d_w*cos(\\varphi(t))*Derivative(y(t), t) - 4*h_bc**2*sin(2*\\theta(t))*Derivative(\\theta(t), t)*Derivative(\\varphi(t), t))/(4*I_z + 4*h_bc**2*m*sin(\\theta(t))**2)]])"
      ],
      "text/latex": "$\\displaystyle \\left[\\begin{matrix}\\frac{- 2 h_{bc} m^{2} \\left(I_{r} + 2 I_{w} c_{\\theta} + 2 I_{w}\\right) \\left(- \\omega_{l} d_{w} h_{bc} \\sin{\\left(\\theta{\\left(t \\right)} \\right)} \\frac{d}{d t} \\varphi{\\left(t \\right)} + \\omega_{l} d_{w} \\sin{\\left(\\varphi{\\left(t \\right)} \\right)} \\frac{d}{d t} x{\\left(t \\right)} - \\omega_{l} d_{w} \\cos{\\left(\\varphi{\\left(t \\right)} \\right)} \\frac{d}{d t} y{\\left(t \\right)} - \\omega_{r} d_{w} h_{bc} \\sin{\\left(\\theta{\\left(t \\right)} \\right)} \\frac{d}{d t} \\varphi{\\left(t \\right)} + \\omega_{r} d_{w} \\sin{\\left(\\varphi{\\left(t \\right)} \\right)} \\frac{d}{d t} x{\\left(t \\right)} - \\omega_{r} d_{w} \\cos{\\left(\\varphi{\\left(t \\right)} \\right)} \\frac{d}{d t} y{\\left(t \\right)} + 4 h_{bc}^{2} \\sin{\\left(2 \\theta{\\left(t \\right)} \\right)} \\frac{d}{d t} \\theta{\\left(t \\right)} \\frac{d}{d t} \\varphi{\\left(t \\right)}\\right) \\sin{\\left(\\theta{\\left(t \\right)} \\right)} \\sin{\\left(\\varphi{\\left(t \\right)} \\right)} + 2 h_{bc} m \\left(I_{z} + h_{bc}^{2} m \\sin^{2}{\\left(\\theta{\\left(t \\right)} \\right)}\\right) \\left(\\omega_{l} b_{w} d_{w}^{2} + \\omega_{r} b_{w} d_{w}^{2} + 2 b_{w} d_{w}^{2} \\frac{d}{d t} \\theta{\\left(t \\right)} + 8 b_{w} h_{bc} \\sin{\\left(\\theta{\\left(t \\right)} \\right)} \\frac{d}{d t} z{\\left(t \\right)} - 2 h_{bc}^{2} m \\sin{\\left(2 \\theta{\\left(t \\right)} \\right)} \\left(\\frac{d}{d t} \\varphi{\\left(t \\right)}\\right)^{2}\\right) \\cos{\\left(\\theta{\\left(t \\right)} \\right)} \\cos{\\left(\\varphi{\\left(t \\right)} \\right)} + \\left(I_{z} + h_{bc}^{2} m \\sin^{2}{\\left(\\theta{\\left(t \\right)} \\right)}\\right) \\left(I_{r} + 2 I_{w} c_{\\theta} + 2 I_{w}\\right) \\left(- \\rho b_{d} d_{w} \\left(\\omega_{l} + \\omega_{r}\\right) \\cos{\\left(\\varphi{\\left(t \\right)} \\right)} - 4 \\sqrt{2} \\rho b_{d} h_{bc} \\sin{\\left(\\theta{\\left(t \\right)} + \\frac{\\pi}{4} \\right)} \\cos{\\left(\\varphi{\\left(t \\right)} \\right)} \\frac{d}{d t} \\theta{\\left(t \\right)} - 4 \\rho b_{d} \\frac{d}{d t} x{\\left(t \\right)} + 8 h_{bc} m \\sin{\\left(\\theta{\\left(t \\right)} \\right)} \\cos{\\left(\\varphi{\\left(t \\right)} \\right)} \\left(\\frac{d}{d t} \\theta{\\left(t \\right)}\\right)^{2} + 8 h_{bc} m \\sin{\\left(\\theta{\\left(t \\right)} \\right)} \\cos{\\left(\\varphi{\\left(t \\right)} \\right)} \\left(\\frac{d}{d t} \\varphi{\\left(t \\right)}\\right)^{2} + 16 h_{bc} m \\sin{\\left(\\varphi{\\left(t \\right)} \\right)} \\cos{\\left(\\theta{\\left(t \\right)} \\right)} \\frac{d}{d t} \\theta{\\left(t \\right)} \\frac{d}{d t} \\varphi{\\left(t \\right)} + 2 \\left(\\omega_{l} d_{w} m + \\omega_{r} d_{w} m + 2 \\rho b_{d} h_{bc} \\sin{\\left(\\theta{\\left(t \\right)} \\right)}\\right) \\sin{\\left(\\varphi{\\left(t \\right)} \\right)} \\frac{d}{d t} \\varphi{\\left(t \\right)}\\right)}{8 m \\left(I_{z} + h_{bc}^{2} m \\sin^{2}{\\left(\\theta{\\left(t \\right)} \\right)}\\right) \\left(I_{r} + 2 I_{w} c_{\\theta} + 2 I_{w}\\right)}\\\\\\frac{2 h_{bc} m^{2} \\left(I_{r} + 2 I_{w} c_{\\theta} + 2 I_{w}\\right) \\left(- \\omega_{l} d_{w} h_{bc} \\sin{\\left(\\theta{\\left(t \\right)} \\right)} \\frac{d}{d t} \\varphi{\\left(t \\right)} + \\omega_{l} d_{w} \\sin{\\left(\\varphi{\\left(t \\right)} \\right)} \\frac{d}{d t} x{\\left(t \\right)} - \\omega_{l} d_{w} \\cos{\\left(\\varphi{\\left(t \\right)} \\right)} \\frac{d}{d t} y{\\left(t \\right)} - \\omega_{r} d_{w} h_{bc} \\sin{\\left(\\theta{\\left(t \\right)} \\right)} \\frac{d}{d t} \\varphi{\\left(t \\right)} + \\omega_{r} d_{w} \\sin{\\left(\\varphi{\\left(t \\right)} \\right)} \\frac{d}{d t} x{\\left(t \\right)} - \\omega_{r} d_{w} \\cos{\\left(\\varphi{\\left(t \\right)} \\right)} \\frac{d}{d t} y{\\left(t \\right)} + 4 h_{bc}^{2} \\sin{\\left(2 \\theta{\\left(t \\right)} \\right)} \\frac{d}{d t} \\theta{\\left(t \\right)} \\frac{d}{d t} \\varphi{\\left(t \\right)}\\right) \\sin{\\left(\\theta{\\left(t \\right)} \\right)} \\cos{\\left(\\varphi{\\left(t \\right)} \\right)} + 2 h_{bc} m \\left(I_{z} + h_{bc}^{2} m \\sin^{2}{\\left(\\theta{\\left(t \\right)} \\right)}\\right) \\left(\\omega_{l} b_{w} d_{w}^{2} + \\omega_{r} b_{w} d_{w}^{2} + 2 b_{w} d_{w}^{2} \\frac{d}{d t} \\theta{\\left(t \\right)} + 8 b_{w} h_{bc} \\sin{\\left(\\theta{\\left(t \\right)} \\right)} \\frac{d}{d t} z{\\left(t \\right)} - 2 h_{bc}^{2} m \\sin{\\left(2 \\theta{\\left(t \\right)} \\right)} \\left(\\frac{d}{d t} \\varphi{\\left(t \\right)}\\right)^{2}\\right) \\sin{\\left(\\varphi{\\left(t \\right)} \\right)} \\cos{\\left(\\theta{\\left(t \\right)} \\right)} - \\left(I_{z} + h_{bc}^{2} m \\sin^{2}{\\left(\\theta{\\left(t \\right)} \\right)}\\right) \\left(I_{r} + 2 I_{w} c_{\\theta} + 2 I_{w}\\right) \\left(\\rho b_{d} d_{w} \\left(\\omega_{l} + \\omega_{r}\\right) \\sin{\\left(\\varphi{\\left(t \\right)} \\right)} + 4 \\sqrt{2} \\rho b_{d} h_{bc} \\sin{\\left(\\theta{\\left(t \\right)} + \\frac{\\pi}{4} \\right)} \\sin{\\left(\\varphi{\\left(t \\right)} \\right)} \\frac{d}{d t} \\theta{\\left(t \\right)} + 4 \\rho b_{d} \\frac{d}{d t} y{\\left(t \\right)} - 8 h_{bc} m \\sin{\\left(\\theta{\\left(t \\right)} \\right)} \\sin{\\left(\\varphi{\\left(t \\right)} \\right)} \\left(\\frac{d}{d t} \\theta{\\left(t \\right)}\\right)^{2} - 8 h_{bc} m \\sin{\\left(\\theta{\\left(t \\right)} \\right)} \\sin{\\left(\\varphi{\\left(t \\right)} \\right)} \\left(\\frac{d}{d t} \\varphi{\\left(t \\right)}\\right)^{2} + 16 h_{bc} m \\cos{\\left(\\theta{\\left(t \\right)} \\right)} \\cos{\\left(\\varphi{\\left(t \\right)} \\right)} \\frac{d}{d t} \\theta{\\left(t \\right)} \\frac{d}{d t} \\varphi{\\left(t \\right)} + 2 \\left(\\omega_{l} d_{w} m + \\omega_{r} d_{w} m + 2 \\rho b_{d} h_{bc} \\sin{\\left(\\theta{\\left(t \\right)} \\right)}\\right) \\cos{\\left(\\varphi{\\left(t \\right)} \\right)} \\frac{d}{d t} \\varphi{\\left(t \\right)}\\right)}{8 m \\left(I_{z} + h_{bc}^{2} m \\sin^{2}{\\left(\\theta{\\left(t \\right)} \\right)}\\right) \\left(I_{r} + 2 I_{w} c_{\\theta} + 2 I_{w}\\right)}\\\\- \\frac{h_{bc} m \\left(\\omega_{l} b_{w} d_{w}^{2} + \\omega_{r} b_{w} d_{w}^{2} + 2 b_{w} d_{w}^{2} \\frac{d}{d t} \\theta{\\left(t \\right)} + 8 b_{w} h_{bc} \\sin{\\left(\\theta{\\left(t \\right)} \\right)} \\frac{d}{d t} z{\\left(t \\right)} - 2 h_{bc}^{2} m \\sin{\\left(2 \\theta{\\left(t \\right)} \\right)} \\left(\\frac{d}{d t} \\varphi{\\left(t \\right)}\\right)^{2}\\right) \\sin{\\left(\\theta{\\left(t \\right)} \\right)} + 2 \\left(I_{r} + 2 I_{w} c_{\\theta} + 2 I_{w}\\right) \\left(\\sqrt{2} \\rho b_{d} h_{bc} \\cos{\\left(\\theta{\\left(t \\right)} + \\frac{\\pi}{4} \\right)} \\frac{d}{d t} \\theta{\\left(t \\right)} + 2 g m - 2 h_{bc} m \\cos{\\left(\\theta{\\left(t \\right)} \\right)} \\left(\\frac{d}{d t} \\theta{\\left(t \\right)}\\right)^{2} + \\left(\\rho b_{d} + 4 b_{w}\\right) \\frac{d}{d t} z{\\left(t \\right)}\\right)}{4 m \\left(I_{r} + 2 I_{w} c_{\\theta} + 2 I_{w}\\right)}\\\\\\frac{- \\omega_{l} b_{w} d_{w}^{2} - \\omega_{r} b_{w} d_{w}^{2} - 2 b_{w} d_{w}^{2} \\frac{d}{d t} \\theta{\\left(t \\right)} - 8 b_{w} h_{bc} \\sin{\\left(\\theta{\\left(t \\right)} \\right)} \\frac{d}{d t} z{\\left(t \\right)} + 2 h_{bc}^{2} m \\sin{\\left(2 \\theta{\\left(t \\right)} \\right)} \\left(\\frac{d}{d t} \\varphi{\\left(t \\right)}\\right)^{2}}{4 I_{r} + 8 I_{w} c_{\\theta} + 8 I_{w}}\\\\\\frac{m \\left(\\omega_{l} d_{w} h_{bc} \\sin{\\left(\\theta{\\left(t \\right)} \\right)} \\frac{d}{d t} \\varphi{\\left(t \\right)} - \\omega_{l} d_{w} \\sin{\\left(\\varphi{\\left(t \\right)} \\right)} \\frac{d}{d t} x{\\left(t \\right)} + \\omega_{l} d_{w} \\cos{\\left(\\varphi{\\left(t \\right)} \\right)} \\frac{d}{d t} y{\\left(t \\right)} + \\omega_{r} d_{w} h_{bc} \\sin{\\left(\\theta{\\left(t \\right)} \\right)} \\frac{d}{d t} \\varphi{\\left(t \\right)} - \\omega_{r} d_{w} \\sin{\\left(\\varphi{\\left(t \\right)} \\right)} \\frac{d}{d t} x{\\left(t \\right)} + \\omega_{r} d_{w} \\cos{\\left(\\varphi{\\left(t \\right)} \\right)} \\frac{d}{d t} y{\\left(t \\right)} - 4 h_{bc}^{2} \\sin{\\left(2 \\theta{\\left(t \\right)} \\right)} \\frac{d}{d t} \\theta{\\left(t \\right)} \\frac{d}{d t} \\varphi{\\left(t \\right)}\\right)}{4 I_{z} + 4 h_{bc}^{2} m \\sin^{2}{\\left(\\theta{\\left(t \\right)} \\right)}}\\end{matrix}\\right]$"
     },
     "execution_count": 38,
     "metadata": {},
     "output_type": "execute_result"
    }
   ],
   "execution_count": 38
  },
  {
   "metadata": {
    "ExecuteTime": {
     "end_time": "2025-07-30T18:53:41.297025Z",
     "start_time": "2025-07-30T18:53:40.333008Z"
    }
   },
   "cell_type": "code",
   "source": [
    "J = sp.Matrix([\n",
    "    cs_q.xd, U[0],\n",
    "    cs_q.yd, U[1],\n",
    "    cs_q.zd, U[2],\n",
    "    cs_q.td, U[3],\n",
    "    cs_q.pd, U[4],\n",
    "]).jacobian(args[1:])\n",
    "\n",
    "# Output\n",
    "# J = sp.simplify(J)\n",
    "J"
   ],
   "outputs": [
    {
     "data": {
      "text/plain": [
       "Matrix([\n",
       "[0,                                                                                                                                                                                                                                                                                                         1, 0,                                                                                                                                                                                                                                                                                                          0, 0,                                                                                                                                   0,                                                                                                                                                                                                                                                                                                                                                                                                                                                                                                                                                                                                                                                                                                                                                                                                                                                                                                                                                                                                                                                                                                                                                                                                                                                                                                                                                                                                                                                                                                                                                                                                                                                                                                                                                                                                                                                                                                                                                                                                                                                                                                                                                                                                                                                                                                                                                                                                                                                                                                                                                                                                                                                                                                                                                                                                                                                                                                                                                                                                                                                                                                                                                                                                                                                                                                                                                                                                                                                                                                                                                                                                                                                                                                                                                                                                                                                                                                                                                                                                                                                                                                                                                                                                                                                             0,                                                                                                                                                                                                                                                                                                                                                                                                                                                                                                                                                                                0,                                                                                                                                                                                                                                                                                                                                                                                                                                                                                                                                                                                                                                                                                                                                                                                                                                                                                                                                                                                                                                                                                                                                                                                                                                                                                                                                                                                                                                                                                                                                                                                                                                                                                                                                         0,                                                                                                                                                                                                                                                                                                                                                                                                                                                                                                                                                                                                                                                                                                                             0,                                                                                                                                                                                                                                                                                                                                                                                                                                                                                                                                                     0,                                                                                                                                                                                                                                                                                                                                                                                                                                                                                                                                                     0],\n",
       "[0, (-4*\\rho*b_d*(I_z + h_bc**2*m*sin(\\theta(t))**2)*(I_r + 2*I_w*c_{\\theta} + 2*I_w) - 2*h_bc*m**2*(\\omega_l*d_w*sin(\\varphi(t)) + \\omega_r*d_w*sin(\\varphi(t)))*(I_r + 2*I_w*c_{\\theta} + 2*I_w)*sin(\\theta(t))*sin(\\varphi(t)))/(8*m*(I_z + h_bc**2*m*sin(\\theta(t))**2)*(I_r + 2*I_w*c_{\\theta} + 2*I_w)), 0,                                                                                                                                                              -h_bc*m*(-\\omega_l*d_w*cos(\\varphi(t)) - \\omega_r*d_w*cos(\\varphi(t)))*sin(\\theta(t))*sin(\\varphi(t))/(4*(I_z + h_bc**2*m*sin(\\theta(t))**2)), 0,                                        2*b_w*h_bc**2*sin(\\theta(t))*cos(\\theta(t))*cos(\\varphi(t))/(I_r + 2*I_w*c_{\\theta} + 2*I_w), -h_bc**2*(-2*h_bc*m**2*(I_r + 2*I_w*c_{\\theta} + 2*I_w)*(-\\omega_l*d_w*h_bc*sin(\\theta(t))*Derivative(\\varphi(t), t) + \\omega_l*d_w*sin(\\varphi(t))*Derivative(x(t), t) - \\omega_l*d_w*cos(\\varphi(t))*Derivative(y(t), t) - \\omega_r*d_w*h_bc*sin(\\theta(t))*Derivative(\\varphi(t), t) + \\omega_r*d_w*sin(\\varphi(t))*Derivative(x(t), t) - \\omega_r*d_w*cos(\\varphi(t))*Derivative(y(t), t) + 4*h_bc**2*sin(2*\\theta(t))*Derivative(\\theta(t), t)*Derivative(\\varphi(t), t))*sin(\\theta(t))*sin(\\varphi(t)) + 2*h_bc*m*(I_z + h_bc**2*m*sin(\\theta(t))**2)*(\\omega_l*b_w*d_w**2 + \\omega_r*b_w*d_w**2 + 2*b_w*d_w**2*Derivative(\\theta(t), t) + 8*b_w*h_bc*sin(\\theta(t))*Derivative(z(t), t) - 2*h_bc**2*m*sin(2*\\theta(t))*Derivative(\\varphi(t), t)**2)*cos(\\theta(t))*cos(\\varphi(t)) + (I_z + h_bc**2*m*sin(\\theta(t))**2)*(I_r + 2*I_w*c_{\\theta} + 2*I_w)*(-\\rho*b_d*d_w*(\\omega_l + \\omega_r)*cos(\\varphi(t)) - 4*sqrt(2)*\\rho*b_d*h_bc*sin(\\theta(t) + pi/4)*cos(\\varphi(t))*Derivative(\\theta(t), t) - 4*\\rho*b_d*Derivative(x(t), t) + 8*h_bc*m*sin(\\theta(t))*cos(\\varphi(t))*Derivative(\\theta(t), t)**2 + 8*h_bc*m*sin(\\theta(t))*cos(\\varphi(t))*Derivative(\\varphi(t), t)**2 + 16*h_bc*m*sin(\\varphi(t))*cos(\\theta(t))*Derivative(\\theta(t), t)*Derivative(\\varphi(t), t) + 2*(\\omega_l*d_w*m + \\omega_r*d_w*m + 2*\\rho*b_d*h_bc*sin(\\theta(t)))*sin(\\varphi(t))*Derivative(\\varphi(t), t)))*sin(\\theta(t))*cos(\\theta(t))/(4*(I_z + h_bc**2*m*sin(\\theta(t))**2)**2*(I_r + 2*I_w*c_{\\theta} + 2*I_w)) + (4*h_bc**3*m**2*(\\omega_l*b_w*d_w**2 + \\omega_r*b_w*d_w**2 + 2*b_w*d_w**2*Derivative(\\theta(t), t) + 8*b_w*h_bc*sin(\\theta(t))*Derivative(z(t), t) - 2*h_bc**2*m*sin(2*\\theta(t))*Derivative(\\varphi(t), t)**2)*sin(\\theta(t))*cos(\\theta(t))**2*cos(\\varphi(t)) + 2*h_bc**2*m*(I_r + 2*I_w*c_{\\theta} + 2*I_w)*(-\\rho*b_d*d_w*(\\omega_l + \\omega_r)*cos(\\varphi(t)) - 4*sqrt(2)*\\rho*b_d*h_bc*sin(\\theta(t) + pi/4)*cos(\\varphi(t))*Derivative(\\theta(t), t) - 4*\\rho*b_d*Derivative(x(t), t) + 8*h_bc*m*sin(\\theta(t))*cos(\\varphi(t))*Derivative(\\theta(t), t)**2 + 8*h_bc*m*sin(\\theta(t))*cos(\\varphi(t))*Derivative(\\varphi(t), t)**2 + 16*h_bc*m*sin(\\varphi(t))*cos(\\theta(t))*Derivative(\\theta(t), t)*Derivative(\\varphi(t), t) + 2*(\\omega_l*d_w*m + \\omega_r*d_w*m + 2*\\rho*b_d*h_bc*sin(\\theta(t)))*sin(\\varphi(t))*Derivative(\\varphi(t), t))*sin(\\theta(t))*cos(\\theta(t)) - 2*h_bc*m**2*(I_r + 2*I_w*c_{\\theta} + 2*I_w)*(-\\omega_l*d_w*h_bc*cos(\\theta(t))*Derivative(\\varphi(t), t) - \\omega_r*d_w*h_bc*cos(\\theta(t))*Derivative(\\varphi(t), t) + 8*h_bc**2*cos(2*\\theta(t))*Derivative(\\theta(t), t)*Derivative(\\varphi(t), t))*sin(\\theta(t))*sin(\\varphi(t)) - 2*h_bc*m**2*(I_r + 2*I_w*c_{\\theta} + 2*I_w)*(-\\omega_l*d_w*h_bc*sin(\\theta(t))*Derivative(\\varphi(t), t) + \\omega_l*d_w*sin(\\varphi(t))*Derivative(x(t), t) - \\omega_l*d_w*cos(\\varphi(t))*Derivative(y(t), t) - \\omega_r*d_w*h_bc*sin(\\theta(t))*Derivative(\\varphi(t), t) + \\omega_r*d_w*sin(\\varphi(t))*Derivative(x(t), t) - \\omega_r*d_w*cos(\\varphi(t))*Derivative(y(t), t) + 4*h_bc**2*sin(2*\\theta(t))*Derivative(\\theta(t), t)*Derivative(\\varphi(t), t))*sin(\\varphi(t))*cos(\\theta(t)) + 2*h_bc*m*(I_z + h_bc**2*m*sin(\\theta(t))**2)*(8*b_w*h_bc*cos(\\theta(t))*Derivative(z(t), t) - 4*h_bc**2*m*cos(2*\\theta(t))*Derivative(\\varphi(t), t)**2)*cos(\\theta(t))*cos(\\varphi(t)) - 2*h_bc*m*(I_z + h_bc**2*m*sin(\\theta(t))**2)*(\\omega_l*b_w*d_w**2 + \\omega_r*b_w*d_w**2 + 2*b_w*d_w**2*Derivative(\\theta(t), t) + 8*b_w*h_bc*sin(\\theta(t))*Derivative(z(t), t) - 2*h_bc**2*m*sin(2*\\theta(t))*Derivative(\\varphi(t), t)**2)*sin(\\theta(t))*cos(\\varphi(t)) + (I_z + h_bc**2*m*sin(\\theta(t))**2)*(I_r + 2*I_w*c_{\\theta} + 2*I_w)*(4*\\rho*b_d*h_bc*sin(\\varphi(t))*cos(\\theta(t))*Derivative(\\varphi(t), t) - 4*sqrt(2)*\\rho*b_d*h_bc*cos(\\theta(t) + pi/4)*cos(\\varphi(t))*Derivative(\\theta(t), t) - 16*h_bc*m*sin(\\theta(t))*sin(\\varphi(t))*Derivative(\\theta(t), t)*Derivative(\\varphi(t), t) + 8*h_bc*m*cos(\\theta(t))*cos(\\varphi(t))*Derivative(\\theta(t), t)**2 + 8*h_bc*m*cos(\\theta(t))*cos(\\varphi(t))*Derivative(\\varphi(t), t)**2))/(8*m*(I_z + h_bc**2*m*sin(\\theta(t))**2)*(I_r + 2*I_w*c_{\\theta} + 2*I_w)), (4*b_w*d_w**2*h_bc*m*(I_z + h_bc**2*m*sin(\\theta(t))**2)*cos(\\theta(t))*cos(\\varphi(t)) - 8*h_bc**3*m**2*(I_r + 2*I_w*c_{\\theta} + 2*I_w)*sin(\\theta(t))*sin(2*\\theta(t))*sin(\\varphi(t))*Derivative(\\varphi(t), t) + (I_z + h_bc**2*m*sin(\\theta(t))**2)*(I_r + 2*I_w*c_{\\theta} + 2*I_w)*(-4*sqrt(2)*\\rho*b_d*h_bc*sin(\\theta(t) + pi/4)*cos(\\varphi(t)) + 16*h_bc*m*sin(\\theta(t))*cos(\\varphi(t))*Derivative(\\theta(t), t) + 16*h_bc*m*sin(\\varphi(t))*cos(\\theta(t))*Derivative(\\varphi(t), t)))/(8*m*(I_z + h_bc**2*m*sin(\\theta(t))**2)*(I_r + 2*I_w*c_{\\theta} + 2*I_w)), (-2*h_bc*m**2*(I_r + 2*I_w*c_{\\theta} + 2*I_w)*(\\omega_l*d_w*sin(\\varphi(t))*Derivative(y(t), t) + \\omega_l*d_w*cos(\\varphi(t))*Derivative(x(t), t) + \\omega_r*d_w*sin(\\varphi(t))*Derivative(y(t), t) + \\omega_r*d_w*cos(\\varphi(t))*Derivative(x(t), t))*sin(\\theta(t))*sin(\\varphi(t)) - 2*h_bc*m**2*(I_r + 2*I_w*c_{\\theta} + 2*I_w)*(-\\omega_l*d_w*h_bc*sin(\\theta(t))*Derivative(\\varphi(t), t) + \\omega_l*d_w*sin(\\varphi(t))*Derivative(x(t), t) - \\omega_l*d_w*cos(\\varphi(t))*Derivative(y(t), t) - \\omega_r*d_w*h_bc*sin(\\theta(t))*Derivative(\\varphi(t), t) + \\omega_r*d_w*sin(\\varphi(t))*Derivative(x(t), t) - \\omega_r*d_w*cos(\\varphi(t))*Derivative(y(t), t) + 4*h_bc**2*sin(2*\\theta(t))*Derivative(\\theta(t), t)*Derivative(\\varphi(t), t))*sin(\\theta(t))*cos(\\varphi(t)) - 2*h_bc*m*(I_z + h_bc**2*m*sin(\\theta(t))**2)*(\\omega_l*b_w*d_w**2 + \\omega_r*b_w*d_w**2 + 2*b_w*d_w**2*Derivative(\\theta(t), t) + 8*b_w*h_bc*sin(\\theta(t))*Derivative(z(t), t) - 2*h_bc**2*m*sin(2*\\theta(t))*Derivative(\\varphi(t), t)**2)*sin(\\varphi(t))*cos(\\theta(t)) + (I_z + h_bc**2*m*sin(\\theta(t))**2)*(I_r + 2*I_w*c_{\\theta} + 2*I_w)*(\\rho*b_d*d_w*(\\omega_l + \\omega_r)*sin(\\varphi(t)) + 4*sqrt(2)*\\rho*b_d*h_bc*sin(\\theta(t) + pi/4)*sin(\\varphi(t))*Derivative(\\theta(t), t) - 8*h_bc*m*sin(\\theta(t))*sin(\\varphi(t))*Derivative(\\theta(t), t)**2 - 8*h_bc*m*sin(\\theta(t))*sin(\\varphi(t))*Derivative(\\varphi(t), t)**2 + 16*h_bc*m*cos(\\theta(t))*cos(\\varphi(t))*Derivative(\\theta(t), t)*Derivative(\\varphi(t), t) + 2*(\\omega_l*d_w*m + \\omega_r*d_w*m + 2*\\rho*b_d*h_bc*sin(\\theta(t)))*cos(\\varphi(t))*Derivative(\\varphi(t), t)))/(8*m*(I_z + h_bc**2*m*sin(\\theta(t))**2)*(I_r + 2*I_w*c_{\\theta} + 2*I_w)),  (-8*h_bc**3*m**2*(I_z + h_bc**2*m*sin(\\theta(t))**2)*sin(2*\\theta(t))*cos(\\theta(t))*cos(\\varphi(t))*Derivative(\\varphi(t), t) - 2*h_bc*m**2*(I_r + 2*I_w*c_{\\theta} + 2*I_w)*(-\\omega_l*d_w*h_bc*sin(\\theta(t)) - \\omega_r*d_w*h_bc*sin(\\theta(t)) + 4*h_bc**2*sin(2*\\theta(t))*Derivative(\\theta(t), t))*sin(\\theta(t))*sin(\\varphi(t)) + (I_z + h_bc**2*m*sin(\\theta(t))**2)*(I_r + 2*I_w*c_{\\theta} + 2*I_w)*(16*h_bc*m*sin(\\theta(t))*cos(\\varphi(t))*Derivative(\\varphi(t), t) + 16*h_bc*m*sin(\\varphi(t))*cos(\\theta(t))*Derivative(\\theta(t), t) + 2*(\\omega_l*d_w*m + \\omega_r*d_w*m + 2*\\rho*b_d*h_bc*sin(\\theta(t)))*sin(\\varphi(t))))/(8*m*(I_z + h_bc**2*m*sin(\\theta(t))**2)*(I_r + 2*I_w*c_{\\theta} + 2*I_w)), (2*b_w*d_w**2*h_bc*m*(I_z + h_bc**2*m*sin(\\theta(t))**2)*cos(\\theta(t))*cos(\\varphi(t)) - 2*h_bc*m**2*(I_r + 2*I_w*c_{\\theta} + 2*I_w)*(-d_w*h_bc*sin(\\theta(t))*Derivative(\\varphi(t), t) + d_w*sin(\\varphi(t))*Derivative(x(t), t) - d_w*cos(\\varphi(t))*Derivative(y(t), t))*sin(\\theta(t))*sin(\\varphi(t)) + (I_z + h_bc**2*m*sin(\\theta(t))**2)*(-\\rho*b_d*d_w*cos(\\varphi(t)) + 2*d_w*m*sin(\\varphi(t))*Derivative(\\varphi(t), t))*(I_r + 2*I_w*c_{\\theta} + 2*I_w))/(8*m*(I_z + h_bc**2*m*sin(\\theta(t))**2)*(I_r + 2*I_w*c_{\\theta} + 2*I_w)), (2*b_w*d_w**2*h_bc*m*(I_z + h_bc**2*m*sin(\\theta(t))**2)*cos(\\theta(t))*cos(\\varphi(t)) - 2*h_bc*m**2*(I_r + 2*I_w*c_{\\theta} + 2*I_w)*(-d_w*h_bc*sin(\\theta(t))*Derivative(\\varphi(t), t) + d_w*sin(\\varphi(t))*Derivative(x(t), t) - d_w*cos(\\varphi(t))*Derivative(y(t), t))*sin(\\theta(t))*sin(\\varphi(t)) + (I_z + h_bc**2*m*sin(\\theta(t))**2)*(-\\rho*b_d*d_w*cos(\\varphi(t)) + 2*d_w*m*sin(\\varphi(t))*Derivative(\\varphi(t), t))*(I_r + 2*I_w*c_{\\theta} + 2*I_w))/(8*m*(I_z + h_bc**2*m*sin(\\theta(t))**2)*(I_r + 2*I_w*c_{\\theta} + 2*I_w))],\n",
       "[0,                                                                                                                                                                                                                                                                                                         0, 0,                                                                                                                                                                                                                                                                                                          1, 0,                                                                                                                                   0,                                                                                                                                                                                                                                                                                                                                                                                                                                                                                                                                                                                                                                                                                                                                                                                                                                                                                                                                                                                                                                                                                                                                                                                                                                                                                                                                                                                                                                                                                                                                                                                                                                                                                                                                                                                                                                                                                                                                                                                                                                                                                                                                                                                                                                                                                                                                                                                                                                                                                                                                                                                                                                                                                                                                                                                                                                                                                                                                                                                                                                                                                                                                                                                                                                                                                                                                                                                                                                                                                                                                                                                                                                                                                                                                                                                                                                                                                                                                                                                                                                                                                                                                                                                                                                                             0,                                                                                                                                                                                                                                                                                                                                                                                                                                                                                                                                                                                0,                                                                                                                                                                                                                                                                                                                                                                                                                                                                                                                                                                                                                                                                                                                                                                                                                                                                                                                                                                                                                                                                                                                                                                                                                                                                                                                                                                                                                                                                                                                                                                                                                                                                                                                                         0,                                                                                                                                                                                                                                                                                                                                                                                                                                                                                                                                                                                                                                                                                                                             0,                                                                                                                                                                                                                                                                                                                                                                                                                                                                                                                                                     0,                                                                                                                                                                                                                                                                                                                                                                                                                                                                                                                                                     0],\n",
       "[0,                                                                                                                                                               h_bc*m*(\\omega_l*d_w*sin(\\varphi(t)) + \\omega_r*d_w*sin(\\varphi(t)))*sin(\\theta(t))*cos(\\varphi(t))/(4*(I_z + h_bc**2*m*sin(\\theta(t))**2)), 0, (-4*\\rho*b_d*(I_z + h_bc**2*m*sin(\\theta(t))**2)*(I_r + 2*I_w*c_{\\theta} + 2*I_w) + 2*h_bc*m**2*(-\\omega_l*d_w*cos(\\varphi(t)) - \\omega_r*d_w*cos(\\varphi(t)))*(I_r + 2*I_w*c_{\\theta} + 2*I_w)*sin(\\theta(t))*cos(\\varphi(t)))/(8*m*(I_z + h_bc**2*m*sin(\\theta(t))**2)*(I_r + 2*I_w*c_{\\theta} + 2*I_w)), 0,                                        2*b_w*h_bc**2*sin(\\theta(t))*sin(\\varphi(t))*cos(\\theta(t))/(I_r + 2*I_w*c_{\\theta} + 2*I_w),    -h_bc**2*(2*h_bc*m**2*(I_r + 2*I_w*c_{\\theta} + 2*I_w)*(-\\omega_l*d_w*h_bc*sin(\\theta(t))*Derivative(\\varphi(t), t) + \\omega_l*d_w*sin(\\varphi(t))*Derivative(x(t), t) - \\omega_l*d_w*cos(\\varphi(t))*Derivative(y(t), t) - \\omega_r*d_w*h_bc*sin(\\theta(t))*Derivative(\\varphi(t), t) + \\omega_r*d_w*sin(\\varphi(t))*Derivative(x(t), t) - \\omega_r*d_w*cos(\\varphi(t))*Derivative(y(t), t) + 4*h_bc**2*sin(2*\\theta(t))*Derivative(\\theta(t), t)*Derivative(\\varphi(t), t))*sin(\\theta(t))*cos(\\varphi(t)) + 2*h_bc*m*(I_z + h_bc**2*m*sin(\\theta(t))**2)*(\\omega_l*b_w*d_w**2 + \\omega_r*b_w*d_w**2 + 2*b_w*d_w**2*Derivative(\\theta(t), t) + 8*b_w*h_bc*sin(\\theta(t))*Derivative(z(t), t) - 2*h_bc**2*m*sin(2*\\theta(t))*Derivative(\\varphi(t), t)**2)*sin(\\varphi(t))*cos(\\theta(t)) - (I_z + h_bc**2*m*sin(\\theta(t))**2)*(I_r + 2*I_w*c_{\\theta} + 2*I_w)*(\\rho*b_d*d_w*(\\omega_l + \\omega_r)*sin(\\varphi(t)) + 4*sqrt(2)*\\rho*b_d*h_bc*sin(\\theta(t) + pi/4)*sin(\\varphi(t))*Derivative(\\theta(t), t) + 4*\\rho*b_d*Derivative(y(t), t) - 8*h_bc*m*sin(\\theta(t))*sin(\\varphi(t))*Derivative(\\theta(t), t)**2 - 8*h_bc*m*sin(\\theta(t))*sin(\\varphi(t))*Derivative(\\varphi(t), t)**2 + 16*h_bc*m*cos(\\theta(t))*cos(\\varphi(t))*Derivative(\\theta(t), t)*Derivative(\\varphi(t), t) + 2*(\\omega_l*d_w*m + \\omega_r*d_w*m + 2*\\rho*b_d*h_bc*sin(\\theta(t)))*cos(\\varphi(t))*Derivative(\\varphi(t), t)))*sin(\\theta(t))*cos(\\theta(t))/(4*(I_z + h_bc**2*m*sin(\\theta(t))**2)**2*(I_r + 2*I_w*c_{\\theta} + 2*I_w)) + (4*h_bc**3*m**2*(\\omega_l*b_w*d_w**2 + \\omega_r*b_w*d_w**2 + 2*b_w*d_w**2*Derivative(\\theta(t), t) + 8*b_w*h_bc*sin(\\theta(t))*Derivative(z(t), t) - 2*h_bc**2*m*sin(2*\\theta(t))*Derivative(\\varphi(t), t)**2)*sin(\\theta(t))*sin(\\varphi(t))*cos(\\theta(t))**2 - 2*h_bc**2*m*(I_r + 2*I_w*c_{\\theta} + 2*I_w)*(\\rho*b_d*d_w*(\\omega_l + \\omega_r)*sin(\\varphi(t)) + 4*sqrt(2)*\\rho*b_d*h_bc*sin(\\theta(t) + pi/4)*sin(\\varphi(t))*Derivative(\\theta(t), t) + 4*\\rho*b_d*Derivative(y(t), t) - 8*h_bc*m*sin(\\theta(t))*sin(\\varphi(t))*Derivative(\\theta(t), t)**2 - 8*h_bc*m*sin(\\theta(t))*sin(\\varphi(t))*Derivative(\\varphi(t), t)**2 + 16*h_bc*m*cos(\\theta(t))*cos(\\varphi(t))*Derivative(\\theta(t), t)*Derivative(\\varphi(t), t) + 2*(\\omega_l*d_w*m + \\omega_r*d_w*m + 2*\\rho*b_d*h_bc*sin(\\theta(t)))*cos(\\varphi(t))*Derivative(\\varphi(t), t))*sin(\\theta(t))*cos(\\theta(t)) + 2*h_bc*m**2*(I_r + 2*I_w*c_{\\theta} + 2*I_w)*(-\\omega_l*d_w*h_bc*cos(\\theta(t))*Derivative(\\varphi(t), t) - \\omega_r*d_w*h_bc*cos(\\theta(t))*Derivative(\\varphi(t), t) + 8*h_bc**2*cos(2*\\theta(t))*Derivative(\\theta(t), t)*Derivative(\\varphi(t), t))*sin(\\theta(t))*cos(\\varphi(t)) + 2*h_bc*m**2*(I_r + 2*I_w*c_{\\theta} + 2*I_w)*(-\\omega_l*d_w*h_bc*sin(\\theta(t))*Derivative(\\varphi(t), t) + \\omega_l*d_w*sin(\\varphi(t))*Derivative(x(t), t) - \\omega_l*d_w*cos(\\varphi(t))*Derivative(y(t), t) - \\omega_r*d_w*h_bc*sin(\\theta(t))*Derivative(\\varphi(t), t) + \\omega_r*d_w*sin(\\varphi(t))*Derivative(x(t), t) - \\omega_r*d_w*cos(\\varphi(t))*Derivative(y(t), t) + 4*h_bc**2*sin(2*\\theta(t))*Derivative(\\theta(t), t)*Derivative(\\varphi(t), t))*cos(\\theta(t))*cos(\\varphi(t)) + 2*h_bc*m*(I_z + h_bc**2*m*sin(\\theta(t))**2)*(8*b_w*h_bc*cos(\\theta(t))*Derivative(z(t), t) - 4*h_bc**2*m*cos(2*\\theta(t))*Derivative(\\varphi(t), t)**2)*sin(\\varphi(t))*cos(\\theta(t)) - 2*h_bc*m*(I_z + h_bc**2*m*sin(\\theta(t))**2)*(\\omega_l*b_w*d_w**2 + \\omega_r*b_w*d_w**2 + 2*b_w*d_w**2*Derivative(\\theta(t), t) + 8*b_w*h_bc*sin(\\theta(t))*Derivative(z(t), t) - 2*h_bc**2*m*sin(2*\\theta(t))*Derivative(\\varphi(t), t)**2)*sin(\\theta(t))*sin(\\varphi(t)) - (I_z + h_bc**2*m*sin(\\theta(t))**2)*(I_r + 2*I_w*c_{\\theta} + 2*I_w)*(4*sqrt(2)*\\rho*b_d*h_bc*sin(\\varphi(t))*cos(\\theta(t) + pi/4)*Derivative(\\theta(t), t) + 4*\\rho*b_d*h_bc*cos(\\theta(t))*cos(\\varphi(t))*Derivative(\\varphi(t), t) - 16*h_bc*m*sin(\\theta(t))*cos(\\varphi(t))*Derivative(\\theta(t), t)*Derivative(\\varphi(t), t) - 8*h_bc*m*sin(\\varphi(t))*cos(\\theta(t))*Derivative(\\theta(t), t)**2 - 8*h_bc*m*sin(\\varphi(t))*cos(\\theta(t))*Derivative(\\varphi(t), t)**2))/(8*m*(I_z + h_bc**2*m*sin(\\theta(t))**2)*(I_r + 2*I_w*c_{\\theta} + 2*I_w)),  (4*b_w*d_w**2*h_bc*m*(I_z + h_bc**2*m*sin(\\theta(t))**2)*sin(\\varphi(t))*cos(\\theta(t)) + 8*h_bc**3*m**2*(I_r + 2*I_w*c_{\\theta} + 2*I_w)*sin(\\theta(t))*sin(2*\\theta(t))*cos(\\varphi(t))*Derivative(\\varphi(t), t) - (I_z + h_bc**2*m*sin(\\theta(t))**2)*(I_r + 2*I_w*c_{\\theta} + 2*I_w)*(4*sqrt(2)*\\rho*b_d*h_bc*sin(\\theta(t) + pi/4)*sin(\\varphi(t)) - 16*h_bc*m*sin(\\theta(t))*sin(\\varphi(t))*Derivative(\\theta(t), t) + 16*h_bc*m*cos(\\theta(t))*cos(\\varphi(t))*Derivative(\\varphi(t), t)))/(8*m*(I_z + h_bc**2*m*sin(\\theta(t))**2)*(I_r + 2*I_w*c_{\\theta} + 2*I_w)),  (2*h_bc*m**2*(I_r + 2*I_w*c_{\\theta} + 2*I_w)*(\\omega_l*d_w*sin(\\varphi(t))*Derivative(y(t), t) + \\omega_l*d_w*cos(\\varphi(t))*Derivative(x(t), t) + \\omega_r*d_w*sin(\\varphi(t))*Derivative(y(t), t) + \\omega_r*d_w*cos(\\varphi(t))*Derivative(x(t), t))*sin(\\theta(t))*cos(\\varphi(t)) - 2*h_bc*m**2*(I_r + 2*I_w*c_{\\theta} + 2*I_w)*(-\\omega_l*d_w*h_bc*sin(\\theta(t))*Derivative(\\varphi(t), t) + \\omega_l*d_w*sin(\\varphi(t))*Derivative(x(t), t) - \\omega_l*d_w*cos(\\varphi(t))*Derivative(y(t), t) - \\omega_r*d_w*h_bc*sin(\\theta(t))*Derivative(\\varphi(t), t) + \\omega_r*d_w*sin(\\varphi(t))*Derivative(x(t), t) - \\omega_r*d_w*cos(\\varphi(t))*Derivative(y(t), t) + 4*h_bc**2*sin(2*\\theta(t))*Derivative(\\theta(t), t)*Derivative(\\varphi(t), t))*sin(\\theta(t))*sin(\\varphi(t)) + 2*h_bc*m*(I_z + h_bc**2*m*sin(\\theta(t))**2)*(\\omega_l*b_w*d_w**2 + \\omega_r*b_w*d_w**2 + 2*b_w*d_w**2*Derivative(\\theta(t), t) + 8*b_w*h_bc*sin(\\theta(t))*Derivative(z(t), t) - 2*h_bc**2*m*sin(2*\\theta(t))*Derivative(\\varphi(t), t)**2)*cos(\\theta(t))*cos(\\varphi(t)) - (I_z + h_bc**2*m*sin(\\theta(t))**2)*(I_r + 2*I_w*c_{\\theta} + 2*I_w)*(\\rho*b_d*d_w*(\\omega_l + \\omega_r)*cos(\\varphi(t)) + 4*sqrt(2)*\\rho*b_d*h_bc*sin(\\theta(t) + pi/4)*cos(\\varphi(t))*Derivative(\\theta(t), t) - 8*h_bc*m*sin(\\theta(t))*cos(\\varphi(t))*Derivative(\\theta(t), t)**2 - 8*h_bc*m*sin(\\theta(t))*cos(\\varphi(t))*Derivative(\\varphi(t), t)**2 - 16*h_bc*m*sin(\\varphi(t))*cos(\\theta(t))*Derivative(\\theta(t), t)*Derivative(\\varphi(t), t) - 2*(\\omega_l*d_w*m + \\omega_r*d_w*m + 2*\\rho*b_d*h_bc*sin(\\theta(t)))*sin(\\varphi(t))*Derivative(\\varphi(t), t)))/(8*m*(I_z + h_bc**2*m*sin(\\theta(t))**2)*(I_r + 2*I_w*c_{\\theta} + 2*I_w)), (-8*h_bc**3*m**2*(I_z + h_bc**2*m*sin(\\theta(t))**2)*sin(2*\\theta(t))*sin(\\varphi(t))*cos(\\theta(t))*Derivative(\\varphi(t), t) + 2*h_bc*m**2*(I_r + 2*I_w*c_{\\theta} + 2*I_w)*(-\\omega_l*d_w*h_bc*sin(\\theta(t)) - \\omega_r*d_w*h_bc*sin(\\theta(t)) + 4*h_bc**2*sin(2*\\theta(t))*Derivative(\\theta(t), t))*sin(\\theta(t))*cos(\\varphi(t)) - (I_z + h_bc**2*m*sin(\\theta(t))**2)*(I_r + 2*I_w*c_{\\theta} + 2*I_w)*(-16*h_bc*m*sin(\\theta(t))*sin(\\varphi(t))*Derivative(\\varphi(t), t) + 16*h_bc*m*cos(\\theta(t))*cos(\\varphi(t))*Derivative(\\theta(t), t) + 2*(\\omega_l*d_w*m + \\omega_r*d_w*m + 2*\\rho*b_d*h_bc*sin(\\theta(t)))*cos(\\varphi(t))))/(8*m*(I_z + h_bc**2*m*sin(\\theta(t))**2)*(I_r + 2*I_w*c_{\\theta} + 2*I_w)),  (2*b_w*d_w**2*h_bc*m*(I_z + h_bc**2*m*sin(\\theta(t))**2)*sin(\\varphi(t))*cos(\\theta(t)) + 2*h_bc*m**2*(I_r + 2*I_w*c_{\\theta} + 2*I_w)*(-d_w*h_bc*sin(\\theta(t))*Derivative(\\varphi(t), t) + d_w*sin(\\varphi(t))*Derivative(x(t), t) - d_w*cos(\\varphi(t))*Derivative(y(t), t))*sin(\\theta(t))*cos(\\varphi(t)) - (I_z + h_bc**2*m*sin(\\theta(t))**2)*(\\rho*b_d*d_w*sin(\\varphi(t)) + 2*d_w*m*cos(\\varphi(t))*Derivative(\\varphi(t), t))*(I_r + 2*I_w*c_{\\theta} + 2*I_w))/(8*m*(I_z + h_bc**2*m*sin(\\theta(t))**2)*(I_r + 2*I_w*c_{\\theta} + 2*I_w)),  (2*b_w*d_w**2*h_bc*m*(I_z + h_bc**2*m*sin(\\theta(t))**2)*sin(\\varphi(t))*cos(\\theta(t)) + 2*h_bc*m**2*(I_r + 2*I_w*c_{\\theta} + 2*I_w)*(-d_w*h_bc*sin(\\theta(t))*Derivative(\\varphi(t), t) + d_w*sin(\\varphi(t))*Derivative(x(t), t) - d_w*cos(\\varphi(t))*Derivative(y(t), t))*sin(\\theta(t))*cos(\\varphi(t)) - (I_z + h_bc**2*m*sin(\\theta(t))**2)*(\\rho*b_d*d_w*sin(\\varphi(t)) + 2*d_w*m*cos(\\varphi(t))*Derivative(\\varphi(t), t))*(I_r + 2*I_w*c_{\\theta} + 2*I_w))/(8*m*(I_z + h_bc**2*m*sin(\\theta(t))**2)*(I_r + 2*I_w*c_{\\theta} + 2*I_w))],\n",
       "[0,                                                                                                                                                                                                                                                                                                         0, 0,                                                                                                                                                                                                                                                                                                          0, 0,                                                                                                                                   1,                                                                                                                                                                                                                                                                                                                                                                                                                                                                                                                                                                                                                                                                                                                                                                                                                                                                                                                                                                                                                                                                                                                                                                                                                                                                                                                                                                                                                                                                                                                                                                                                                                                                                                                                                                                                                                                                                                                                                                                                                                                                                                                                                                                                                                                                                                                                                                                                                                                                                                                                                                                                                                                                                                                                                                                                                                                                                                                                                                                                                                                                                                                                                                                                                                                                                                                                                                                                                                                                                                                                                                                                                                                                                                                                                                                                                                                                                                                                                                                                                                                                                                                                                                                                                                                             0,                                                                                                                                                                                                                                                                                                                                                                                                                                                                                                                                                                                0,                                                                                                                                                                                                                                                                                                                                                                                                                                                                                                                                                                                                                                                                                                                                                                                                                                                                                                                                                                                                                                                                                                                                                                                                                                                                                                                                                                                                                                                                                                                                                                                                                                                                                                                                         0,                                                                                                                                                                                                                                                                                                                                                                                                                                                                                                                                                                                                                                                                                                                             0,                                                                                                                                                                                                                                                                                                                                                                                                                                                                                                                                                     0,                                                                                                                                                                                                                                                                                                                                                                                                                                                                                                                                                     0],\n",
       "[0,                                                                                                                                                                                                                                                                                                         0, 0,                                                                                                                                                                                                                                                                                                          0, 0, -(8*b_w*h_bc**2*m*sin(\\theta(t))**2 + 2*(\\rho*b_d + 4*b_w)*(I_r + 2*I_w*c_{\\theta} + 2*I_w))/(4*m*(I_r + 2*I_w*c_{\\theta} + 2*I_w)),                                                                                                                                                                                                                                                                                                                                                                                                                                                                                                                                                                                                                                                                                                                                                                                                                                                                                                                                                                                                                                                                                                                                                                                                                                                                                                                                                                                                                                                                                                                                                                                                                                                                                                                                                                                                                                                                                                                                                                                                                                                                                                                                                                                                                                                                                                                                                                                                                                                                                                                                                                                                                                                                                                                                                                                                                                                                                                                                                                                                                                                                                                                                                                                                                                                                                                                                                                                                                                                                                                                                                                                                                                                                                        -(h_bc*m*(8*b_w*h_bc*cos(\\theta(t))*Derivative(z(t), t) - 4*h_bc**2*m*cos(2*\\theta(t))*Derivative(\\varphi(t), t)**2)*sin(\\theta(t)) + h_bc*m*(\\omega_l*b_w*d_w**2 + \\omega_r*b_w*d_w**2 + 2*b_w*d_w**2*Derivative(\\theta(t), t) + 8*b_w*h_bc*sin(\\theta(t))*Derivative(z(t), t) - 2*h_bc**2*m*sin(2*\\theta(t))*Derivative(\\varphi(t), t)**2)*cos(\\theta(t)) + 2*(-sqrt(2)*\\rho*b_d*h_bc*sin(\\theta(t) + pi/4)*Derivative(\\theta(t), t) + 2*h_bc*m*sin(\\theta(t))*Derivative(\\theta(t), t)**2)*(I_r + 2*I_w*c_{\\theta} + 2*I_w))/(4*m*(I_r + 2*I_w*c_{\\theta} + 2*I_w)),                                                                                                                                                                                                                                                                                                                                                               -(2*b_w*d_w**2*h_bc*m*sin(\\theta(t)) + 2*(sqrt(2)*\\rho*b_d*h_bc*cos(\\theta(t) + pi/4) - 4*h_bc*m*cos(\\theta(t))*Derivative(\\theta(t), t))*(I_r + 2*I_w*c_{\\theta} + 2*I_w))/(4*m*(I_r + 2*I_w*c_{\\theta} + 2*I_w)),                                                                                                                                                                                                                                                                                                                                                                                                                                                                                                                                                                                                                                                                                                                                                                                                                                                                                                                                                                                                                                                                                                                                                                                                                                                                                                                                                                                                                                                                                                                                                                                                                                                                                                                                         0,                                                                                                                                                                                                                                                                                                                                                                                                                                                                                                                                                                                                                          h_bc**3*m*sin(\\theta(t))*sin(2*\\theta(t))*Derivative(\\varphi(t), t)/(I_r + 2*I_w*c_{\\theta} + 2*I_w),                                                                                                                                                                                                                                                                                                                                                                                                                                                                                  -b_w*d_w**2*h_bc*sin(\\theta(t))/(4*(I_r + 2*I_w*c_{\\theta} + 2*I_w)),                                                                                                                                                                                                                                                                                                                                                                                                                                                                                  -b_w*d_w**2*h_bc*sin(\\theta(t))/(4*(I_r + 2*I_w*c_{\\theta} + 2*I_w))],\n",
       "[0,                                                                                                                                                                                                                                                                                                         0, 0,                                                                                                                                                                                                                                                                                                          0, 0,                                                                                                                                   0,                                                                                                                                                                                                                                                                                                                                                                                                                                                                                                                                                                                                                                                                                                                                                                                                                                                                                                                                                                                                                                                                                                                                                                                                                                                                                                                                                                                                                                                                                                                                                                                                                                                                                                                                                                                                                                                                                                                                                                                                                                                                                                                                                                                                                                                                                                                                                                                                                                                                                                                                                                                                                                                                                                                                                                                                                                                                                                                                                                                                                                                                                                                                                                                                                                                                                                                                                                                                                                                                                                                                                                                                                                                                                                                                                                                                                                                                                                                                                                                                                                                                                                                                                                                                                                                             0,                                                                                                                                                                                                                                                                                                                                                                                                                                                                                                                                                                                1,                                                                                                                                                                                                                                                                                                                                                                                                                                                                                                                                                                                                                                                                                                                                                                                                                                                                                                                                                                                                                                                                                                                                                                                                                                                                                                                                                                                                                                                                                                                                                                                                                                                                                                                                         0,                                                                                                                                                                                                                                                                                                                                                                                                                                                                                                                                                                                                                                                                                                                             0,                                                                                                                                                                                                                                                                                                                                                                                                                                                                                                                                                     0,                                                                                                                                                                                                                                                                                                                                                                                                                                                                                                                                                     0],\n",
       "[0,                                                                                                                                                                                                                                                                                                         0, 0,                                                                                                                                                                                                                                                                                                          0, 0,                                                                       -8*b_w*h_bc*sin(\\theta(t))/(4*I_r + 8*I_w*c_{\\theta} + 8*I_w),                                                                                                                                                                                                                                                                                                                                                                                                                                                                                                                                                                                                                                                                                                                                                                                                                                                                                                                                                                                                                                                                                                                                                                                                                                                                                                                                                                                                                                                                                                                                                                                                                                                                                                                                                                                                                                                                                                                                                                                                                                                                                                                                                                                                                                                                                                                                                                                                                                                                                                                                                                                                                                                                                                                                                                                                                                                                                                                                                                                                                                                                                                                                                                                                                                                                                                                                                                                                                                                                                                                                                                                                                                                                                                                                                                                                                                                                                                                                                                                                                                                                                                               (-8*b_w*h_bc*cos(\\theta(t))*Derivative(z(t), t) + 4*h_bc**2*m*cos(2*\\theta(t))*Derivative(\\varphi(t), t)**2)/(4*I_r + 8*I_w*c_{\\theta} + 8*I_w),                                                                                                                                                                                                                                                                                                                                                                                                                                                                                                                                 -2*b_w*d_w**2/(4*I_r + 8*I_w*c_{\\theta} + 8*I_w),                                                                                                                                                                                                                                                                                                                                                                                                                                                                                                                                                                                                                                                                                                                                                                                                                                                                                                                                                                                                                                                                                                                                                                                                                                                                                                                                                                                                                                                                                                                                                                                                                                                                                                                                         0,                                                                                                                                                                                                                                                                                                                                                                                                                                                                                                                                                                                                                                     4*h_bc**2*m*sin(2*\\theta(t))*Derivative(\\varphi(t), t)/(4*I_r + 8*I_w*c_{\\theta} + 8*I_w),                                                                                                                                                                                                                                                                                                                                                                                                                                                                                                        -b_w*d_w**2/(4*I_r + 8*I_w*c_{\\theta} + 8*I_w),                                                                                                                                                                                                                                                                                                                                                                                                                                                                                                        -b_w*d_w**2/(4*I_r + 8*I_w*c_{\\theta} + 8*I_w)],\n",
       "[0,                                                                                                                                                                                                                                                                                                         0, 0,                                                                                                                                                                                                                                                                                                          0, 0,                                                                                                                                   0,                                                                                                                                                                                                                                                                                                                                                                                                                                                                                                                                                                                                                                                                                                                                                                                                                                                                                                                                                                                                                                                                                                                                                                                                                                                                                                                                                                                                                                                                                                                                                                                                                                                                                                                                                                                                                                                                                                                                                                                                                                                                                                                                                                                                                                                                                                                                                                                                                                                                                                                                                                                                                                                                                                                                                                                                                                                                                                                                                                                                                                                                                                                                                                                                                                                                                                                                                                                                                                                                                                                                                                                                                                                                                                                                                                                                                                                                                                                                                                                                                                                                                                                                                                                                                                                             0,                                                                                                                                                                                                                                                                                                                                                                                                                                                                                                                                                                                0,                                                                                                                                                                                                                                                                                                                                                                                                                                                                                                                                                                                                                                                                                                                                                                                                                                                                                                                                                                                                                                                                                                                                                                                                                                                                                                                                                                                                                                                                                                                                                                                                                                                                                                                                         0,                                                                                                                                                                                                                                                                                                                                                                                                                                                                                                                                                                                                                                                                                                                             1,                                                                                                                                                                                                                                                                                                                                                                                                                                                                                                                                                     0,                                                                                                                                                                                                                                                                                                                                                                                                                                                                                                                                                     0],\n",
       "[0,                                                                                                                                                                                                  m*(-\\omega_l*d_w*sin(\\varphi(t)) - \\omega_r*d_w*sin(\\varphi(t)))/(4*I_z + 4*h_bc**2*m*sin(\\theta(t))**2), 0,                                                                                                                                                                                                    m*(\\omega_l*d_w*cos(\\varphi(t)) + \\omega_r*d_w*cos(\\varphi(t)))/(4*I_z + 4*h_bc**2*m*sin(\\theta(t))**2), 0,                                                                                                                                   0,                                                                                                                                                                                                                                                                                                                                                                                                                                                                                                                                                                                                                                                                                                                                                                                                                                                                                                                                                                                                                                                                                                                                                                                                                                                                                                                                                                                                                                                                                                                                                                                                                                                                                                                                                                                                                                                                                                                                                                                                                                                                                                                                                                                                                                                                                                                                                                                                                                                                                                                                                                                                                                                                                                                                                                                                                                                                                                                                                                                                                                                                                                                                                                                                                                                                                                                                                                                                                                                                                          -8*h_bc**2*m**2*(\\omega_l*d_w*h_bc*sin(\\theta(t))*Derivative(\\varphi(t), t) - \\omega_l*d_w*sin(\\varphi(t))*Derivative(x(t), t) + \\omega_l*d_w*cos(\\varphi(t))*Derivative(y(t), t) + \\omega_r*d_w*h_bc*sin(\\theta(t))*Derivative(\\varphi(t), t) - \\omega_r*d_w*sin(\\varphi(t))*Derivative(x(t), t) + \\omega_r*d_w*cos(\\varphi(t))*Derivative(y(t), t) - 4*h_bc**2*sin(2*\\theta(t))*Derivative(\\theta(t), t)*Derivative(\\varphi(t), t))*sin(\\theta(t))*cos(\\theta(t))/(4*I_z + 4*h_bc**2*m*sin(\\theta(t))**2)**2 + m*(\\omega_l*d_w*h_bc*cos(\\theta(t))*Derivative(\\varphi(t), t) + \\omega_r*d_w*h_bc*cos(\\theta(t))*Derivative(\\varphi(t), t) - 8*h_bc**2*cos(2*\\theta(t))*Derivative(\\theta(t), t)*Derivative(\\varphi(t), t))/(4*I_z + 4*h_bc**2*m*sin(\\theta(t))**2),                                                                                                                                                                                                                                                                                                                                                                                                                                                                                  -4*h_bc**2*m*sin(2*\\theta(t))*Derivative(\\varphi(t), t)/(4*I_z + 4*h_bc**2*m*sin(\\theta(t))**2),                                                                                                                                                                                                                                                                                                                                                                                                                                                                                                                                                                                                                                                                                                                                                                                                                                                                                                                                                                                                                                                                                                                                                                                                                                                                                                                                                                                                                                                                                    m*(-\\omega_l*d_w*sin(\\varphi(t))*Derivative(y(t), t) - \\omega_l*d_w*cos(\\varphi(t))*Derivative(x(t), t) - \\omega_r*d_w*sin(\\varphi(t))*Derivative(y(t), t) - \\omega_r*d_w*cos(\\varphi(t))*Derivative(x(t), t))/(4*I_z + 4*h_bc**2*m*sin(\\theta(t))**2),                                                                                                                                                                                                                                                                                                                                                                                                                                                                                                                                                         m*(\\omega_l*d_w*h_bc*sin(\\theta(t)) + \\omega_r*d_w*h_bc*sin(\\theta(t)) - 4*h_bc**2*sin(2*\\theta(t))*Derivative(\\theta(t), t))/(4*I_z + 4*h_bc**2*m*sin(\\theta(t))**2),                                                                                                                                                                                                                                                                                                                                                                     m*(d_w*h_bc*sin(\\theta(t))*Derivative(\\varphi(t), t) - d_w*sin(\\varphi(t))*Derivative(x(t), t) + d_w*cos(\\varphi(t))*Derivative(y(t), t))/(4*I_z + 4*h_bc**2*m*sin(\\theta(t))**2),                                                                                                                                                                                                                                                                                                                                                                     m*(d_w*h_bc*sin(\\theta(t))*Derivative(\\varphi(t), t) - d_w*sin(\\varphi(t))*Derivative(x(t), t) + d_w*cos(\\varphi(t))*Derivative(y(t), t))/(4*I_z + 4*h_bc**2*m*sin(\\theta(t))**2)]])"
      ],
      "text/latex": "$\\displaystyle \\left[\\begin{array}{cccccccccccc}0 & 1 & 0 & 0 & 0 & 0 & 0 & 0 & 0 & 0 & 0 & 0\\\\0 & \\frac{- 4 \\rho b_{d} \\left(I_{z} + h_{bc}^{2} m \\sin^{2}{\\left(\\theta{\\left(t \\right)} \\right)}\\right) \\left(I_{r} + 2 I_{w} c_{\\theta} + 2 I_{w}\\right) - 2 h_{bc} m^{2} \\left(\\omega_{l} d_{w} \\sin{\\left(\\varphi{\\left(t \\right)} \\right)} + \\omega_{r} d_{w} \\sin{\\left(\\varphi{\\left(t \\right)} \\right)}\\right) \\left(I_{r} + 2 I_{w} c_{\\theta} + 2 I_{w}\\right) \\sin{\\left(\\theta{\\left(t \\right)} \\right)} \\sin{\\left(\\varphi{\\left(t \\right)} \\right)}}{8 m \\left(I_{z} + h_{bc}^{2} m \\sin^{2}{\\left(\\theta{\\left(t \\right)} \\right)}\\right) \\left(I_{r} + 2 I_{w} c_{\\theta} + 2 I_{w}\\right)} & 0 & - \\frac{h_{bc} m \\left(- \\omega_{l} d_{w} \\cos{\\left(\\varphi{\\left(t \\right)} \\right)} - \\omega_{r} d_{w} \\cos{\\left(\\varphi{\\left(t \\right)} \\right)}\\right) \\sin{\\left(\\theta{\\left(t \\right)} \\right)} \\sin{\\left(\\varphi{\\left(t \\right)} \\right)}}{4 \\left(I_{z} + h_{bc}^{2} m \\sin^{2}{\\left(\\theta{\\left(t \\right)} \\right)}\\right)} & 0 & \\frac{2 b_{w} h_{bc}^{2} \\sin{\\left(\\theta{\\left(t \\right)} \\right)} \\cos{\\left(\\theta{\\left(t \\right)} \\right)} \\cos{\\left(\\varphi{\\left(t \\right)} \\right)}}{I_{r} + 2 I_{w} c_{\\theta} + 2 I_{w}} & - \\frac{h_{bc}^{2} \\left(- 2 h_{bc} m^{2} \\left(I_{r} + 2 I_{w} c_{\\theta} + 2 I_{w}\\right) \\left(- \\omega_{l} d_{w} h_{bc} \\sin{\\left(\\theta{\\left(t \\right)} \\right)} \\frac{d}{d t} \\varphi{\\left(t \\right)} + \\omega_{l} d_{w} \\sin{\\left(\\varphi{\\left(t \\right)} \\right)} \\frac{d}{d t} x{\\left(t \\right)} - \\omega_{l} d_{w} \\cos{\\left(\\varphi{\\left(t \\right)} \\right)} \\frac{d}{d t} y{\\left(t \\right)} - \\omega_{r} d_{w} h_{bc} \\sin{\\left(\\theta{\\left(t \\right)} \\right)} \\frac{d}{d t} \\varphi{\\left(t \\right)} + \\omega_{r} d_{w} \\sin{\\left(\\varphi{\\left(t \\right)} \\right)} \\frac{d}{d t} x{\\left(t \\right)} - \\omega_{r} d_{w} \\cos{\\left(\\varphi{\\left(t \\right)} \\right)} \\frac{d}{d t} y{\\left(t \\right)} + 4 h_{bc}^{2} \\sin{\\left(2 \\theta{\\left(t \\right)} \\right)} \\frac{d}{d t} \\theta{\\left(t \\right)} \\frac{d}{d t} \\varphi{\\left(t \\right)}\\right) \\sin{\\left(\\theta{\\left(t \\right)} \\right)} \\sin{\\left(\\varphi{\\left(t \\right)} \\right)} + 2 h_{bc} m \\left(I_{z} + h_{bc}^{2} m \\sin^{2}{\\left(\\theta{\\left(t \\right)} \\right)}\\right) \\left(\\omega_{l} b_{w} d_{w}^{2} + \\omega_{r} b_{w} d_{w}^{2} + 2 b_{w} d_{w}^{2} \\frac{d}{d t} \\theta{\\left(t \\right)} + 8 b_{w} h_{bc} \\sin{\\left(\\theta{\\left(t \\right)} \\right)} \\frac{d}{d t} z{\\left(t \\right)} - 2 h_{bc}^{2} m \\sin{\\left(2 \\theta{\\left(t \\right)} \\right)} \\left(\\frac{d}{d t} \\varphi{\\left(t \\right)}\\right)^{2}\\right) \\cos{\\left(\\theta{\\left(t \\right)} \\right)} \\cos{\\left(\\varphi{\\left(t \\right)} \\right)} + \\left(I_{z} + h_{bc}^{2} m \\sin^{2}{\\left(\\theta{\\left(t \\right)} \\right)}\\right) \\left(I_{r} + 2 I_{w} c_{\\theta} + 2 I_{w}\\right) \\left(- \\rho b_{d} d_{w} \\left(\\omega_{l} + \\omega_{r}\\right) \\cos{\\left(\\varphi{\\left(t \\right)} \\right)} - 4 \\sqrt{2} \\rho b_{d} h_{bc} \\sin{\\left(\\theta{\\left(t \\right)} + \\frac{\\pi}{4} \\right)} \\cos{\\left(\\varphi{\\left(t \\right)} \\right)} \\frac{d}{d t} \\theta{\\left(t \\right)} - 4 \\rho b_{d} \\frac{d}{d t} x{\\left(t \\right)} + 8 h_{bc} m \\sin{\\left(\\theta{\\left(t \\right)} \\right)} \\cos{\\left(\\varphi{\\left(t \\right)} \\right)} \\left(\\frac{d}{d t} \\theta{\\left(t \\right)}\\right)^{2} + 8 h_{bc} m \\sin{\\left(\\theta{\\left(t \\right)} \\right)} \\cos{\\left(\\varphi{\\left(t \\right)} \\right)} \\left(\\frac{d}{d t} \\varphi{\\left(t \\right)}\\right)^{2} + 16 h_{bc} m \\sin{\\left(\\varphi{\\left(t \\right)} \\right)} \\cos{\\left(\\theta{\\left(t \\right)} \\right)} \\frac{d}{d t} \\theta{\\left(t \\right)} \\frac{d}{d t} \\varphi{\\left(t \\right)} + 2 \\left(\\omega_{l} d_{w} m + \\omega_{r} d_{w} m + 2 \\rho b_{d} h_{bc} \\sin{\\left(\\theta{\\left(t \\right)} \\right)}\\right) \\sin{\\left(\\varphi{\\left(t \\right)} \\right)} \\frac{d}{d t} \\varphi{\\left(t \\right)}\\right)\\right) \\sin{\\left(\\theta{\\left(t \\right)} \\right)} \\cos{\\left(\\theta{\\left(t \\right)} \\right)}}{4 \\left(I_{z} + h_{bc}^{2} m \\sin^{2}{\\left(\\theta{\\left(t \\right)} \\right)}\\right)^{2} \\left(I_{r} + 2 I_{w} c_{\\theta} + 2 I_{w}\\right)} + \\frac{4 h_{bc}^{3} m^{2} \\left(\\omega_{l} b_{w} d_{w}^{2} + \\omega_{r} b_{w} d_{w}^{2} + 2 b_{w} d_{w}^{2} \\frac{d}{d t} \\theta{\\left(t \\right)} + 8 b_{w} h_{bc} \\sin{\\left(\\theta{\\left(t \\right)} \\right)} \\frac{d}{d t} z{\\left(t \\right)} - 2 h_{bc}^{2} m \\sin{\\left(2 \\theta{\\left(t \\right)} \\right)} \\left(\\frac{d}{d t} \\varphi{\\left(t \\right)}\\right)^{2}\\right) \\sin{\\left(\\theta{\\left(t \\right)} \\right)} \\cos^{2}{\\left(\\theta{\\left(t \\right)} \\right)} \\cos{\\left(\\varphi{\\left(t \\right)} \\right)} + 2 h_{bc}^{2} m \\left(I_{r} + 2 I_{w} c_{\\theta} + 2 I_{w}\\right) \\left(- \\rho b_{d} d_{w} \\left(\\omega_{l} + \\omega_{r}\\right) \\cos{\\left(\\varphi{\\left(t \\right)} \\right)} - 4 \\sqrt{2} \\rho b_{d} h_{bc} \\sin{\\left(\\theta{\\left(t \\right)} + \\frac{\\pi}{4} \\right)} \\cos{\\left(\\varphi{\\left(t \\right)} \\right)} \\frac{d}{d t} \\theta{\\left(t \\right)} - 4 \\rho b_{d} \\frac{d}{d t} x{\\left(t \\right)} + 8 h_{bc} m \\sin{\\left(\\theta{\\left(t \\right)} \\right)} \\cos{\\left(\\varphi{\\left(t \\right)} \\right)} \\left(\\frac{d}{d t} \\theta{\\left(t \\right)}\\right)^{2} + 8 h_{bc} m \\sin{\\left(\\theta{\\left(t \\right)} \\right)} \\cos{\\left(\\varphi{\\left(t \\right)} \\right)} \\left(\\frac{d}{d t} \\varphi{\\left(t \\right)}\\right)^{2} + 16 h_{bc} m \\sin{\\left(\\varphi{\\left(t \\right)} \\right)} \\cos{\\left(\\theta{\\left(t \\right)} \\right)} \\frac{d}{d t} \\theta{\\left(t \\right)} \\frac{d}{d t} \\varphi{\\left(t \\right)} + 2 \\left(\\omega_{l} d_{w} m + \\omega_{r} d_{w} m + 2 \\rho b_{d} h_{bc} \\sin{\\left(\\theta{\\left(t \\right)} \\right)}\\right) \\sin{\\left(\\varphi{\\left(t \\right)} \\right)} \\frac{d}{d t} \\varphi{\\left(t \\right)}\\right) \\sin{\\left(\\theta{\\left(t \\right)} \\right)} \\cos{\\left(\\theta{\\left(t \\right)} \\right)} - 2 h_{bc} m^{2} \\left(I_{r} + 2 I_{w} c_{\\theta} + 2 I_{w}\\right) \\left(- \\omega_{l} d_{w} h_{bc} \\cos{\\left(\\theta{\\left(t \\right)} \\right)} \\frac{d}{d t} \\varphi{\\left(t \\right)} - \\omega_{r} d_{w} h_{bc} \\cos{\\left(\\theta{\\left(t \\right)} \\right)} \\frac{d}{d t} \\varphi{\\left(t \\right)} + 8 h_{bc}^{2} \\cos{\\left(2 \\theta{\\left(t \\right)} \\right)} \\frac{d}{d t} \\theta{\\left(t \\right)} \\frac{d}{d t} \\varphi{\\left(t \\right)}\\right) \\sin{\\left(\\theta{\\left(t \\right)} \\right)} \\sin{\\left(\\varphi{\\left(t \\right)} \\right)} - 2 h_{bc} m^{2} \\left(I_{r} + 2 I_{w} c_{\\theta} + 2 I_{w}\\right) \\left(- \\omega_{l} d_{w} h_{bc} \\sin{\\left(\\theta{\\left(t \\right)} \\right)} \\frac{d}{d t} \\varphi{\\left(t \\right)} + \\omega_{l} d_{w} \\sin{\\left(\\varphi{\\left(t \\right)} \\right)} \\frac{d}{d t} x{\\left(t \\right)} - \\omega_{l} d_{w} \\cos{\\left(\\varphi{\\left(t \\right)} \\right)} \\frac{d}{d t} y{\\left(t \\right)} - \\omega_{r} d_{w} h_{bc} \\sin{\\left(\\theta{\\left(t \\right)} \\right)} \\frac{d}{d t} \\varphi{\\left(t \\right)} + \\omega_{r} d_{w} \\sin{\\left(\\varphi{\\left(t \\right)} \\right)} \\frac{d}{d t} x{\\left(t \\right)} - \\omega_{r} d_{w} \\cos{\\left(\\varphi{\\left(t \\right)} \\right)} \\frac{d}{d t} y{\\left(t \\right)} + 4 h_{bc}^{2} \\sin{\\left(2 \\theta{\\left(t \\right)} \\right)} \\frac{d}{d t} \\theta{\\left(t \\right)} \\frac{d}{d t} \\varphi{\\left(t \\right)}\\right) \\sin{\\left(\\varphi{\\left(t \\right)} \\right)} \\cos{\\left(\\theta{\\left(t \\right)} \\right)} + 2 h_{bc} m \\left(I_{z} + h_{bc}^{2} m \\sin^{2}{\\left(\\theta{\\left(t \\right)} \\right)}\\right) \\left(8 b_{w} h_{bc} \\cos{\\left(\\theta{\\left(t \\right)} \\right)} \\frac{d}{d t} z{\\left(t \\right)} - 4 h_{bc}^{2} m \\cos{\\left(2 \\theta{\\left(t \\right)} \\right)} \\left(\\frac{d}{d t} \\varphi{\\left(t \\right)}\\right)^{2}\\right) \\cos{\\left(\\theta{\\left(t \\right)} \\right)} \\cos{\\left(\\varphi{\\left(t \\right)} \\right)} - 2 h_{bc} m \\left(I_{z} + h_{bc}^{2} m \\sin^{2}{\\left(\\theta{\\left(t \\right)} \\right)}\\right) \\left(\\omega_{l} b_{w} d_{w}^{2} + \\omega_{r} b_{w} d_{w}^{2} + 2 b_{w} d_{w}^{2} \\frac{d}{d t} \\theta{\\left(t \\right)} + 8 b_{w} h_{bc} \\sin{\\left(\\theta{\\left(t \\right)} \\right)} \\frac{d}{d t} z{\\left(t \\right)} - 2 h_{bc}^{2} m \\sin{\\left(2 \\theta{\\left(t \\right)} \\right)} \\left(\\frac{d}{d t} \\varphi{\\left(t \\right)}\\right)^{2}\\right) \\sin{\\left(\\theta{\\left(t \\right)} \\right)} \\cos{\\left(\\varphi{\\left(t \\right)} \\right)} + \\left(I_{z} + h_{bc}^{2} m \\sin^{2}{\\left(\\theta{\\left(t \\right)} \\right)}\\right) \\left(I_{r} + 2 I_{w} c_{\\theta} + 2 I_{w}\\right) \\left(4 \\rho b_{d} h_{bc} \\sin{\\left(\\varphi{\\left(t \\right)} \\right)} \\cos{\\left(\\theta{\\left(t \\right)} \\right)} \\frac{d}{d t} \\varphi{\\left(t \\right)} - 4 \\sqrt{2} \\rho b_{d} h_{bc} \\cos{\\left(\\theta{\\left(t \\right)} + \\frac{\\pi}{4} \\right)} \\cos{\\left(\\varphi{\\left(t \\right)} \\right)} \\frac{d}{d t} \\theta{\\left(t \\right)} - 16 h_{bc} m \\sin{\\left(\\theta{\\left(t \\right)} \\right)} \\sin{\\left(\\varphi{\\left(t \\right)} \\right)} \\frac{d}{d t} \\theta{\\left(t \\right)} \\frac{d}{d t} \\varphi{\\left(t \\right)} + 8 h_{bc} m \\cos{\\left(\\theta{\\left(t \\right)} \\right)} \\cos{\\left(\\varphi{\\left(t \\right)} \\right)} \\left(\\frac{d}{d t} \\theta{\\left(t \\right)}\\right)^{2} + 8 h_{bc} m \\cos{\\left(\\theta{\\left(t \\right)} \\right)} \\cos{\\left(\\varphi{\\left(t \\right)} \\right)} \\left(\\frac{d}{d t} \\varphi{\\left(t \\right)}\\right)^{2}\\right)}{8 m \\left(I_{z} + h_{bc}^{2} m \\sin^{2}{\\left(\\theta{\\left(t \\right)} \\right)}\\right) \\left(I_{r} + 2 I_{w} c_{\\theta} + 2 I_{w}\\right)} & \\frac{4 b_{w} d_{w}^{2} h_{bc} m \\left(I_{z} + h_{bc}^{2} m \\sin^{2}{\\left(\\theta{\\left(t \\right)} \\right)}\\right) \\cos{\\left(\\theta{\\left(t \\right)} \\right)} \\cos{\\left(\\varphi{\\left(t \\right)} \\right)} - 8 h_{bc}^{3} m^{2} \\left(I_{r} + 2 I_{w} c_{\\theta} + 2 I_{w}\\right) \\sin{\\left(\\theta{\\left(t \\right)} \\right)} \\sin{\\left(2 \\theta{\\left(t \\right)} \\right)} \\sin{\\left(\\varphi{\\left(t \\right)} \\right)} \\frac{d}{d t} \\varphi{\\left(t \\right)} + \\left(I_{z} + h_{bc}^{2} m \\sin^{2}{\\left(\\theta{\\left(t \\right)} \\right)}\\right) \\left(I_{r} + 2 I_{w} c_{\\theta} + 2 I_{w}\\right) \\left(- 4 \\sqrt{2} \\rho b_{d} h_{bc} \\sin{\\left(\\theta{\\left(t \\right)} + \\frac{\\pi}{4} \\right)} \\cos{\\left(\\varphi{\\left(t \\right)} \\right)} + 16 h_{bc} m \\sin{\\left(\\theta{\\left(t \\right)} \\right)} \\cos{\\left(\\varphi{\\left(t \\right)} \\right)} \\frac{d}{d t} \\theta{\\left(t \\right)} + 16 h_{bc} m \\sin{\\left(\\varphi{\\left(t \\right)} \\right)} \\cos{\\left(\\theta{\\left(t \\right)} \\right)} \\frac{d}{d t} \\varphi{\\left(t \\right)}\\right)}{8 m \\left(I_{z} + h_{bc}^{2} m \\sin^{2}{\\left(\\theta{\\left(t \\right)} \\right)}\\right) \\left(I_{r} + 2 I_{w} c_{\\theta} + 2 I_{w}\\right)} & \\frac{- 2 h_{bc} m^{2} \\left(I_{r} + 2 I_{w} c_{\\theta} + 2 I_{w}\\right) \\left(\\omega_{l} d_{w} \\sin{\\left(\\varphi{\\left(t \\right)} \\right)} \\frac{d}{d t} y{\\left(t \\right)} + \\omega_{l} d_{w} \\cos{\\left(\\varphi{\\left(t \\right)} \\right)} \\frac{d}{d t} x{\\left(t \\right)} + \\omega_{r} d_{w} \\sin{\\left(\\varphi{\\left(t \\right)} \\right)} \\frac{d}{d t} y{\\left(t \\right)} + \\omega_{r} d_{w} \\cos{\\left(\\varphi{\\left(t \\right)} \\right)} \\frac{d}{d t} x{\\left(t \\right)}\\right) \\sin{\\left(\\theta{\\left(t \\right)} \\right)} \\sin{\\left(\\varphi{\\left(t \\right)} \\right)} - 2 h_{bc} m^{2} \\left(I_{r} + 2 I_{w} c_{\\theta} + 2 I_{w}\\right) \\left(- \\omega_{l} d_{w} h_{bc} \\sin{\\left(\\theta{\\left(t \\right)} \\right)} \\frac{d}{d t} \\varphi{\\left(t \\right)} + \\omega_{l} d_{w} \\sin{\\left(\\varphi{\\left(t \\right)} \\right)} \\frac{d}{d t} x{\\left(t \\right)} - \\omega_{l} d_{w} \\cos{\\left(\\varphi{\\left(t \\right)} \\right)} \\frac{d}{d t} y{\\left(t \\right)} - \\omega_{r} d_{w} h_{bc} \\sin{\\left(\\theta{\\left(t \\right)} \\right)} \\frac{d}{d t} \\varphi{\\left(t \\right)} + \\omega_{r} d_{w} \\sin{\\left(\\varphi{\\left(t \\right)} \\right)} \\frac{d}{d t} x{\\left(t \\right)} - \\omega_{r} d_{w} \\cos{\\left(\\varphi{\\left(t \\right)} \\right)} \\frac{d}{d t} y{\\left(t \\right)} + 4 h_{bc}^{2} \\sin{\\left(2 \\theta{\\left(t \\right)} \\right)} \\frac{d}{d t} \\theta{\\left(t \\right)} \\frac{d}{d t} \\varphi{\\left(t \\right)}\\right) \\sin{\\left(\\theta{\\left(t \\right)} \\right)} \\cos{\\left(\\varphi{\\left(t \\right)} \\right)} - 2 h_{bc} m \\left(I_{z} + h_{bc}^{2} m \\sin^{2}{\\left(\\theta{\\left(t \\right)} \\right)}\\right) \\left(\\omega_{l} b_{w} d_{w}^{2} + \\omega_{r} b_{w} d_{w}^{2} + 2 b_{w} d_{w}^{2} \\frac{d}{d t} \\theta{\\left(t \\right)} + 8 b_{w} h_{bc} \\sin{\\left(\\theta{\\left(t \\right)} \\right)} \\frac{d}{d t} z{\\left(t \\right)} - 2 h_{bc}^{2} m \\sin{\\left(2 \\theta{\\left(t \\right)} \\right)} \\left(\\frac{d}{d t} \\varphi{\\left(t \\right)}\\right)^{2}\\right) \\sin{\\left(\\varphi{\\left(t \\right)} \\right)} \\cos{\\left(\\theta{\\left(t \\right)} \\right)} + \\left(I_{z} + h_{bc}^{2} m \\sin^{2}{\\left(\\theta{\\left(t \\right)} \\right)}\\right) \\left(I_{r} + 2 I_{w} c_{\\theta} + 2 I_{w}\\right) \\left(\\rho b_{d} d_{w} \\left(\\omega_{l} + \\omega_{r}\\right) \\sin{\\left(\\varphi{\\left(t \\right)} \\right)} + 4 \\sqrt{2} \\rho b_{d} h_{bc} \\sin{\\left(\\theta{\\left(t \\right)} + \\frac{\\pi}{4} \\right)} \\sin{\\left(\\varphi{\\left(t \\right)} \\right)} \\frac{d}{d t} \\theta{\\left(t \\right)} - 8 h_{bc} m \\sin{\\left(\\theta{\\left(t \\right)} \\right)} \\sin{\\left(\\varphi{\\left(t \\right)} \\right)} \\left(\\frac{d}{d t} \\theta{\\left(t \\right)}\\right)^{2} - 8 h_{bc} m \\sin{\\left(\\theta{\\left(t \\right)} \\right)} \\sin{\\left(\\varphi{\\left(t \\right)} \\right)} \\left(\\frac{d}{d t} \\varphi{\\left(t \\right)}\\right)^{2} + 16 h_{bc} m \\cos{\\left(\\theta{\\left(t \\right)} \\right)} \\cos{\\left(\\varphi{\\left(t \\right)} \\right)} \\frac{d}{d t} \\theta{\\left(t \\right)} \\frac{d}{d t} \\varphi{\\left(t \\right)} + 2 \\left(\\omega_{l} d_{w} m + \\omega_{r} d_{w} m + 2 \\rho b_{d} h_{bc} \\sin{\\left(\\theta{\\left(t \\right)} \\right)}\\right) \\cos{\\left(\\varphi{\\left(t \\right)} \\right)} \\frac{d}{d t} \\varphi{\\left(t \\right)}\\right)}{8 m \\left(I_{z} + h_{bc}^{2} m \\sin^{2}{\\left(\\theta{\\left(t \\right)} \\right)}\\right) \\left(I_{r} + 2 I_{w} c_{\\theta} + 2 I_{w}\\right)} & \\frac{- 8 h_{bc}^{3} m^{2} \\left(I_{z} + h_{bc}^{2} m \\sin^{2}{\\left(\\theta{\\left(t \\right)} \\right)}\\right) \\sin{\\left(2 \\theta{\\left(t \\right)} \\right)} \\cos{\\left(\\theta{\\left(t \\right)} \\right)} \\cos{\\left(\\varphi{\\left(t \\right)} \\right)} \\frac{d}{d t} \\varphi{\\left(t \\right)} - 2 h_{bc} m^{2} \\left(I_{r} + 2 I_{w} c_{\\theta} + 2 I_{w}\\right) \\left(- \\omega_{l} d_{w} h_{bc} \\sin{\\left(\\theta{\\left(t \\right)} \\right)} - \\omega_{r} d_{w} h_{bc} \\sin{\\left(\\theta{\\left(t \\right)} \\right)} + 4 h_{bc}^{2} \\sin{\\left(2 \\theta{\\left(t \\right)} \\right)} \\frac{d}{d t} \\theta{\\left(t \\right)}\\right) \\sin{\\left(\\theta{\\left(t \\right)} \\right)} \\sin{\\left(\\varphi{\\left(t \\right)} \\right)} + \\left(I_{z} + h_{bc}^{2} m \\sin^{2}{\\left(\\theta{\\left(t \\right)} \\right)}\\right) \\left(I_{r} + 2 I_{w} c_{\\theta} + 2 I_{w}\\right) \\left(16 h_{bc} m \\sin{\\left(\\theta{\\left(t \\right)} \\right)} \\cos{\\left(\\varphi{\\left(t \\right)} \\right)} \\frac{d}{d t} \\varphi{\\left(t \\right)} + 16 h_{bc} m \\sin{\\left(\\varphi{\\left(t \\right)} \\right)} \\cos{\\left(\\theta{\\left(t \\right)} \\right)} \\frac{d}{d t} \\theta{\\left(t \\right)} + 2 \\left(\\omega_{l} d_{w} m + \\omega_{r} d_{w} m + 2 \\rho b_{d} h_{bc} \\sin{\\left(\\theta{\\left(t \\right)} \\right)}\\right) \\sin{\\left(\\varphi{\\left(t \\right)} \\right)}\\right)}{8 m \\left(I_{z} + h_{bc}^{2} m \\sin^{2}{\\left(\\theta{\\left(t \\right)} \\right)}\\right) \\left(I_{r} + 2 I_{w} c_{\\theta} + 2 I_{w}\\right)} & \\frac{2 b_{w} d_{w}^{2} h_{bc} m \\left(I_{z} + h_{bc}^{2} m \\sin^{2}{\\left(\\theta{\\left(t \\right)} \\right)}\\right) \\cos{\\left(\\theta{\\left(t \\right)} \\right)} \\cos{\\left(\\varphi{\\left(t \\right)} \\right)} - 2 h_{bc} m^{2} \\left(I_{r} + 2 I_{w} c_{\\theta} + 2 I_{w}\\right) \\left(- d_{w} h_{bc} \\sin{\\left(\\theta{\\left(t \\right)} \\right)} \\frac{d}{d t} \\varphi{\\left(t \\right)} + d_{w} \\sin{\\left(\\varphi{\\left(t \\right)} \\right)} \\frac{d}{d t} x{\\left(t \\right)} - d_{w} \\cos{\\left(\\varphi{\\left(t \\right)} \\right)} \\frac{d}{d t} y{\\left(t \\right)}\\right) \\sin{\\left(\\theta{\\left(t \\right)} \\right)} \\sin{\\left(\\varphi{\\left(t \\right)} \\right)} + \\left(I_{z} + h_{bc}^{2} m \\sin^{2}{\\left(\\theta{\\left(t \\right)} \\right)}\\right) \\left(- \\rho b_{d} d_{w} \\cos{\\left(\\varphi{\\left(t \\right)} \\right)} + 2 d_{w} m \\sin{\\left(\\varphi{\\left(t \\right)} \\right)} \\frac{d}{d t} \\varphi{\\left(t \\right)}\\right) \\left(I_{r} + 2 I_{w} c_{\\theta} + 2 I_{w}\\right)}{8 m \\left(I_{z} + h_{bc}^{2} m \\sin^{2}{\\left(\\theta{\\left(t \\right)} \\right)}\\right) \\left(I_{r} + 2 I_{w} c_{\\theta} + 2 I_{w}\\right)} & \\frac{2 b_{w} d_{w}^{2} h_{bc} m \\left(I_{z} + h_{bc}^{2} m \\sin^{2}{\\left(\\theta{\\left(t \\right)} \\right)}\\right) \\cos{\\left(\\theta{\\left(t \\right)} \\right)} \\cos{\\left(\\varphi{\\left(t \\right)} \\right)} - 2 h_{bc} m^{2} \\left(I_{r} + 2 I_{w} c_{\\theta} + 2 I_{w}\\right) \\left(- d_{w} h_{bc} \\sin{\\left(\\theta{\\left(t \\right)} \\right)} \\frac{d}{d t} \\varphi{\\left(t \\right)} + d_{w} \\sin{\\left(\\varphi{\\left(t \\right)} \\right)} \\frac{d}{d t} x{\\left(t \\right)} - d_{w} \\cos{\\left(\\varphi{\\left(t \\right)} \\right)} \\frac{d}{d t} y{\\left(t \\right)}\\right) \\sin{\\left(\\theta{\\left(t \\right)} \\right)} \\sin{\\left(\\varphi{\\left(t \\right)} \\right)} + \\left(I_{z} + h_{bc}^{2} m \\sin^{2}{\\left(\\theta{\\left(t \\right)} \\right)}\\right) \\left(- \\rho b_{d} d_{w} \\cos{\\left(\\varphi{\\left(t \\right)} \\right)} + 2 d_{w} m \\sin{\\left(\\varphi{\\left(t \\right)} \\right)} \\frac{d}{d t} \\varphi{\\left(t \\right)}\\right) \\left(I_{r} + 2 I_{w} c_{\\theta} + 2 I_{w}\\right)}{8 m \\left(I_{z} + h_{bc}^{2} m \\sin^{2}{\\left(\\theta{\\left(t \\right)} \\right)}\\right) \\left(I_{r} + 2 I_{w} c_{\\theta} + 2 I_{w}\\right)}\\\\0 & 0 & 0 & 1 & 0 & 0 & 0 & 0 & 0 & 0 & 0 & 0\\\\0 & \\frac{h_{bc} m \\left(\\omega_{l} d_{w} \\sin{\\left(\\varphi{\\left(t \\right)} \\right)} + \\omega_{r} d_{w} \\sin{\\left(\\varphi{\\left(t \\right)} \\right)}\\right) \\sin{\\left(\\theta{\\left(t \\right)} \\right)} \\cos{\\left(\\varphi{\\left(t \\right)} \\right)}}{4 \\left(I_{z} + h_{bc}^{2} m \\sin^{2}{\\left(\\theta{\\left(t \\right)} \\right)}\\right)} & 0 & \\frac{- 4 \\rho b_{d} \\left(I_{z} + h_{bc}^{2} m \\sin^{2}{\\left(\\theta{\\left(t \\right)} \\right)}\\right) \\left(I_{r} + 2 I_{w} c_{\\theta} + 2 I_{w}\\right) + 2 h_{bc} m^{2} \\left(- \\omega_{l} d_{w} \\cos{\\left(\\varphi{\\left(t \\right)} \\right)} - \\omega_{r} d_{w} \\cos{\\left(\\varphi{\\left(t \\right)} \\right)}\\right) \\left(I_{r} + 2 I_{w} c_{\\theta} + 2 I_{w}\\right) \\sin{\\left(\\theta{\\left(t \\right)} \\right)} \\cos{\\left(\\varphi{\\left(t \\right)} \\right)}}{8 m \\left(I_{z} + h_{bc}^{2} m \\sin^{2}{\\left(\\theta{\\left(t \\right)} \\right)}\\right) \\left(I_{r} + 2 I_{w} c_{\\theta} + 2 I_{w}\\right)} & 0 & \\frac{2 b_{w} h_{bc}^{2} \\sin{\\left(\\theta{\\left(t \\right)} \\right)} \\sin{\\left(\\varphi{\\left(t \\right)} \\right)} \\cos{\\left(\\theta{\\left(t \\right)} \\right)}}{I_{r} + 2 I_{w} c_{\\theta} + 2 I_{w}} & - \\frac{h_{bc}^{2} \\left(2 h_{bc} m^{2} \\left(I_{r} + 2 I_{w} c_{\\theta} + 2 I_{w}\\right) \\left(- \\omega_{l} d_{w} h_{bc} \\sin{\\left(\\theta{\\left(t \\right)} \\right)} \\frac{d}{d t} \\varphi{\\left(t \\right)} + \\omega_{l} d_{w} \\sin{\\left(\\varphi{\\left(t \\right)} \\right)} \\frac{d}{d t} x{\\left(t \\right)} - \\omega_{l} d_{w} \\cos{\\left(\\varphi{\\left(t \\right)} \\right)} \\frac{d}{d t} y{\\left(t \\right)} - \\omega_{r} d_{w} h_{bc} \\sin{\\left(\\theta{\\left(t \\right)} \\right)} \\frac{d}{d t} \\varphi{\\left(t \\right)} + \\omega_{r} d_{w} \\sin{\\left(\\varphi{\\left(t \\right)} \\right)} \\frac{d}{d t} x{\\left(t \\right)} - \\omega_{r} d_{w} \\cos{\\left(\\varphi{\\left(t \\right)} \\right)} \\frac{d}{d t} y{\\left(t \\right)} + 4 h_{bc}^{2} \\sin{\\left(2 \\theta{\\left(t \\right)} \\right)} \\frac{d}{d t} \\theta{\\left(t \\right)} \\frac{d}{d t} \\varphi{\\left(t \\right)}\\right) \\sin{\\left(\\theta{\\left(t \\right)} \\right)} \\cos{\\left(\\varphi{\\left(t \\right)} \\right)} + 2 h_{bc} m \\left(I_{z} + h_{bc}^{2} m \\sin^{2}{\\left(\\theta{\\left(t \\right)} \\right)}\\right) \\left(\\omega_{l} b_{w} d_{w}^{2} + \\omega_{r} b_{w} d_{w}^{2} + 2 b_{w} d_{w}^{2} \\frac{d}{d t} \\theta{\\left(t \\right)} + 8 b_{w} h_{bc} \\sin{\\left(\\theta{\\left(t \\right)} \\right)} \\frac{d}{d t} z{\\left(t \\right)} - 2 h_{bc}^{2} m \\sin{\\left(2 \\theta{\\left(t \\right)} \\right)} \\left(\\frac{d}{d t} \\varphi{\\left(t \\right)}\\right)^{2}\\right) \\sin{\\left(\\varphi{\\left(t \\right)} \\right)} \\cos{\\left(\\theta{\\left(t \\right)} \\right)} - \\left(I_{z} + h_{bc}^{2} m \\sin^{2}{\\left(\\theta{\\left(t \\right)} \\right)}\\right) \\left(I_{r} + 2 I_{w} c_{\\theta} + 2 I_{w}\\right) \\left(\\rho b_{d} d_{w} \\left(\\omega_{l} + \\omega_{r}\\right) \\sin{\\left(\\varphi{\\left(t \\right)} \\right)} + 4 \\sqrt{2} \\rho b_{d} h_{bc} \\sin{\\left(\\theta{\\left(t \\right)} + \\frac{\\pi}{4} \\right)} \\sin{\\left(\\varphi{\\left(t \\right)} \\right)} \\frac{d}{d t} \\theta{\\left(t \\right)} + 4 \\rho b_{d} \\frac{d}{d t} y{\\left(t \\right)} - 8 h_{bc} m \\sin{\\left(\\theta{\\left(t \\right)} \\right)} \\sin{\\left(\\varphi{\\left(t \\right)} \\right)} \\left(\\frac{d}{d t} \\theta{\\left(t \\right)}\\right)^{2} - 8 h_{bc} m \\sin{\\left(\\theta{\\left(t \\right)} \\right)} \\sin{\\left(\\varphi{\\left(t \\right)} \\right)} \\left(\\frac{d}{d t} \\varphi{\\left(t \\right)}\\right)^{2} + 16 h_{bc} m \\cos{\\left(\\theta{\\left(t \\right)} \\right)} \\cos{\\left(\\varphi{\\left(t \\right)} \\right)} \\frac{d}{d t} \\theta{\\left(t \\right)} \\frac{d}{d t} \\varphi{\\left(t \\right)} + 2 \\left(\\omega_{l} d_{w} m + \\omega_{r} d_{w} m + 2 \\rho b_{d} h_{bc} \\sin{\\left(\\theta{\\left(t \\right)} \\right)}\\right) \\cos{\\left(\\varphi{\\left(t \\right)} \\right)} \\frac{d}{d t} \\varphi{\\left(t \\right)}\\right)\\right) \\sin{\\left(\\theta{\\left(t \\right)} \\right)} \\cos{\\left(\\theta{\\left(t \\right)} \\right)}}{4 \\left(I_{z} + h_{bc}^{2} m \\sin^{2}{\\left(\\theta{\\left(t \\right)} \\right)}\\right)^{2} \\left(I_{r} + 2 I_{w} c_{\\theta} + 2 I_{w}\\right)} + \\frac{4 h_{bc}^{3} m^{2} \\left(\\omega_{l} b_{w} d_{w}^{2} + \\omega_{r} b_{w} d_{w}^{2} + 2 b_{w} d_{w}^{2} \\frac{d}{d t} \\theta{\\left(t \\right)} + 8 b_{w} h_{bc} \\sin{\\left(\\theta{\\left(t \\right)} \\right)} \\frac{d}{d t} z{\\left(t \\right)} - 2 h_{bc}^{2} m \\sin{\\left(2 \\theta{\\left(t \\right)} \\right)} \\left(\\frac{d}{d t} \\varphi{\\left(t \\right)}\\right)^{2}\\right) \\sin{\\left(\\theta{\\left(t \\right)} \\right)} \\sin{\\left(\\varphi{\\left(t \\right)} \\right)} \\cos^{2}{\\left(\\theta{\\left(t \\right)} \\right)} - 2 h_{bc}^{2} m \\left(I_{r} + 2 I_{w} c_{\\theta} + 2 I_{w}\\right) \\left(\\rho b_{d} d_{w} \\left(\\omega_{l} + \\omega_{r}\\right) \\sin{\\left(\\varphi{\\left(t \\right)} \\right)} + 4 \\sqrt{2} \\rho b_{d} h_{bc} \\sin{\\left(\\theta{\\left(t \\right)} + \\frac{\\pi}{4} \\right)} \\sin{\\left(\\varphi{\\left(t \\right)} \\right)} \\frac{d}{d t} \\theta{\\left(t \\right)} + 4 \\rho b_{d} \\frac{d}{d t} y{\\left(t \\right)} - 8 h_{bc} m \\sin{\\left(\\theta{\\left(t \\right)} \\right)} \\sin{\\left(\\varphi{\\left(t \\right)} \\right)} \\left(\\frac{d}{d t} \\theta{\\left(t \\right)}\\right)^{2} - 8 h_{bc} m \\sin{\\left(\\theta{\\left(t \\right)} \\right)} \\sin{\\left(\\varphi{\\left(t \\right)} \\right)} \\left(\\frac{d}{d t} \\varphi{\\left(t \\right)}\\right)^{2} + 16 h_{bc} m \\cos{\\left(\\theta{\\left(t \\right)} \\right)} \\cos{\\left(\\varphi{\\left(t \\right)} \\right)} \\frac{d}{d t} \\theta{\\left(t \\right)} \\frac{d}{d t} \\varphi{\\left(t \\right)} + 2 \\left(\\omega_{l} d_{w} m + \\omega_{r} d_{w} m + 2 \\rho b_{d} h_{bc} \\sin{\\left(\\theta{\\left(t \\right)} \\right)}\\right) \\cos{\\left(\\varphi{\\left(t \\right)} \\right)} \\frac{d}{d t} \\varphi{\\left(t \\right)}\\right) \\sin{\\left(\\theta{\\left(t \\right)} \\right)} \\cos{\\left(\\theta{\\left(t \\right)} \\right)} + 2 h_{bc} m^{2} \\left(I_{r} + 2 I_{w} c_{\\theta} + 2 I_{w}\\right) \\left(- \\omega_{l} d_{w} h_{bc} \\cos{\\left(\\theta{\\left(t \\right)} \\right)} \\frac{d}{d t} \\varphi{\\left(t \\right)} - \\omega_{r} d_{w} h_{bc} \\cos{\\left(\\theta{\\left(t \\right)} \\right)} \\frac{d}{d t} \\varphi{\\left(t \\right)} + 8 h_{bc}^{2} \\cos{\\left(2 \\theta{\\left(t \\right)} \\right)} \\frac{d}{d t} \\theta{\\left(t \\right)} \\frac{d}{d t} \\varphi{\\left(t \\right)}\\right) \\sin{\\left(\\theta{\\left(t \\right)} \\right)} \\cos{\\left(\\varphi{\\left(t \\right)} \\right)} + 2 h_{bc} m^{2} \\left(I_{r} + 2 I_{w} c_{\\theta} + 2 I_{w}\\right) \\left(- \\omega_{l} d_{w} h_{bc} \\sin{\\left(\\theta{\\left(t \\right)} \\right)} \\frac{d}{d t} \\varphi{\\left(t \\right)} + \\omega_{l} d_{w} \\sin{\\left(\\varphi{\\left(t \\right)} \\right)} \\frac{d}{d t} x{\\left(t \\right)} - \\omega_{l} d_{w} \\cos{\\left(\\varphi{\\left(t \\right)} \\right)} \\frac{d}{d t} y{\\left(t \\right)} - \\omega_{r} d_{w} h_{bc} \\sin{\\left(\\theta{\\left(t \\right)} \\right)} \\frac{d}{d t} \\varphi{\\left(t \\right)} + \\omega_{r} d_{w} \\sin{\\left(\\varphi{\\left(t \\right)} \\right)} \\frac{d}{d t} x{\\left(t \\right)} - \\omega_{r} d_{w} \\cos{\\left(\\varphi{\\left(t \\right)} \\right)} \\frac{d}{d t} y{\\left(t \\right)} + 4 h_{bc}^{2} \\sin{\\left(2 \\theta{\\left(t \\right)} \\right)} \\frac{d}{d t} \\theta{\\left(t \\right)} \\frac{d}{d t} \\varphi{\\left(t \\right)}\\right) \\cos{\\left(\\theta{\\left(t \\right)} \\right)} \\cos{\\left(\\varphi{\\left(t \\right)} \\right)} + 2 h_{bc} m \\left(I_{z} + h_{bc}^{2} m \\sin^{2}{\\left(\\theta{\\left(t \\right)} \\right)}\\right) \\left(8 b_{w} h_{bc} \\cos{\\left(\\theta{\\left(t \\right)} \\right)} \\frac{d}{d t} z{\\left(t \\right)} - 4 h_{bc}^{2} m \\cos{\\left(2 \\theta{\\left(t \\right)} \\right)} \\left(\\frac{d}{d t} \\varphi{\\left(t \\right)}\\right)^{2}\\right) \\sin{\\left(\\varphi{\\left(t \\right)} \\right)} \\cos{\\left(\\theta{\\left(t \\right)} \\right)} - 2 h_{bc} m \\left(I_{z} + h_{bc}^{2} m \\sin^{2}{\\left(\\theta{\\left(t \\right)} \\right)}\\right) \\left(\\omega_{l} b_{w} d_{w}^{2} + \\omega_{r} b_{w} d_{w}^{2} + 2 b_{w} d_{w}^{2} \\frac{d}{d t} \\theta{\\left(t \\right)} + 8 b_{w} h_{bc} \\sin{\\left(\\theta{\\left(t \\right)} \\right)} \\frac{d}{d t} z{\\left(t \\right)} - 2 h_{bc}^{2} m \\sin{\\left(2 \\theta{\\left(t \\right)} \\right)} \\left(\\frac{d}{d t} \\varphi{\\left(t \\right)}\\right)^{2}\\right) \\sin{\\left(\\theta{\\left(t \\right)} \\right)} \\sin{\\left(\\varphi{\\left(t \\right)} \\right)} - \\left(I_{z} + h_{bc}^{2} m \\sin^{2}{\\left(\\theta{\\left(t \\right)} \\right)}\\right) \\left(I_{r} + 2 I_{w} c_{\\theta} + 2 I_{w}\\right) \\left(4 \\sqrt{2} \\rho b_{d} h_{bc} \\sin{\\left(\\varphi{\\left(t \\right)} \\right)} \\cos{\\left(\\theta{\\left(t \\right)} + \\frac{\\pi}{4} \\right)} \\frac{d}{d t} \\theta{\\left(t \\right)} + 4 \\rho b_{d} h_{bc} \\cos{\\left(\\theta{\\left(t \\right)} \\right)} \\cos{\\left(\\varphi{\\left(t \\right)} \\right)} \\frac{d}{d t} \\varphi{\\left(t \\right)} - 16 h_{bc} m \\sin{\\left(\\theta{\\left(t \\right)} \\right)} \\cos{\\left(\\varphi{\\left(t \\right)} \\right)} \\frac{d}{d t} \\theta{\\left(t \\right)} \\frac{d}{d t} \\varphi{\\left(t \\right)} - 8 h_{bc} m \\sin{\\left(\\varphi{\\left(t \\right)} \\right)} \\cos{\\left(\\theta{\\left(t \\right)} \\right)} \\left(\\frac{d}{d t} \\theta{\\left(t \\right)}\\right)^{2} - 8 h_{bc} m \\sin{\\left(\\varphi{\\left(t \\right)} \\right)} \\cos{\\left(\\theta{\\left(t \\right)} \\right)} \\left(\\frac{d}{d t} \\varphi{\\left(t \\right)}\\right)^{2}\\right)}{8 m \\left(I_{z} + h_{bc}^{2} m \\sin^{2}{\\left(\\theta{\\left(t \\right)} \\right)}\\right) \\left(I_{r} + 2 I_{w} c_{\\theta} + 2 I_{w}\\right)} & \\frac{4 b_{w} d_{w}^{2} h_{bc} m \\left(I_{z} + h_{bc}^{2} m \\sin^{2}{\\left(\\theta{\\left(t \\right)} \\right)}\\right) \\sin{\\left(\\varphi{\\left(t \\right)} \\right)} \\cos{\\left(\\theta{\\left(t \\right)} \\right)} + 8 h_{bc}^{3} m^{2} \\left(I_{r} + 2 I_{w} c_{\\theta} + 2 I_{w}\\right) \\sin{\\left(\\theta{\\left(t \\right)} \\right)} \\sin{\\left(2 \\theta{\\left(t \\right)} \\right)} \\cos{\\left(\\varphi{\\left(t \\right)} \\right)} \\frac{d}{d t} \\varphi{\\left(t \\right)} - \\left(I_{z} + h_{bc}^{2} m \\sin^{2}{\\left(\\theta{\\left(t \\right)} \\right)}\\right) \\left(I_{r} + 2 I_{w} c_{\\theta} + 2 I_{w}\\right) \\left(4 \\sqrt{2} \\rho b_{d} h_{bc} \\sin{\\left(\\theta{\\left(t \\right)} + \\frac{\\pi}{4} \\right)} \\sin{\\left(\\varphi{\\left(t \\right)} \\right)} - 16 h_{bc} m \\sin{\\left(\\theta{\\left(t \\right)} \\right)} \\sin{\\left(\\varphi{\\left(t \\right)} \\right)} \\frac{d}{d t} \\theta{\\left(t \\right)} + 16 h_{bc} m \\cos{\\left(\\theta{\\left(t \\right)} \\right)} \\cos{\\left(\\varphi{\\left(t \\right)} \\right)} \\frac{d}{d t} \\varphi{\\left(t \\right)}\\right)}{8 m \\left(I_{z} + h_{bc}^{2} m \\sin^{2}{\\left(\\theta{\\left(t \\right)} \\right)}\\right) \\left(I_{r} + 2 I_{w} c_{\\theta} + 2 I_{w}\\right)} & \\frac{2 h_{bc} m^{2} \\left(I_{r} + 2 I_{w} c_{\\theta} + 2 I_{w}\\right) \\left(\\omega_{l} d_{w} \\sin{\\left(\\varphi{\\left(t \\right)} \\right)} \\frac{d}{d t} y{\\left(t \\right)} + \\omega_{l} d_{w} \\cos{\\left(\\varphi{\\left(t \\right)} \\right)} \\frac{d}{d t} x{\\left(t \\right)} + \\omega_{r} d_{w} \\sin{\\left(\\varphi{\\left(t \\right)} \\right)} \\frac{d}{d t} y{\\left(t \\right)} + \\omega_{r} d_{w} \\cos{\\left(\\varphi{\\left(t \\right)} \\right)} \\frac{d}{d t} x{\\left(t \\right)}\\right) \\sin{\\left(\\theta{\\left(t \\right)} \\right)} \\cos{\\left(\\varphi{\\left(t \\right)} \\right)} - 2 h_{bc} m^{2} \\left(I_{r} + 2 I_{w} c_{\\theta} + 2 I_{w}\\right) \\left(- \\omega_{l} d_{w} h_{bc} \\sin{\\left(\\theta{\\left(t \\right)} \\right)} \\frac{d}{d t} \\varphi{\\left(t \\right)} + \\omega_{l} d_{w} \\sin{\\left(\\varphi{\\left(t \\right)} \\right)} \\frac{d}{d t} x{\\left(t \\right)} - \\omega_{l} d_{w} \\cos{\\left(\\varphi{\\left(t \\right)} \\right)} \\frac{d}{d t} y{\\left(t \\right)} - \\omega_{r} d_{w} h_{bc} \\sin{\\left(\\theta{\\left(t \\right)} \\right)} \\frac{d}{d t} \\varphi{\\left(t \\right)} + \\omega_{r} d_{w} \\sin{\\left(\\varphi{\\left(t \\right)} \\right)} \\frac{d}{d t} x{\\left(t \\right)} - \\omega_{r} d_{w} \\cos{\\left(\\varphi{\\left(t \\right)} \\right)} \\frac{d}{d t} y{\\left(t \\right)} + 4 h_{bc}^{2} \\sin{\\left(2 \\theta{\\left(t \\right)} \\right)} \\frac{d}{d t} \\theta{\\left(t \\right)} \\frac{d}{d t} \\varphi{\\left(t \\right)}\\right) \\sin{\\left(\\theta{\\left(t \\right)} \\right)} \\sin{\\left(\\varphi{\\left(t \\right)} \\right)} + 2 h_{bc} m \\left(I_{z} + h_{bc}^{2} m \\sin^{2}{\\left(\\theta{\\left(t \\right)} \\right)}\\right) \\left(\\omega_{l} b_{w} d_{w}^{2} + \\omega_{r} b_{w} d_{w}^{2} + 2 b_{w} d_{w}^{2} \\frac{d}{d t} \\theta{\\left(t \\right)} + 8 b_{w} h_{bc} \\sin{\\left(\\theta{\\left(t \\right)} \\right)} \\frac{d}{d t} z{\\left(t \\right)} - 2 h_{bc}^{2} m \\sin{\\left(2 \\theta{\\left(t \\right)} \\right)} \\left(\\frac{d}{d t} \\varphi{\\left(t \\right)}\\right)^{2}\\right) \\cos{\\left(\\theta{\\left(t \\right)} \\right)} \\cos{\\left(\\varphi{\\left(t \\right)} \\right)} - \\left(I_{z} + h_{bc}^{2} m \\sin^{2}{\\left(\\theta{\\left(t \\right)} \\right)}\\right) \\left(I_{r} + 2 I_{w} c_{\\theta} + 2 I_{w}\\right) \\left(\\rho b_{d} d_{w} \\left(\\omega_{l} + \\omega_{r}\\right) \\cos{\\left(\\varphi{\\left(t \\right)} \\right)} + 4 \\sqrt{2} \\rho b_{d} h_{bc} \\sin{\\left(\\theta{\\left(t \\right)} + \\frac{\\pi}{4} \\right)} \\cos{\\left(\\varphi{\\left(t \\right)} \\right)} \\frac{d}{d t} \\theta{\\left(t \\right)} - 8 h_{bc} m \\sin{\\left(\\theta{\\left(t \\right)} \\right)} \\cos{\\left(\\varphi{\\left(t \\right)} \\right)} \\left(\\frac{d}{d t} \\theta{\\left(t \\right)}\\right)^{2} - 8 h_{bc} m \\sin{\\left(\\theta{\\left(t \\right)} \\right)} \\cos{\\left(\\varphi{\\left(t \\right)} \\right)} \\left(\\frac{d}{d t} \\varphi{\\left(t \\right)}\\right)^{2} - 16 h_{bc} m \\sin{\\left(\\varphi{\\left(t \\right)} \\right)} \\cos{\\left(\\theta{\\left(t \\right)} \\right)} \\frac{d}{d t} \\theta{\\left(t \\right)} \\frac{d}{d t} \\varphi{\\left(t \\right)} - 2 \\left(\\omega_{l} d_{w} m + \\omega_{r} d_{w} m + 2 \\rho b_{d} h_{bc} \\sin{\\left(\\theta{\\left(t \\right)} \\right)}\\right) \\sin{\\left(\\varphi{\\left(t \\right)} \\right)} \\frac{d}{d t} \\varphi{\\left(t \\right)}\\right)}{8 m \\left(I_{z} + h_{bc}^{2} m \\sin^{2}{\\left(\\theta{\\left(t \\right)} \\right)}\\right) \\left(I_{r} + 2 I_{w} c_{\\theta} + 2 I_{w}\\right)} & \\frac{- 8 h_{bc}^{3} m^{2} \\left(I_{z} + h_{bc}^{2} m \\sin^{2}{\\left(\\theta{\\left(t \\right)} \\right)}\\right) \\sin{\\left(2 \\theta{\\left(t \\right)} \\right)} \\sin{\\left(\\varphi{\\left(t \\right)} \\right)} \\cos{\\left(\\theta{\\left(t \\right)} \\right)} \\frac{d}{d t} \\varphi{\\left(t \\right)} + 2 h_{bc} m^{2} \\left(I_{r} + 2 I_{w} c_{\\theta} + 2 I_{w}\\right) \\left(- \\omega_{l} d_{w} h_{bc} \\sin{\\left(\\theta{\\left(t \\right)} \\right)} - \\omega_{r} d_{w} h_{bc} \\sin{\\left(\\theta{\\left(t \\right)} \\right)} + 4 h_{bc}^{2} \\sin{\\left(2 \\theta{\\left(t \\right)} \\right)} \\frac{d}{d t} \\theta{\\left(t \\right)}\\right) \\sin{\\left(\\theta{\\left(t \\right)} \\right)} \\cos{\\left(\\varphi{\\left(t \\right)} \\right)} - \\left(I_{z} + h_{bc}^{2} m \\sin^{2}{\\left(\\theta{\\left(t \\right)} \\right)}\\right) \\left(I_{r} + 2 I_{w} c_{\\theta} + 2 I_{w}\\right) \\left(- 16 h_{bc} m \\sin{\\left(\\theta{\\left(t \\right)} \\right)} \\sin{\\left(\\varphi{\\left(t \\right)} \\right)} \\frac{d}{d t} \\varphi{\\left(t \\right)} + 16 h_{bc} m \\cos{\\left(\\theta{\\left(t \\right)} \\right)} \\cos{\\left(\\varphi{\\left(t \\right)} \\right)} \\frac{d}{d t} \\theta{\\left(t \\right)} + 2 \\left(\\omega_{l} d_{w} m + \\omega_{r} d_{w} m + 2 \\rho b_{d} h_{bc} \\sin{\\left(\\theta{\\left(t \\right)} \\right)}\\right) \\cos{\\left(\\varphi{\\left(t \\right)} \\right)}\\right)}{8 m \\left(I_{z} + h_{bc}^{2} m \\sin^{2}{\\left(\\theta{\\left(t \\right)} \\right)}\\right) \\left(I_{r} + 2 I_{w} c_{\\theta} + 2 I_{w}\\right)} & \\frac{2 b_{w} d_{w}^{2} h_{bc} m \\left(I_{z} + h_{bc}^{2} m \\sin^{2}{\\left(\\theta{\\left(t \\right)} \\right)}\\right) \\sin{\\left(\\varphi{\\left(t \\right)} \\right)} \\cos{\\left(\\theta{\\left(t \\right)} \\right)} + 2 h_{bc} m^{2} \\left(I_{r} + 2 I_{w} c_{\\theta} + 2 I_{w}\\right) \\left(- d_{w} h_{bc} \\sin{\\left(\\theta{\\left(t \\right)} \\right)} \\frac{d}{d t} \\varphi{\\left(t \\right)} + d_{w} \\sin{\\left(\\varphi{\\left(t \\right)} \\right)} \\frac{d}{d t} x{\\left(t \\right)} - d_{w} \\cos{\\left(\\varphi{\\left(t \\right)} \\right)} \\frac{d}{d t} y{\\left(t \\right)}\\right) \\sin{\\left(\\theta{\\left(t \\right)} \\right)} \\cos{\\left(\\varphi{\\left(t \\right)} \\right)} - \\left(I_{z} + h_{bc}^{2} m \\sin^{2}{\\left(\\theta{\\left(t \\right)} \\right)}\\right) \\left(\\rho b_{d} d_{w} \\sin{\\left(\\varphi{\\left(t \\right)} \\right)} + 2 d_{w} m \\cos{\\left(\\varphi{\\left(t \\right)} \\right)} \\frac{d}{d t} \\varphi{\\left(t \\right)}\\right) \\left(I_{r} + 2 I_{w} c_{\\theta} + 2 I_{w}\\right)}{8 m \\left(I_{z} + h_{bc}^{2} m \\sin^{2}{\\left(\\theta{\\left(t \\right)} \\right)}\\right) \\left(I_{r} + 2 I_{w} c_{\\theta} + 2 I_{w}\\right)} & \\frac{2 b_{w} d_{w}^{2} h_{bc} m \\left(I_{z} + h_{bc}^{2} m \\sin^{2}{\\left(\\theta{\\left(t \\right)} \\right)}\\right) \\sin{\\left(\\varphi{\\left(t \\right)} \\right)} \\cos{\\left(\\theta{\\left(t \\right)} \\right)} + 2 h_{bc} m^{2} \\left(I_{r} + 2 I_{w} c_{\\theta} + 2 I_{w}\\right) \\left(- d_{w} h_{bc} \\sin{\\left(\\theta{\\left(t \\right)} \\right)} \\frac{d}{d t} \\varphi{\\left(t \\right)} + d_{w} \\sin{\\left(\\varphi{\\left(t \\right)} \\right)} \\frac{d}{d t} x{\\left(t \\right)} - d_{w} \\cos{\\left(\\varphi{\\left(t \\right)} \\right)} \\frac{d}{d t} y{\\left(t \\right)}\\right) \\sin{\\left(\\theta{\\left(t \\right)} \\right)} \\cos{\\left(\\varphi{\\left(t \\right)} \\right)} - \\left(I_{z} + h_{bc}^{2} m \\sin^{2}{\\left(\\theta{\\left(t \\right)} \\right)}\\right) \\left(\\rho b_{d} d_{w} \\sin{\\left(\\varphi{\\left(t \\right)} \\right)} + 2 d_{w} m \\cos{\\left(\\varphi{\\left(t \\right)} \\right)} \\frac{d}{d t} \\varphi{\\left(t \\right)}\\right) \\left(I_{r} + 2 I_{w} c_{\\theta} + 2 I_{w}\\right)}{8 m \\left(I_{z} + h_{bc}^{2} m \\sin^{2}{\\left(\\theta{\\left(t \\right)} \\right)}\\right) \\left(I_{r} + 2 I_{w} c_{\\theta} + 2 I_{w}\\right)}\\\\0 & 0 & 0 & 0 & 0 & 1 & 0 & 0 & 0 & 0 & 0 & 0\\\\0 & 0 & 0 & 0 & 0 & - \\frac{8 b_{w} h_{bc}^{2} m \\sin^{2}{\\left(\\theta{\\left(t \\right)} \\right)} + 2 \\left(\\rho b_{d} + 4 b_{w}\\right) \\left(I_{r} + 2 I_{w} c_{\\theta} + 2 I_{w}\\right)}{4 m \\left(I_{r} + 2 I_{w} c_{\\theta} + 2 I_{w}\\right)} & - \\frac{h_{bc} m \\left(8 b_{w} h_{bc} \\cos{\\left(\\theta{\\left(t \\right)} \\right)} \\frac{d}{d t} z{\\left(t \\right)} - 4 h_{bc}^{2} m \\cos{\\left(2 \\theta{\\left(t \\right)} \\right)} \\left(\\frac{d}{d t} \\varphi{\\left(t \\right)}\\right)^{2}\\right) \\sin{\\left(\\theta{\\left(t \\right)} \\right)} + h_{bc} m \\left(\\omega_{l} b_{w} d_{w}^{2} + \\omega_{r} b_{w} d_{w}^{2} + 2 b_{w} d_{w}^{2} \\frac{d}{d t} \\theta{\\left(t \\right)} + 8 b_{w} h_{bc} \\sin{\\left(\\theta{\\left(t \\right)} \\right)} \\frac{d}{d t} z{\\left(t \\right)} - 2 h_{bc}^{2} m \\sin{\\left(2 \\theta{\\left(t \\right)} \\right)} \\left(\\frac{d}{d t} \\varphi{\\left(t \\right)}\\right)^{2}\\right) \\cos{\\left(\\theta{\\left(t \\right)} \\right)} + 2 \\left(- \\sqrt{2} \\rho b_{d} h_{bc} \\sin{\\left(\\theta{\\left(t \\right)} + \\frac{\\pi}{4} \\right)} \\frac{d}{d t} \\theta{\\left(t \\right)} + 2 h_{bc} m \\sin{\\left(\\theta{\\left(t \\right)} \\right)} \\left(\\frac{d}{d t} \\theta{\\left(t \\right)}\\right)^{2}\\right) \\left(I_{r} + 2 I_{w} c_{\\theta} + 2 I_{w}\\right)}{4 m \\left(I_{r} + 2 I_{w} c_{\\theta} + 2 I_{w}\\right)} & - \\frac{2 b_{w} d_{w}^{2} h_{bc} m \\sin{\\left(\\theta{\\left(t \\right)} \\right)} + 2 \\left(\\sqrt{2} \\rho b_{d} h_{bc} \\cos{\\left(\\theta{\\left(t \\right)} + \\frac{\\pi}{4} \\right)} - 4 h_{bc} m \\cos{\\left(\\theta{\\left(t \\right)} \\right)} \\frac{d}{d t} \\theta{\\left(t \\right)}\\right) \\left(I_{r} + 2 I_{w} c_{\\theta} + 2 I_{w}\\right)}{4 m \\left(I_{r} + 2 I_{w} c_{\\theta} + 2 I_{w}\\right)} & 0 & \\frac{h_{bc}^{3} m \\sin{\\left(\\theta{\\left(t \\right)} \\right)} \\sin{\\left(2 \\theta{\\left(t \\right)} \\right)} \\frac{d}{d t} \\varphi{\\left(t \\right)}}{I_{r} + 2 I_{w} c_{\\theta} + 2 I_{w}} & - \\frac{b_{w} d_{w}^{2} h_{bc} \\sin{\\left(\\theta{\\left(t \\right)} \\right)}}{4 \\left(I_{r} + 2 I_{w} c_{\\theta} + 2 I_{w}\\right)} & - \\frac{b_{w} d_{w}^{2} h_{bc} \\sin{\\left(\\theta{\\left(t \\right)} \\right)}}{4 \\left(I_{r} + 2 I_{w} c_{\\theta} + 2 I_{w}\\right)}\\\\0 & 0 & 0 & 0 & 0 & 0 & 0 & 1 & 0 & 0 & 0 & 0\\\\0 & 0 & 0 & 0 & 0 & - \\frac{8 b_{w} h_{bc} \\sin{\\left(\\theta{\\left(t \\right)} \\right)}}{4 I_{r} + 8 I_{w} c_{\\theta} + 8 I_{w}} & \\frac{- 8 b_{w} h_{bc} \\cos{\\left(\\theta{\\left(t \\right)} \\right)} \\frac{d}{d t} z{\\left(t \\right)} + 4 h_{bc}^{2} m \\cos{\\left(2 \\theta{\\left(t \\right)} \\right)} \\left(\\frac{d}{d t} \\varphi{\\left(t \\right)}\\right)^{2}}{4 I_{r} + 8 I_{w} c_{\\theta} + 8 I_{w}} & - \\frac{2 b_{w} d_{w}^{2}}{4 I_{r} + 8 I_{w} c_{\\theta} + 8 I_{w}} & 0 & \\frac{4 h_{bc}^{2} m \\sin{\\left(2 \\theta{\\left(t \\right)} \\right)} \\frac{d}{d t} \\varphi{\\left(t \\right)}}{4 I_{r} + 8 I_{w} c_{\\theta} + 8 I_{w}} & - \\frac{b_{w} d_{w}^{2}}{4 I_{r} + 8 I_{w} c_{\\theta} + 8 I_{w}} & - \\frac{b_{w} d_{w}^{2}}{4 I_{r} + 8 I_{w} c_{\\theta} + 8 I_{w}}\\\\0 & 0 & 0 & 0 & 0 & 0 & 0 & 0 & 0 & 1 & 0 & 0\\\\0 & \\frac{m \\left(- \\omega_{l} d_{w} \\sin{\\left(\\varphi{\\left(t \\right)} \\right)} - \\omega_{r} d_{w} \\sin{\\left(\\varphi{\\left(t \\right)} \\right)}\\right)}{4 I_{z} + 4 h_{bc}^{2} m \\sin^{2}{\\left(\\theta{\\left(t \\right)} \\right)}} & 0 & \\frac{m \\left(\\omega_{l} d_{w} \\cos{\\left(\\varphi{\\left(t \\right)} \\right)} + \\omega_{r} d_{w} \\cos{\\left(\\varphi{\\left(t \\right)} \\right)}\\right)}{4 I_{z} + 4 h_{bc}^{2} m \\sin^{2}{\\left(\\theta{\\left(t \\right)} \\right)}} & 0 & 0 & - \\frac{8 h_{bc}^{2} m^{2} \\left(\\omega_{l} d_{w} h_{bc} \\sin{\\left(\\theta{\\left(t \\right)} \\right)} \\frac{d}{d t} \\varphi{\\left(t \\right)} - \\omega_{l} d_{w} \\sin{\\left(\\varphi{\\left(t \\right)} \\right)} \\frac{d}{d t} x{\\left(t \\right)} + \\omega_{l} d_{w} \\cos{\\left(\\varphi{\\left(t \\right)} \\right)} \\frac{d}{d t} y{\\left(t \\right)} + \\omega_{r} d_{w} h_{bc} \\sin{\\left(\\theta{\\left(t \\right)} \\right)} \\frac{d}{d t} \\varphi{\\left(t \\right)} - \\omega_{r} d_{w} \\sin{\\left(\\varphi{\\left(t \\right)} \\right)} \\frac{d}{d t} x{\\left(t \\right)} + \\omega_{r} d_{w} \\cos{\\left(\\varphi{\\left(t \\right)} \\right)} \\frac{d}{d t} y{\\left(t \\right)} - 4 h_{bc}^{2} \\sin{\\left(2 \\theta{\\left(t \\right)} \\right)} \\frac{d}{d t} \\theta{\\left(t \\right)} \\frac{d}{d t} \\varphi{\\left(t \\right)}\\right) \\sin{\\left(\\theta{\\left(t \\right)} \\right)} \\cos{\\left(\\theta{\\left(t \\right)} \\right)}}{\\left(4 I_{z} + 4 h_{bc}^{2} m \\sin^{2}{\\left(\\theta{\\left(t \\right)} \\right)}\\right)^{2}} + \\frac{m \\left(\\omega_{l} d_{w} h_{bc} \\cos{\\left(\\theta{\\left(t \\right)} \\right)} \\frac{d}{d t} \\varphi{\\left(t \\right)} + \\omega_{r} d_{w} h_{bc} \\cos{\\left(\\theta{\\left(t \\right)} \\right)} \\frac{d}{d t} \\varphi{\\left(t \\right)} - 8 h_{bc}^{2} \\cos{\\left(2 \\theta{\\left(t \\right)} \\right)} \\frac{d}{d t} \\theta{\\left(t \\right)} \\frac{d}{d t} \\varphi{\\left(t \\right)}\\right)}{4 I_{z} + 4 h_{bc}^{2} m \\sin^{2}{\\left(\\theta{\\left(t \\right)} \\right)}} & - \\frac{4 h_{bc}^{2} m \\sin{\\left(2 \\theta{\\left(t \\right)} \\right)} \\frac{d}{d t} \\varphi{\\left(t \\right)}}{4 I_{z} + 4 h_{bc}^{2} m \\sin^{2}{\\left(\\theta{\\left(t \\right)} \\right)}} & \\frac{m \\left(- \\omega_{l} d_{w} \\sin{\\left(\\varphi{\\left(t \\right)} \\right)} \\frac{d}{d t} y{\\left(t \\right)} - \\omega_{l} d_{w} \\cos{\\left(\\varphi{\\left(t \\right)} \\right)} \\frac{d}{d t} x{\\left(t \\right)} - \\omega_{r} d_{w} \\sin{\\left(\\varphi{\\left(t \\right)} \\right)} \\frac{d}{d t} y{\\left(t \\right)} - \\omega_{r} d_{w} \\cos{\\left(\\varphi{\\left(t \\right)} \\right)} \\frac{d}{d t} x{\\left(t \\right)}\\right)}{4 I_{z} + 4 h_{bc}^{2} m \\sin^{2}{\\left(\\theta{\\left(t \\right)} \\right)}} & \\frac{m \\left(\\omega_{l} d_{w} h_{bc} \\sin{\\left(\\theta{\\left(t \\right)} \\right)} + \\omega_{r} d_{w} h_{bc} \\sin{\\left(\\theta{\\left(t \\right)} \\right)} - 4 h_{bc}^{2} \\sin{\\left(2 \\theta{\\left(t \\right)} \\right)} \\frac{d}{d t} \\theta{\\left(t \\right)}\\right)}{4 I_{z} + 4 h_{bc}^{2} m \\sin^{2}{\\left(\\theta{\\left(t \\right)} \\right)}} & \\frac{m \\left(d_{w} h_{bc} \\sin{\\left(\\theta{\\left(t \\right)} \\right)} \\frac{d}{d t} \\varphi{\\left(t \\right)} - d_{w} \\sin{\\left(\\varphi{\\left(t \\right)} \\right)} \\frac{d}{d t} x{\\left(t \\right)} + d_{w} \\cos{\\left(\\varphi{\\left(t \\right)} \\right)} \\frac{d}{d t} y{\\left(t \\right)}\\right)}{4 I_{z} + 4 h_{bc}^{2} m \\sin^{2}{\\left(\\theta{\\left(t \\right)} \\right)}} & \\frac{m \\left(d_{w} h_{bc} \\sin{\\left(\\theta{\\left(t \\right)} \\right)} \\frac{d}{d t} \\varphi{\\left(t \\right)} - d_{w} \\sin{\\left(\\varphi{\\left(t \\right)} \\right)} \\frac{d}{d t} x{\\left(t \\right)} + d_{w} \\cos{\\left(\\varphi{\\left(t \\right)} \\right)} \\frac{d}{d t} y{\\left(t \\right)}\\right)}{4 I_{z} + 4 h_{bc}^{2} m \\sin^{2}{\\left(\\theta{\\left(t \\right)} \\right)}}\\end{array}\\right]$"
     },
     "execution_count": 39,
     "metadata": {},
     "output_type": "execute_result"
    }
   ],
   "execution_count": 39
  },
  {
   "metadata": {},
   "cell_type": "markdown",
   "source": "#### First-order representation"
  },
  {
   "metadata": {
    "ExecuteTime": {
     "end_time": "2025-07-30T18:53:41.423144Z",
     "start_time": "2025-07-30T18:53:41.420046Z"
    }
   },
   "cell_type": "code",
   "source": [
    "xd1 = sp.Function(r\"\\hat{x}\")(t)\n",
    "yd1 = sp.Function(r\"\\hat{y}\")(t)\n",
    "zd1 = sp.Function(r\"\\hat{z}\")(t)\n",
    "td1 = sp.Function(r\"\\hat{\\theta}\")(t)\n",
    "pd1 = sp.Function(r\"\\hat{\\varphi}\")(t)\n",
    "\n",
    "subs_1ord = {\n",
    "    cs_q.xd: xd1,\n",
    "    cs_q.yd: yd1,\n",
    "    cs_q.zd: zd1,\n",
    "    cs_q.td: td1,\n",
    "    cs_q.pd: pd1,\n",
    "}\n",
    "\n",
    "subs_1ord_keys = list(subs_1ord.keys())\n",
    "subs_1ord_vals = list(subs_1ord.values())"
   ],
   "outputs": [],
   "execution_count": 40
  },
  {
   "metadata": {
    "ExecuteTime": {
     "end_time": "2025-07-30T18:53:41.714067Z",
     "start_time": "2025-07-30T18:53:41.618311Z"
    }
   },
   "cell_type": "code",
   "source": [
    "model_1ord = sp.Matrix([\n",
    "    *(k - v for k, v in zip(subs_1ord_keys, subs_1ord_vals)),\n",
    "    *(expr.subs(subs_1ord) for expr in model)\n",
    "])\n",
    "\n",
    "# Output\n",
    "model_1ord"
   ],
   "outputs": [
    {
     "data": {
      "text/plain": [
       "Matrix([\n",
       "[                                                                                                                                                                                                                                                                                                                                                                                                                                                                                                                                                                                                                                                                                                                                                                                                                                                                                                                                                                                                                                      -\\hat{x}(t) + Derivative(x(t), t)],\n",
       "[                                                                                                                                                                                                                                                                                                                                                                                                                                                                                                                                                                                                                                                                                                                                                                                                                                                                                                                                                                                                                                      -\\hat{y}(t) + Derivative(y(t), t)],\n",
       "[                                                                                                                                                                                                                                                                                                                                                                                                                                                                                                                                                                                                                                                                                                                                                                                                                                                                                                                                                                                                                                      -\\hat{z}(t) + Derivative(z(t), t)],\n",
       "[                                                                                                                                                                                                                                                                                                                                                                                                                                                                                                                                                                                                                                                                                                                                                                                                                                                                                                                                                                                                                            -\\hat{\\theta}(t) + Derivative(\\theta(t), t)],\n",
       "[                                                                                                                                                                                                                                                                                                                                                                                                                                                                                                                                                                                                                                                                                                                                                                                                                                                                                                                                                                                                                          -\\hat{\\varphi}(t) + Derivative(\\varphi(t), t)],\n",
       "[                                                                                                                                                                                                                                                                                                                                                                                                \\rho*b_d*(\\omega_l*d_w*cos(\\varphi(t)) + \\omega_r*d_w*cos(\\varphi(t)) + 4*sqrt(2)*h_bc*\\hat{\\theta}(t)*sin(\\theta(t) + pi/4)*cos(\\varphi(t)) - 4*h_bc*\\hat{\\varphi}(t)*sin(\\theta(t))*sin(\\varphi(t)) + 4*\\hat{x}(t))/8 - m*(d_w*(\\omega_l + \\omega_r)*\\hat{\\varphi}(t)*sin(\\varphi(t)) + 4*h_bc*\\hat{\\theta}(t)**2*sin(\\theta(t))*cos(\\varphi(t)) + 8*h_bc*\\hat{\\theta}(t)*\\hat{\\varphi}(t)*sin(\\varphi(t))*cos(\\theta(t)) + 4*h_bc*\\hat{\\varphi}(t)**2*sin(\\theta(t))*cos(\\varphi(t)) + 4*h_bc*sin(\\theta(t))*sin(\\varphi(t))*Derivative(\\hat{\\varphi}(t), t) - 4*h_bc*cos(\\theta(t))*cos(\\varphi(t))*Derivative(\\hat{\\theta}(t), t) - 4*Derivative(\\hat{x}(t), t))/4],\n",
       "[                                                                                                                                                                                                                                                                                                                                                                                                \\rho*b_d*(\\omega_l*d_w*sin(\\varphi(t)) + \\omega_r*d_w*sin(\\varphi(t)) + 4*sqrt(2)*h_bc*\\hat{\\theta}(t)*sin(\\theta(t) + pi/4)*sin(\\varphi(t)) + 4*h_bc*\\hat{\\varphi}(t)*sin(\\theta(t))*cos(\\varphi(t)) + 4*\\hat{y}(t))/8 + m*(d_w*(\\omega_l + \\omega_r)*\\hat{\\varphi}(t)*cos(\\varphi(t)) - 4*h_bc*\\hat{\\theta}(t)**2*sin(\\theta(t))*sin(\\varphi(t)) + 8*h_bc*\\hat{\\theta}(t)*\\hat{\\varphi}(t)*cos(\\theta(t))*cos(\\varphi(t)) - 4*h_bc*\\hat{\\varphi}(t)**2*sin(\\theta(t))*sin(\\varphi(t)) + 4*h_bc*sin(\\theta(t))*cos(\\varphi(t))*Derivative(\\hat{\\varphi}(t), t) + 4*h_bc*sin(\\varphi(t))*cos(\\theta(t))*Derivative(\\hat{\\theta}(t), t) + 4*Derivative(\\hat{y}(t), t))/4],\n",
       "[                                                                                                                                                                                                                                                                                                                                                                                                                                                                                                                                                                                                                                                                                                                                                                                                                                    \\rho*b_d*(sqrt(2)*h_bc*\\hat{\\theta}(t)*cos(\\theta(t) + pi/4) + \\hat{z}(t))/2 + 2*b_w*\\hat{z}(t) + g*m - m*(h_bc*\\hat{\\theta}(t)**2*cos(\\theta(t)) + h_bc*sin(\\theta(t))*Derivative(\\hat{\\theta}(t), t) - Derivative(\\hat{z}(t), t))],\n",
       "[I_r*Derivative(\\hat{\\theta}(t), t) + 2*I_w*c_{\\theta}*Derivative(\\hat{\\theta}(t), t) + 2*I_w*Derivative(\\hat{\\theta}(t), t) + \\omega_l*\\rho*b_d*d_w*h_bc*cos(\\theta(t))/8 + \\omega_l*b_w*d_w**2/4 + \\omega_r*\\rho*b_d*d_w*h_bc*cos(\\theta(t))/8 + \\omega_r*b_w*d_w**2/4 + \\rho*b_d*h_bc**2*\\hat{\\theta}(t)/2 + \\rho*b_d*h_bc*\\hat{x}(t)*cos(\\theta(t) - \\varphi(t))/4 + \\rho*b_d*h_bc*\\hat{x}(t)*cos(\\theta(t) + \\varphi(t))/4 - \\rho*b_d*h_bc*\\hat{y}(t)*sin(\\theta(t) - \\varphi(t))/4 + \\rho*b_d*h_bc*\\hat{y}(t)*sin(\\theta(t) + \\varphi(t))/4 - \\rho*b_d*h_bc*\\hat{z}(t)*sin(\\theta(t))/2 + b_w*d_w**2*\\hat{\\theta}(t)/2 - g*h_bc*m*sin(\\theta(t)) - h_bc**2*m*\\hat{\\varphi}(t)**2*sin(2*\\theta(t)) + h_bc**2*m*Derivative(\\hat{\\theta}(t), t) - h_bc*m*sin(\\theta(t) - \\varphi(t))*Derivative(\\hat{y}(t), t)/2 + h_bc*m*sin(\\theta(t) + \\varphi(t))*Derivative(\\hat{y}(t), t)/2 - h_bc*m*sin(\\theta(t))*Derivative(\\hat{z}(t), t) + h_bc*m*cos(\\theta(t) - \\varphi(t))*Derivative(\\hat{x}(t), t)/2 + h_bc*m*cos(\\theta(t) + \\varphi(t))*Derivative(\\hat{x}(t), t)/2],\n",
       "[                                                                                                                                                                                                                                                                                                                                                                                        I_z*Derivative(\\hat{\\varphi}(t), t) + \\omega_l*d_w*m*\\hat{x}(t)*sin(\\varphi(t))/4 - \\omega_l*d_w*m*\\hat{y}(t)*cos(\\varphi(t))/4 + \\omega_r*d_w*m*\\hat{x}(t)*sin(\\varphi(t))/4 - \\omega_r*d_w*m*\\hat{y}(t)*cos(\\varphi(t))/4 + \\rho*b_d*h_bc**2*\\hat{\\varphi}(t)*sin(\\theta(t))**2/2 - \\rho*b_d*h_bc*\\hat{x}(t)*sin(\\theta(t))*sin(\\varphi(t))/2 + \\rho*b_d*h_bc*\\hat{y}(t)*sin(\\theta(t))*cos(\\varphi(t))/2 + 2*h_bc**2*m*\\hat{\\theta}(t)*\\hat{\\varphi}(t)*sin(2*\\theta(t)) + 2*h_bc**2*m*sin(\\theta(t))**2*Derivative(\\hat{\\varphi}(t), t) - h_bc*m*sin(\\theta(t))*sin(\\varphi(t))*Derivative(\\hat{x}(t), t) + h_bc*m*sin(\\theta(t))*cos(\\varphi(t))*Derivative(\\hat{y}(t), t)]])"
      ],
      "text/latex": "$\\displaystyle \\left[\\begin{matrix}- \\hat{x}{\\left(t \\right)} + \\frac{d}{d t} x{\\left(t \\right)}\\\\- \\hat{y}{\\left(t \\right)} + \\frac{d}{d t} y{\\left(t \\right)}\\\\- \\hat{z}{\\left(t \\right)} + \\frac{d}{d t} z{\\left(t \\right)}\\\\- \\hat{\\theta}{\\left(t \\right)} + \\frac{d}{d t} \\theta{\\left(t \\right)}\\\\- \\hat{\\varphi}{\\left(t \\right)} + \\frac{d}{d t} \\varphi{\\left(t \\right)}\\\\\\frac{\\rho b_{d} \\left(\\omega_{l} d_{w} \\cos{\\left(\\varphi{\\left(t \\right)} \\right)} + \\omega_{r} d_{w} \\cos{\\left(\\varphi{\\left(t \\right)} \\right)} + 4 \\sqrt{2} h_{bc} \\hat{\\theta}{\\left(t \\right)} \\sin{\\left(\\theta{\\left(t \\right)} + \\frac{\\pi}{4} \\right)} \\cos{\\left(\\varphi{\\left(t \\right)} \\right)} - 4 h_{bc} \\hat{\\varphi}{\\left(t \\right)} \\sin{\\left(\\theta{\\left(t \\right)} \\right)} \\sin{\\left(\\varphi{\\left(t \\right)} \\right)} + 4 \\hat{x}{\\left(t \\right)}\\right)}{8} - \\frac{m \\left(d_{w} \\left(\\omega_{l} + \\omega_{r}\\right) \\hat{\\varphi}{\\left(t \\right)} \\sin{\\left(\\varphi{\\left(t \\right)} \\right)} + 4 h_{bc} \\hat{\\theta}^{2}{\\left(t \\right)} \\sin{\\left(\\theta{\\left(t \\right)} \\right)} \\cos{\\left(\\varphi{\\left(t \\right)} \\right)} + 8 h_{bc} \\hat{\\theta}{\\left(t \\right)} \\hat{\\varphi}{\\left(t \\right)} \\sin{\\left(\\varphi{\\left(t \\right)} \\right)} \\cos{\\left(\\theta{\\left(t \\right)} \\right)} + 4 h_{bc} \\hat{\\varphi}^{2}{\\left(t \\right)} \\sin{\\left(\\theta{\\left(t \\right)} \\right)} \\cos{\\left(\\varphi{\\left(t \\right)} \\right)} + 4 h_{bc} \\sin{\\left(\\theta{\\left(t \\right)} \\right)} \\sin{\\left(\\varphi{\\left(t \\right)} \\right)} \\frac{d}{d t} \\hat{\\varphi}{\\left(t \\right)} - 4 h_{bc} \\cos{\\left(\\theta{\\left(t \\right)} \\right)} \\cos{\\left(\\varphi{\\left(t \\right)} \\right)} \\frac{d}{d t} \\hat{\\theta}{\\left(t \\right)} - 4 \\frac{d}{d t} \\hat{x}{\\left(t \\right)}\\right)}{4}\\\\\\frac{\\rho b_{d} \\left(\\omega_{l} d_{w} \\sin{\\left(\\varphi{\\left(t \\right)} \\right)} + \\omega_{r} d_{w} \\sin{\\left(\\varphi{\\left(t \\right)} \\right)} + 4 \\sqrt{2} h_{bc} \\hat{\\theta}{\\left(t \\right)} \\sin{\\left(\\theta{\\left(t \\right)} + \\frac{\\pi}{4} \\right)} \\sin{\\left(\\varphi{\\left(t \\right)} \\right)} + 4 h_{bc} \\hat{\\varphi}{\\left(t \\right)} \\sin{\\left(\\theta{\\left(t \\right)} \\right)} \\cos{\\left(\\varphi{\\left(t \\right)} \\right)} + 4 \\hat{y}{\\left(t \\right)}\\right)}{8} + \\frac{m \\left(d_{w} \\left(\\omega_{l} + \\omega_{r}\\right) \\hat{\\varphi}{\\left(t \\right)} \\cos{\\left(\\varphi{\\left(t \\right)} \\right)} - 4 h_{bc} \\hat{\\theta}^{2}{\\left(t \\right)} \\sin{\\left(\\theta{\\left(t \\right)} \\right)} \\sin{\\left(\\varphi{\\left(t \\right)} \\right)} + 8 h_{bc} \\hat{\\theta}{\\left(t \\right)} \\hat{\\varphi}{\\left(t \\right)} \\cos{\\left(\\theta{\\left(t \\right)} \\right)} \\cos{\\left(\\varphi{\\left(t \\right)} \\right)} - 4 h_{bc} \\hat{\\varphi}^{2}{\\left(t \\right)} \\sin{\\left(\\theta{\\left(t \\right)} \\right)} \\sin{\\left(\\varphi{\\left(t \\right)} \\right)} + 4 h_{bc} \\sin{\\left(\\theta{\\left(t \\right)} \\right)} \\cos{\\left(\\varphi{\\left(t \\right)} \\right)} \\frac{d}{d t} \\hat{\\varphi}{\\left(t \\right)} + 4 h_{bc} \\sin{\\left(\\varphi{\\left(t \\right)} \\right)} \\cos{\\left(\\theta{\\left(t \\right)} \\right)} \\frac{d}{d t} \\hat{\\theta}{\\left(t \\right)} + 4 \\frac{d}{d t} \\hat{y}{\\left(t \\right)}\\right)}{4}\\\\\\frac{\\rho b_{d} \\left(\\sqrt{2} h_{bc} \\hat{\\theta}{\\left(t \\right)} \\cos{\\left(\\theta{\\left(t \\right)} + \\frac{\\pi}{4} \\right)} + \\hat{z}{\\left(t \\right)}\\right)}{2} + 2 b_{w} \\hat{z}{\\left(t \\right)} + g m - m \\left(h_{bc} \\hat{\\theta}^{2}{\\left(t \\right)} \\cos{\\left(\\theta{\\left(t \\right)} \\right)} + h_{bc} \\sin{\\left(\\theta{\\left(t \\right)} \\right)} \\frac{d}{d t} \\hat{\\theta}{\\left(t \\right)} - \\frac{d}{d t} \\hat{z}{\\left(t \\right)}\\right)\\\\I_{r} \\frac{d}{d t} \\hat{\\theta}{\\left(t \\right)} + 2 I_{w} c_{\\theta} \\frac{d}{d t} \\hat{\\theta}{\\left(t \\right)} + 2 I_{w} \\frac{d}{d t} \\hat{\\theta}{\\left(t \\right)} + \\frac{\\omega_{l} \\rho b_{d} d_{w} h_{bc} \\cos{\\left(\\theta{\\left(t \\right)} \\right)}}{8} + \\frac{\\omega_{l} b_{w} d_{w}^{2}}{4} + \\frac{\\omega_{r} \\rho b_{d} d_{w} h_{bc} \\cos{\\left(\\theta{\\left(t \\right)} \\right)}}{8} + \\frac{\\omega_{r} b_{w} d_{w}^{2}}{4} + \\frac{\\rho b_{d} h_{bc}^{2} \\hat{\\theta}{\\left(t \\right)}}{2} + \\frac{\\rho b_{d} h_{bc} \\hat{x}{\\left(t \\right)} \\cos{\\left(\\theta{\\left(t \\right)} - \\varphi{\\left(t \\right)} \\right)}}{4} + \\frac{\\rho b_{d} h_{bc} \\hat{x}{\\left(t \\right)} \\cos{\\left(\\theta{\\left(t \\right)} + \\varphi{\\left(t \\right)} \\right)}}{4} - \\frac{\\rho b_{d} h_{bc} \\hat{y}{\\left(t \\right)} \\sin{\\left(\\theta{\\left(t \\right)} - \\varphi{\\left(t \\right)} \\right)}}{4} + \\frac{\\rho b_{d} h_{bc} \\hat{y}{\\left(t \\right)} \\sin{\\left(\\theta{\\left(t \\right)} + \\varphi{\\left(t \\right)} \\right)}}{4} - \\frac{\\rho b_{d} h_{bc} \\hat{z}{\\left(t \\right)} \\sin{\\left(\\theta{\\left(t \\right)} \\right)}}{2} + \\frac{b_{w} d_{w}^{2} \\hat{\\theta}{\\left(t \\right)}}{2} - g h_{bc} m \\sin{\\left(\\theta{\\left(t \\right)} \\right)} - h_{bc}^{2} m \\hat{\\varphi}^{2}{\\left(t \\right)} \\sin{\\left(2 \\theta{\\left(t \\right)} \\right)} + h_{bc}^{2} m \\frac{d}{d t} \\hat{\\theta}{\\left(t \\right)} - \\frac{h_{bc} m \\sin{\\left(\\theta{\\left(t \\right)} - \\varphi{\\left(t \\right)} \\right)} \\frac{d}{d t} \\hat{y}{\\left(t \\right)}}{2} + \\frac{h_{bc} m \\sin{\\left(\\theta{\\left(t \\right)} + \\varphi{\\left(t \\right)} \\right)} \\frac{d}{d t} \\hat{y}{\\left(t \\right)}}{2} - h_{bc} m \\sin{\\left(\\theta{\\left(t \\right)} \\right)} \\frac{d}{d t} \\hat{z}{\\left(t \\right)} + \\frac{h_{bc} m \\cos{\\left(\\theta{\\left(t \\right)} - \\varphi{\\left(t \\right)} \\right)} \\frac{d}{d t} \\hat{x}{\\left(t \\right)}}{2} + \\frac{h_{bc} m \\cos{\\left(\\theta{\\left(t \\right)} + \\varphi{\\left(t \\right)} \\right)} \\frac{d}{d t} \\hat{x}{\\left(t \\right)}}{2}\\\\I_{z} \\frac{d}{d t} \\hat{\\varphi}{\\left(t \\right)} + \\frac{\\omega_{l} d_{w} m \\hat{x}{\\left(t \\right)} \\sin{\\left(\\varphi{\\left(t \\right)} \\right)}}{4} - \\frac{\\omega_{l} d_{w} m \\hat{y}{\\left(t \\right)} \\cos{\\left(\\varphi{\\left(t \\right)} \\right)}}{4} + \\frac{\\omega_{r} d_{w} m \\hat{x}{\\left(t \\right)} \\sin{\\left(\\varphi{\\left(t \\right)} \\right)}}{4} - \\frac{\\omega_{r} d_{w} m \\hat{y}{\\left(t \\right)} \\cos{\\left(\\varphi{\\left(t \\right)} \\right)}}{4} + \\frac{\\rho b_{d} h_{bc}^{2} \\hat{\\varphi}{\\left(t \\right)} \\sin^{2}{\\left(\\theta{\\left(t \\right)} \\right)}}{2} - \\frac{\\rho b_{d} h_{bc} \\hat{x}{\\left(t \\right)} \\sin{\\left(\\theta{\\left(t \\right)} \\right)} \\sin{\\left(\\varphi{\\left(t \\right)} \\right)}}{2} + \\frac{\\rho b_{d} h_{bc} \\hat{y}{\\left(t \\right)} \\sin{\\left(\\theta{\\left(t \\right)} \\right)} \\cos{\\left(\\varphi{\\left(t \\right)} \\right)}}{2} + 2 h_{bc}^{2} m \\hat{\\theta}{\\left(t \\right)} \\hat{\\varphi}{\\left(t \\right)} \\sin{\\left(2 \\theta{\\left(t \\right)} \\right)} + 2 h_{bc}^{2} m \\sin^{2}{\\left(\\theta{\\left(t \\right)} \\right)} \\frac{d}{d t} \\hat{\\varphi}{\\left(t \\right)} - h_{bc} m \\sin{\\left(\\theta{\\left(t \\right)} \\right)} \\sin{\\left(\\varphi{\\left(t \\right)} \\right)} \\frac{d}{d t} \\hat{x}{\\left(t \\right)} + h_{bc} m \\sin{\\left(\\theta{\\left(t \\right)} \\right)} \\cos{\\left(\\varphi{\\left(t \\right)} \\right)} \\frac{d}{d t} \\hat{y}{\\left(t \\right)}\\end{matrix}\\right]$"
     },
     "execution_count": 41,
     "metadata": {},
     "output_type": "execute_result"
    }
   ],
   "execution_count": 41
  },
  {
   "metadata": {
    "ExecuteTime": {
     "end_time": "2025-07-30T18:53:45.290931Z",
     "start_time": "2025-07-30T18:53:41.841896Z"
    }
   },
   "cell_type": "code",
   "source": [
    "# Separate model into `M * Xi_dot + H = M1dii * X1di_dot + H1d` form\n",
    "dim_1ord = len(model_1ord)\n",
    "model_1ord_expand = sp.zeros(dim_1ord, 1)\n",
    "for i, eq in enumerate(model_1ord):\n",
    "    model_1ord_expand[i] = sp.expand(eq)\n",
    "\n",
    "Q1di_dot = sp.Matrix.vstack(\n",
    "    cs_q.Qd,\n",
    "    sp.Matrix([v.diff(t) for v in subs_1ord_vals])\n",
    ")\n",
    "\n",
    "M1dii = sp.zeros(dim_1ord, dim_1ord)\n",
    "H1d = sp.zeros(dim_1ord, 1)\n",
    "\n",
    "# Collect coefficients for each second derivative term\n",
    "for i, eq in enumerate(model_1ord_expand):\n",
    "    subs_list = []\n",
    "\n",
    "    # Isolate second-order and squared first-order derivatives\n",
    "    for j, qi_dot in enumerate(Q1di_dot):\n",
    "        M1dii[i, j] = eq.coeff(Q1di_dot[j], 1)\n",
    "        subs_list += [(Q1di_dot[j], 0)]\n",
    "\n",
    "    terms = sp.Add.make_args(eq)\n",
    "    for term in terms:\n",
    "        # Isolate zero-order derivatives\n",
    "        if (sum(term.count(q1di_ddot) for q1di_ddot in Q1di_dot) == 0) and (sum(term.count(q1di_dot) for q1di_dot in Q1di_dot) == 0):\n",
    "            H1d[i] += term\n",
    "            subs_list += [(term, 0)]\n",
    "\n",
    "    model_1ord_expand[i] = eq.subs(subs_list)\n",
    "    model_1ord_expand[i] = sp.expand(model_1ord_expand[i])\n",
    "\n",
    "# Output\n",
    "M1dii = sp.simplify(M1dii)\n",
    "H1d = sp.simplify(H1d)\n",
    "\n",
    "display(M1dii)\n",
    "display(H1d)\n",
    "\n",
    "# Verification\n",
    "model_1ord_is_simplified = sp.simplify((M1dii * Q1di_dot + H1d) - model_1ord) == sp.Matrix(dim_1ord * [0])\n",
    "print(model_1ord_is_simplified)"
   ],
   "outputs": [
    {
     "data": {
      "text/plain": [
       "Matrix([\n",
       "[1, 0, 0, 0, 0,                                      0,                                     0,                      0,                                          0,                                      0],\n",
       "[0, 1, 0, 0, 0,                                      0,                                     0,                      0,                                          0,                                      0],\n",
       "[0, 0, 1, 0, 0,                                      0,                                     0,                      0,                                          0,                                      0],\n",
       "[0, 0, 0, 1, 0,                                      0,                                     0,                      0,                                          0,                                      0],\n",
       "[0, 0, 0, 0, 1,                                      0,                                     0,                      0,                                          0,                                      0],\n",
       "[0, 0, 0, 0, 0,                                      m,                                     0,                      0,      h_bc*m*cos(\\theta(t))*cos(\\varphi(t)), -h_bc*m*sin(\\theta(t))*sin(\\varphi(t))],\n",
       "[0, 0, 0, 0, 0,                                      0,                                     m,                      0,      h_bc*m*sin(\\varphi(t))*cos(\\theta(t)),  h_bc*m*sin(\\theta(t))*cos(\\varphi(t))],\n",
       "[0, 0, 0, 0, 0,                                      0,                                     0,                      m,                     -h_bc*m*sin(\\theta(t)),                                      0],\n",
       "[0, 0, 0, 0, 0,  h_bc*m*cos(\\theta(t))*cos(\\varphi(t)), h_bc*m*sin(\\varphi(t))*cos(\\theta(t)), -h_bc*m*sin(\\theta(t)), I_r + 2*I_w*c_{\\theta} + 2*I_w + h_bc**2*m,                                      0],\n",
       "[0, 0, 0, 0, 0, -h_bc*m*sin(\\theta(t))*sin(\\varphi(t)), h_bc*m*sin(\\theta(t))*cos(\\varphi(t)),                      0,                                          0,    I_z + 2*h_bc**2*m*sin(\\theta(t))**2]])"
      ],
      "text/latex": "$\\displaystyle \\left[\\begin{matrix}1 & 0 & 0 & 0 & 0 & 0 & 0 & 0 & 0 & 0\\\\0 & 1 & 0 & 0 & 0 & 0 & 0 & 0 & 0 & 0\\\\0 & 0 & 1 & 0 & 0 & 0 & 0 & 0 & 0 & 0\\\\0 & 0 & 0 & 1 & 0 & 0 & 0 & 0 & 0 & 0\\\\0 & 0 & 0 & 0 & 1 & 0 & 0 & 0 & 0 & 0\\\\0 & 0 & 0 & 0 & 0 & m & 0 & 0 & h_{bc} m \\cos{\\left(\\theta{\\left(t \\right)} \\right)} \\cos{\\left(\\varphi{\\left(t \\right)} \\right)} & - h_{bc} m \\sin{\\left(\\theta{\\left(t \\right)} \\right)} \\sin{\\left(\\varphi{\\left(t \\right)} \\right)}\\\\0 & 0 & 0 & 0 & 0 & 0 & m & 0 & h_{bc} m \\sin{\\left(\\varphi{\\left(t \\right)} \\right)} \\cos{\\left(\\theta{\\left(t \\right)} \\right)} & h_{bc} m \\sin{\\left(\\theta{\\left(t \\right)} \\right)} \\cos{\\left(\\varphi{\\left(t \\right)} \\right)}\\\\0 & 0 & 0 & 0 & 0 & 0 & 0 & m & - h_{bc} m \\sin{\\left(\\theta{\\left(t \\right)} \\right)} & 0\\\\0 & 0 & 0 & 0 & 0 & h_{bc} m \\cos{\\left(\\theta{\\left(t \\right)} \\right)} \\cos{\\left(\\varphi{\\left(t \\right)} \\right)} & h_{bc} m \\sin{\\left(\\varphi{\\left(t \\right)} \\right)} \\cos{\\left(\\theta{\\left(t \\right)} \\right)} & - h_{bc} m \\sin{\\left(\\theta{\\left(t \\right)} \\right)} & I_{r} + 2 I_{w} c_{\\theta} + 2 I_{w} + h_{bc}^{2} m & 0\\\\0 & 0 & 0 & 0 & 0 & - h_{bc} m \\sin{\\left(\\theta{\\left(t \\right)} \\right)} \\sin{\\left(\\varphi{\\left(t \\right)} \\right)} & h_{bc} m \\sin{\\left(\\theta{\\left(t \\right)} \\right)} \\cos{\\left(\\varphi{\\left(t \\right)} \\right)} & 0 & 0 & I_{z} + 2 h_{bc}^{2} m \\sin^{2}{\\left(\\theta{\\left(t \\right)} \\right)}\\end{matrix}\\right]$"
     },
     "metadata": {},
     "output_type": "display_data"
    },
    {
     "data": {
      "text/plain": [
       "Matrix([\n",
       "[                                                                                                                                                                                                                                                                                                                                                                                                                                                                                                                                                             -\\hat{x}(t)],\n",
       "[                                                                                                                                                                                                                                                                                                                                                                                                                                                                                                                                                             -\\hat{y}(t)],\n",
       "[                                                                                                                                                                                                                                                                                                                                                                                                                                                                                                                                                             -\\hat{z}(t)],\n",
       "[                                                                                                                                                                                                                                                                                                                                                                                                                                                                                                                                                        -\\hat{\\theta}(t)],\n",
       "[                                                                                                                                                                                                                                                                                                                                                                                                                                                                                                                                                       -\\hat{\\varphi}(t)],\n",
       "[   \\omega_l*\\rho*b_d*d_w*cos(\\varphi(t))/8 - \\omega_l*d_w*m*\\hat{\\varphi}(t)*sin(\\varphi(t))/4 + \\omega_r*\\rho*b_d*d_w*cos(\\varphi(t))/8 - \\omega_r*d_w*m*\\hat{\\varphi}(t)*sin(\\varphi(t))/4 + sqrt(2)*\\rho*b_d*h_bc*\\hat{\\theta}(t)*sin(\\theta(t) + pi/4)*cos(\\varphi(t))/2 - \\rho*b_d*h_bc*\\hat{\\varphi}(t)*sin(\\theta(t))*sin(\\varphi(t))/2 + \\rho*b_d*\\hat{x}(t)/2 - h_bc*m*\\hat{\\theta}(t)**2*sin(\\theta(t))*cos(\\varphi(t)) - 2*h_bc*m*\\hat{\\theta}(t)*\\hat{\\varphi}(t)*sin(\\varphi(t))*cos(\\theta(t)) - h_bc*m*\\hat{\\varphi}(t)**2*sin(\\theta(t))*cos(\\varphi(t))],\n",
       "[   \\omega_l*\\rho*b_d*d_w*sin(\\varphi(t))/8 + \\omega_l*d_w*m*\\hat{\\varphi}(t)*cos(\\varphi(t))/4 + \\omega_r*\\rho*b_d*d_w*sin(\\varphi(t))/8 + \\omega_r*d_w*m*\\hat{\\varphi}(t)*cos(\\varphi(t))/4 + sqrt(2)*\\rho*b_d*h_bc*\\hat{\\theta}(t)*sin(\\theta(t) + pi/4)*sin(\\varphi(t))/2 + \\rho*b_d*h_bc*\\hat{\\varphi}(t)*sin(\\theta(t))*cos(\\varphi(t))/2 + \\rho*b_d*\\hat{y}(t)/2 - h_bc*m*\\hat{\\theta}(t)**2*sin(\\theta(t))*sin(\\varphi(t)) + 2*h_bc*m*\\hat{\\theta}(t)*\\hat{\\varphi}(t)*cos(\\theta(t))*cos(\\varphi(t)) - h_bc*m*\\hat{\\varphi}(t)**2*sin(\\theta(t))*sin(\\varphi(t))],\n",
       "[                                                                                                                                                                                                                                                                                                                                                                                                               sqrt(2)*\\rho*b_d*h_bc*\\hat{\\theta}(t)*cos(\\theta(t) + pi/4)/2 + \\rho*b_d*\\hat{z}(t)/2 + 2*b_w*\\hat{z}(t) + g*m - h_bc*m*\\hat{\\theta}(t)**2*cos(\\theta(t))],\n",
       "[\\omega_l*\\rho*b_d*d_w*h_bc*cos(\\theta(t))/8 + \\omega_l*b_w*d_w**2/4 + \\omega_r*\\rho*b_d*d_w*h_bc*cos(\\theta(t))/8 + \\omega_r*b_w*d_w**2/4 + \\rho*b_d*h_bc**2*\\hat{\\theta}(t)/2 + \\rho*b_d*h_bc*\\hat{x}(t)*cos(\\theta(t) - \\varphi(t))/4 + \\rho*b_d*h_bc*\\hat{x}(t)*cos(\\theta(t) + \\varphi(t))/4 - \\rho*b_d*h_bc*\\hat{y}(t)*sin(\\theta(t) - \\varphi(t))/4 + \\rho*b_d*h_bc*\\hat{y}(t)*sin(\\theta(t) + \\varphi(t))/4 - \\rho*b_d*h_bc*\\hat{z}(t)*sin(\\theta(t))/2 + b_w*d_w**2*\\hat{\\theta}(t)/2 - g*h_bc*m*sin(\\theta(t)) - h_bc**2*m*\\hat{\\varphi}(t)**2*sin(2*\\theta(t))],\n",
       "[                                                                                                                                   \\omega_l*d_w*m*\\hat{x}(t)*sin(\\varphi(t))/4 - \\omega_l*d_w*m*\\hat{y}(t)*cos(\\varphi(t))/4 + \\omega_r*d_w*m*\\hat{x}(t)*sin(\\varphi(t))/4 - \\omega_r*d_w*m*\\hat{y}(t)*cos(\\varphi(t))/4 + \\rho*b_d*h_bc**2*\\hat{\\varphi}(t)*sin(\\theta(t))**2/2 - \\rho*b_d*h_bc*\\hat{x}(t)*sin(\\theta(t))*sin(\\varphi(t))/2 + \\rho*b_d*h_bc*\\hat{y}(t)*sin(\\theta(t))*cos(\\varphi(t))/2 + 2*h_bc**2*m*\\hat{\\theta}(t)*\\hat{\\varphi}(t)*sin(2*\\theta(t))]])"
      ],
      "text/latex": "$\\displaystyle \\left[\\begin{matrix}- \\hat{x}{\\left(t \\right)}\\\\- \\hat{y}{\\left(t \\right)}\\\\- \\hat{z}{\\left(t \\right)}\\\\- \\hat{\\theta}{\\left(t \\right)}\\\\- \\hat{\\varphi}{\\left(t \\right)}\\\\\\frac{\\omega_{l} \\rho b_{d} d_{w} \\cos{\\left(\\varphi{\\left(t \\right)} \\right)}}{8} - \\frac{\\omega_{l} d_{w} m \\hat{\\varphi}{\\left(t \\right)} \\sin{\\left(\\varphi{\\left(t \\right)} \\right)}}{4} + \\frac{\\omega_{r} \\rho b_{d} d_{w} \\cos{\\left(\\varphi{\\left(t \\right)} \\right)}}{8} - \\frac{\\omega_{r} d_{w} m \\hat{\\varphi}{\\left(t \\right)} \\sin{\\left(\\varphi{\\left(t \\right)} \\right)}}{4} + \\frac{\\sqrt{2} \\rho b_{d} h_{bc} \\hat{\\theta}{\\left(t \\right)} \\sin{\\left(\\theta{\\left(t \\right)} + \\frac{\\pi}{4} \\right)} \\cos{\\left(\\varphi{\\left(t \\right)} \\right)}}{2} - \\frac{\\rho b_{d} h_{bc} \\hat{\\varphi}{\\left(t \\right)} \\sin{\\left(\\theta{\\left(t \\right)} \\right)} \\sin{\\left(\\varphi{\\left(t \\right)} \\right)}}{2} + \\frac{\\rho b_{d} \\hat{x}{\\left(t \\right)}}{2} - h_{bc} m \\hat{\\theta}^{2}{\\left(t \\right)} \\sin{\\left(\\theta{\\left(t \\right)} \\right)} \\cos{\\left(\\varphi{\\left(t \\right)} \\right)} - 2 h_{bc} m \\hat{\\theta}{\\left(t \\right)} \\hat{\\varphi}{\\left(t \\right)} \\sin{\\left(\\varphi{\\left(t \\right)} \\right)} \\cos{\\left(\\theta{\\left(t \\right)} \\right)} - h_{bc} m \\hat{\\varphi}^{2}{\\left(t \\right)} \\sin{\\left(\\theta{\\left(t \\right)} \\right)} \\cos{\\left(\\varphi{\\left(t \\right)} \\right)}\\\\\\frac{\\omega_{l} \\rho b_{d} d_{w} \\sin{\\left(\\varphi{\\left(t \\right)} \\right)}}{8} + \\frac{\\omega_{l} d_{w} m \\hat{\\varphi}{\\left(t \\right)} \\cos{\\left(\\varphi{\\left(t \\right)} \\right)}}{4} + \\frac{\\omega_{r} \\rho b_{d} d_{w} \\sin{\\left(\\varphi{\\left(t \\right)} \\right)}}{8} + \\frac{\\omega_{r} d_{w} m \\hat{\\varphi}{\\left(t \\right)} \\cos{\\left(\\varphi{\\left(t \\right)} \\right)}}{4} + \\frac{\\sqrt{2} \\rho b_{d} h_{bc} \\hat{\\theta}{\\left(t \\right)} \\sin{\\left(\\theta{\\left(t \\right)} + \\frac{\\pi}{4} \\right)} \\sin{\\left(\\varphi{\\left(t \\right)} \\right)}}{2} + \\frac{\\rho b_{d} h_{bc} \\hat{\\varphi}{\\left(t \\right)} \\sin{\\left(\\theta{\\left(t \\right)} \\right)} \\cos{\\left(\\varphi{\\left(t \\right)} \\right)}}{2} + \\frac{\\rho b_{d} \\hat{y}{\\left(t \\right)}}{2} - h_{bc} m \\hat{\\theta}^{2}{\\left(t \\right)} \\sin{\\left(\\theta{\\left(t \\right)} \\right)} \\sin{\\left(\\varphi{\\left(t \\right)} \\right)} + 2 h_{bc} m \\hat{\\theta}{\\left(t \\right)} \\hat{\\varphi}{\\left(t \\right)} \\cos{\\left(\\theta{\\left(t \\right)} \\right)} \\cos{\\left(\\varphi{\\left(t \\right)} \\right)} - h_{bc} m \\hat{\\varphi}^{2}{\\left(t \\right)} \\sin{\\left(\\theta{\\left(t \\right)} \\right)} \\sin{\\left(\\varphi{\\left(t \\right)} \\right)}\\\\\\frac{\\sqrt{2} \\rho b_{d} h_{bc} \\hat{\\theta}{\\left(t \\right)} \\cos{\\left(\\theta{\\left(t \\right)} + \\frac{\\pi}{4} \\right)}}{2} + \\frac{\\rho b_{d} \\hat{z}{\\left(t \\right)}}{2} + 2 b_{w} \\hat{z}{\\left(t \\right)} + g m - h_{bc} m \\hat{\\theta}^{2}{\\left(t \\right)} \\cos{\\left(\\theta{\\left(t \\right)} \\right)}\\\\\\frac{\\omega_{l} \\rho b_{d} d_{w} h_{bc} \\cos{\\left(\\theta{\\left(t \\right)} \\right)}}{8} + \\frac{\\omega_{l} b_{w} d_{w}^{2}}{4} + \\frac{\\omega_{r} \\rho b_{d} d_{w} h_{bc} \\cos{\\left(\\theta{\\left(t \\right)} \\right)}}{8} + \\frac{\\omega_{r} b_{w} d_{w}^{2}}{4} + \\frac{\\rho b_{d} h_{bc}^{2} \\hat{\\theta}{\\left(t \\right)}}{2} + \\frac{\\rho b_{d} h_{bc} \\hat{x}{\\left(t \\right)} \\cos{\\left(\\theta{\\left(t \\right)} - \\varphi{\\left(t \\right)} \\right)}}{4} + \\frac{\\rho b_{d} h_{bc} \\hat{x}{\\left(t \\right)} \\cos{\\left(\\theta{\\left(t \\right)} + \\varphi{\\left(t \\right)} \\right)}}{4} - \\frac{\\rho b_{d} h_{bc} \\hat{y}{\\left(t \\right)} \\sin{\\left(\\theta{\\left(t \\right)} - \\varphi{\\left(t \\right)} \\right)}}{4} + \\frac{\\rho b_{d} h_{bc} \\hat{y}{\\left(t \\right)} \\sin{\\left(\\theta{\\left(t \\right)} + \\varphi{\\left(t \\right)} \\right)}}{4} - \\frac{\\rho b_{d} h_{bc} \\hat{z}{\\left(t \\right)} \\sin{\\left(\\theta{\\left(t \\right)} \\right)}}{2} + \\frac{b_{w} d_{w}^{2} \\hat{\\theta}{\\left(t \\right)}}{2} - g h_{bc} m \\sin{\\left(\\theta{\\left(t \\right)} \\right)} - h_{bc}^{2} m \\hat{\\varphi}^{2}{\\left(t \\right)} \\sin{\\left(2 \\theta{\\left(t \\right)} \\right)}\\\\\\frac{\\omega_{l} d_{w} m \\hat{x}{\\left(t \\right)} \\sin{\\left(\\varphi{\\left(t \\right)} \\right)}}{4} - \\frac{\\omega_{l} d_{w} m \\hat{y}{\\left(t \\right)} \\cos{\\left(\\varphi{\\left(t \\right)} \\right)}}{4} + \\frac{\\omega_{r} d_{w} m \\hat{x}{\\left(t \\right)} \\sin{\\left(\\varphi{\\left(t \\right)} \\right)}}{4} - \\frac{\\omega_{r} d_{w} m \\hat{y}{\\left(t \\right)} \\cos{\\left(\\varphi{\\left(t \\right)} \\right)}}{4} + \\frac{\\rho b_{d} h_{bc}^{2} \\hat{\\varphi}{\\left(t \\right)} \\sin^{2}{\\left(\\theta{\\left(t \\right)} \\right)}}{2} - \\frac{\\rho b_{d} h_{bc} \\hat{x}{\\left(t \\right)} \\sin{\\left(\\theta{\\left(t \\right)} \\right)} \\sin{\\left(\\varphi{\\left(t \\right)} \\right)}}{2} + \\frac{\\rho b_{d} h_{bc} \\hat{y}{\\left(t \\right)} \\sin{\\left(\\theta{\\left(t \\right)} \\right)} \\cos{\\left(\\varphi{\\left(t \\right)} \\right)}}{2} + 2 h_{bc}^{2} m \\hat{\\theta}{\\left(t \\right)} \\hat{\\varphi}{\\left(t \\right)} \\sin{\\left(2 \\theta{\\left(t \\right)} \\right)}\\end{matrix}\\right]$"
     },
     "metadata": {},
     "output_type": "display_data"
    },
    {
     "name": "stdout",
     "output_type": "stream",
     "text": [
      "True\n"
     ]
    }
   ],
   "execution_count": 42
  },
  {
   "metadata": {
    "ExecuteTime": {
     "end_time": "2025-07-30T18:55:20.203846Z",
     "start_time": "2025-07-30T18:53:45.444743Z"
    }
   },
   "cell_type": "code",
   "source": [
    "U1d = M1dii.LUsolve(-H1d)\n",
    "\n",
    "# Output\n",
    "U1d = sp.simplify(U1d)\n",
    "U1d"
   ],
   "outputs": [
    {
     "data": {
      "text/plain": [
       "Matrix([\n",
       "[                                                                                                                                                                                                                                                                                                                                                                                                                                                                                                                                                                                                                                                                                                                                                                                                                                                                                                                                                                                                                                                                                                                                                                                                                                                                                                                                                                                                  \\hat{x}(t)],\n",
       "[                                                                                                                                                                                                                                                                                                                                                                                                                                                                                                                                                                                                                                                                                                                                                                                                                                                                                                                                                                                                                                                                                                                                                                                                                                                                                                                                                                                                  \\hat{y}(t)],\n",
       "[                                                                                                                                                                                                                                                                                                                                                                                                                                                                                                                                                                                                                                                                                                                                                                                                                                                                                                                                                                                                                                                                                                                                                                                                                                                                                                                                                                                                  \\hat{z}(t)],\n",
       "[                                                                                                                                                                                                                                                                                                                                                                                                                                                                                                                                                                                                                                                                                                                                                                                                                                                                                                                                                                                                                                                                                                                                                                                                                                                                                                                                                                                             \\hat{\\theta}(t)],\n",
       "[                                                                                                                                                                                                                                                                                                                                                                                                                                                                                                                                                                                                                                                                                                                                                                                                                                                                                                                                                                                                                                                                                                                                                                                                                                                                                                                                                                                            \\hat{\\varphi}(t)],\n",
       "[(-2*h_bc*m**2*(I_r + 2*I_w*c_{\\theta} + 2*I_w)*(-\\omega_l*d_w*h_bc*\\hat{\\varphi}(t)*sin(\\theta(t)) + \\omega_l*d_w*\\hat{x}(t)*sin(\\varphi(t)) - \\omega_l*d_w*\\hat{y}(t)*cos(\\varphi(t)) - \\omega_r*d_w*h_bc*\\hat{\\varphi}(t)*sin(\\theta(t)) + \\omega_r*d_w*\\hat{x}(t)*sin(\\varphi(t)) - \\omega_r*d_w*\\hat{y}(t)*cos(\\varphi(t)) + 4*h_bc**2*\\hat{\\theta}(t)*\\hat{\\varphi}(t)*sin(2*\\theta(t)))*sin(\\theta(t))*sin(\\varphi(t)) + 2*h_bc*m*(I_z + h_bc**2*m*sin(\\theta(t))**2)*(\\omega_l*b_w*d_w**2 + \\omega_r*b_w*d_w**2 + 2*b_w*d_w**2*\\hat{\\theta}(t) + 8*b_w*h_bc*\\hat{z}(t)*sin(\\theta(t)) - 2*h_bc**2*m*\\hat{\\varphi}(t)**2*sin(2*\\theta(t)))*cos(\\theta(t))*cos(\\varphi(t)) + (I_z + h_bc**2*m*sin(\\theta(t))**2)*(I_r + 2*I_w*c_{\\theta} + 2*I_w)*(-\\omega_l*\\rho*b_d*d_w*cos(\\varphi(t)) + 2*\\omega_l*d_w*m*\\hat{\\varphi}(t)*sin(\\varphi(t)) - \\omega_r*\\rho*b_d*d_w*cos(\\varphi(t)) + 2*\\omega_r*d_w*m*\\hat{\\varphi}(t)*sin(\\varphi(t)) - 4*sqrt(2)*\\rho*b_d*h_bc*\\hat{\\theta}(t)*sin(\\theta(t) + pi/4)*cos(\\varphi(t)) + 4*\\rho*b_d*h_bc*\\hat{\\varphi}(t)*sin(\\theta(t))*sin(\\varphi(t)) - 4*\\rho*b_d*\\hat{x}(t) + 8*h_bc*m*\\hat{\\theta}(t)**2*sin(\\theta(t))*cos(\\varphi(t)) + 16*h_bc*m*\\hat{\\theta}(t)*\\hat{\\varphi}(t)*sin(\\varphi(t))*cos(\\theta(t)) + 8*h_bc*m*\\hat{\\varphi}(t)**2*sin(\\theta(t))*cos(\\varphi(t))))/(8*m*(I_z + h_bc**2*m*sin(\\theta(t))**2)*(I_r + 2*I_w*c_{\\theta} + 2*I_w))],\n",
       "[  (2*h_bc*m**2*(I_r + 2*I_w*c_{\\theta} + 2*I_w)*(-\\omega_l*d_w*h_bc*\\hat{\\varphi}(t)*sin(\\theta(t)) + \\omega_l*d_w*\\hat{x}(t)*sin(\\varphi(t)) - \\omega_l*d_w*\\hat{y}(t)*cos(\\varphi(t)) - \\omega_r*d_w*h_bc*\\hat{\\varphi}(t)*sin(\\theta(t)) + \\omega_r*d_w*\\hat{x}(t)*sin(\\varphi(t)) - \\omega_r*d_w*\\hat{y}(t)*cos(\\varphi(t)) + 4*h_bc**2*\\hat{\\theta}(t)*\\hat{\\varphi}(t)*sin(2*\\theta(t)))*sin(\\theta(t))*cos(\\varphi(t)) + 2*h_bc*m*(I_z + h_bc**2*m*sin(\\theta(t))**2)*(\\omega_l*b_w*d_w**2 + \\omega_r*b_w*d_w**2 + 2*b_w*d_w**2*\\hat{\\theta}(t) + 8*b_w*h_bc*\\hat{z}(t)*sin(\\theta(t)) - 2*h_bc**2*m*\\hat{\\varphi}(t)**2*sin(2*\\theta(t)))*sin(\\varphi(t))*cos(\\theta(t)) - (I_z + h_bc**2*m*sin(\\theta(t))**2)*(I_r + 2*I_w*c_{\\theta} + 2*I_w)*(\\omega_l*\\rho*b_d*d_w*sin(\\varphi(t)) + 2*\\omega_l*d_w*m*\\hat{\\varphi}(t)*cos(\\varphi(t)) + \\omega_r*\\rho*b_d*d_w*sin(\\varphi(t)) + 2*\\omega_r*d_w*m*\\hat{\\varphi}(t)*cos(\\varphi(t)) + 4*sqrt(2)*\\rho*b_d*h_bc*\\hat{\\theta}(t)*sin(\\theta(t) + pi/4)*sin(\\varphi(t)) + 4*\\rho*b_d*h_bc*\\hat{\\varphi}(t)*sin(\\theta(t))*cos(\\varphi(t)) + 4*\\rho*b_d*\\hat{y}(t) - 8*h_bc*m*\\hat{\\theta}(t)**2*sin(\\theta(t))*sin(\\varphi(t)) + 16*h_bc*m*\\hat{\\theta}(t)*\\hat{\\varphi}(t)*cos(\\theta(t))*cos(\\varphi(t)) - 8*h_bc*m*\\hat{\\varphi}(t)**2*sin(\\theta(t))*sin(\\varphi(t))))/(8*m*(I_z + h_bc**2*m*sin(\\theta(t))**2)*(I_r + 2*I_w*c_{\\theta} + 2*I_w))],\n",
       "[                                                                                                                                                                                                                                                                                                                                                                                                                                                                                                                                                                                                                                                                                                                                                                                                                                                                                                                                                                       -(h_bc*m*(\\omega_l*b_w*d_w**2 + \\omega_r*b_w*d_w**2 + 2*b_w*d_w**2*\\hat{\\theta}(t) + 8*b_w*h_bc*\\hat{z}(t)*sin(\\theta(t)) - 2*h_bc**2*m*\\hat{\\varphi}(t)**2*sin(2*\\theta(t)))*sin(\\theta(t)) + 2*(I_r + 2*I_w*c_{\\theta} + 2*I_w)*(sqrt(2)*\\rho*b_d*h_bc*\\hat{\\theta}(t)*cos(\\theta(t) + pi/4) + \\rho*b_d*\\hat{z}(t) + 4*b_w*\\hat{z}(t) + 2*g*m - 2*h_bc*m*\\hat{\\theta}(t)**2*cos(\\theta(t))))/(4*m*(I_r + 2*I_w*c_{\\theta} + 2*I_w))],\n",
       "[                                                                                                                                                                                                                                                                                                                                                                                                                                                                                                                                                                                                                                                                                                                                                                                                                                                                                                                                                                                                                                                                                                                                                                                                    (-\\omega_l*b_w*d_w**2 - \\omega_r*b_w*d_w**2 - 2*b_w*d_w**2*\\hat{\\theta}(t) - 8*b_w*h_bc*\\hat{z}(t)*sin(\\theta(t)) + 2*h_bc**2*m*\\hat{\\varphi}(t)**2*sin(2*\\theta(t)))/(4*I_r + 8*I_w*c_{\\theta} + 8*I_w)],\n",
       "[                                                                                                                                                                                                                                                                                                                                                                                                                                                                                                                                                                                                                                                                                                                                                                                                                                                                                                                                                                                                                     m*(\\omega_l*d_w*h_bc*\\hat{\\varphi}(t)*sin(\\theta(t)) - \\omega_l*d_w*\\hat{x}(t)*sin(\\varphi(t)) + \\omega_l*d_w*\\hat{y}(t)*cos(\\varphi(t)) + \\omega_r*d_w*h_bc*\\hat{\\varphi}(t)*sin(\\theta(t)) - \\omega_r*d_w*\\hat{x}(t)*sin(\\varphi(t)) + \\omega_r*d_w*\\hat{y}(t)*cos(\\varphi(t)) - 4*h_bc**2*\\hat{\\theta}(t)*\\hat{\\varphi}(t)*sin(2*\\theta(t)))/(4*I_z + 4*h_bc**2*m*sin(\\theta(t))**2)]])"
      ],
      "text/latex": "$\\displaystyle \\left[\\begin{matrix}\\hat{x}{\\left(t \\right)}\\\\\\hat{y}{\\left(t \\right)}\\\\\\hat{z}{\\left(t \\right)}\\\\\\hat{\\theta}{\\left(t \\right)}\\\\\\hat{\\varphi}{\\left(t \\right)}\\\\\\frac{- 2 h_{bc} m^{2} \\left(I_{r} + 2 I_{w} c_{\\theta} + 2 I_{w}\\right) \\left(- \\omega_{l} d_{w} h_{bc} \\hat{\\varphi}{\\left(t \\right)} \\sin{\\left(\\theta{\\left(t \\right)} \\right)} + \\omega_{l} d_{w} \\hat{x}{\\left(t \\right)} \\sin{\\left(\\varphi{\\left(t \\right)} \\right)} - \\omega_{l} d_{w} \\hat{y}{\\left(t \\right)} \\cos{\\left(\\varphi{\\left(t \\right)} \\right)} - \\omega_{r} d_{w} h_{bc} \\hat{\\varphi}{\\left(t \\right)} \\sin{\\left(\\theta{\\left(t \\right)} \\right)} + \\omega_{r} d_{w} \\hat{x}{\\left(t \\right)} \\sin{\\left(\\varphi{\\left(t \\right)} \\right)} - \\omega_{r} d_{w} \\hat{y}{\\left(t \\right)} \\cos{\\left(\\varphi{\\left(t \\right)} \\right)} + 4 h_{bc}^{2} \\hat{\\theta}{\\left(t \\right)} \\hat{\\varphi}{\\left(t \\right)} \\sin{\\left(2 \\theta{\\left(t \\right)} \\right)}\\right) \\sin{\\left(\\theta{\\left(t \\right)} \\right)} \\sin{\\left(\\varphi{\\left(t \\right)} \\right)} + 2 h_{bc} m \\left(I_{z} + h_{bc}^{2} m \\sin^{2}{\\left(\\theta{\\left(t \\right)} \\right)}\\right) \\left(\\omega_{l} b_{w} d_{w}^{2} + \\omega_{r} b_{w} d_{w}^{2} + 2 b_{w} d_{w}^{2} \\hat{\\theta}{\\left(t \\right)} + 8 b_{w} h_{bc} \\hat{z}{\\left(t \\right)} \\sin{\\left(\\theta{\\left(t \\right)} \\right)} - 2 h_{bc}^{2} m \\hat{\\varphi}^{2}{\\left(t \\right)} \\sin{\\left(2 \\theta{\\left(t \\right)} \\right)}\\right) \\cos{\\left(\\theta{\\left(t \\right)} \\right)} \\cos{\\left(\\varphi{\\left(t \\right)} \\right)} + \\left(I_{z} + h_{bc}^{2} m \\sin^{2}{\\left(\\theta{\\left(t \\right)} \\right)}\\right) \\left(I_{r} + 2 I_{w} c_{\\theta} + 2 I_{w}\\right) \\left(- \\omega_{l} \\rho b_{d} d_{w} \\cos{\\left(\\varphi{\\left(t \\right)} \\right)} + 2 \\omega_{l} d_{w} m \\hat{\\varphi}{\\left(t \\right)} \\sin{\\left(\\varphi{\\left(t \\right)} \\right)} - \\omega_{r} \\rho b_{d} d_{w} \\cos{\\left(\\varphi{\\left(t \\right)} \\right)} + 2 \\omega_{r} d_{w} m \\hat{\\varphi}{\\left(t \\right)} \\sin{\\left(\\varphi{\\left(t \\right)} \\right)} - 4 \\sqrt{2} \\rho b_{d} h_{bc} \\hat{\\theta}{\\left(t \\right)} \\sin{\\left(\\theta{\\left(t \\right)} + \\frac{\\pi}{4} \\right)} \\cos{\\left(\\varphi{\\left(t \\right)} \\right)} + 4 \\rho b_{d} h_{bc} \\hat{\\varphi}{\\left(t \\right)} \\sin{\\left(\\theta{\\left(t \\right)} \\right)} \\sin{\\left(\\varphi{\\left(t \\right)} \\right)} - 4 \\rho b_{d} \\hat{x}{\\left(t \\right)} + 8 h_{bc} m \\hat{\\theta}^{2}{\\left(t \\right)} \\sin{\\left(\\theta{\\left(t \\right)} \\right)} \\cos{\\left(\\varphi{\\left(t \\right)} \\right)} + 16 h_{bc} m \\hat{\\theta}{\\left(t \\right)} \\hat{\\varphi}{\\left(t \\right)} \\sin{\\left(\\varphi{\\left(t \\right)} \\right)} \\cos{\\left(\\theta{\\left(t \\right)} \\right)} + 8 h_{bc} m \\hat{\\varphi}^{2}{\\left(t \\right)} \\sin{\\left(\\theta{\\left(t \\right)} \\right)} \\cos{\\left(\\varphi{\\left(t \\right)} \\right)}\\right)}{8 m \\left(I_{z} + h_{bc}^{2} m \\sin^{2}{\\left(\\theta{\\left(t \\right)} \\right)}\\right) \\left(I_{r} + 2 I_{w} c_{\\theta} + 2 I_{w}\\right)}\\\\\\frac{2 h_{bc} m^{2} \\left(I_{r} + 2 I_{w} c_{\\theta} + 2 I_{w}\\right) \\left(- \\omega_{l} d_{w} h_{bc} \\hat{\\varphi}{\\left(t \\right)} \\sin{\\left(\\theta{\\left(t \\right)} \\right)} + \\omega_{l} d_{w} \\hat{x}{\\left(t \\right)} \\sin{\\left(\\varphi{\\left(t \\right)} \\right)} - \\omega_{l} d_{w} \\hat{y}{\\left(t \\right)} \\cos{\\left(\\varphi{\\left(t \\right)} \\right)} - \\omega_{r} d_{w} h_{bc} \\hat{\\varphi}{\\left(t \\right)} \\sin{\\left(\\theta{\\left(t \\right)} \\right)} + \\omega_{r} d_{w} \\hat{x}{\\left(t \\right)} \\sin{\\left(\\varphi{\\left(t \\right)} \\right)} - \\omega_{r} d_{w} \\hat{y}{\\left(t \\right)} \\cos{\\left(\\varphi{\\left(t \\right)} \\right)} + 4 h_{bc}^{2} \\hat{\\theta}{\\left(t \\right)} \\hat{\\varphi}{\\left(t \\right)} \\sin{\\left(2 \\theta{\\left(t \\right)} \\right)}\\right) \\sin{\\left(\\theta{\\left(t \\right)} \\right)} \\cos{\\left(\\varphi{\\left(t \\right)} \\right)} + 2 h_{bc} m \\left(I_{z} + h_{bc}^{2} m \\sin^{2}{\\left(\\theta{\\left(t \\right)} \\right)}\\right) \\left(\\omega_{l} b_{w} d_{w}^{2} + \\omega_{r} b_{w} d_{w}^{2} + 2 b_{w} d_{w}^{2} \\hat{\\theta}{\\left(t \\right)} + 8 b_{w} h_{bc} \\hat{z}{\\left(t \\right)} \\sin{\\left(\\theta{\\left(t \\right)} \\right)} - 2 h_{bc}^{2} m \\hat{\\varphi}^{2}{\\left(t \\right)} \\sin{\\left(2 \\theta{\\left(t \\right)} \\right)}\\right) \\sin{\\left(\\varphi{\\left(t \\right)} \\right)} \\cos{\\left(\\theta{\\left(t \\right)} \\right)} - \\left(I_{z} + h_{bc}^{2} m \\sin^{2}{\\left(\\theta{\\left(t \\right)} \\right)}\\right) \\left(I_{r} + 2 I_{w} c_{\\theta} + 2 I_{w}\\right) \\left(\\omega_{l} \\rho b_{d} d_{w} \\sin{\\left(\\varphi{\\left(t \\right)} \\right)} + 2 \\omega_{l} d_{w} m \\hat{\\varphi}{\\left(t \\right)} \\cos{\\left(\\varphi{\\left(t \\right)} \\right)} + \\omega_{r} \\rho b_{d} d_{w} \\sin{\\left(\\varphi{\\left(t \\right)} \\right)} + 2 \\omega_{r} d_{w} m \\hat{\\varphi}{\\left(t \\right)} \\cos{\\left(\\varphi{\\left(t \\right)} \\right)} + 4 \\sqrt{2} \\rho b_{d} h_{bc} \\hat{\\theta}{\\left(t \\right)} \\sin{\\left(\\theta{\\left(t \\right)} + \\frac{\\pi}{4} \\right)} \\sin{\\left(\\varphi{\\left(t \\right)} \\right)} + 4 \\rho b_{d} h_{bc} \\hat{\\varphi}{\\left(t \\right)} \\sin{\\left(\\theta{\\left(t \\right)} \\right)} \\cos{\\left(\\varphi{\\left(t \\right)} \\right)} + 4 \\rho b_{d} \\hat{y}{\\left(t \\right)} - 8 h_{bc} m \\hat{\\theta}^{2}{\\left(t \\right)} \\sin{\\left(\\theta{\\left(t \\right)} \\right)} \\sin{\\left(\\varphi{\\left(t \\right)} \\right)} + 16 h_{bc} m \\hat{\\theta}{\\left(t \\right)} \\hat{\\varphi}{\\left(t \\right)} \\cos{\\left(\\theta{\\left(t \\right)} \\right)} \\cos{\\left(\\varphi{\\left(t \\right)} \\right)} - 8 h_{bc} m \\hat{\\varphi}^{2}{\\left(t \\right)} \\sin{\\left(\\theta{\\left(t \\right)} \\right)} \\sin{\\left(\\varphi{\\left(t \\right)} \\right)}\\right)}{8 m \\left(I_{z} + h_{bc}^{2} m \\sin^{2}{\\left(\\theta{\\left(t \\right)} \\right)}\\right) \\left(I_{r} + 2 I_{w} c_{\\theta} + 2 I_{w}\\right)}\\\\- \\frac{h_{bc} m \\left(\\omega_{l} b_{w} d_{w}^{2} + \\omega_{r} b_{w} d_{w}^{2} + 2 b_{w} d_{w}^{2} \\hat{\\theta}{\\left(t \\right)} + 8 b_{w} h_{bc} \\hat{z}{\\left(t \\right)} \\sin{\\left(\\theta{\\left(t \\right)} \\right)} - 2 h_{bc}^{2} m \\hat{\\varphi}^{2}{\\left(t \\right)} \\sin{\\left(2 \\theta{\\left(t \\right)} \\right)}\\right) \\sin{\\left(\\theta{\\left(t \\right)} \\right)} + 2 \\left(I_{r} + 2 I_{w} c_{\\theta} + 2 I_{w}\\right) \\left(\\sqrt{2} \\rho b_{d} h_{bc} \\hat{\\theta}{\\left(t \\right)} \\cos{\\left(\\theta{\\left(t \\right)} + \\frac{\\pi}{4} \\right)} + \\rho b_{d} \\hat{z}{\\left(t \\right)} + 4 b_{w} \\hat{z}{\\left(t \\right)} + 2 g m - 2 h_{bc} m \\hat{\\theta}^{2}{\\left(t \\right)} \\cos{\\left(\\theta{\\left(t \\right)} \\right)}\\right)}{4 m \\left(I_{r} + 2 I_{w} c_{\\theta} + 2 I_{w}\\right)}\\\\\\frac{- \\omega_{l} b_{w} d_{w}^{2} - \\omega_{r} b_{w} d_{w}^{2} - 2 b_{w} d_{w}^{2} \\hat{\\theta}{\\left(t \\right)} - 8 b_{w} h_{bc} \\hat{z}{\\left(t \\right)} \\sin{\\left(\\theta{\\left(t \\right)} \\right)} + 2 h_{bc}^{2} m \\hat{\\varphi}^{2}{\\left(t \\right)} \\sin{\\left(2 \\theta{\\left(t \\right)} \\right)}}{4 I_{r} + 8 I_{w} c_{\\theta} + 8 I_{w}}\\\\\\frac{m \\left(\\omega_{l} d_{w} h_{bc} \\hat{\\varphi}{\\left(t \\right)} \\sin{\\left(\\theta{\\left(t \\right)} \\right)} - \\omega_{l} d_{w} \\hat{x}{\\left(t \\right)} \\sin{\\left(\\varphi{\\left(t \\right)} \\right)} + \\omega_{l} d_{w} \\hat{y}{\\left(t \\right)} \\cos{\\left(\\varphi{\\left(t \\right)} \\right)} + \\omega_{r} d_{w} h_{bc} \\hat{\\varphi}{\\left(t \\right)} \\sin{\\left(\\theta{\\left(t \\right)} \\right)} - \\omega_{r} d_{w} \\hat{x}{\\left(t \\right)} \\sin{\\left(\\varphi{\\left(t \\right)} \\right)} + \\omega_{r} d_{w} \\hat{y}{\\left(t \\right)} \\cos{\\left(\\varphi{\\left(t \\right)} \\right)} - 4 h_{bc}^{2} \\hat{\\theta}{\\left(t \\right)} \\hat{\\varphi}{\\left(t \\right)} \\sin{\\left(2 \\theta{\\left(t \\right)} \\right)}\\right)}{4 I_{z} + 4 h_{bc}^{2} m \\sin^{2}{\\left(\\theta{\\left(t \\right)} \\right)}}\\end{matrix}\\right]$"
     },
     "execution_count": 43,
     "metadata": {},
     "output_type": "execute_result"
    }
   ],
   "execution_count": 43
  },
  {
   "metadata": {
    "ExecuteTime": {
     "end_time": "2025-07-30T18:55:20.440472Z",
     "start_time": "2025-07-30T18:55:20.429543Z"
    }
   },
   "cell_type": "code",
   "source": [
    "# TODO: Fix\n",
    "J1d = sp.Matrix([\n",
    "    cs_q.xd, U1d[0],\n",
    "    cs_q.yd, U1d[1],\n",
    "    cs_q.zd, U1d[2],\n",
    "    cs_q.td, U1d[3],\n",
    "    cs_q.pd, U1d[4],\n",
    "]).jacobian(sp.Matrix(cs_q.Q))\n",
    "\n",
    "# Output\n",
    "# J1d = sp.simplify(J1d)\n",
    "J1d"
   ],
   "outputs": [
    {
     "data": {
      "text/plain": [
       "Matrix([\n",
       "[0, 0, 0, 0, 0],\n",
       "[0, 0, 0, 0, 0],\n",
       "[0, 0, 0, 0, 0],\n",
       "[0, 0, 0, 0, 0],\n",
       "[0, 0, 0, 0, 0],\n",
       "[0, 0, 0, 0, 0],\n",
       "[0, 0, 0, 0, 0],\n",
       "[0, 0, 0, 0, 0],\n",
       "[0, 0, 0, 0, 0],\n",
       "[0, 0, 0, 0, 0]])"
      ],
      "text/latex": "$\\displaystyle \\left[\\begin{matrix}0 & 0 & 0 & 0 & 0\\\\0 & 0 & 0 & 0 & 0\\\\0 & 0 & 0 & 0 & 0\\\\0 & 0 & 0 & 0 & 0\\\\0 & 0 & 0 & 0 & 0\\\\0 & 0 & 0 & 0 & 0\\\\0 & 0 & 0 & 0 & 0\\\\0 & 0 & 0 & 0 & 0\\\\0 & 0 & 0 & 0 & 0\\\\0 & 0 & 0 & 0 & 0\\end{matrix}\\right]$"
     },
     "execution_count": 44,
     "metadata": {},
     "output_type": "execute_result"
    }
   ],
   "execution_count": 44
  },
  {
   "metadata": {},
   "cell_type": "markdown",
   "source": "## Project"
  },
  {
   "metadata": {},
   "cell_type": "markdown",
   "source": "### Applied dynamic model"
  },
  {
   "metadata": {
    "ExecuteTime": {
     "end_time": "2025-07-30T18:55:20.698592Z",
     "start_time": "2025-07-30T18:55:20.695935Z"
    }
   },
   "cell_type": "code",
   "source": [
    "params_sim = {\n",
    "    hbc: 8.0e-2,  # height of body center\n",
    "    hb: 25.0e-2,  # height of body\n",
    "    eb: 8.0e-2,  # body width\n",
    "    dw: 14.5e-2,  # wheel diameter\n",
    "    m: 0.700,  # mass in kg\n",
    "    Ir: 0.005,  # moment of inertia\n",
    "    Iz: 0.002,  # moment of inertia\n",
    "    Iw: 0.0005,  # moment of inertia\n",
    "    ba: 1.0,  # damping coefficient\n",
    "    bw: 10.0,  # damping coefficient\n",
    "    bd: 0.002 * 0.01,  # drag coefficient\n",
    "    ct: 1,  # theta_dot correction factor, ideally sp.tanh(theta_dot - (omega_l + omega_r))\n",
    "    rho: 1.225,  # air density\n",
    "    g: 9.81,  # gravity in m/s^2\n",
    "}"
   ],
   "outputs": [],
   "execution_count": 45
  },
  {
   "metadata": {
    "ExecuteTime": {
     "end_time": "2025-07-30T19:58:56.030331Z",
     "start_time": "2025-07-30T19:58:26.498844Z"
    }
   },
   "cell_type": "code",
   "source": [
    "args_cs_1d = [t, cs_q.x, xd1, cs_q.y, yd1, cs_q.z, zd1, cs_q.t, td1, cs_q.p, pd1]\n",
    "args_1d = args_cs_1d + args_fv\n",
    "\n",
    "Xo_sim = p_origin.X.subs(params_sim, simultaneous=True)\n",
    "Xo_sim = sp.simplify(Xo_sim)\n",
    "\n",
    "Xo_dot_sim = p_origin.Xd.subs(params_sim, simultaneous=True)\n",
    "Xo_dot_sim = sp.simplify(Xo_dot_sim)\n",
    "\n",
    "Xco_sim = p_center_origin.X.subs(params_sim, simultaneous=True)\n",
    "Xco_sim = sp.simplify(Xco_sim)\n",
    "\n",
    "Xco_dot_sim = p_center_origin.Xd.subs(params_sim, simultaneous=True)\n",
    "Xco_dot_sim = sp.simplify(Xco_dot_sim)\n",
    "\n",
    "Xc_sim = p_center.X.subs(params_sim, simultaneous=True)\n",
    "Xc_sim = sp.simplify(Xc_sim)\n",
    "\n",
    "Xc_dot_sim = p_center.Xd.subs(params_sim, simultaneous=True)\n",
    "Xc_dot_sim = sp.simplify(Xc_dot_sim)\n",
    "\n",
    "M_sim = Mii.subs(params_sim, simultaneous=True)\n",
    "M_sim = sp.simplify(M_sim)\n",
    "M_sim_fn = sp.lambdify(args, M_sim)\n",
    "\n",
    "H_sim = H.subs(params_sim, simultaneous=True)\n",
    "H_sim = sp.simplify(H_sim)\n",
    "H_sim_fn = sp.lambdify(args, H_sim)\n",
    "\n",
    "U_sim = U.subs(params_sim, simultaneous=True)\n",
    "U_sim = sp.simplify(U_sim)\n",
    "U_sim_fn = sp.lambdify(args, U_sim)\n",
    "\n",
    "J_sim = J.subs(params_sim, simultaneous=True)\n",
    "# J_sim = sp.simplify(J_sim)\n",
    "J_sim_fn = sp.lambdify(args, J_sim)\n",
    "\n",
    "M1d_sim = M1dii.subs(params_sim, simultaneous=True)\n",
    "M1d_sim = sp.simplify(M1d_sim)\n",
    "M1d_sim_fn = sp.lambdify(args_1d, M1d_sim)\n",
    "\n",
    "H1d_sim = H1d.subs(params_sim, simultaneous=True)\n",
    "H1d_sim = sp.simplify(H1d_sim)\n",
    "H1d_sim_fn = sp.lambdify(args_1d, H1d_sim)\n",
    "\n",
    "U1d_sim = U1d.subs(params_sim, simultaneous=True)\n",
    "U1d_sim = sp.simplify(U1d_sim)\n",
    "U1d_sim_fn = sp.lambdify(args_1d, U1d_sim)\n",
    "\n",
    "Cons_sim = Cons.subs(params_sim, simultaneous=True)\n",
    "Cons_sim_fn = sp.lambdify(args, Cons_sim)\n",
    "\n",
    "Cons_gradq_sim = Cons_gradq.subs(params_sim, simultaneous=True)\n",
    "Cons_gradq_sim_fn = sp.lambdify(args, Cons_gradq_sim)\n",
    "\n",
    "Cons_gradqd_sim = Cons_gradqd.subs(params_sim, simultaneous=True)\n",
    "Cons_gradqd_sim_fn = sp.lambdify(args, Cons_gradqd_sim)\n",
    "\n",
    "# Output\n",
    "display(M_sim)\n",
    "display(H_sim)\n",
    "display(U_sim)"
   ],
   "outputs": [
    {
     "data": {
      "text/plain": [
       "Matrix([\n",
       "[                                  0.7,                                    0,                     0, 0.056*cos(\\theta(t))*cos(\\varphi(t)), -0.056*sin(\\theta(t))*sin(\\varphi(t))],\n",
       "[                                    0,                                  0.7,                     0, 0.056*sin(\\varphi(t))*cos(\\theta(t)),  0.056*sin(\\theta(t))*cos(\\varphi(t))],\n",
       "[                                    0,                                    0,                   0.7,                -0.056*sin(\\theta(t)),                                     0],\n",
       "[ 0.056*cos(\\theta(t))*cos(\\varphi(t)), 0.056*sin(\\varphi(t))*cos(\\theta(t)), -0.056*sin(\\theta(t)),                              0.01148,                                     0],\n",
       "[-0.056*sin(\\theta(t))*sin(\\varphi(t)), 0.056*sin(\\theta(t))*cos(\\varphi(t)),                     0,                                    0,     0.00896*sin(\\theta(t))**2 + 0.002]])"
      ],
      "text/latex": "$\\displaystyle \\left[\\begin{matrix}0.7 & 0 & 0 & 0.056 \\cos{\\left(\\theta{\\left(t \\right)} \\right)} \\cos{\\left(\\varphi{\\left(t \\right)} \\right)} & - 0.056 \\sin{\\left(\\theta{\\left(t \\right)} \\right)} \\sin{\\left(\\varphi{\\left(t \\right)} \\right)}\\\\0 & 0.7 & 0 & 0.056 \\sin{\\left(\\varphi{\\left(t \\right)} \\right)} \\cos{\\left(\\theta{\\left(t \\right)} \\right)} & 0.056 \\sin{\\left(\\theta{\\left(t \\right)} \\right)} \\cos{\\left(\\varphi{\\left(t \\right)} \\right)}\\\\0 & 0 & 0.7 & - 0.056 \\sin{\\left(\\theta{\\left(t \\right)} \\right)} & 0\\\\0.056 \\cos{\\left(\\theta{\\left(t \\right)} \\right)} \\cos{\\left(\\varphi{\\left(t \\right)} \\right)} & 0.056 \\sin{\\left(\\varphi{\\left(t \\right)} \\right)} \\cos{\\left(\\theta{\\left(t \\right)} \\right)} & - 0.056 \\sin{\\left(\\theta{\\left(t \\right)} \\right)} & 0.01148 & 0\\\\- 0.056 \\sin{\\left(\\theta{\\left(t \\right)} \\right)} \\sin{\\left(\\varphi{\\left(t \\right)} \\right)} & 0.056 \\sin{\\left(\\theta{\\left(t \\right)} \\right)} \\cos{\\left(\\varphi{\\left(t \\right)} \\right)} & 0 & 0 & 0.00896 \\sin^{2}{\\left(\\theta{\\left(t \\right)} \\right)} + 0.002\\end{matrix}\\right]$"
     },
     "metadata": {},
     "output_type": "display_data"
    },
    {
     "data": {
      "text/plain": [
       "Matrix([\n",
       "[4.440625e-7*(\\omega_l + \\omega_r)*cos(\\varphi(t)) - (0.1015*\\omega_l + 0.1015*\\omega_r + 3.92e-6*sin(\\theta(t)))*sin(\\varphi(t))*Derivative(\\varphi(t), t)/4 + 9.8e-7*sqrt(2)*sin(\\theta(t) + pi/4)*cos(\\varphi(t))*Derivative(\\theta(t), t) - 0.056*sin(\\theta(t))*cos(\\varphi(t))*Derivative(\\theta(t), t)**2 - 0.056*sin(\\theta(t))*cos(\\varphi(t))*Derivative(\\varphi(t), t)**2 - 0.112*sin(\\varphi(t))*cos(\\theta(t))*Derivative(\\theta(t), t)*Derivative(\\varphi(t), t) + 1.225e-5*Derivative(x(t), t)],\n",
       "[4.440625e-7*(\\omega_l + \\omega_r)*sin(\\varphi(t)) + (0.1015*\\omega_l + 0.1015*\\omega_r + 3.92e-6*sin(\\theta(t)))*cos(\\varphi(t))*Derivative(\\varphi(t), t)/4 + 9.8e-7*sqrt(2)*sin(\\theta(t) + pi/4)*sin(\\varphi(t))*Derivative(\\theta(t), t) - 0.056*sin(\\theta(t))*sin(\\varphi(t))*Derivative(\\theta(t), t)**2 - 0.056*sin(\\theta(t))*sin(\\varphi(t))*Derivative(\\varphi(t), t)**2 + 0.112*cos(\\theta(t))*cos(\\varphi(t))*Derivative(\\theta(t), t)*Derivative(\\varphi(t), t) + 1.225e-5*Derivative(y(t), t)],\n",
       "[                                                                                                                                                                                                                                                                                                                                                  9.8e-7*sqrt(2)*cos(\\theta(t) + pi/4)*Derivative(\\theta(t), t) - 0.056*cos(\\theta(t))*Derivative(\\theta(t), t)**2 + 20.00001225*Derivative(z(t), t) + 6.867],\n",
       "[                                                                                                3.5525e-8*\\omega_l*cos(\\theta(t)) + 0.0525625*\\omega_l + 3.5525e-8*\\omega_r*cos(\\theta(t)) + 0.0525625*\\omega_r - 9.8e-7*sin(\\theta(t))*Derivative(z(t), t) - 0.54936*sin(\\theta(t)) - 0.00448*sin(2*\\theta(t))*Derivative(\\varphi(t), t)**2 + 9.8e-7*sin(\\varphi(t))*cos(\\theta(t))*Derivative(y(t), t) + 9.8e-7*cos(\\theta(t))*cos(\\varphi(t))*Derivative(x(t), t) + 0.1051250784*Derivative(\\theta(t), t)],\n",
       "[                                                                                                                                                                 (0.1015*\\omega_l + 0.1015*\\omega_r - 3.92e-6*sin(\\theta(t)))*sin(\\varphi(t))*Derivative(x(t), t)/4 - (0.1015*\\omega_l + 0.1015*\\omega_r - 3.92e-6*sin(\\theta(t)))*cos(\\varphi(t))*Derivative(y(t), t)/4 + 7.84e-8*sin(\\theta(t))**2*Derivative(\\varphi(t), t) + 0.00896*sin(2*\\theta(t))*Derivative(\\theta(t), t)*Derivative(\\varphi(t), t)]])"
      ],
      "text/latex": "$\\displaystyle \\left[\\begin{matrix}4.440625 \\cdot 10^{-7} \\left(\\omega_{l} + \\omega_{r}\\right) \\cos{\\left(\\varphi{\\left(t \\right)} \\right)} - \\frac{\\left(0.1015 \\omega_{l} + 0.1015 \\omega_{r} + 3.92 \\cdot 10^{-6} \\sin{\\left(\\theta{\\left(t \\right)} \\right)}\\right) \\sin{\\left(\\varphi{\\left(t \\right)} \\right)} \\frac{d}{d t} \\varphi{\\left(t \\right)}}{4} + 9.8 \\cdot 10^{-7} \\sqrt{2} \\sin{\\left(\\theta{\\left(t \\right)} + \\frac{\\pi}{4} \\right)} \\cos{\\left(\\varphi{\\left(t \\right)} \\right)} \\frac{d}{d t} \\theta{\\left(t \\right)} - 0.056 \\sin{\\left(\\theta{\\left(t \\right)} \\right)} \\cos{\\left(\\varphi{\\left(t \\right)} \\right)} \\left(\\frac{d}{d t} \\theta{\\left(t \\right)}\\right)^{2} - 0.056 \\sin{\\left(\\theta{\\left(t \\right)} \\right)} \\cos{\\left(\\varphi{\\left(t \\right)} \\right)} \\left(\\frac{d}{d t} \\varphi{\\left(t \\right)}\\right)^{2} - 0.112 \\sin{\\left(\\varphi{\\left(t \\right)} \\right)} \\cos{\\left(\\theta{\\left(t \\right)} \\right)} \\frac{d}{d t} \\theta{\\left(t \\right)} \\frac{d}{d t} \\varphi{\\left(t \\right)} + 1.225 \\cdot 10^{-5} \\frac{d}{d t} x{\\left(t \\right)}\\\\4.440625 \\cdot 10^{-7} \\left(\\omega_{l} + \\omega_{r}\\right) \\sin{\\left(\\varphi{\\left(t \\right)} \\right)} + \\frac{\\left(0.1015 \\omega_{l} + 0.1015 \\omega_{r} + 3.92 \\cdot 10^{-6} \\sin{\\left(\\theta{\\left(t \\right)} \\right)}\\right) \\cos{\\left(\\varphi{\\left(t \\right)} \\right)} \\frac{d}{d t} \\varphi{\\left(t \\right)}}{4} + 9.8 \\cdot 10^{-7} \\sqrt{2} \\sin{\\left(\\theta{\\left(t \\right)} + \\frac{\\pi}{4} \\right)} \\sin{\\left(\\varphi{\\left(t \\right)} \\right)} \\frac{d}{d t} \\theta{\\left(t \\right)} - 0.056 \\sin{\\left(\\theta{\\left(t \\right)} \\right)} \\sin{\\left(\\varphi{\\left(t \\right)} \\right)} \\left(\\frac{d}{d t} \\theta{\\left(t \\right)}\\right)^{2} - 0.056 \\sin{\\left(\\theta{\\left(t \\right)} \\right)} \\sin{\\left(\\varphi{\\left(t \\right)} \\right)} \\left(\\frac{d}{d t} \\varphi{\\left(t \\right)}\\right)^{2} + 0.112 \\cos{\\left(\\theta{\\left(t \\right)} \\right)} \\cos{\\left(\\varphi{\\left(t \\right)} \\right)} \\frac{d}{d t} \\theta{\\left(t \\right)} \\frac{d}{d t} \\varphi{\\left(t \\right)} + 1.225 \\cdot 10^{-5} \\frac{d}{d t} y{\\left(t \\right)}\\\\9.8 \\cdot 10^{-7} \\sqrt{2} \\cos{\\left(\\theta{\\left(t \\right)} + \\frac{\\pi}{4} \\right)} \\frac{d}{d t} \\theta{\\left(t \\right)} - 0.056 \\cos{\\left(\\theta{\\left(t \\right)} \\right)} \\left(\\frac{d}{d t} \\theta{\\left(t \\right)}\\right)^{2} + 20.00001225 \\frac{d}{d t} z{\\left(t \\right)} + 6.867\\\\3.5525 \\cdot 10^{-8} \\omega_{l} \\cos{\\left(\\theta{\\left(t \\right)} \\right)} + 0.0525625 \\omega_{l} + 3.5525 \\cdot 10^{-8} \\omega_{r} \\cos{\\left(\\theta{\\left(t \\right)} \\right)} + 0.0525625 \\omega_{r} - 9.8 \\cdot 10^{-7} \\sin{\\left(\\theta{\\left(t \\right)} \\right)} \\frac{d}{d t} z{\\left(t \\right)} - 0.54936 \\sin{\\left(\\theta{\\left(t \\right)} \\right)} - 0.00448 \\sin{\\left(2 \\theta{\\left(t \\right)} \\right)} \\left(\\frac{d}{d t} \\varphi{\\left(t \\right)}\\right)^{2} + 9.8 \\cdot 10^{-7} \\sin{\\left(\\varphi{\\left(t \\right)} \\right)} \\cos{\\left(\\theta{\\left(t \\right)} \\right)} \\frac{d}{d t} y{\\left(t \\right)} + 9.8 \\cdot 10^{-7} \\cos{\\left(\\theta{\\left(t \\right)} \\right)} \\cos{\\left(\\varphi{\\left(t \\right)} \\right)} \\frac{d}{d t} x{\\left(t \\right)} + 0.1051250784 \\frac{d}{d t} \\theta{\\left(t \\right)}\\\\\\frac{\\left(0.1015 \\omega_{l} + 0.1015 \\omega_{r} - 3.92 \\cdot 10^{-6} \\sin{\\left(\\theta{\\left(t \\right)} \\right)}\\right) \\sin{\\left(\\varphi{\\left(t \\right)} \\right)} \\frac{d}{d t} x{\\left(t \\right)}}{4} - \\frac{\\left(0.1015 \\omega_{l} + 0.1015 \\omega_{r} - 3.92 \\cdot 10^{-6} \\sin{\\left(\\theta{\\left(t \\right)} \\right)}\\right) \\cos{\\left(\\varphi{\\left(t \\right)} \\right)} \\frac{d}{d t} y{\\left(t \\right)}}{4} + 7.84 \\cdot 10^{-8} \\sin^{2}{\\left(\\theta{\\left(t \\right)} \\right)} \\frac{d}{d t} \\varphi{\\left(t \\right)} + 0.00896 \\sin{\\left(2 \\theta{\\left(t \\right)} \\right)} \\frac{d}{d t} \\theta{\\left(t \\right)} \\frac{d}{d t} \\varphi{\\left(t \\right)}\\end{matrix}\\right]$"
     },
     "metadata": {},
     "output_type": "display_data"
    },
    {
     "data": {
      "text/plain": [
       "Matrix([\n",
       "[(2.85714285714286*(0.00448*sin(\\theta(t))**2 + 0.002)*(0.21025*\\omega_l + 0.21025*\\omega_r + 6.4*sin(\\theta(t))*Derivative(z(t), t) - 0.00896*sin(2*\\theta(t))*Derivative(\\varphi(t), t)**2 + 0.4205*Derivative(\\theta(t), t))*cos(\\theta(t))*cos(\\varphi(t)) + 0.178571428571429*(0.00448*sin(\\theta(t))**2 + 0.002)*(-3.5525e-6*(\\omega_l + \\omega_r)*cos(\\varphi(t)) + 2*(0.1015*\\omega_l + 0.1015*\\omega_r + 3.92e-6*sin(\\theta(t)))*sin(\\varphi(t))*Derivative(\\varphi(t), t) - 7.84e-6*sqrt(2)*sin(\\theta(t) + pi/4)*cos(\\varphi(t))*Derivative(\\theta(t), t) + 0.448*sin(\\theta(t))*cos(\\varphi(t))*Derivative(\\theta(t), t)**2 + 0.448*sin(\\theta(t))*cos(\\varphi(t))*Derivative(\\varphi(t), t)**2 + 0.896*sin(\\varphi(t))*cos(\\theta(t))*Derivative(\\theta(t), t)*Derivative(\\varphi(t), t) - 9.8e-5*Derivative(x(t), t)) + 0.014*(0.0116*\\omega_l*sin(\\theta(t))*Derivative(\\varphi(t), t) - 0.145*\\omega_l*sin(\\varphi(t))*Derivative(x(t), t) + 0.145*\\omega_l*cos(\\varphi(t))*Derivative(y(t), t) + 0.0116*\\omega_r*sin(\\theta(t))*Derivative(\\varphi(t), t) - 0.145*\\omega_r*sin(\\varphi(t))*Derivative(x(t), t) + 0.145*\\omega_r*cos(\\varphi(t))*Derivative(y(t), t) - 0.0256*sin(2*\\theta(t))*Derivative(\\theta(t), t)*Derivative(\\varphi(t), t))*sin(\\theta(t))*sin(\\varphi(t)))/(0.00448*sin(\\theta(t))**2 + 0.002)],\n",
       "[ (2.85714285714286*(0.00448*sin(\\theta(t))**2 + 0.002)*(0.21025*\\omega_l + 0.21025*\\omega_r + 6.4*sin(\\theta(t))*Derivative(z(t), t) - 0.00896*sin(2*\\theta(t))*Derivative(\\varphi(t), t)**2 + 0.4205*Derivative(\\theta(t), t))*sin(\\varphi(t))*cos(\\theta(t)) - 0.178571428571429*(0.00448*sin(\\theta(t))**2 + 0.002)*(3.5525e-6*(\\omega_l + \\omega_r)*sin(\\varphi(t)) + 2*(0.1015*\\omega_l + 0.1015*\\omega_r + 3.92e-6*sin(\\theta(t)))*cos(\\varphi(t))*Derivative(\\varphi(t), t) + 7.84e-6*sqrt(2)*sin(\\theta(t) + pi/4)*sin(\\varphi(t))*Derivative(\\theta(t), t) - 0.448*sin(\\theta(t))*sin(\\varphi(t))*Derivative(\\theta(t), t)**2 - 0.448*sin(\\theta(t))*sin(\\varphi(t))*Derivative(\\varphi(t), t)**2 + 0.896*cos(\\theta(t))*cos(\\varphi(t))*Derivative(\\theta(t), t)*Derivative(\\varphi(t), t) + 9.8e-5*Derivative(y(t), t)) - 0.014*(0.0116*\\omega_l*sin(\\theta(t))*Derivative(\\varphi(t), t) - 0.145*\\omega_l*sin(\\varphi(t))*Derivative(x(t), t) + 0.145*\\omega_l*cos(\\varphi(t))*Derivative(y(t), t) + 0.0116*\\omega_r*sin(\\theta(t))*Derivative(\\varphi(t), t) - 0.145*\\omega_r*sin(\\varphi(t))*Derivative(x(t), t) + 0.145*\\omega_r*cos(\\varphi(t))*Derivative(y(t), t) - 0.0256*sin(2*\\theta(t))*Derivative(\\theta(t), t)*Derivative(\\varphi(t), t))*sin(\\theta(t))*cos(\\varphi(t)))/(0.00448*sin(\\theta(t))**2 + 0.002)],\n",
       "[                                                                                                                                                                                                                                                                                                                                                                                                                                                                                                                                                                                                                                                                                                                                                                                                                                                                                                                                                            -2.85714285714286*(0.21025*\\omega_l + 0.21025*\\omega_r + 6.4*sin(\\theta(t))*Derivative(z(t), t) - 0.00896*sin(2*\\theta(t))*Derivative(\\varphi(t), t)**2 + 0.4205*Derivative(\\theta(t), t))*sin(\\theta(t)) - 1.4e-6*sqrt(2)*cos(\\theta(t) + pi/4)*Derivative(\\theta(t), t) + 0.08*cos(\\theta(t))*Derivative(\\theta(t), t)**2 - 28.5714460714286*Derivative(z(t), t) - 9.81],\n",
       "[                                                                                                                                                                                                                                                                                                                                                                                                                                                                                                                                                                                                                                                                                                                                                                                                                                                                                                                                                                                                                                                                                                                        -7.50892857142857*\\omega_l - 7.50892857142857*\\omega_r - 228.571428571429*sin(\\theta(t))*Derivative(z(t), t) + 0.32*sin(2*\\theta(t))*Derivative(\\varphi(t), t)**2 - 15.0178571428571*Derivative(\\theta(t), t)],\n",
       "[                                                                                                                                                                                                                                                                                                                                                                                                                                                                                                                                                                                                                                                                                                                                                                                                                                                                    (0.00812*\\omega_l*sin(\\theta(t))*Derivative(\\varphi(t), t) - 0.1015*\\omega_l*sin(\\varphi(t))*Derivative(x(t), t) + 0.1015*\\omega_l*cos(\\varphi(t))*Derivative(y(t), t) + 0.00812*\\omega_r*sin(\\theta(t))*Derivative(\\varphi(t), t) - 0.1015*\\omega_r*sin(\\varphi(t))*Derivative(x(t), t) + 0.1015*\\omega_r*cos(\\varphi(t))*Derivative(y(t), t) - 0.01792*sin(2*\\theta(t))*Derivative(\\theta(t), t)*Derivative(\\varphi(t), t))/(0.01792*sin(\\theta(t))**2 + 0.008)]])"
      ],
      "text/latex": "$\\displaystyle \\left[\\begin{matrix}\\frac{2.85714285714286 \\left(0.00448 \\sin^{2}{\\left(\\theta{\\left(t \\right)} \\right)} + 0.002\\right) \\left(0.21025 \\omega_{l} + 0.21025 \\omega_{r} + 6.4 \\sin{\\left(\\theta{\\left(t \\right)} \\right)} \\frac{d}{d t} z{\\left(t \\right)} - 0.00896 \\sin{\\left(2 \\theta{\\left(t \\right)} \\right)} \\left(\\frac{d}{d t} \\varphi{\\left(t \\right)}\\right)^{2} + 0.4205 \\frac{d}{d t} \\theta{\\left(t \\right)}\\right) \\cos{\\left(\\theta{\\left(t \\right)} \\right)} \\cos{\\left(\\varphi{\\left(t \\right)} \\right)} + 0.178571428571429 \\left(0.00448 \\sin^{2}{\\left(\\theta{\\left(t \\right)} \\right)} + 0.002\\right) \\left(- 3.5525 \\cdot 10^{-6} \\left(\\omega_{l} + \\omega_{r}\\right) \\cos{\\left(\\varphi{\\left(t \\right)} \\right)} + 2 \\left(0.1015 \\omega_{l} + 0.1015 \\omega_{r} + 3.92 \\cdot 10^{-6} \\sin{\\left(\\theta{\\left(t \\right)} \\right)}\\right) \\sin{\\left(\\varphi{\\left(t \\right)} \\right)} \\frac{d}{d t} \\varphi{\\left(t \\right)} - 7.84 \\cdot 10^{-6} \\sqrt{2} \\sin{\\left(\\theta{\\left(t \\right)} + \\frac{\\pi}{4} \\right)} \\cos{\\left(\\varphi{\\left(t \\right)} \\right)} \\frac{d}{d t} \\theta{\\left(t \\right)} + 0.448 \\sin{\\left(\\theta{\\left(t \\right)} \\right)} \\cos{\\left(\\varphi{\\left(t \\right)} \\right)} \\left(\\frac{d}{d t} \\theta{\\left(t \\right)}\\right)^{2} + 0.448 \\sin{\\left(\\theta{\\left(t \\right)} \\right)} \\cos{\\left(\\varphi{\\left(t \\right)} \\right)} \\left(\\frac{d}{d t} \\varphi{\\left(t \\right)}\\right)^{2} + 0.896 \\sin{\\left(\\varphi{\\left(t \\right)} \\right)} \\cos{\\left(\\theta{\\left(t \\right)} \\right)} \\frac{d}{d t} \\theta{\\left(t \\right)} \\frac{d}{d t} \\varphi{\\left(t \\right)} - 9.8 \\cdot 10^{-5} \\frac{d}{d t} x{\\left(t \\right)}\\right) + 0.014 \\left(0.0116 \\omega_{l} \\sin{\\left(\\theta{\\left(t \\right)} \\right)} \\frac{d}{d t} \\varphi{\\left(t \\right)} - 0.145 \\omega_{l} \\sin{\\left(\\varphi{\\left(t \\right)} \\right)} \\frac{d}{d t} x{\\left(t \\right)} + 0.145 \\omega_{l} \\cos{\\left(\\varphi{\\left(t \\right)} \\right)} \\frac{d}{d t} y{\\left(t \\right)} + 0.0116 \\omega_{r} \\sin{\\left(\\theta{\\left(t \\right)} \\right)} \\frac{d}{d t} \\varphi{\\left(t \\right)} - 0.145 \\omega_{r} \\sin{\\left(\\varphi{\\left(t \\right)} \\right)} \\frac{d}{d t} x{\\left(t \\right)} + 0.145 \\omega_{r} \\cos{\\left(\\varphi{\\left(t \\right)} \\right)} \\frac{d}{d t} y{\\left(t \\right)} - 0.0256 \\sin{\\left(2 \\theta{\\left(t \\right)} \\right)} \\frac{d}{d t} \\theta{\\left(t \\right)} \\frac{d}{d t} \\varphi{\\left(t \\right)}\\right) \\sin{\\left(\\theta{\\left(t \\right)} \\right)} \\sin{\\left(\\varphi{\\left(t \\right)} \\right)}}{0.00448 \\sin^{2}{\\left(\\theta{\\left(t \\right)} \\right)} + 0.002}\\\\\\frac{2.85714285714286 \\left(0.00448 \\sin^{2}{\\left(\\theta{\\left(t \\right)} \\right)} + 0.002\\right) \\left(0.21025 \\omega_{l} + 0.21025 \\omega_{r} + 6.4 \\sin{\\left(\\theta{\\left(t \\right)} \\right)} \\frac{d}{d t} z{\\left(t \\right)} - 0.00896 \\sin{\\left(2 \\theta{\\left(t \\right)} \\right)} \\left(\\frac{d}{d t} \\varphi{\\left(t \\right)}\\right)^{2} + 0.4205 \\frac{d}{d t} \\theta{\\left(t \\right)}\\right) \\sin{\\left(\\varphi{\\left(t \\right)} \\right)} \\cos{\\left(\\theta{\\left(t \\right)} \\right)} - 0.178571428571429 \\left(0.00448 \\sin^{2}{\\left(\\theta{\\left(t \\right)} \\right)} + 0.002\\right) \\left(3.5525 \\cdot 10^{-6} \\left(\\omega_{l} + \\omega_{r}\\right) \\sin{\\left(\\varphi{\\left(t \\right)} \\right)} + 2 \\left(0.1015 \\omega_{l} + 0.1015 \\omega_{r} + 3.92 \\cdot 10^{-6} \\sin{\\left(\\theta{\\left(t \\right)} \\right)}\\right) \\cos{\\left(\\varphi{\\left(t \\right)} \\right)} \\frac{d}{d t} \\varphi{\\left(t \\right)} + 7.84 \\cdot 10^{-6} \\sqrt{2} \\sin{\\left(\\theta{\\left(t \\right)} + \\frac{\\pi}{4} \\right)} \\sin{\\left(\\varphi{\\left(t \\right)} \\right)} \\frac{d}{d t} \\theta{\\left(t \\right)} - 0.448 \\sin{\\left(\\theta{\\left(t \\right)} \\right)} \\sin{\\left(\\varphi{\\left(t \\right)} \\right)} \\left(\\frac{d}{d t} \\theta{\\left(t \\right)}\\right)^{2} - 0.448 \\sin{\\left(\\theta{\\left(t \\right)} \\right)} \\sin{\\left(\\varphi{\\left(t \\right)} \\right)} \\left(\\frac{d}{d t} \\varphi{\\left(t \\right)}\\right)^{2} + 0.896 \\cos{\\left(\\theta{\\left(t \\right)} \\right)} \\cos{\\left(\\varphi{\\left(t \\right)} \\right)} \\frac{d}{d t} \\theta{\\left(t \\right)} \\frac{d}{d t} \\varphi{\\left(t \\right)} + 9.8 \\cdot 10^{-5} \\frac{d}{d t} y{\\left(t \\right)}\\right) - 0.014 \\left(0.0116 \\omega_{l} \\sin{\\left(\\theta{\\left(t \\right)} \\right)} \\frac{d}{d t} \\varphi{\\left(t \\right)} - 0.145 \\omega_{l} \\sin{\\left(\\varphi{\\left(t \\right)} \\right)} \\frac{d}{d t} x{\\left(t \\right)} + 0.145 \\omega_{l} \\cos{\\left(\\varphi{\\left(t \\right)} \\right)} \\frac{d}{d t} y{\\left(t \\right)} + 0.0116 \\omega_{r} \\sin{\\left(\\theta{\\left(t \\right)} \\right)} \\frac{d}{d t} \\varphi{\\left(t \\right)} - 0.145 \\omega_{r} \\sin{\\left(\\varphi{\\left(t \\right)} \\right)} \\frac{d}{d t} x{\\left(t \\right)} + 0.145 \\omega_{r} \\cos{\\left(\\varphi{\\left(t \\right)} \\right)} \\frac{d}{d t} y{\\left(t \\right)} - 0.0256 \\sin{\\left(2 \\theta{\\left(t \\right)} \\right)} \\frac{d}{d t} \\theta{\\left(t \\right)} \\frac{d}{d t} \\varphi{\\left(t \\right)}\\right) \\sin{\\left(\\theta{\\left(t \\right)} \\right)} \\cos{\\left(\\varphi{\\left(t \\right)} \\right)}}{0.00448 \\sin^{2}{\\left(\\theta{\\left(t \\right)} \\right)} + 0.002}\\\\- 2.85714285714286 \\left(0.21025 \\omega_{l} + 0.21025 \\omega_{r} + 6.4 \\sin{\\left(\\theta{\\left(t \\right)} \\right)} \\frac{d}{d t} z{\\left(t \\right)} - 0.00896 \\sin{\\left(2 \\theta{\\left(t \\right)} \\right)} \\left(\\frac{d}{d t} \\varphi{\\left(t \\right)}\\right)^{2} + 0.4205 \\frac{d}{d t} \\theta{\\left(t \\right)}\\right) \\sin{\\left(\\theta{\\left(t \\right)} \\right)} - 1.4 \\cdot 10^{-6} \\sqrt{2} \\cos{\\left(\\theta{\\left(t \\right)} + \\frac{\\pi}{4} \\right)} \\frac{d}{d t} \\theta{\\left(t \\right)} + 0.08 \\cos{\\left(\\theta{\\left(t \\right)} \\right)} \\left(\\frac{d}{d t} \\theta{\\left(t \\right)}\\right)^{2} - 28.5714460714286 \\frac{d}{d t} z{\\left(t \\right)} - 9.81\\\\- 7.50892857142857 \\omega_{l} - 7.50892857142857 \\omega_{r} - 228.571428571429 \\sin{\\left(\\theta{\\left(t \\right)} \\right)} \\frac{d}{d t} z{\\left(t \\right)} + 0.32 \\sin{\\left(2 \\theta{\\left(t \\right)} \\right)} \\left(\\frac{d}{d t} \\varphi{\\left(t \\right)}\\right)^{2} - 15.0178571428571 \\frac{d}{d t} \\theta{\\left(t \\right)}\\\\\\frac{0.00812 \\omega_{l} \\sin{\\left(\\theta{\\left(t \\right)} \\right)} \\frac{d}{d t} \\varphi{\\left(t \\right)} - 0.1015 \\omega_{l} \\sin{\\left(\\varphi{\\left(t \\right)} \\right)} \\frac{d}{d t} x{\\left(t \\right)} + 0.1015 \\omega_{l} \\cos{\\left(\\varphi{\\left(t \\right)} \\right)} \\frac{d}{d t} y{\\left(t \\right)} + 0.00812 \\omega_{r} \\sin{\\left(\\theta{\\left(t \\right)} \\right)} \\frac{d}{d t} \\varphi{\\left(t \\right)} - 0.1015 \\omega_{r} \\sin{\\left(\\varphi{\\left(t \\right)} \\right)} \\frac{d}{d t} x{\\left(t \\right)} + 0.1015 \\omega_{r} \\cos{\\left(\\varphi{\\left(t \\right)} \\right)} \\frac{d}{d t} y{\\left(t \\right)} - 0.01792 \\sin{\\left(2 \\theta{\\left(t \\right)} \\right)} \\frac{d}{d t} \\theta{\\left(t \\right)} \\frac{d}{d t} \\varphi{\\left(t \\right)}}{0.01792 \\sin^{2}{\\left(\\theta{\\left(t \\right)} \\right)} + 0.008}\\end{matrix}\\right]$"
     },
     "metadata": {},
     "output_type": "display_data"
    }
   ],
   "execution_count": 90
  },
  {
   "metadata": {},
   "cell_type": "markdown",
   "source": "### Code generation"
  },
  {
   "metadata": {
    "ExecuteTime": {
     "end_time": "2025-07-30T18:55:46.077164Z",
     "start_time": "2025-07-30T18:55:46.067342Z"
    }
   },
   "cell_type": "code",
   "source": [
    "subs_2ord_code = {\n",
    "    t: sp.Symbol(r\"t\", real=True),\n",
    "    cs_q.x: sp.Symbol(r\"x\", real=True),\n",
    "    sp.Derivative(cs_q.x, t): sp.Symbol(r\"x_dot\", real=True),\n",
    "    sp.Derivative(cs_q.x, (t, 2)): sp.Symbol(r\"x_ddot\", real=True),\n",
    "    cs_q.y: sp.Symbol(r\"y\", real=True),\n",
    "    sp.Derivative(cs_q.y, t): sp.Symbol(r\"y_dot\", real=True),\n",
    "    sp.Derivative(cs_q.y, (t, 2)): sp.Symbol(r\"y_ddot\", real=True),\n",
    "    cs_q.z: sp.Symbol(r\"z\", real=True),\n",
    "    sp.Derivative(cs_q.z, t): sp.Symbol(r\"z_dot\", real=True),\n",
    "    sp.Derivative(cs_q.z, (t, 2)): sp.Symbol(r\"z_ddot\", real=True),\n",
    "    cs_q.t: sp.Symbol(r\"theta\", real=True),\n",
    "    sp.Derivative(cs_q.t, t): sp.Symbol(r\"theta_dot\", real=True),\n",
    "    sp.Derivative(cs_q.t, (t, 2)): sp.Symbol(r\"theta_ddot\", real=True),\n",
    "    cs_q.p: sp.Symbol(r\"phi\", real=True),\n",
    "    sp.Derivative(cs_q.p, t): sp.Symbol(r\"phi_dot\", real=True),\n",
    "    sp.Derivative(cs_q.p, (t, 2)): sp.Symbol(r\"phi_ddot\", real=True),\n",
    "}\n",
    "\n",
    "subs_1ord_code = {\n",
    "    t: sp.Symbol(r\"t\", real=True),\n",
    "    cs_q.x: sp.Symbol(r\"x\", real=True),\n",
    "    xd1: sp.Symbol(r\"x_dot\", real=True),\n",
    "    sp.Derivative(xd1, t): sp.Symbol(r\"x_ddot\", real=True),\n",
    "    cs_q.y: sp.Symbol(r\"y\", real=True),\n",
    "    yd1: sp.Symbol(r\"y_dot\", real=True),\n",
    "    sp.Derivative(yd1, t): sp.Symbol(r\"y_ddot\", real=True),\n",
    "    cs_q.z: sp.Symbol(r\"z\", real=True),\n",
    "    zd1: sp.Symbol(r\"z_dot\", real=True),\n",
    "    sp.Derivative(zd1, t): sp.Symbol(r\"z_ddot\", real=True),\n",
    "    cs_q.t: sp.Symbol(r\"theta\", real=True),\n",
    "    td1: sp.Symbol(r\"theta_dot\", real=True),\n",
    "    sp.Derivative(td1, t): sp.Symbol(r\"theta_ddot\", real=True),\n",
    "    cs_q.p: sp.Symbol(r\"phi\", real=True),\n",
    "    pd1: sp.Symbol(r\"phi_dot\", real=True),\n",
    "    sp.Derivative(pd1, t): sp.Symbol(r\"phi_ddot\", real=True),\n",
    "}\n",
    "\n",
    "subs_fv_code =  {\n",
    "    fv_omega_l: sp.Symbol(r\"fv_omega_l\", real=True),\n",
    "    fv_omega_r: sp.Symbol(r\"fv_omega_r\", real=True),\n",
    "}\n",
    "\n",
    "subs_code = subs_2ord_code | subs_1ord_code | subs_fv_code"
   ],
   "outputs": [],
   "execution_count": 47
  },
  {
   "metadata": {},
   "cell_type": "markdown",
   "source": "#### Python"
  },
  {
   "metadata": {
    "ExecuteTime": {
     "end_time": "2025-07-30T19:58:56.602244Z",
     "start_time": "2025-07-30T19:58:56.594910Z"
    }
   },
   "cell_type": "code",
   "source": [
    "Xo_code = Xo_sim.subs(subs_code)\n",
    "Xo_code = sp.simplify(Xo_code)\n",
    "\n",
    "# Output\n",
    "display(sp.pycode(Xo_code, strict=False))"
   ],
   "outputs": [
    {
     "data": {
      "text/plain": [
       "'ImmutableDenseMatrix([[x], [y], [z]])'"
      ]
     },
     "metadata": {},
     "output_type": "display_data"
    }
   ],
   "execution_count": 91
  },
  {
   "metadata": {
    "ExecuteTime": {
     "end_time": "2025-07-30T19:59:07.439901Z",
     "start_time": "2025-07-30T19:59:07.341641Z"
    }
   },
   "cell_type": "code",
   "source": [
    "Xo_dot_code = Xo_dot_sim.subs(subs_code)\n",
    "Xo_dot_code = sp.simplify(Xo_dot_code)\n",
    "\n",
    "# Output\n",
    "display(sp.pycode(Xo_dot_code, strict=False))"
   ],
   "outputs": [
    {
     "data": {
      "text/plain": [
       "'ImmutableDenseMatrix([[x_dot + 0.03625*(fv_omega_l + fv_omega_r)*math.cos(phi)], [y_dot + 0.03625*(fv_omega_l + fv_omega_r)*math.sin(phi)], [z_dot]])'"
      ]
     },
     "metadata": {},
     "output_type": "display_data"
    }
   ],
   "execution_count": 92
  },
  {
   "metadata": {
    "ExecuteTime": {
     "end_time": "2025-07-30T19:59:27.121137Z",
     "start_time": "2025-07-30T19:59:27.069117Z"
    }
   },
   "cell_type": "code",
   "source": [
    "Xco_code = Xco_sim.subs(subs_code)\n",
    "Xco_code = sp.simplify(Xco_code)\n",
    "\n",
    "# Output\n",
    "display(sp.pycode(Xco_code, strict=False))"
   ],
   "outputs": [
    {
     "data": {
      "text/plain": [
       "'ImmutableDenseMatrix([[0.08*math.sin(theta)*math.cos(phi)], [0.08*math.sin(phi)*math.sin(theta)], [0.08*math.cos(theta)]])'"
      ]
     },
     "metadata": {},
     "output_type": "display_data"
    }
   ],
   "execution_count": 93
  },
  {
   "metadata": {
    "ExecuteTime": {
     "end_time": "2025-07-30T19:59:28.080867Z",
     "start_time": "2025-07-30T19:59:27.933779Z"
    }
   },
   "cell_type": "code",
   "source": [
    "Xco_dot_code = Xco_dot_sim.subs(subs_code)\n",
    "Xco_dot_code = sp.simplify(Xco_dot_code)\n",
    "\n",
    "# Output\n",
    "display(sp.pycode(Xco_dot_code, strict=False))"
   ],
   "outputs": [
    {
     "data": {
      "text/plain": [
       "'ImmutableDenseMatrix([[-0.08*phi_dot*math.sin(phi)*math.sin(theta) + 0.08*theta_dot*math.cos(phi)*math.cos(theta)], [0.08*phi_dot*math.sin(theta)*math.cos(phi) + 0.08*theta_dot*math.sin(phi)*math.cos(theta)], [-0.08*theta_dot*math.sin(theta)]])'"
      ]
     },
     "metadata": {},
     "output_type": "display_data"
    }
   ],
   "execution_count": 94
  },
  {
   "metadata": {
    "ExecuteTime": {
     "end_time": "2025-07-30T18:55:46.467752Z",
     "start_time": "2025-07-30T18:55:46.343645Z"
    }
   },
   "cell_type": "code",
   "source": [
    "Xc_code = Xc_sim.subs(subs_code)\n",
    "Xc_code = sp.simplify(Xc_code)\n",
    "\n",
    "# Output\n",
    "display(sp.pycode(Xc_code, strict=False))"
   ],
   "outputs": [
    {
     "data": {
      "text/plain": [
       "'ImmutableDenseMatrix([[x + 0.08*math.sin(theta)*math.cos(phi)], [y + 0.08*math.sin(phi)*math.sin(theta)], [z + 0.08*math.cos(theta)]])'"
      ]
     },
     "metadata": {},
     "output_type": "display_data"
    }
   ],
   "execution_count": 48
  },
  {
   "metadata": {
    "ExecuteTime": {
     "end_time": "2025-07-30T18:55:46.931763Z",
     "start_time": "2025-07-30T18:55:46.720287Z"
    }
   },
   "cell_type": "code",
   "source": [
    "Xc_dot_code = Xc_dot_sim.subs(subs_code)\n",
    "Xc_dot_code = sp.simplify(Xc_dot_code)\n",
    "\n",
    "# Output\n",
    "display(sp.pycode(Xc_dot_code, strict=False))"
   ],
   "outputs": [
    {
     "data": {
      "text/plain": [
       "'ImmutableDenseMatrix([[-0.08*phi_dot*math.sin(phi)*math.sin(theta) + 0.08*theta_dot*math.cos(phi)*math.cos(theta) + x_dot + 0.03625*(fv_omega_l + fv_omega_r)*math.cos(phi)], [0.08*phi_dot*math.sin(theta)*math.cos(phi) + 0.08*theta_dot*math.sin(phi)*math.cos(theta) + y_dot + 0.03625*(fv_omega_l + fv_omega_r)*math.sin(phi)], [-0.08*theta_dot*math.sin(theta) + z_dot]])'"
      ]
     },
     "metadata": {},
     "output_type": "display_data"
    }
   ],
   "execution_count": 49
  },
  {
   "metadata": {
    "ExecuteTime": {
     "end_time": "2025-07-30T18:55:47.279839Z",
     "start_time": "2025-07-30T18:55:47.157468Z"
    }
   },
   "cell_type": "code",
   "source": [
    "M_code = M_sim.subs(subs_code)\n",
    "M_code = sp.simplify(M_code)\n",
    "\n",
    "# Output\n",
    "display(sp.pycode(M_code, strict=False))"
   ],
   "outputs": [
    {
     "data": {
      "text/plain": [
       "'ImmutableDenseMatrix([[0.7, 0, 0, 0.056*math.cos(phi)*math.cos(theta), -0.056*math.sin(phi)*math.sin(theta)], [0, 0.7, 0, 0.056*math.sin(phi)*math.cos(theta), 0.056*math.sin(theta)*math.cos(phi)], [0, 0, 0.7, -0.056*math.sin(theta), 0], [0.056*math.cos(phi)*math.cos(theta), 0.056*math.sin(phi)*math.cos(theta), -0.056*math.sin(theta), 0.01148, 0], [-0.056*math.sin(phi)*math.sin(theta), 0.056*math.sin(theta)*math.cos(phi), 0, 0, 0.00896*math.sin(theta)**2 + 0.002]])'"
      ]
     },
     "metadata": {},
     "output_type": "display_data"
    }
   ],
   "execution_count": 50
  },
  {
   "metadata": {
    "ExecuteTime": {
     "end_time": "2025-07-30T18:55:49.196786Z",
     "start_time": "2025-07-30T18:55:47.521259Z"
    }
   },
   "cell_type": "code",
   "source": [
    "H_code = H_sim.subs(subs_code)\n",
    "H_code = sp.simplify(H_code)\n",
    "\n",
    "# Output\n",
    "display(sp.pycode(H_code, strict=False))"
   ],
   "outputs": [
    {
     "data": {
      "text/plain": [
       "'ImmutableDenseMatrix([[-0.056*phi_dot**2*math.sin(theta)*math.cos(phi) - 0.112*phi_dot*theta_dot*math.sin(phi)*math.cos(theta) - 1/4*phi_dot*(0.1015*fv_omega_l + 0.1015*fv_omega_r + 3.92e-6*math.sin(theta))*math.sin(phi) - 0.056*theta_dot**2*math.sin(theta)*math.cos(phi) + 9.8e-7*math.sqrt(2)*theta_dot*math.sin(theta + (1/4)*math.pi)*math.cos(phi) + 1.225e-5*x_dot + 4.440625e-7*(fv_omega_l + fv_omega_r)*math.cos(phi)], [-0.056*phi_dot**2*math.sin(phi)*math.sin(theta) + 0.112*phi_dot*theta_dot*math.cos(phi)*math.cos(theta) + (1/4)*phi_dot*(0.1015*fv_omega_l + 0.1015*fv_omega_r + 3.92e-6*math.sin(theta))*math.cos(phi) - 0.056*theta_dot**2*math.sin(phi)*math.sin(theta) + 9.8e-7*math.sqrt(2)*theta_dot*math.sin(phi)*math.sin(theta + (1/4)*math.pi) + 1.225e-5*y_dot + 4.440625e-7*(fv_omega_l + fv_omega_r)*math.sin(phi)], [-0.056*theta_dot**2*math.cos(theta) + 9.8e-7*math.sqrt(2)*theta_dot*math.cos(theta + (1/4)*math.pi) + 20.00001225*z_dot + 6.867], [3.5525e-8*fv_omega_l*math.cos(theta) + 0.0525625*fv_omega_l + 3.5525e-8*fv_omega_r*math.cos(theta) + 0.0525625*fv_omega_r - 0.00448*phi_dot**2*math.sin(2*theta) + 0.1051250784*theta_dot + 9.8e-7*x_dot*math.cos(phi)*math.cos(theta) + 9.8e-7*y_dot*math.sin(phi)*math.cos(theta) - 9.8e-7*z_dot*math.sin(theta) - 0.54936*math.sin(theta)], [0.00896*phi_dot*theta_dot*math.sin(2*theta) + 7.84e-8*phi_dot*math.sin(theta)**2 + (1/4)*x_dot*(0.1015*fv_omega_l + 0.1015*fv_omega_r - 3.92e-6*math.sin(theta))*math.sin(phi) - 1/4*y_dot*(0.1015*fv_omega_l + 0.1015*fv_omega_r - 3.92e-6*math.sin(theta))*math.cos(phi)]])'"
      ]
     },
     "metadata": {},
     "output_type": "display_data"
    }
   ],
   "execution_count": 51
  },
  {
   "metadata": {
    "ExecuteTime": {
     "end_time": "2025-07-30T18:55:57.403471Z",
     "start_time": "2025-07-30T18:55:49.415565Z"
    }
   },
   "cell_type": "code",
   "source": [
    "U_code = U_sim.subs(subs_code)\n",
    "U_code = sp.simplify(U_code)\n",
    "\n",
    "# Output\n",
    "display(sp.pycode(U_code, strict=False))"
   ],
   "outputs": [
    {
     "data": {
      "text/plain": [
       "'ImmutableDenseMatrix([[(2.85714285714286*(0.00448*math.sin(theta)**2 + 0.002)*(0.21025*fv_omega_l + 0.21025*fv_omega_r - 0.00896*phi_dot**2*math.sin(2*theta) + 0.4205*theta_dot + 6.4*z_dot*math.sin(theta))*math.cos(phi)*math.cos(theta) + 0.178571428571429*(0.00448*math.sin(theta)**2 + 0.002)*(0.448*phi_dot**2*math.sin(theta)*math.cos(phi) + 0.896*phi_dot*theta_dot*math.sin(phi)*math.cos(theta) + 2*phi_dot*(0.1015*fv_omega_l + 0.1015*fv_omega_r + 3.92e-6*math.sin(theta))*math.sin(phi) + 0.448*theta_dot**2*math.sin(theta)*math.cos(phi) - 7.84e-6*math.sqrt(2)*theta_dot*math.sin(theta + (1/4)*math.pi)*math.cos(phi) - 9.8e-5*x_dot - 3.5525e-6*(fv_omega_l + fv_omega_r)*math.cos(phi)) + 0.014*(0.0116*fv_omega_l*phi_dot*math.sin(theta) - 0.145*fv_omega_l*x_dot*math.sin(phi) + 0.145*fv_omega_l*y_dot*math.cos(phi) + 0.0116*fv_omega_r*phi_dot*math.sin(theta) - 0.145*fv_omega_r*x_dot*math.sin(phi) + 0.145*fv_omega_r*y_dot*math.cos(phi) - 0.0256*phi_dot*theta_dot*math.sin(2*theta))*math.sin(phi)*math.sin(theta))/(0.00448*math.sin(theta)**2 + 0.002)], [(2.85714285714286*(0.00448*math.sin(theta)**2 + 0.002)*(0.21025*fv_omega_l + 0.21025*fv_omega_r - 0.00896*phi_dot**2*math.sin(2*theta) + 0.4205*theta_dot + 6.4*z_dot*math.sin(theta))*math.sin(phi)*math.cos(theta) - 0.178571428571429*(0.00448*math.sin(theta)**2 + 0.002)*(-0.448*phi_dot**2*math.sin(phi)*math.sin(theta) + 0.896*phi_dot*theta_dot*math.cos(phi)*math.cos(theta) + 2*phi_dot*(0.1015*fv_omega_l + 0.1015*fv_omega_r + 3.92e-6*math.sin(theta))*math.cos(phi) - 0.448*theta_dot**2*math.sin(phi)*math.sin(theta) + 7.84e-6*math.sqrt(2)*theta_dot*math.sin(phi)*math.sin(theta + (1/4)*math.pi) + 9.8e-5*y_dot + 3.5525e-6*(fv_omega_l + fv_omega_r)*math.sin(phi)) - 0.014*(0.0116*fv_omega_l*phi_dot*math.sin(theta) - 0.145*fv_omega_l*x_dot*math.sin(phi) + 0.145*fv_omega_l*y_dot*math.cos(phi) + 0.0116*fv_omega_r*phi_dot*math.sin(theta) - 0.145*fv_omega_r*x_dot*math.sin(phi) + 0.145*fv_omega_r*y_dot*math.cos(phi) - 0.0256*phi_dot*theta_dot*math.sin(2*theta))*math.sin(theta)*math.cos(phi))/(0.00448*math.sin(theta)**2 + 0.002)], [0.08*theta_dot**2*math.cos(theta) - 1.4e-6*math.sqrt(2)*theta_dot*math.cos(theta + (1/4)*math.pi) - 28.5714460714286*z_dot - 2.85714285714286*(0.21025*fv_omega_l + 0.21025*fv_omega_r - 0.00896*phi_dot**2*math.sin(2*theta) + 0.4205*theta_dot + 6.4*z_dot*math.sin(theta))*math.sin(theta) - 9.81], [-7.50892857142857*fv_omega_l - 7.50892857142857*fv_omega_r + 0.32*phi_dot**2*math.sin(2*theta) - 15.0178571428571*theta_dot - 228.571428571429*z_dot*math.sin(theta)], [(0.00812*fv_omega_l*phi_dot*math.sin(theta) - 0.1015*fv_omega_l*x_dot*math.sin(phi) + 0.1015*fv_omega_l*y_dot*math.cos(phi) + 0.00812*fv_omega_r*phi_dot*math.sin(theta) - 0.1015*fv_omega_r*x_dot*math.sin(phi) + 0.1015*fv_omega_r*y_dot*math.cos(phi) - 0.01792*phi_dot*theta_dot*math.sin(2*theta))/(0.01792*math.sin(theta)**2 + 0.008)]])'"
      ]
     },
     "metadata": {},
     "output_type": "display_data"
    }
   ],
   "execution_count": 52
  },
  {
   "metadata": {
    "ExecuteTime": {
     "end_time": "2025-07-30T18:55:57.767328Z",
     "start_time": "2025-07-30T18:55:57.641969Z"
    }
   },
   "cell_type": "code",
   "source": [
    "M1d_code = M1d_sim.subs(subs_code)\n",
    "M1d_code = sp.simplify(M1d_code)\n",
    "\n",
    "# Output\n",
    "display(sp.pycode(M1d_code, strict=False))"
   ],
   "outputs": [
    {
     "data": {
      "text/plain": [
       "'ImmutableDenseMatrix([[1, 0, 0, 0, 0, 0, 0, 0, 0, 0], [0, 1, 0, 0, 0, 0, 0, 0, 0, 0], [0, 0, 1, 0, 0, 0, 0, 0, 0, 0], [0, 0, 0, 1, 0, 0, 0, 0, 0, 0], [0, 0, 0, 0, 1, 0, 0, 0, 0, 0], [0, 0, 0, 0, 0, 0.7, 0, 0, 0.056*math.cos(phi)*math.cos(theta), -0.056*math.sin(phi)*math.sin(theta)], [0, 0, 0, 0, 0, 0, 0.7, 0, 0.056*math.sin(phi)*math.cos(theta), 0.056*math.sin(theta)*math.cos(phi)], [0, 0, 0, 0, 0, 0, 0, 0.7, -0.056*math.sin(theta), 0], [0, 0, 0, 0, 0, 0.056*math.cos(phi)*math.cos(theta), 0.056*math.sin(phi)*math.cos(theta), -0.056*math.sin(theta), 0.01148, 0], [0, 0, 0, 0, 0, -0.056*math.sin(phi)*math.sin(theta), 0.056*math.sin(theta)*math.cos(phi), 0, 0, 0.00896*math.sin(theta)**2 + 0.002]])'"
      ]
     },
     "metadata": {},
     "output_type": "display_data"
    }
   ],
   "execution_count": 53
  },
  {
   "metadata": {
    "ExecuteTime": {
     "end_time": "2025-07-30T18:55:59.199621Z",
     "start_time": "2025-07-30T18:55:58.016882Z"
    }
   },
   "cell_type": "code",
   "source": [
    "H1d_code = H1d_sim.subs(subs_code)\n",
    "H1d_code = sp.simplify(H1d_code)\n",
    "\n",
    "# Output\n",
    "display(sp.pycode(H1d_code, strict=False))"
   ],
   "outputs": [
    {
     "data": {
      "text/plain": [
       "'ImmutableDenseMatrix([[-x_dot], [-y_dot], [-z_dot], [-theta_dot], [-phi_dot], [-0.025375*fv_omega_l*phi_dot*math.sin(phi) + 4.440625e-7*fv_omega_l*math.cos(phi) - 0.025375*fv_omega_r*phi_dot*math.sin(phi) + 4.440625e-7*fv_omega_r*math.cos(phi) - 0.056*phi_dot**2*math.sin(theta)*math.cos(phi) - 0.112*phi_dot*theta_dot*math.sin(phi)*math.cos(theta) - 9.8e-7*phi_dot*math.sin(phi)*math.sin(theta) - 0.056*theta_dot**2*math.sin(theta)*math.cos(phi) + 9.8e-7*math.sqrt(2)*theta_dot*math.sin(theta + (1/4)*math.pi)*math.cos(phi) + 1.225e-5*x_dot], [0.025375*fv_omega_l*phi_dot*math.cos(phi) + 4.440625e-7*fv_omega_l*math.sin(phi) + 0.025375*fv_omega_r*phi_dot*math.cos(phi) + 4.440625e-7*fv_omega_r*math.sin(phi) - 0.056*phi_dot**2*math.sin(phi)*math.sin(theta) + 0.112*phi_dot*theta_dot*math.cos(phi)*math.cos(theta) + 9.8e-7*phi_dot*math.sin(theta)*math.cos(phi) - 0.056*theta_dot**2*math.sin(phi)*math.sin(theta) + 9.8e-7*math.sqrt(2)*theta_dot*math.sin(phi)*math.sin(theta + (1/4)*math.pi) + 1.225e-5*y_dot], [-0.056*theta_dot**2*math.cos(theta) + 9.8e-7*math.sqrt(2)*theta_dot*math.cos(theta + (1/4)*math.pi) + 20.00001225*z_dot + 6.867], [3.5525e-8*fv_omega_l*math.cos(theta) + 0.0525625*fv_omega_l + 3.5525e-8*fv_omega_r*math.cos(theta) + 0.0525625*fv_omega_r - 0.00448*phi_dot**2*math.sin(2*theta) + 0.1051250784*theta_dot + 4.9e-7*x_dot*math.cos(phi - theta) + 4.9e-7*x_dot*math.cos(phi + theta) + 4.9e-7*y_dot*math.sin(phi - theta) + 4.9e-7*y_dot*math.sin(phi + theta) - 9.8e-7*z_dot*math.sin(theta) - 0.54936*math.sin(theta)], [0.025375*fv_omega_l*x_dot*math.sin(phi) - 0.025375*fv_omega_l*y_dot*math.cos(phi) + 0.025375*fv_omega_r*x_dot*math.sin(phi) - 0.025375*fv_omega_r*y_dot*math.cos(phi) + 0.00896*phi_dot*theta_dot*math.sin(2*theta) + 7.84e-8*phi_dot*math.sin(theta)**2 - 9.8e-7*x_dot*math.sin(phi)*math.sin(theta) + 9.8e-7*y_dot*math.sin(theta)*math.cos(phi)]])'"
      ]
     },
     "metadata": {},
     "output_type": "display_data"
    }
   ],
   "execution_count": 54
  },
  {
   "metadata": {
    "ExecuteTime": {
     "end_time": "2025-07-30T18:56:07.368765Z",
     "start_time": "2025-07-30T18:55:59.451280Z"
    }
   },
   "cell_type": "code",
   "source": [
    "U1d_code = U1d_sim.subs(subs_code)\n",
    "U1d_code = sp.simplify(U1d_code)\n",
    "\n",
    "# Output\n",
    "display(sp.pycode(U1d_code, strict=False))"
   ],
   "outputs": [
    {
     "data": {
      "text/plain": [
       "'ImmutableDenseMatrix([[x_dot], [y_dot], [z_dot], [theta_dot], [phi_dot], [(2.85714285714286*(0.00448*math.sin(theta)**2 + 0.002)*(0.21025*fv_omega_l + 0.21025*fv_omega_r - 0.00896*phi_dot**2*math.sin(2*theta) + 0.4205*theta_dot + 6.4*z_dot*math.sin(theta))*math.cos(phi)*math.cos(theta) + 0.178571428571429*(0.00448*math.sin(theta)**2 + 0.002)*(0.203*fv_omega_l*phi_dot*math.sin(phi) - 3.5525e-6*fv_omega_l*math.cos(phi) + 0.203*fv_omega_r*phi_dot*math.sin(phi) - 3.5525e-6*fv_omega_r*math.cos(phi) + 0.448*phi_dot**2*math.sin(theta)*math.cos(phi) + 0.896*phi_dot*theta_dot*math.sin(phi)*math.cos(theta) + 7.84e-6*phi_dot*math.sin(phi)*math.sin(theta) + 0.448*theta_dot**2*math.sin(theta)*math.cos(phi) - 7.84e-6*math.sqrt(2)*theta_dot*math.sin(theta + (1/4)*math.pi)*math.cos(phi) - 9.8e-5*x_dot) + 0.014*(0.0116*fv_omega_l*phi_dot*math.sin(theta) - 0.145*fv_omega_l*x_dot*math.sin(phi) + 0.145*fv_omega_l*y_dot*math.cos(phi) + 0.0116*fv_omega_r*phi_dot*math.sin(theta) - 0.145*fv_omega_r*x_dot*math.sin(phi) + 0.145*fv_omega_r*y_dot*math.cos(phi) - 0.0256*phi_dot*theta_dot*math.sin(2*theta))*math.sin(phi)*math.sin(theta))/(0.00448*math.sin(theta)**2 + 0.002)], [(2.85714285714286*(0.00448*math.sin(theta)**2 + 0.002)*(0.21025*fv_omega_l + 0.21025*fv_omega_r - 0.00896*phi_dot**2*math.sin(2*theta) + 0.4205*theta_dot + 6.4*z_dot*math.sin(theta))*math.sin(phi)*math.cos(theta) - 0.178571428571429*(0.00448*math.sin(theta)**2 + 0.002)*(0.203*fv_omega_l*phi_dot*math.cos(phi) + 3.5525e-6*fv_omega_l*math.sin(phi) + 0.203*fv_omega_r*phi_dot*math.cos(phi) + 3.5525e-6*fv_omega_r*math.sin(phi) - 0.448*phi_dot**2*math.sin(phi)*math.sin(theta) + 0.896*phi_dot*theta_dot*math.cos(phi)*math.cos(theta) + 7.84e-6*phi_dot*math.sin(theta)*math.cos(phi) - 0.448*theta_dot**2*math.sin(phi)*math.sin(theta) + 7.84e-6*math.sqrt(2)*theta_dot*math.sin(phi)*math.sin(theta + (1/4)*math.pi) + 9.8e-5*y_dot) - 0.014*(0.0116*fv_omega_l*phi_dot*math.sin(theta) - 0.145*fv_omega_l*x_dot*math.sin(phi) + 0.145*fv_omega_l*y_dot*math.cos(phi) + 0.0116*fv_omega_r*phi_dot*math.sin(theta) - 0.145*fv_omega_r*x_dot*math.sin(phi) + 0.145*fv_omega_r*y_dot*math.cos(phi) - 0.0256*phi_dot*theta_dot*math.sin(2*theta))*math.sin(theta)*math.cos(phi))/(0.00448*math.sin(theta)**2 + 0.002)], [0.08*theta_dot**2*math.cos(theta) - 1.4e-6*math.sqrt(2)*theta_dot*math.cos(theta + (1/4)*math.pi) - 28.5714460714286*z_dot - 2.85714285714286*(0.21025*fv_omega_l + 0.21025*fv_omega_r - 0.00896*phi_dot**2*math.sin(2*theta) + 0.4205*theta_dot + 6.4*z_dot*math.sin(theta))*math.sin(theta) - 9.81], [-7.50892857142857*fv_omega_l - 7.50892857142857*fv_omega_r + 0.32*phi_dot**2*math.sin(2*theta) - 15.0178571428571*theta_dot - 228.571428571429*z_dot*math.sin(theta)], [(0.00812*fv_omega_l*phi_dot*math.sin(theta) - 0.1015*fv_omega_l*x_dot*math.sin(phi) + 0.1015*fv_omega_l*y_dot*math.cos(phi) + 0.00812*fv_omega_r*phi_dot*math.sin(theta) - 0.1015*fv_omega_r*x_dot*math.sin(phi) + 0.1015*fv_omega_r*y_dot*math.cos(phi) - 0.01792*phi_dot*theta_dot*math.sin(2*theta))/(0.01792*math.sin(theta)**2 + 0.008)]])'"
      ]
     },
     "metadata": {},
     "output_type": "display_data"
    }
   ],
   "execution_count": 55
  },
  {
   "metadata": {
    "ExecuteTime": {
     "end_time": "2025-07-30T18:56:07.749645Z",
     "start_time": "2025-07-30T18:56:07.712143Z"
    }
   },
   "cell_type": "code",
   "source": [
    "Cons_code = Cons_sim.subs(subs_code)\n",
    "Cons_code = sp.simplify(Cons_code)\n",
    "\n",
    "# Output\n",
    "display(sp.pycode(Cons_code, strict=False))"
   ],
   "outputs": [
    {
     "data": {
      "text/plain": [
       "'ImmutableDenseMatrix([[z], [z + 0.25*math.cos(theta) + 0.0725]])'"
      ]
     },
     "metadata": {},
     "output_type": "display_data"
    }
   ],
   "execution_count": 56
  },
  {
   "metadata": {
    "ExecuteTime": {
     "end_time": "2025-07-30T18:56:08.089480Z",
     "start_time": "2025-07-30T18:56:08.075839Z"
    }
   },
   "cell_type": "code",
   "source": [
    "Cons_gradq_code = Cons_gradq_sim.subs(subs_code)\n",
    "Cons_gradq_code = sp.simplify(Cons_gradq_code)\n",
    "\n",
    "# Output\n",
    "display(sp.pycode(Cons_gradq_code, strict=False))"
   ],
   "outputs": [
    {
     "data": {
      "text/plain": [
       "'ImmutableDenseMatrix([[0, 0, 1, 0, 0], [0, 0, 1, -0.25*math.sin(theta), 0]])'"
      ]
     },
     "metadata": {},
     "output_type": "display_data"
    }
   ],
   "execution_count": 57
  },
  {
   "metadata": {},
   "cell_type": "markdown",
   "source": "#### C"
  },
  {
   "metadata": {
    "ExecuteTime": {
     "end_time": "2025-07-30T18:56:08.384251Z",
     "start_time": "2025-07-30T18:56:08.382711Z"
    }
   },
   "cell_type": "code",
   "source": [
    "# Output\n",
    "display(sp.ccode(Xc_code, strict=False))"
   ],
   "outputs": [],
   "execution_count": 57
  },
  {
   "metadata": {},
   "cell_type": "code",
   "outputs": [],
   "execution_count": null,
   "source": [
    "# Output\n",
    "display(sp.ccode(Xc_dot_code, strict=False))"
   ]
  },
  {
   "metadata": {},
   "cell_type": "code",
   "outputs": [],
   "execution_count": null,
   "source": [
    "# Output\n",
    "display(sp.ccode(M_code, strict=False))"
   ]
  },
  {
   "metadata": {},
   "cell_type": "code",
   "outputs": [],
   "execution_count": null,
   "source": [
    "# Output\n",
    "display(sp.ccode(H_code, strict=False))"
   ]
  },
  {
   "metadata": {},
   "cell_type": "code",
   "outputs": [],
   "execution_count": null,
   "source": [
    "# Output\n",
    "display(sp.ccode(U_code, strict=False))"
   ]
  },
  {
   "metadata": {},
   "cell_type": "code",
   "outputs": [],
   "execution_count": null,
   "source": [
    "# Output\n",
    "display(sp.ccode(M1d_code, strict=False))"
   ]
  },
  {
   "metadata": {},
   "cell_type": "code",
   "outputs": [],
   "execution_count": null,
   "source": [
    "# Output\n",
    "display(sp.ccode(H1d_code, strict=False))"
   ]
  },
  {
   "metadata": {},
   "cell_type": "code",
   "outputs": [],
   "execution_count": null,
   "source": [
    "# Output\n",
    "display(sp.ccode(U1d_code, strict=False))"
   ]
  },
  {
   "metadata": {},
   "cell_type": "code",
   "outputs": [],
   "execution_count": null,
   "source": [
    "# Output\n",
    "display(sp.ccode(Cons_code, strict=False))"
   ]
  },
  {
   "metadata": {},
   "cell_type": "code",
   "outputs": [],
   "execution_count": null,
   "source": [
    "# Output\n",
    "display(sp.ccode(Cons_gradq_code, strict=False))"
   ]
  },
  {
   "metadata": {},
   "cell_type": "markdown",
   "source": "### Solvers"
  },
  {
   "metadata": {},
   "cell_type": "markdown",
   "source": [
    "#### Unconstrained model\n",
    "\n",
    "Solve initial value problem for the ODEs without constraints using Sundials' CVODE/IDA if present, or scipy's solve_ivp."
   ]
  },
  {
   "metadata": {
    "ExecuteTime": {
     "end_time": "2025-07-30T18:56:08.674899Z",
     "start_time": "2025-07-30T18:56:08.670172Z"
    }
   },
   "cell_type": "code",
   "source": [
    "def ode_dynamics(t, fq, fv):\n",
    "    fdd = np.zeros(2 * dof)\n",
    "    fdd[0::2] = fq[1::2]\n",
    "    fdd[1::2] = U_sim_fn(t, *fq, *fv).T\n",
    "    return fdd\n",
    "\n",
    "\n",
    "def ode_dynamics_residual(t, fq, fqd, res, fv):\n",
    "    M_num = M1d_sim_fn(t, *fq, *fv)\n",
    "    H_num = H1d_sim_fn(t, *fq, *fv).flatten()\n",
    "\n",
    "    res[:dof] = fqd[0::2] - fq[1::2]\n",
    "    res[dof:] = M_num[dof:, dof:].dot(fqd[1::2]) + H_num[dof:]\n",
    "    return res\n",
    "\n",
    "\n",
    "def ode_dynamics_residual_jac(t, fq, fqd, res):\n",
    "    M_num = M1d_sim_fn(t, *fq)\n",
    "    H_num = H1d_sim_fn(t, *fq).flatten()\n",
    "\n",
    "    res[:dof] = fqd[0::2] - fq[1::2]\n",
    "    res[dof:] = M_num[dof:, dof:].dot(fqd[1::2]) + H_num[dof:]\n",
    "    return res\n",
    "\n",
    "\n",
    "def solve_ode_dynamics(t_span, f0, fv):\n",
    "    # TODO: Handle better the Sundials package\n",
    "    spec = importlib.util.find_spec('sksundae')\n",
    "    if spec is None or True:\n",
    "        sol = solve_ivp(\n",
    "            ode_dynamics,\n",
    "            # jac=lambda t, x: J_sim_fn(t, *x),\n",
    "            args=(fv,),\n",
    "            t_span=t_span, y0=f0,\n",
    "            method='Radau',\n",
    "            rtol=1.0e-8, atol=1.0e-9, max_step=1.0e-2,\n",
    "        )\n",
    "        sol_t, sol_y = sol.t, sol.y\n",
    "    else:\n",
    "        from sksundae.cvode import CVODE\n",
    "        from sksundae.ida import IDA\n",
    "\n",
    "        fq0 = f0\n",
    "        fqd0 = np.zeros_like(f0)\n",
    "        fqd0[0::2] = f0[1::2]\n",
    "\n",
    "        solver = IDA(\n",
    "            ode_dynamics_residual,\n",
    "            algebraic_idx=[],\n",
    "            first_step=1.0e-8,\n",
    "            max_step=1.0e-2,\n",
    "            calc_init_dt=1.0e-5,\n",
    "            calc_initcond='yp0',\n",
    "            max_nonlin_iters=10,\n",
    "            rtol=1.0e-9, atol=1.0e-8,\n",
    "        )\n",
    "\n",
    "        sol = solver.solve(t_span, fq0, fqd0)\n",
    "        sol_t, sol_y = sol.t, sol.y.T\n",
    "\n",
    "    return sol_t, sol_y"
   ],
   "outputs": [],
   "execution_count": 58
  },
  {
   "metadata": {},
   "cell_type": "markdown",
   "source": [
    "#### LCP\n",
    "\n",
    "Solve initial value problem for the ODEs with constraints by solving the linear complementarity problem (LCP)."
   ]
  },
  {
   "metadata": {
    "ExecuteTime": {
     "end_time": "2025-07-30T18:56:08.952339Z",
     "start_time": "2025-07-30T18:56:08.946440Z"
    }
   },
   "cell_type": "code",
   "source": [
    "class SolverLcp:\n",
    "    def __init__(self, M_fn, H_fn, Cons_fn, Cons_gradq_fn, Cons_gradqd_fn):\n",
    "        self.M_fn = M_fn\n",
    "        self.H_fn = H_fn\n",
    "        self.Cons_fn = Cons_fn\n",
    "        self.Cons_gradq_fn = Cons_gradq_fn\n",
    "        self.Cons_gradqd_fn = Cons_gradqd_fn\n",
    "\n",
    "    @staticmethod\n",
    "    def solve_lcp(A: np.ndarray, b: np.ndarray, reg: float = 1e-8) -> np.ndarray:\n",
    "        \"\"\"\n",
    "        Solve the LCP:\n",
    "          w = A @ λ + b,    w >= 0,    λ >= 0,    wᵀ λ = 0\n",
    "        by recasting as the QP:\n",
    "          min_{λ >= 0} ½ λᵀ A λ + bᵀ λ\n",
    "\n",
    "        A small diagonal regularization term (reg*I) guarantees\n",
    "        that the matrix passed to quadprog is positive definite.\n",
    "\n",
    "        Parameters\n",
    "        ----------\n",
    "        A : (n,n) ndarray\n",
    "            Should be symmetric positive semidefinite (e.g. J M^{-1} Jᵀ).\n",
    "        b : (n,) ndarray\n",
    "        reg : float\n",
    "            Diagonal regularization to add to A for numerical stability.\n",
    "\n",
    "        Returns\n",
    "        -------\n",
    "        λ : (n,) ndarray\n",
    "            The contact forces satisfying the complementarity conditions.\n",
    "        \"\"\"\n",
    "        n = b.shape[0]\n",
    "\n",
    "        # Symmetrize and regularize to ensure PD\n",
    "        P = 0.5 * (A + A.T) + reg * np.eye(n)\n",
    "        q = b.copy()\n",
    "\n",
    "        # λ >= 0  →  G λ <= h  with  G = -I,  h = 0\n",
    "        G = -np.eye(n)\n",
    "        h = np.zeros(n)\n",
    "\n",
    "        # Solve the QP\n",
    "        lam = solve_qp(P, q, G=G, h=h, lb=np.zeros(n), solver='quadprog')\n",
    "\n",
    "        # Clamp any tiny negatives\n",
    "        lam = np.maximum(lam, 0.0)\n",
    "        return lam\n",
    "\n",
    "    def dynamics_constrained(self, t, fq, fv):\n",
    "        \"\"\"\n",
    "        Moreau-Jean fixed-step integrator for unilateral constraints.\n",
    "\n",
    "        Equations:\n",
    "          M(q) v_dot = -H(q,v) + J^T λ,\n",
    "          q_dot = v,\n",
    "        with 0 ≤ λ ⟂ [J v_plus] ≥ 0.\n",
    "\n",
    "        At each step:\n",
    "          v_minus = v^n + dt * M^{-1}(-H)\n",
    "          A = dt * J M^{-1} J^T\n",
    "          b = J v_minus\n",
    "          solve LCP: A λ + b ≥ 0, λ ≥ 0, (Aλ + b)^T λ = 0\n",
    "          v_plus = v_minus - dt * M^{-1} J^T λ\n",
    "          q^{n+1} = q^n + dt * v_plus\n",
    "        \"\"\"\n",
    "        qn = fq[0::2]\n",
    "        vn = fq[1::2]\n",
    "        dt = t\n",
    "\n",
    "        M_num = self.M_fn(t, *fq, *fv)\n",
    "        H_num = self.H_fn(t, *fq, *fv).flatten()\n",
    "\n",
    "        # Free velocity update\n",
    "        a_minus = np.linalg.solve(M_num, -H_num)\n",
    "        v_minus = vn + dt * a_minus\n",
    "\n",
    "        # Constraints\n",
    "        Cons = self.Cons_fn(t, *fq, *fv).flatten()\n",
    "        Cons_jac = self.Cons_gradq_fn(t, *fq, *fv)\n",
    "\n",
    "        # Predicted constraints after free motion: g + dt * J v_minus\n",
    "        Cons_pred = Cons + dt * (Cons_jac.dot(v_minus))\n",
    "        Cons_active = Cons_pred < 0.0\n",
    "\n",
    "        # Build LCP matrices (no dt scaling for stability)\n",
    "        # Optimize performance by solving the LCP only when at least one restriction is set\n",
    "        v_plus = v_minus\n",
    "        lam = np.zeros(Cons_jac.shape[0])\n",
    "        if np.any(Cons_active):\n",
    "            # Restrict to active set\n",
    "            Cons_jac_active = Cons_jac[Cons_active]\n",
    "            M_inv_Jt = np.linalg.solve(M_num, Cons_jac.T)\n",
    "            MinvJt_act = M_inv_Jt[:, Cons_active]\n",
    "            A_active = Cons_jac_active @ MinvJt_act\n",
    "            b_active = Cons_jac_active.dot(v_minus)\n",
    "            v_plus += (M_inv_Jt @ lam)\n",
    "\n",
    "            # Solve reduced LCP\n",
    "            lam[Cons_active] = SolverLcp.solve_lcp(A_active, b_active)\n",
    "\n",
    "        # Update states\n",
    "        qn_next = qn + 0.5 * dt * (v_plus + v_plus + v_plus - vn)\n",
    "\n",
    "        fq_next = np.zeros_like(fq)\n",
    "        fq_next[0::2] = qn_next\n",
    "        fq_next[1::2] = v_plus\n",
    "        return fq_next\n",
    "\n",
    "    def step_dyn(self, dt, f0, fv):\n",
    "        sol_y = self.dynamics_constrained(dt, f0, fv)\n",
    "        return sol_t, sol_y.T\n",
    "\n",
    "    def solve_dyn(self, t_span, f0, fv, dt):\n",
    "        n_steps = int((t_span[1] - t_span[0]) / dt)\n",
    "        sol_t = np.linspace(t_span[0], t_span[1], n_steps + 1)\n",
    "\n",
    "        sol_y = np.zeros((n_steps + 1, 2 * dof))\n",
    "        sol_y[0] = f0\n",
    "\n",
    "        for iter in range(1, n_steps + 1):\n",
    "            sol_y[iter] = self.dynamics_constrained(dt, sol_y[iter - 1], fv)\n",
    "\n",
    "        return sol_t, sol_y.T"
   ],
   "outputs": [],
   "execution_count": 59
  },
  {
   "metadata": {},
   "cell_type": "markdown",
   "source": "### Simulation"
  },
  {
   "metadata": {
    "ExecuteTime": {
     "end_time": "2025-07-30T19:06:22.978379Z",
     "start_time": "2025-07-30T19:06:22.094895Z"
    }
   },
   "cell_type": "code",
   "source": [
    "t_span = (0.0, 10.0)\n",
    "\n",
    "f0 = np.zeros(2 * dof)\n",
    "f0[6] = 1.0e-8\n",
    "\n",
    "fv = [0.0, 0.0]\n",
    "\n",
    "p = 1.0e2\n",
    "dt = 1.0e-3\n",
    "\n",
    "solver_lcp = SolverLcp(M_sim_fn, H_sim_fn, Cons_sim_fn, Cons_gradq_sim_fn, Cons_gradqd_sim_fn)\n",
    "\n",
    "sol_t, sol_f = solve_ode_dynamics(t_span, f0, fv)\n",
    "# sol_t, sol_f = solver_lcp.solve_dyn(t_span, f0, fv, dt)\n",
    "\n",
    "sol_x, sol_x_dot, sol_y, sol_y_dot, sol_z, sol_z_dot, sol_theta, sol_theta_dot, sol_phi, sol_phi_dot = sol_f"
   ],
   "outputs": [],
   "execution_count": 81
  },
  {
   "metadata": {
    "ExecuteTime": {
     "end_time": "2025-07-30T19:06:23.497650Z",
     "start_time": "2025-07-30T19:06:23.448119Z"
    }
   },
   "cell_type": "code",
   "source": [
    "sol_xo = np.array([fn_Xo(sol_t[i], *sol_f[:, i], *params_sim.values(), *fv) for i in range(len(sol_t))]).reshape((len(sol_t), 3))\n",
    "sol_xo_dot = np.array([fn_Xo_dot(sol_t[i], *sol_f[:, i], *params_sim.values(), *fv) for i in range(len(sol_t))]).reshape((len(sol_t), 3))\n",
    "\n",
    "sol_xc = np.array([fn_Xc(sol_t[i], *sol_f[:, i], *params_sim.values(), *fv) for i in range(len(sol_t))]).reshape((len(sol_t), 3))\n",
    "sol_xc_dot = np.array([fn_Xc_dot(sol_t[i], *sol_f[:, i], *params_sim.values(), *fv) for i in range(len(sol_t))]).reshape((len(sol_t), 3))"
   ],
   "outputs": [],
   "execution_count": 82
  },
  {
   "metadata": {
    "ExecuteTime": {
     "end_time": "2025-07-30T19:06:24.199245Z",
     "start_time": "2025-07-30T19:06:23.821413Z"
    }
   },
   "cell_type": "code",
   "source": [
    "plt.figure(figsize=(15, 5))\n",
    "\n",
    "plt.plot(sol_t, sol_x, label=r'$x(t)$')\n",
    "plt.plot(sol_t, sol_y, label=r'$y(t)$')\n",
    "plt.plot(sol_t, sol_z, label=r'$z(t)$')\n",
    "plt.plot(sol_t, sol_theta, label=r'$\\theta(t)$')\n",
    "plt.plot(sol_t, sol_phi, label=r'$\\varphi(t)$')\n",
    "\n",
    "plt.axhline(y=np.pi, linestyle='--', color='gray', label=r'$\\pi$')\n",
    "plt.axhline(y=-np.pi, linestyle='--', color='gray', label=r'$-\\pi$')\n",
    "\n",
    "plt.xlabel('Time $t$')\n",
    "plt.ylabel('State values')\n",
    "plt.title('Evolution of state')\n",
    "plt.legend()\n",
    "plt.grid(True)\n",
    "plt.tight_layout()\n",
    "plt.show()"
   ],
   "outputs": [
    {
     "data": {
      "text/plain": [
       "<Figure size 1500x500 with 1 Axes>"
      ],
      "image/png": "[encoded data removed]"
     },
     "metadata": {},
     "output_type": "display_data"
    }
   ],
   "execution_count": 83
  },
  {
   "metadata": {
    "ExecuteTime": {
     "end_time": "2025-07-30T18:56:11.490766Z",
     "start_time": "2025-07-30T18:56:11.309216Z"
    }
   },
   "cell_type": "code",
   "source": [
    "plt.figure(figsize=(15, 5))\n",
    "\n",
    "plt.plot(sol_t, sol_xo, label=[r'$x_o(t)$', r'$y_o(t)$', r'$z_o(t)$'])\n",
    "# plt.plot(sol_t, sol_x, label=r'$x(t)$')\n",
    "\n",
    "plt.xlabel('Time $t$')\n",
    "plt.ylabel('State values')\n",
    "plt.title('Evolution of states')\n",
    "plt.legend()\n",
    "plt.grid(True)\n",
    "plt.tight_layout()\n",
    "plt.show()"
   ],
   "outputs": [
    {
     "data": {
      "text/plain": [
       "<Figure size 1500x500 with 1 Axes>"
      ],
      "image/png": "[encoded data removed]"
     },
     "metadata": {},
     "output_type": "display_data"
    }
   ],
   "execution_count": 63
  },
  {
   "metadata": {
    "ExecuteTime": {
     "end_time": "2025-07-30T18:56:11.943410Z",
     "start_time": "2025-07-30T18:56:11.803142Z"
    }
   },
   "cell_type": "code",
   "source": [
    "plt.figure(figsize=(15, 5))\n",
    "\n",
    "plt.plot(sol_t, sol_xc - sol_xo, label=[r'$x_c(t)$', r'$y_c(t)$', r'$z_c(t)$'])\n",
    "\n",
    "plt.xlabel('Time $t$')\n",
    "plt.ylabel('State values')\n",
    "plt.title('Evolution of states')\n",
    "plt.legend()\n",
    "plt.grid(True)\n",
    "plt.tight_layout()\n",
    "plt.show()"
   ],
   "outputs": [
    {
     "data": {
      "text/plain": [
       "<Figure size 1500x500 with 1 Axes>"
      ],
      "image/png": "[encoded data removed]"
     },
     "metadata": {},
     "output_type": "display_data"
    }
   ],
   "execution_count": 64
  },
  {
   "metadata": {
    "ExecuteTime": {
     "end_time": "2025-07-30T18:56:12.386487Z",
     "start_time": "2025-07-30T18:56:12.214610Z"
    }
   },
   "cell_type": "code",
   "source": [
    "plt.figure(figsize=(15, 5))\n",
    "\n",
    "plt.plot(sol_t, sol_xc, label=[r'$x(t)$', r'$y(t)$', r'$z(t)$'])\n",
    "\n",
    "plt.xlabel('Time $t$')\n",
    "plt.ylabel('State values')\n",
    "plt.title('Evolution of states')\n",
    "plt.legend()\n",
    "plt.grid(True)\n",
    "plt.tight_layout()\n",
    "plt.show()"
   ],
   "outputs": [
    {
     "data": {
      "text/plain": [
       "<Figure size 1500x500 with 1 Axes>"
      ],
      "image/png": "[encoded data removed]"
     },
     "metadata": {},
     "output_type": "display_data"
    }
   ],
   "execution_count": 65
  }
 ]
}
