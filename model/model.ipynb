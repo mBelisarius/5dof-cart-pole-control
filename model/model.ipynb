{
 "nbformat": 4,
 "nbformat_minor": 0,
 "metadata": {
  "colab": {
   "provenance": [],
   "authorship_tag": "ABX9TyMPb1me9HBu/V/0aLhCwxO2"
  },
  "kernelspec": {
   "name": "python3",
   "display_name": "Python 3 (ipykernel)",
   "language": "python"
  },
  "language_info": {
   "name": "python"
  },
  "widgets": {
   "application/vnd.jupyter.widget-state+json": {
    "state": {},
    "5f10170bd8044d9a8538d3a92dfad649": {
     "model_module": "@jupyter-widgets/controls",
     "model_name": "VBoxModel",
     "model_module_version": "1.5.0",
     "state": {
      "_dom_classes": [],
      "_model_module": "@jupyter-widgets/controls",
      "_model_module_version": "1.5.0",
      "_model_name": "VBoxModel",
      "_view_count": null,
      "_view_module": "@jupyter-widgets/controls",
      "_view_module_version": "1.5.0",
      "_view_name": "VBoxView",
      "box_style": "",
      "children": [
       "IPY_MODEL_f5013b6bb63b4f87996df6d9d8c604da",
       "IPY_MODEL_7757dae08bb84c27952a85c31c92d212",
       "IPY_MODEL_835164cddfc643d7bcac084ee123d6a2"
      ],
      "layout": "IPY_MODEL_d3434de66dd14f1f87cd68a38819f6de"
     }
    },
    "f5013b6bb63b4f87996df6d9d8c604da": {
     "model_module": "@jupyter-widgets/controls",
     "model_name": "FloatSliderModel",
     "model_module_version": "1.5.0",
     "state": {
      "_dom_classes": [],
      "_model_module": "@jupyter-widgets/controls",
      "_model_module_version": "1.5.0",
      "_model_name": "FloatSliderModel",
      "_view_count": null,
      "_view_module": "@jupyter-widgets/controls",
      "_view_module_version": "1.5.0",
      "_view_name": "FloatSliderView",
      "continuous_update": true,
      "description": "Velocity:",
      "description_tooltip": null,
      "disabled": false,
      "layout": "IPY_MODEL_4944d041602240cbade808e67ea448df",
      "max": 150,
      "min": -150,
      "orientation": "horizontal",
      "readout": true,
      "readout_format": ".2f",
      "step": 0.1,
      "style": "IPY_MODEL_cf415f87d22e4d80a3cb2fe54115c85c",
      "value": 0
     }
    },
    "7757dae08bb84c27952a85c31c92d212": {
     "model_module": "@jupyter-widgets/controls",
     "model_name": "FloatSliderModel",
     "model_module_version": "1.5.0",
     "state": {
      "_dom_classes": [],
      "_model_module": "@jupyter-widgets/controls",
      "_model_module_version": "1.5.0",
      "_model_name": "FloatSliderModel",
      "_view_count": null,
      "_view_module": "@jupyter-widgets/controls",
      "_view_module_version": "1.5.0",
      "_view_name": "FloatSliderView",
      "continuous_update": true,
      "description": "Angular velocity:",
      "description_tooltip": null,
      "disabled": false,
      "layout": "IPY_MODEL_229c343f11894a8eace05ff7452a762f",
      "max": 30,
      "min": -30,
      "orientation": "horizontal",
      "readout": true,
      "readout_format": ".2f",
      "step": 0.1,
      "style": "IPY_MODEL_33ba571895c34a869f1d3958eb8a5183",
      "value": 0
     }
    },
    "835164cddfc643d7bcac084ee123d6a2": {
     "model_module": "@jupyter-widgets/controls",
     "model_name": "CheckboxModel",
     "model_module_version": "1.5.0",
     "state": {
      "_dom_classes": [],
      "_model_module": "@jupyter-widgets/controls",
      "_model_module_version": "1.5.0",
      "_model_name": "CheckboxModel",
      "_view_count": null,
      "_view_module": "@jupyter-widgets/controls",
      "_view_module_version": "1.5.0",
      "_view_name": "CheckboxView",
      "description": "Auto-center plot",
      "description_tooltip": null,
      "disabled": false,
      "indent": true,
      "layout": "IPY_MODEL_56528962296b47fa8fc79680b244c937",
      "style": "IPY_MODEL_4be54616d9bc4e22a3449751f1dab3c4",
      "value": true
     }
    },
    "d3434de66dd14f1f87cd68a38819f6de": {
     "model_module": "@jupyter-widgets/base",
     "model_name": "LayoutModel",
     "model_module_version": "1.2.0",
     "state": {
      "_model_module": "@jupyter-widgets/base",
      "_model_module_version": "1.2.0",
      "_model_name": "LayoutModel",
      "_view_count": null,
      "_view_module": "@jupyter-widgets/base",
      "_view_module_version": "1.2.0",
      "_view_name": "LayoutView",
      "align_content": null,
      "align_items": null,
      "align_self": null,
      "border": null,
      "bottom": null,
      "display": null,
      "flex": null,
      "flex_flow": null,
      "grid_area": null,
      "grid_auto_columns": null,
      "grid_auto_flow": null,
      "grid_auto_rows": null,
      "grid_column": null,
      "grid_gap": null,
      "grid_row": null,
      "grid_template_areas": null,
      "grid_template_columns": null,
      "grid_template_rows": null,
      "height": null,
      "justify_content": null,
      "justify_items": null,
      "left": null,
      "margin": null,
      "max_height": null,
      "max_width": null,
      "min_height": null,
      "min_width": null,
      "object_fit": null,
      "object_position": null,
      "order": null,
      "overflow": null,
      "overflow_x": null,
      "overflow_y": null,
      "padding": null,
      "right": null,
      "top": null,
      "visibility": null,
      "width": null
     }
    },
    "4944d041602240cbade808e67ea448df": {
     "model_module": "@jupyter-widgets/base",
     "model_name": "LayoutModel",
     "model_module_version": "1.2.0",
     "state": {
      "_model_module": "@jupyter-widgets/base",
      "_model_module_version": "1.2.0",
      "_model_name": "LayoutModel",
      "_view_count": null,
      "_view_module": "@jupyter-widgets/base",
      "_view_module_version": "1.2.0",
      "_view_name": "LayoutView",
      "align_content": null,
      "align_items": null,
      "align_self": null,
      "border": null,
      "bottom": null,
      "display": null,
      "flex": null,
      "flex_flow": null,
      "grid_area": null,
      "grid_auto_columns": null,
      "grid_auto_flow": null,
      "grid_auto_rows": null,
      "grid_column": null,
      "grid_gap": null,
      "grid_row": null,
      "grid_template_areas": null,
      "grid_template_columns": null,
      "grid_template_rows": null,
      "height": null,
      "justify_content": null,
      "justify_items": null,
      "left": null,
      "margin": null,
      "max_height": null,
      "max_width": null,
      "min_height": null,
      "min_width": null,
      "object_fit": null,
      "object_position": null,
      "order": null,
      "overflow": null,
      "overflow_x": null,
      "overflow_y": null,
      "padding": null,
      "right": null,
      "top": null,
      "visibility": null,
      "width": null
     }
    },
    "cf415f87d22e4d80a3cb2fe54115c85c": {
     "model_module": "@jupyter-widgets/controls",
     "model_name": "SliderStyleModel",
     "model_module_version": "1.5.0",
     "state": {
      "_model_module": "@jupyter-widgets/controls",
      "_model_module_version": "1.5.0",
      "_model_name": "SliderStyleModel",
      "_view_count": null,
      "_view_module": "@jupyter-widgets/base",
      "_view_module_version": "1.2.0",
      "_view_name": "StyleView",
      "description_width": "",
      "handle_color": null
     }
    },
    "229c343f11894a8eace05ff7452a762f": {
     "model_module": "@jupyter-widgets/base",
     "model_name": "LayoutModel",
     "model_module_version": "1.2.0",
     "state": {
      "_model_module": "@jupyter-widgets/base",
      "_model_module_version": "1.2.0",
      "_model_name": "LayoutModel",
      "_view_count": null,
      "_view_module": "@jupyter-widgets/base",
      "_view_module_version": "1.2.0",
      "_view_name": "LayoutView",
      "align_content": null,
      "align_items": null,
      "align_self": null,
      "border": null,
      "bottom": null,
      "display": null,
      "flex": null,
      "flex_flow": null,
      "grid_area": null,
      "grid_auto_columns": null,
      "grid_auto_flow": null,
      "grid_auto_rows": null,
      "grid_column": null,
      "grid_gap": null,
      "grid_row": null,
      "grid_template_areas": null,
      "grid_template_columns": null,
      "grid_template_rows": null,
      "height": null,
      "justify_content": null,
      "justify_items": null,
      "left": null,
      "margin": null,
      "max_height": null,
      "max_width": null,
      "min_height": null,
      "min_width": null,
      "object_fit": null,
      "object_position": null,
      "order": null,
      "overflow": null,
      "overflow_x": null,
      "overflow_y": null,
      "padding": null,
      "right": null,
      "top": null,
      "visibility": null,
      "width": null
     }
    },
    "33ba571895c34a869f1d3958eb8a5183": {
     "model_module": "@jupyter-widgets/controls",
     "model_name": "SliderStyleModel",
     "model_module_version": "1.5.0",
     "state": {
      "_model_module": "@jupyter-widgets/controls",
      "_model_module_version": "1.5.0",
      "_model_name": "SliderStyleModel",
      "_view_count": null,
      "_view_module": "@jupyter-widgets/base",
      "_view_module_version": "1.2.0",
      "_view_name": "StyleView",
      "description_width": "",
      "handle_color": null
     }
    },
    "56528962296b47fa8fc79680b244c937": {
     "model_module": "@jupyter-widgets/base",
     "model_name": "LayoutModel",
     "model_module_version": "1.2.0",
     "state": {
      "_model_module": "@jupyter-widgets/base",
      "_model_module_version": "1.2.0",
      "_model_name": "LayoutModel",
      "_view_count": null,
      "_view_module": "@jupyter-widgets/base",
      "_view_module_version": "1.2.0",
      "_view_name": "LayoutView",
      "align_content": null,
      "align_items": null,
      "align_self": null,
      "border": null,
      "bottom": null,
      "display": null,
      "flex": null,
      "flex_flow": null,
      "grid_area": null,
      "grid_auto_columns": null,
      "grid_auto_flow": null,
      "grid_auto_rows": null,
      "grid_column": null,
      "grid_gap": null,
      "grid_row": null,
      "grid_template_areas": null,
      "grid_template_columns": null,
      "grid_template_rows": null,
      "height": null,
      "justify_content": null,
      "justify_items": null,
      "left": null,
      "margin": null,
      "max_height": null,
      "max_width": null,
      "min_height": null,
      "min_width": null,
      "object_fit": null,
      "object_position": null,
      "order": null,
      "overflow": null,
      "overflow_x": null,
      "overflow_y": null,
      "padding": null,
      "right": null,
      "top": null,
      "visibility": null,
      "width": null
     }
    },
    "4be54616d9bc4e22a3449751f1dab3c4": {
     "model_module": "@jupyter-widgets/controls",
     "model_name": "DescriptionStyleModel",
     "model_module_version": "1.5.0",
     "state": {
      "_model_module": "@jupyter-widgets/controls",
      "_model_module_version": "1.5.0",
      "_model_name": "DescriptionStyleModel",
      "_view_count": null,
      "_view_module": "@jupyter-widgets/base",
      "_view_module_version": "1.2.0",
      "_view_name": "StyleView",
      "description_width": ""
     }
    }
   }
  }
 },
 "cells": [
  {
   "metadata": {},
   "cell_type": "markdown",
   "source": [
    "# 5DOF Cart-Pole System Model - Position\n",
    "\n",
    "Theoretical mathematical model of the 5DOF cart-pole system in the coordinate system $ (x, y, z, \\theta, \\varphi) $ with wheels' angular velocity as free variables.\n",
    "\n",
    "Dynamic model uses Euler-Lagrange equations."
   ]
  },
  {
   "metadata": {},
   "cell_type": "markdown",
   "source": [
    "Code prefixes:\n",
    "- cs: coordinate system\n",
    "- fn: function\n",
    "- fv: free variable\n",
    "- l: lagrangian/energy\n",
    "- p: point\n",
    "\n",
    "Code suffixes:\n",
    "- d: derivative\n",
    "- dd: second derivative\n",
    "- jac: jacobian"
   ]
  },
  {
   "metadata": {},
   "cell_type": "markdown",
   "source": [
    "## Classes\n",
    "\n",
    "Utility classes to enhance the code's readability.\n",
    "\n",
    "- StateXyz: State class for a point in the $ (x, y, z) $ Cartesian coordinates.\n",
    "- StateGen: State class for a point in the $ (x, y, z, \\theta, \\varphi) $ generalized coordinates.\n",
    "- Lagrangian: Lagrangian class for a Lagrangian or energy function."
   ]
  },
  {
   "cell_type": "code",
   "metadata": {
    "id": "YbIjnNRBpt-u",
    "executionInfo": {
     "status": "ok",
     "timestamp": 1750814199696,
     "user_tz": 180,
     "elapsed": 6,
     "user": {
      "displayName": "Marcos Belizario",
      "userId": "10631893326976706194"
     }
    },
    "ExecuteTime": {
     "end_time": "2025-08-06T19:36:03.458665Z",
     "start_time": "2025-08-06T19:36:02.045554Z"
    }
   },
   "source": [
    "import math\n",
    "import matplotlib.pyplot as plt\n",
    "import numpy as np\n",
    "import sympy as sp\n",
    "\n",
    "from IPython.display import display, Math, Latex\n",
    "from qpsolvers import solve_qp\n",
    "from sympy.utilities.codegen import codegen"
   ],
   "outputs": [],
   "execution_count": 1
  },
  {
   "metadata": {
    "ExecuteTime": {
     "end_time": "2025-08-06T19:36:03.473678Z",
     "start_time": "2025-08-06T19:36:03.467445Z"
    }
   },
   "cell_type": "code",
   "source": [
    "class StateXyz:\n",
    "    _map = {\n",
    "        'x': (0, 'X'), 'y': (1, 'X'), 'z': (2, 'X'),\n",
    "        'xd': (0, 'Xd'), 'yd': (1, 'Xd'), 'zd': (2, 'Xd'),\n",
    "        'xdd': (0, 'Xdd'), 'ydd': (1, 'Xdd'), 'zdd': (2, 'Xdd')\n",
    "    }\n",
    "\n",
    "    def __init__(self, name, X=None, Xd=None, Xdd=None):\n",
    "        self._name = name\n",
    "        self.X = X\n",
    "        self.Xd = Xd\n",
    "        self.Xdd = Xdd\n",
    "        self._X_norm = self._Xd_norm = self._Xdd_norm = None\n",
    "\n",
    "    def __getattr__(self, key):\n",
    "        if key in self._map:\n",
    "            idx, attr = self._map[key]\n",
    "            val = getattr(self, attr)\n",
    "            if val is not None:\n",
    "                return val[idx]\n",
    "            raise AttributeError(f\"{attr} is None for key '{key}'\")\n",
    "        raise AttributeError(f\"{key} not found\")\n",
    "\n",
    "    def __setattr__(self, key, value):\n",
    "        if key in {'_name', 'X', 'Xd', 'Xdd', '_X_norm', '_Xd_norm', '_Xdd_norm'}:\n",
    "            super().__setattr__(key, value)\n",
    "        elif key in self._map:\n",
    "            idx, attr = self._map[key]\n",
    "            array = getattr(self, attr)\n",
    "            if array is not None:\n",
    "                array[idx] = value\n",
    "            else:\n",
    "                raise AttributeError(f\"{attr} is None, cannot assign '{key}'\")\n",
    "        else:\n",
    "            super().__setattr__(key, value)\n",
    "\n",
    "    @property\n",
    "    def X_norm(self):\n",
    "        if self._X_norm is None and self.X is not None:\n",
    "            return sp.sqrt(self.X.dot(self.X))\n",
    "        return self._X_norm\n",
    "\n",
    "    @X_norm.setter\n",
    "    def X_norm(self, value):\n",
    "        self._X_norm = value\n",
    "\n",
    "    @property\n",
    "    def Xd_norm(self):\n",
    "        if self._Xd_norm is None and self.Xd is not None:\n",
    "            return sp.sqrt(self.Xd.dot(self.Xd))\n",
    "        return self._Xd_norm\n",
    "\n",
    "    @Xd_norm.setter\n",
    "    def Xd_norm(self, value):\n",
    "        self._Xd_norm = value\n",
    "\n",
    "    @property\n",
    "    def Xdd_norm(self):\n",
    "        if self._Xdd_norm is None and self.Xdd is not None:\n",
    "            return sp.sqrt(self.Xdd.dot(self.Xdd))\n",
    "        return self._Xdd_norm\n",
    "\n",
    "    @Xdd_norm.setter\n",
    "    def Xdd_norm(self, value):\n",
    "        self._Xdd_norm = value\n",
    "\n",
    "    def diff(self, wrt):\n",
    "        if self.X is not None:\n",
    "            self.Xd = self.X.diff(wrt)\n",
    "\n",
    "    def diff2(self, wrt):\n",
    "        if self.Xd is not None:\n",
    "            self.Xdd = self.Xd.diff(wrt)"
   ],
   "outputs": [],
   "execution_count": 2
  },
  {
   "metadata": {
    "ExecuteTime": {
     "end_time": "2025-08-06T19:36:03.529147Z",
     "start_time": "2025-08-06T19:36:03.520646Z"
    }
   },
   "cell_type": "code",
   "source": [
    "class StateGen:\n",
    "    _map = {\n",
    "        'x': (0, 'Q'), 'y': (1, 'Q'), 'z': (2, 'Q'), 'theta': (3, 'Q'), 'phi': (4, 'Q'),\n",
    "        'xd': (0, 'Qd'), 'yd': (1, 'Qd'), 'zd': (2, 'Qd'), 'thetad': (3, 'Qd'), 'phid': (4, 'Qd'),\n",
    "        'xdd': (0, 'Qdd'), 'ydd': (1, 'Qdd'), 'zdd': (2, 'Qdd'), 'thetadd': (3, 'Qdd'), 'phidd': (4, 'Qdd')\n",
    "    }\n",
    "\n",
    "    def __init__(self, name, Q=None, Qd=None, Qdd=None):\n",
    "        self._name = name\n",
    "\n",
    "        if Q is None:\n",
    "            self.Q = sp.Matrix([\n",
    "                sp.Symbol(r'x_{' + name + '}'),\n",
    "                sp.Symbol(r'y_{' + name + '}'),\n",
    "                sp.Symbol(r'z_{' + name + '}'),\n",
    "                sp.Symbol(r'\\theta_{' + name + '}'),\n",
    "                sp.Symbol(r'\\phi_{' + name + '}')\n",
    "            ])\n",
    "        elif isinstance(Q, sp.Matrix):\n",
    "            self.Q = Q\n",
    "        else:\n",
    "            raise TypeError(f\"Q must be a Matrix, not {type(Q)}\")\n",
    "\n",
    "        if Qd is None:\n",
    "            self.Qd = sp.Matrix([\n",
    "                sp.Symbol(r'\\dot{x}_{' + name + '}'),\n",
    "                sp.Symbol(r'\\dot{y}_{' + name + '}'),\n",
    "                sp.Symbol(r'\\dot{z}_{' + name + '}'),\n",
    "                sp.Symbol(r'\\dot{\\theta}_{' + name + '}'),\n",
    "                sp.Symbol(r'\\dot{\\phi}_{' + name + '}')\n",
    "            ])\n",
    "        elif isinstance(Qd, sp.Matrix):\n",
    "            self.Qd = Qd\n",
    "        else:\n",
    "            raise TypeError(f\"Qd must be a Matrix, not {type(Qd)}\")\n",
    "\n",
    "        if Qdd is None:\n",
    "            self.Qdd = sp.Matrix([\n",
    "                sp.Symbol(r'\\ddot{x}_{' + name + '}'),\n",
    "                sp.Symbol(r'\\ddot{y}_{' + name + '}'),\n",
    "                sp.Symbol(r'\\ddot{z}_{' + name + '}'),\n",
    "                sp.Symbol(r'\\ddot{\\theta}_{' + name + '}'),\n",
    "                sp.Symbol(r'\\ddot{\\phi}_{' + name + '}')\n",
    "            ])\n",
    "        elif isinstance(Qdd, sp.Matrix):\n",
    "            self.Qdd = Qdd\n",
    "        else:\n",
    "            raise TypeError(f\"Qdd must be a Matrix, not {type(Qdd)}\")\n",
    "\n",
    "        self._Q_norm = self._Qd_norm = self._Qdd_norm = None\n",
    "\n",
    "    def __getattr__(self, key):\n",
    "        if key in self._map:\n",
    "            idx, attr = self._map[key]\n",
    "            val = getattr(self, attr)\n",
    "            if val is not None:\n",
    "                return val[idx]\n",
    "            raise AttributeError(f\"{attr} is None for key '{key}'\")\n",
    "        raise AttributeError(f\"{key} not found\")\n",
    "\n",
    "    def __setattr__(self, key, value):\n",
    "        if key in {'_name', 'Q', 'Qd', 'Qdd', '_Q_norm', '_Qd_norm', '_Qdd_norm'}:\n",
    "            super().__setattr__(key, value)\n",
    "        elif key in self._map:\n",
    "            idx, attr = self._map[key]\n",
    "            array = getattr(self, attr)\n",
    "            if array is not None:\n",
    "                array[idx] = value\n",
    "            else:\n",
    "                raise AttributeError(f\"{attr} is None, cannot assign '{key}'\")\n",
    "        else:\n",
    "            super().__setattr__(key, value)\n",
    "\n",
    "    @property\n",
    "    def Q_norm(self):\n",
    "        if self._Q_norm is None and self.Q is not None:\n",
    "            return sp.sqrt(self.Q.dot(self.Q))\n",
    "        return self._Q_norm\n",
    "\n",
    "    @Q_norm.setter\n",
    "    def Q_norm(self, value):\n",
    "        self._Q_norm = value\n",
    "\n",
    "    @property\n",
    "    def Qd_norm(self):\n",
    "        if self._Qd_norm is None and self.Qd is not None:\n",
    "            return sp.sqrt(self.Qd.dot(self.Qd))\n",
    "        return self._Qd_norm\n",
    "\n",
    "    @Qd_norm.setter\n",
    "    def Qd_norm(self, value):\n",
    "        self._Qd_norm = value\n",
    "\n",
    "    @property\n",
    "    def Qdd_norm(self):\n",
    "        if self._Qdd_norm is None and self.Qdd is not None:\n",
    "            return sp.sqrt(self.Qdd.dot(self.Qdd))\n",
    "        return self._Qdd_norm\n",
    "\n",
    "    @Qdd_norm.setter\n",
    "    def Qdd_norm(self, value):\n",
    "        self._Qdd_norm = value\n",
    "\n",
    "    def diff(self, wrt):\n",
    "        if self.Q is not None:\n",
    "            self.Qd = self.Q.diff(wrt)\n",
    "        return self.Qd\n",
    "\n",
    "    def diff2(self, wrt):\n",
    "        if self.Qd is not None:\n",
    "            self.Qdd = self.Qd.diff(wrt)\n",
    "        return self.Qdd"
   ],
   "outputs": [],
   "execution_count": 3
  },
  {
   "metadata": {
    "ExecuteTime": {
     "end_time": "2025-08-06T19:36:03.577918Z",
     "start_time": "2025-08-06T19:36:03.572205Z"
    }
   },
   "cell_type": "code",
   "source": [
    "class Lagrangian:\n",
    "    def __init__(self, name, t, state_gen=None):\n",
    "        self._name = name\n",
    "        self._t = t\n",
    "        self._cs = state_gen\n",
    "\n",
    "        self._L = None\n",
    "        self._L_dq = None\n",
    "        self._L_dqd = None\n",
    "        self._L_dqd_dt = None\n",
    "\n",
    "    @property\n",
    "    def L(self):\n",
    "        return self._L\n",
    "\n",
    "    @L.setter\n",
    "    def L(self, value):\n",
    "        self._L = value\n",
    "        self._L_dq = sp.simplify(self._L.diff(self._cs.Q))\n",
    "        self._L_dqd = sp.simplify(self._L.diff(self._cs.Qd))\n",
    "        self._L_dqd_dt = sp.simplify(self._L_dqd.diff(self._t))\n",
    "\n",
    "    @property\n",
    "    def L_dq(self):\n",
    "        return self._L_dq\n",
    "\n",
    "    @property\n",
    "    def L_dqd(self):\n",
    "        return self._L_dqd\n",
    "\n",
    "    @property\n",
    "    def L_dqd_dt(self):\n",
    "        return self._L_dqd_dt\n",
    "\n",
    "    def __add__(self, other):\n",
    "        if isinstance(other, Lagrangian):\n",
    "            tmp = Lagrangian(f\"{self._name}+{other._name}\", self._t, self._cs)\n",
    "            tmp.L = self.L + other.L\n",
    "            return tmp\n",
    "        else:\n",
    "            raise NotImplementedError()\n",
    "\n",
    "    def __sub__(self, other):\n",
    "        if isinstance(other, Lagrangian):\n",
    "            tmp = Lagrangian(f\"{self._name}+{other._name}\", self._t, self._cs)\n",
    "            tmp.L = self.L - other.L\n",
    "            return tmp\n",
    "        else:\n",
    "            raise NotImplementedError()"
   ],
   "outputs": [],
   "execution_count": 4
  },
  {
   "metadata": {},
   "cell_type": "markdown",
   "source": [
    " ## Model\n",
    "\n",
    "The mathematical model of the cart-pole system assumes an axle that connects the two wheels and the pole, with the origin $ X_o $ located at the intersection of the axle and the pole, center of mass at $ X_c $, and an angled ground plane.\n",
    "\n",
    "The generalized coordinate system taken is $ (x, y, z, \\theta, \\varphi) $, where $x$, $y$, $z$ are the Cartesian coordinates, and $\\theta$, $\\varphi$ are the angles of rotation of the cart with respect to the vertical direction and of the cart with respect to the $x$-$y$ plane, respectively.\n",
    "The coordinate system is shown below.\n",
    "\n",
    "<img src=\"../assets/cart_coordinates.png\" alt=\"Cart coordinates\" width=\"300\"/>\n",
    "\n",
    "The geometric parameters of the cart are shown below.\n",
    "\n",
    "<img src=\"../assets/cart_geometry.png\" alt=\"Cart geometry\" width=\"800\"/>"
   ]
  },
  {
   "metadata": {
    "ExecuteTime": {
     "end_time": "2025-08-06T19:36:03.653969Z",
     "start_time": "2025-08-06T19:36:03.623861Z"
    }
   },
   "cell_type": "code",
   "source": [
    "dof = 5\n",
    "\n",
    "t = sp.symbols(r't')\n",
    "\n",
    "cs_q = StateGen('q')\n",
    "cs_q.x = sp.Function(r'x')(t)\n",
    "cs_q.y = sp.Function(r'y')(t)\n",
    "cs_q.z = sp.Function(r'z')(t)\n",
    "cs_q.theta = sp.Function(r'\\theta')(t)\n",
    "cs_q.phi = sp.Function(r'\\varphi')(t)\n",
    "cs_q.diff(t)\n",
    "cs_q.diff2(t)\n",
    "\n",
    "args_cs = [t, cs_q.x, cs_q.xd, cs_q.y, cs_q.yd, cs_q.z, cs_q.zd, cs_q.theta, cs_q.thetad, cs_q.phi, cs_q.phid]"
   ],
   "outputs": [],
   "execution_count": 5
  },
  {
   "metadata": {
    "ExecuteTime": {
     "end_time": "2025-08-06T19:36:03.677428Z",
     "start_time": "2025-08-06T19:36:03.675193Z"
    }
   },
   "cell_type": "code",
   "source": [
    "fv_omega_l = sp.symbols(r'\\omega_l', constant=True)  # angular velocity of the cart's left wheel, free variable\n",
    "fv_omega_r = sp.symbols(r'\\omega_r', constant=True)  # angular velocity of the cart's right wheel, free variable\n",
    "\n",
    "args_fv = [fv_omega_l, fv_omega_r]"
   ],
   "outputs": [],
   "execution_count": 6
  },
  {
   "metadata": {
    "ExecuteTime": {
     "end_time": "2025-08-06T19:36:03.725052Z",
     "start_time": "2025-08-06T19:36:03.723015Z"
    }
   },
   "cell_type": "code",
   "source": "args = args_cs + args_fv",
   "outputs": [],
   "execution_count": 7
  },
  {
   "metadata": {
    "ExecuteTime": {
     "end_time": "2025-08-06T19:36:03.774093Z",
     "start_time": "2025-08-06T19:36:03.770476Z"
    }
   },
   "cell_type": "code",
   "source": [
    "# Utils\n",
    "sp_half = sp.Rational(1, 2)\n",
    "plane_dir = sp.Matrix([sp.cos(cs_q.phi), sp.sin(cs_q.phi), 0])"
   ],
   "outputs": [],
   "execution_count": 8
  },
  {
   "metadata": {
    "ExecuteTime": {
     "end_time": "2025-08-06T19:36:03.821211Z",
     "start_time": "2025-08-06T19:36:03.818264Z"
    }
   },
   "cell_type": "code",
   "source": [
    "# Constants\n",
    "agx, agy, xcm, ycm, zcm, hb, hr, eb, ew, dw = sp.symbols(r'a_{gx}, a_{gy}, x_{cm}, y_{cm}, z_{cm}, h_b, h_r, e_b, e_w, d_w', constant=True)\n",
    "m, Ir, Iz, Iw, ba, bw, bd, ct, rho, g = sp.symbols(r'm, I_r, I_z, I_w, b_a, b_w, b_d, c_{\\theta}, \\rho, g', constant=True)\n",
    "\n",
    "params = [\n",
    "    agx,  # factor in the x coordinate for the ground plane\n",
    "    agy,  # factor in the y coordinate for the ground plane\n",
    "    xcm,  # x coordinate of the body's mass center\n",
    "    ycm,  # y coordinate of the body's mass center\n",
    "    zcm,  # z coordinate of the body's mass center\n",
    "    hb,  # height of body\n",
    "    eb,  # body width\n",
    "    dw,  # wheel diameter\n",
    "    m,  # mass in kg\n",
    "    Ir,  # moment of inertia\n",
    "    Iz,  # moment of inertia\n",
    "    Iw,  # moment of inertia\n",
    "    ba,  # damping coefficient\n",
    "    bw,  # damping coefficient\n",
    "    bd,  # drag coefficient\n",
    "    ct,  # theta_dot correction factor, ideally sp.tanh(theta_dot - (omega_l + omega_r))\n",
    "    rho,  # air density\n",
    "    g,  # gravity in m/s^2\n",
    "]"
   ],
   "outputs": [],
   "execution_count": 9
  },
  {
   "metadata": {
    "id": "Z70PgnAzp3iF"
   },
   "cell_type": "markdown",
   "source": "### Kinematic model"
  },
  {
   "metadata": {},
   "cell_type": "markdown",
   "source": [
    "#### Kinematics for the body's left wheel\n",
    "\n",
    "The kinematics for the body's left wheel are given by the effects of the wheel rotation and the angle of rotation of the cart with respect to the vertical direction\n",
    "\n",
    "$$ \\dot{q}_{w,l} = \\frac{ d_w }{ 2 } \\left( \\omega_l + \\frac{d}{dt} \\theta \\right) \\cdot \\begin{bmatrix} \\cos(\\varphi) \\\\ \\sin(\\varphi) \\\\ 0 \\end{bmatrix} $$"
   ]
  },
  {
   "metadata": {
    "ExecuteTime": {
     "end_time": "2025-08-06T19:36:03.870159Z",
     "start_time": "2025-08-06T19:36:03.868165Z"
    }
   },
   "cell_type": "code",
   "source": "p_whl = StateXyz('wh,l')",
   "outputs": [],
   "execution_count": 10
  },
  {
   "metadata": {
    "ExecuteTime": {
     "end_time": "2025-08-06T19:36:03.938006Z",
     "start_time": "2025-08-06T19:36:03.923241Z"
    }
   },
   "cell_type": "code",
   "source": [
    "p_whl.Xd = ((fv_omega_l + cs_q.thetad) * dw / 2) * plane_dir\n",
    "p_whl.zd = cs_q.zd\n",
    "\n",
    "# Output\n",
    "display(p_whl.Xd)"
   ],
   "outputs": [
    {
     "data": {
      "text/plain": [
       "Matrix([\n",
       "[d_w*(\\omega_l + Derivative(\\theta(t), t))*cos(\\varphi(t))/2],\n",
       "[d_w*(\\omega_l + Derivative(\\theta(t), t))*sin(\\varphi(t))/2],\n",
       "[                                        Derivative(z(t), t)]])"
      ],
      "text/latex": "$\\displaystyle \\left[\\begin{matrix}\\frac{d_{w} \\left(\\omega_{l} + \\frac{d}{d t} \\theta{\\left(t \\right)}\\right) \\cos{\\left(\\varphi{\\left(t \\right)} \\right)}}{2}\\\\\\frac{d_{w} \\left(\\omega_{l} + \\frac{d}{d t} \\theta{\\left(t \\right)}\\right) \\sin{\\left(\\varphi{\\left(t \\right)} \\right)}}{2}\\\\\\frac{d}{d t} z{\\left(t \\right)}\\end{matrix}\\right]$"
     },
     "metadata": {},
     "output_type": "display_data"
    }
   ],
   "execution_count": 11
  },
  {
   "metadata": {},
   "cell_type": "markdown",
   "source": [
    "#### Kinematics for the body's right wheel\n",
    "\n",
    "The kinematics for the body's right wheel are given by the effects of the wheel rotation and the angle of rotation of the cart with respect to the vertical direction\n",
    "\n",
    "$$ \\dot{q}_{w,r} = \\frac{ d_w }{ 2 } \\left( \\omega_r + \\frac{d}{dt} \\theta \\right) \\cdot \\begin{bmatrix} \\cos(\\varphi) \\\\ \\sin(\\varphi) \\\\ 0 \\end{bmatrix} $$"
   ]
  },
  {
   "metadata": {
    "ExecuteTime": {
     "end_time": "2025-08-06T19:36:03.979030Z",
     "start_time": "2025-08-06T19:36:03.976488Z"
    }
   },
   "cell_type": "code",
   "source": "p_whr = StateXyz('wh,r')",
   "outputs": [],
   "execution_count": 12
  },
  {
   "metadata": {
    "ExecuteTime": {
     "end_time": "2025-08-06T19:36:04.039684Z",
     "start_time": "2025-08-06T19:36:04.031403Z"
    }
   },
   "cell_type": "code",
   "source": [
    "p_whr.Xd = ((fv_omega_r + cs_q.thetad) * dw / 2) * plane_dir\n",
    "p_whr.zd = cs_q.zd\n",
    "\n",
    "# Output\n",
    "display(p_whr.Xd)"
   ],
   "outputs": [
    {
     "data": {
      "text/plain": [
       "Matrix([\n",
       "[d_w*(\\omega_r + Derivative(\\theta(t), t))*cos(\\varphi(t))/2],\n",
       "[d_w*(\\omega_r + Derivative(\\theta(t), t))*sin(\\varphi(t))/2],\n",
       "[                                        Derivative(z(t), t)]])"
      ],
      "text/latex": "$\\displaystyle \\left[\\begin{matrix}\\frac{d_{w} \\left(\\omega_{r} + \\frac{d}{d t} \\theta{\\left(t \\right)}\\right) \\cos{\\left(\\varphi{\\left(t \\right)} \\right)}}{2}\\\\\\frac{d_{w} \\left(\\omega_{r} + \\frac{d}{d t} \\theta{\\left(t \\right)}\\right) \\sin{\\left(\\varphi{\\left(t \\right)} \\right)}}{2}\\\\\\frac{d}{d t} z{\\left(t \\right)}\\end{matrix}\\right]$"
     },
     "metadata": {},
     "output_type": "display_data"
    }
   ],
   "execution_count": 13
  },
  {
   "metadata": {},
   "cell_type": "markdown",
   "source": [
    "#### Movement due to the wheels rotation\n",
    "\n",
    "The movement due to the wheels is separated by its contributions to the cart's normal velocity in the $x$-$y$ plane\n",
    "\n",
    "$$ v = \\frac{ \\dot{q}_{w,l} + \\dot{q}_{w,r} }{ 2 } $$\n",
    "\n",
    "and to the cart's rotation in the $x$-$y$ plane\n",
    "\n",
    "$$ \\dot{\\varphi} = \\frac{ \\dot{q}_{w,l} - \\dot{q}_{w,r} }{ 2 e_b } $$"
   ]
  },
  {
   "metadata": {
    "ExecuteTime": {
     "end_time": "2025-08-06T19:36:04.098584Z",
     "start_time": "2025-08-06T19:36:04.093445Z"
    }
   },
   "cell_type": "code",
   "source": [
    "fv_speed = sp_half * dw * (fv_omega_l + fv_omega_r) / 2\n",
    "fv_rot = (fv_omega_l - fv_omega_r) / (2 * eb)"
   ],
   "outputs": [],
   "execution_count": 14
  },
  {
   "metadata": {},
   "cell_type": "markdown",
   "source": [
    "#### Kinematics for the body's origin\n",
    "\n",
    "The kinematics for the body's origin are modeled with position\n",
    "\n",
    "$$ X_o = \\begin{bmatrix} x \\\\ y \\\\ z \\end{bmatrix} $$\n",
    "\n",
    "and velocity\n",
    "\n",
    "$$ \\dot{X}_o = \\begin{bmatrix} \\dot{x} \\\\ \\dot{y} \\\\ \\dot{z} \\end{bmatrix} + v \\cdot \\begin{bmatrix} \\cos(\\varphi) \\\\ \\sin(\\varphi) \\\\ 0 \\end{bmatrix} $$\n",
    "\n",
    "where $ v $ is the normal velocity of the body in the x-y plane given by the left and right wheels motion."
   ]
  },
  {
   "metadata": {
    "ExecuteTime": {
     "end_time": "2025-08-06T19:36:04.156274Z",
     "start_time": "2025-08-06T19:36:04.152979Z"
    }
   },
   "cell_type": "code",
   "source": "p_origin = StateXyz('o')",
   "outputs": [],
   "execution_count": 15
  },
  {
   "metadata": {
    "ExecuteTime": {
     "end_time": "2025-08-06T19:36:04.210206Z",
     "start_time": "2025-08-06T19:36:04.203448Z"
    }
   },
   "cell_type": "code",
   "source": [
    "p_origin.X = sp.Matrix([\n",
    "    cs_q.x,\n",
    "    cs_q.y,\n",
    "    cs_q.z,\n",
    "])\n",
    "\n",
    "# Lambdify\n",
    "fn_Xo = sp.lambdify(args + params, p_origin.X)\n",
    "\n",
    "# Output\n",
    "display(p_origin.X)"
   ],
   "outputs": [
    {
     "data": {
      "text/plain": [
       "Matrix([\n",
       "[x(t)],\n",
       "[y(t)],\n",
       "[z(t)]])"
      ],
      "text/latex": "$\\displaystyle \\left[\\begin{matrix}x{\\left(t \\right)}\\\\y{\\left(t \\right)}\\\\z{\\left(t \\right)}\\end{matrix}\\right]$"
     },
     "metadata": {},
     "output_type": "display_data"
    }
   ],
   "execution_count": 16
  },
  {
   "metadata": {
    "ExecuteTime": {
     "end_time": "2025-08-06T19:36:04.274093Z",
     "start_time": "2025-08-06T19:36:04.256654Z"
    }
   },
   "cell_type": "code",
   "source": [
    "p_origin.Xd = p_origin.X.diff(t) + fv_speed * plane_dir\n",
    "\n",
    "# Lambdify\n",
    "fn_Xo_dot = sp.lambdify(args + params, p_origin.Xd)\n",
    "\n",
    "# Output\n",
    "display(p_origin.Xd)"
   ],
   "outputs": [
    {
     "data": {
      "text/plain": [
       "Matrix([\n",
       "[d_w*(\\omega_l + \\omega_r)*cos(\\varphi(t))/4 + Derivative(x(t), t)],\n",
       "[d_w*(\\omega_l + \\omega_r)*sin(\\varphi(t))/4 + Derivative(y(t), t)],\n",
       "[                                              Derivative(z(t), t)]])"
      ],
      "text/latex": "$\\displaystyle \\left[\\begin{matrix}\\frac{d_{w} \\left(\\omega_{l} + \\omega_{r}\\right) \\cos{\\left(\\varphi{\\left(t \\right)} \\right)}}{4} + \\frac{d}{d t} x{\\left(t \\right)}\\\\\\frac{d_{w} \\left(\\omega_{l} + \\omega_{r}\\right) \\sin{\\left(\\varphi{\\left(t \\right)} \\right)}}{4} + \\frac{d}{d t} y{\\left(t \\right)}\\\\\\frac{d}{d t} z{\\left(t \\right)}\\end{matrix}\\right]$"
     },
     "metadata": {},
     "output_type": "display_data"
    }
   ],
   "execution_count": 17
  },
  {
   "metadata": {},
   "cell_type": "markdown",
   "source": [
    "#### Kinematics for the body's center of mass\n",
    "\n",
    "The kinematics for the body's center of mass are modeled as the superposition of the relative motion between the center of mass and the origin, and the kinematics of the body's origin.\n",
    "\n",
    "$$ X_c = X_o + X_{c,o} $$\n",
    "\n",
    "where $ X_{c,o} $ is given by the geometric position of the mass center $ [ x_{cm} \\>\\> y_{cm} \\>\\> z_{cm}] $ relative to the origin rotated by the angles $ (\\theta, \\varphi) $ with respect to their axis."
   ]
  },
  {
   "metadata": {
    "ExecuteTime": {
     "end_time": "2025-08-06T19:36:04.318614Z",
     "start_time": "2025-08-06T19:36:04.316378Z"
    }
   },
   "cell_type": "code",
   "source": [
    "p_center_origin = StateXyz('c,o')\n",
    "p_center = StateXyz('c')"
   ],
   "outputs": [],
   "execution_count": 18
  },
  {
   "metadata": {
    "ExecuteTime": {
     "end_time": "2025-08-06T19:36:04.384768Z",
     "start_time": "2025-08-06T19:36:04.364624Z"
    }
   },
   "cell_type": "code",
   "source": [
    "p_center_origin.X = (sp.rot_givens(1, 0, cs_q.phi) * (sp.rot_givens(0, 2, cs_q.theta)) * sp.Matrix([xcm, ycm, zcm]))\n",
    "\n",
    "# Lambdify\n",
    "fn_Xco = sp.lambdify(args + params, p_center_origin.X)\n",
    "\n",
    "# Output\n",
    "display(p_center_origin.X)"
   ],
   "outputs": [
    {
     "data": {
      "text/plain": [
       "Matrix([\n",
       "[x_{cm}*cos(\\theta(t))*cos(\\varphi(t)) - y_{cm}*sin(\\varphi(t)) + z_{cm}*sin(\\theta(t))*cos(\\varphi(t))],\n",
       "[x_{cm}*sin(\\varphi(t))*cos(\\theta(t)) + y_{cm}*cos(\\varphi(t)) + z_{cm}*sin(\\theta(t))*sin(\\varphi(t))],\n",
       "[                                                        -x_{cm}*sin(\\theta(t)) + z_{cm}*cos(\\theta(t))]])"
      ],
      "text/latex": "$\\displaystyle \\left[\\begin{matrix}x_{cm} \\cos{\\left(\\theta{\\left(t \\right)} \\right)} \\cos{\\left(\\varphi{\\left(t \\right)} \\right)} - y_{cm} \\sin{\\left(\\varphi{\\left(t \\right)} \\right)} + z_{cm} \\sin{\\left(\\theta{\\left(t \\right)} \\right)} \\cos{\\left(\\varphi{\\left(t \\right)} \\right)}\\\\x_{cm} \\sin{\\left(\\varphi{\\left(t \\right)} \\right)} \\cos{\\left(\\theta{\\left(t \\right)} \\right)} + y_{cm} \\cos{\\left(\\varphi{\\left(t \\right)} \\right)} + z_{cm} \\sin{\\left(\\theta{\\left(t \\right)} \\right)} \\sin{\\left(\\varphi{\\left(t \\right)} \\right)}\\\\- x_{cm} \\sin{\\left(\\theta{\\left(t \\right)} \\right)} + z_{cm} \\cos{\\left(\\theta{\\left(t \\right)} \\right)}\\end{matrix}\\right]$"
     },
     "metadata": {},
     "output_type": "display_data"
    }
   ],
   "execution_count": 19
  },
  {
   "metadata": {
    "ExecuteTime": {
     "end_time": "2025-08-06T19:36:04.484385Z",
     "start_time": "2025-08-06T19:36:04.439899Z"
    }
   },
   "cell_type": "code",
   "source": [
    "p_center_origin.diff(t)\n",
    "\n",
    "# Lambdify\n",
    "fn_Xco_dot = sp.lambdify(args + params, p_center_origin.Xd)\n",
    "\n",
    "# Output\n",
    "display(p_center_origin.Xd)"
   ],
   "outputs": [
    {
     "data": {
      "text/plain": [
       "Matrix([\n",
       "[-x_{cm}*sin(\\theta(t))*cos(\\varphi(t))*Derivative(\\theta(t), t) - x_{cm}*sin(\\varphi(t))*cos(\\theta(t))*Derivative(\\varphi(t), t) - y_{cm}*cos(\\varphi(t))*Derivative(\\varphi(t), t) - z_{cm}*sin(\\theta(t))*sin(\\varphi(t))*Derivative(\\varphi(t), t) + z_{cm}*cos(\\theta(t))*cos(\\varphi(t))*Derivative(\\theta(t), t)],\n",
       "[-x_{cm}*sin(\\theta(t))*sin(\\varphi(t))*Derivative(\\theta(t), t) + x_{cm}*cos(\\theta(t))*cos(\\varphi(t))*Derivative(\\varphi(t), t) - y_{cm}*sin(\\varphi(t))*Derivative(\\varphi(t), t) + z_{cm}*sin(\\theta(t))*cos(\\varphi(t))*Derivative(\\varphi(t), t) + z_{cm}*sin(\\varphi(t))*cos(\\theta(t))*Derivative(\\theta(t), t)],\n",
       "[                                                                                                                                                                                                                       -x_{cm}*cos(\\theta(t))*Derivative(\\theta(t), t) - z_{cm}*sin(\\theta(t))*Derivative(\\theta(t), t)]])"
      ],
      "text/latex": "$\\displaystyle \\left[\\begin{matrix}- x_{cm} \\sin{\\left(\\theta{\\left(t \\right)} \\right)} \\cos{\\left(\\varphi{\\left(t \\right)} \\right)} \\frac{d}{d t} \\theta{\\left(t \\right)} - x_{cm} \\sin{\\left(\\varphi{\\left(t \\right)} \\right)} \\cos{\\left(\\theta{\\left(t \\right)} \\right)} \\frac{d}{d t} \\varphi{\\left(t \\right)} - y_{cm} \\cos{\\left(\\varphi{\\left(t \\right)} \\right)} \\frac{d}{d t} \\varphi{\\left(t \\right)} - z_{cm} \\sin{\\left(\\theta{\\left(t \\right)} \\right)} \\sin{\\left(\\varphi{\\left(t \\right)} \\right)} \\frac{d}{d t} \\varphi{\\left(t \\right)} + z_{cm} \\cos{\\left(\\theta{\\left(t \\right)} \\right)} \\cos{\\left(\\varphi{\\left(t \\right)} \\right)} \\frac{d}{d t} \\theta{\\left(t \\right)}\\\\- x_{cm} \\sin{\\left(\\theta{\\left(t \\right)} \\right)} \\sin{\\left(\\varphi{\\left(t \\right)} \\right)} \\frac{d}{d t} \\theta{\\left(t \\right)} + x_{cm} \\cos{\\left(\\theta{\\left(t \\right)} \\right)} \\cos{\\left(\\varphi{\\left(t \\right)} \\right)} \\frac{d}{d t} \\varphi{\\left(t \\right)} - y_{cm} \\sin{\\left(\\varphi{\\left(t \\right)} \\right)} \\frac{d}{d t} \\varphi{\\left(t \\right)} + z_{cm} \\sin{\\left(\\theta{\\left(t \\right)} \\right)} \\cos{\\left(\\varphi{\\left(t \\right)} \\right)} \\frac{d}{d t} \\varphi{\\left(t \\right)} + z_{cm} \\sin{\\left(\\varphi{\\left(t \\right)} \\right)} \\cos{\\left(\\theta{\\left(t \\right)} \\right)} \\frac{d}{d t} \\theta{\\left(t \\right)}\\\\- x_{cm} \\cos{\\left(\\theta{\\left(t \\right)} \\right)} \\frac{d}{d t} \\theta{\\left(t \\right)} - z_{cm} \\sin{\\left(\\theta{\\left(t \\right)} \\right)} \\frac{d}{d t} \\theta{\\left(t \\right)}\\end{matrix}\\right]$"
     },
     "metadata": {},
     "output_type": "display_data"
    }
   ],
   "execution_count": 20
  },
  {
   "metadata": {
    "ExecuteTime": {
     "end_time": "2025-08-06T19:36:04.546819Z",
     "start_time": "2025-08-06T19:36:04.529510Z"
    }
   },
   "cell_type": "code",
   "source": [
    "p_center.X = p_origin.X + p_center_origin.X\n",
    "\n",
    "# Lambdify\n",
    "fn_Xc = sp.lambdify(args + params, p_center.X)\n",
    "\n",
    "# Output\n",
    "display(p_center.X)"
   ],
   "outputs": [
    {
     "data": {
      "text/plain": [
       "Matrix([\n",
       "[x_{cm}*cos(\\theta(t))*cos(\\varphi(t)) - y_{cm}*sin(\\varphi(t)) + z_{cm}*sin(\\theta(t))*cos(\\varphi(t)) + x(t)],\n",
       "[x_{cm}*sin(\\varphi(t))*cos(\\theta(t)) + y_{cm}*cos(\\varphi(t)) + z_{cm}*sin(\\theta(t))*sin(\\varphi(t)) + y(t)],\n",
       "[                                                        -x_{cm}*sin(\\theta(t)) + z_{cm}*cos(\\theta(t)) + z(t)]])"
      ],
      "text/latex": "$\\displaystyle \\left[\\begin{matrix}x_{cm} \\cos{\\left(\\theta{\\left(t \\right)} \\right)} \\cos{\\left(\\varphi{\\left(t \\right)} \\right)} - y_{cm} \\sin{\\left(\\varphi{\\left(t \\right)} \\right)} + z_{cm} \\sin{\\left(\\theta{\\left(t \\right)} \\right)} \\cos{\\left(\\varphi{\\left(t \\right)} \\right)} + x{\\left(t \\right)}\\\\x_{cm} \\sin{\\left(\\varphi{\\left(t \\right)} \\right)} \\cos{\\left(\\theta{\\left(t \\right)} \\right)} + y_{cm} \\cos{\\left(\\varphi{\\left(t \\right)} \\right)} + z_{cm} \\sin{\\left(\\theta{\\left(t \\right)} \\right)} \\sin{\\left(\\varphi{\\left(t \\right)} \\right)} + y{\\left(t \\right)}\\\\- x_{cm} \\sin{\\left(\\theta{\\left(t \\right)} \\right)} + z_{cm} \\cos{\\left(\\theta{\\left(t \\right)} \\right)} + z{\\left(t \\right)}\\end{matrix}\\right]$"
     },
     "metadata": {},
     "output_type": "display_data"
    }
   ],
   "execution_count": 21
  },
  {
   "metadata": {
    "ExecuteTime": {
     "end_time": "2025-08-06T19:36:04.642475Z",
     "start_time": "2025-08-06T19:36:04.602335Z"
    }
   },
   "cell_type": "code",
   "source": [
    "p_center.Xd = p_origin.Xd + p_center_origin.Xd\n",
    "\n",
    "# Lambdify\n",
    "fn_Xc_dot = sp.lambdify(args + params, p_center.Xd)\n",
    "\n",
    "# Output\n",
    "display(p_center.Xd)"
   ],
   "outputs": [
    {
     "data": {
      "text/plain": [
       "Matrix([\n",
       "[d_w*(\\omega_l + \\omega_r)*cos(\\varphi(t))/4 - x_{cm}*sin(\\theta(t))*cos(\\varphi(t))*Derivative(\\theta(t), t) - x_{cm}*sin(\\varphi(t))*cos(\\theta(t))*Derivative(\\varphi(t), t) - y_{cm}*cos(\\varphi(t))*Derivative(\\varphi(t), t) - z_{cm}*sin(\\theta(t))*sin(\\varphi(t))*Derivative(\\varphi(t), t) + z_{cm}*cos(\\theta(t))*cos(\\varphi(t))*Derivative(\\theta(t), t) + Derivative(x(t), t)],\n",
       "[d_w*(\\omega_l + \\omega_r)*sin(\\varphi(t))/4 - x_{cm}*sin(\\theta(t))*sin(\\varphi(t))*Derivative(\\theta(t), t) + x_{cm}*cos(\\theta(t))*cos(\\varphi(t))*Derivative(\\varphi(t), t) - y_{cm}*sin(\\varphi(t))*Derivative(\\varphi(t), t) + z_{cm}*sin(\\theta(t))*cos(\\varphi(t))*Derivative(\\varphi(t), t) + z_{cm}*sin(\\varphi(t))*cos(\\theta(t))*Derivative(\\theta(t), t) + Derivative(y(t), t)],\n",
       "[                                                                                                                                                                                                                                                                    -x_{cm}*cos(\\theta(t))*Derivative(\\theta(t), t) - z_{cm}*sin(\\theta(t))*Derivative(\\theta(t), t) + Derivative(z(t), t)]])"
      ],
      "text/latex": "$\\displaystyle \\left[\\begin{matrix}\\frac{d_{w} \\left(\\omega_{l} + \\omega_{r}\\right) \\cos{\\left(\\varphi{\\left(t \\right)} \\right)}}{4} - x_{cm} \\sin{\\left(\\theta{\\left(t \\right)} \\right)} \\cos{\\left(\\varphi{\\left(t \\right)} \\right)} \\frac{d}{d t} \\theta{\\left(t \\right)} - x_{cm} \\sin{\\left(\\varphi{\\left(t \\right)} \\right)} \\cos{\\left(\\theta{\\left(t \\right)} \\right)} \\frac{d}{d t} \\varphi{\\left(t \\right)} - y_{cm} \\cos{\\left(\\varphi{\\left(t \\right)} \\right)} \\frac{d}{d t} \\varphi{\\left(t \\right)} - z_{cm} \\sin{\\left(\\theta{\\left(t \\right)} \\right)} \\sin{\\left(\\varphi{\\left(t \\right)} \\right)} \\frac{d}{d t} \\varphi{\\left(t \\right)} + z_{cm} \\cos{\\left(\\theta{\\left(t \\right)} \\right)} \\cos{\\left(\\varphi{\\left(t \\right)} \\right)} \\frac{d}{d t} \\theta{\\left(t \\right)} + \\frac{d}{d t} x{\\left(t \\right)}\\\\\\frac{d_{w} \\left(\\omega_{l} + \\omega_{r}\\right) \\sin{\\left(\\varphi{\\left(t \\right)} \\right)}}{4} - x_{cm} \\sin{\\left(\\theta{\\left(t \\right)} \\right)} \\sin{\\left(\\varphi{\\left(t \\right)} \\right)} \\frac{d}{d t} \\theta{\\left(t \\right)} + x_{cm} \\cos{\\left(\\theta{\\left(t \\right)} \\right)} \\cos{\\left(\\varphi{\\left(t \\right)} \\right)} \\frac{d}{d t} \\varphi{\\left(t \\right)} - y_{cm} \\sin{\\left(\\varphi{\\left(t \\right)} \\right)} \\frac{d}{d t} \\varphi{\\left(t \\right)} + z_{cm} \\sin{\\left(\\theta{\\left(t \\right)} \\right)} \\cos{\\left(\\varphi{\\left(t \\right)} \\right)} \\frac{d}{d t} \\varphi{\\left(t \\right)} + z_{cm} \\sin{\\left(\\varphi{\\left(t \\right)} \\right)} \\cos{\\left(\\theta{\\left(t \\right)} \\right)} \\frac{d}{d t} \\theta{\\left(t \\right)} + \\frac{d}{d t} y{\\left(t \\right)}\\\\- x_{cm} \\cos{\\left(\\theta{\\left(t \\right)} \\right)} \\frac{d}{d t} \\theta{\\left(t \\right)} - z_{cm} \\sin{\\left(\\theta{\\left(t \\right)} \\right)} \\frac{d}{d t} \\theta{\\left(t \\right)} + \\frac{d}{d t} z{\\left(t \\right)}\\end{matrix}\\right]$"
     },
     "metadata": {},
     "output_type": "display_data"
    }
   ],
   "execution_count": 22
  },
  {
   "metadata": {
    "ExecuteTime": {
     "end_time": "2025-08-06T19:36:04.704760Z",
     "start_time": "2025-08-06T19:36:04.684642Z"
    }
   },
   "cell_type": "code",
   "source": [
    "# Output\n",
    "display(p_center.Xd_norm)"
   ],
   "outputs": [
    {
     "data": {
      "text/plain": [
       "sqrt((-x_{cm}*cos(\\theta(t))*Derivative(\\theta(t), t) - z_{cm}*sin(\\theta(t))*Derivative(\\theta(t), t) + Derivative(z(t), t))**2 + (d_w*(\\omega_l + \\omega_r)*sin(\\varphi(t))/4 - x_{cm}*sin(\\theta(t))*sin(\\varphi(t))*Derivative(\\theta(t), t) + x_{cm}*cos(\\theta(t))*cos(\\varphi(t))*Derivative(\\varphi(t), t) - y_{cm}*sin(\\varphi(t))*Derivative(\\varphi(t), t) + z_{cm}*sin(\\theta(t))*cos(\\varphi(t))*Derivative(\\varphi(t), t) + z_{cm}*sin(\\varphi(t))*cos(\\theta(t))*Derivative(\\theta(t), t) + Derivative(y(t), t))**2 + (d_w*(\\omega_l + \\omega_r)*cos(\\varphi(t))/4 - x_{cm}*sin(\\theta(t))*cos(\\varphi(t))*Derivative(\\theta(t), t) - x_{cm}*sin(\\varphi(t))*cos(\\theta(t))*Derivative(\\varphi(t), t) - y_{cm}*cos(\\varphi(t))*Derivative(\\varphi(t), t) - z_{cm}*sin(\\theta(t))*sin(\\varphi(t))*Derivative(\\varphi(t), t) + z_{cm}*cos(\\theta(t))*cos(\\varphi(t))*Derivative(\\theta(t), t) + Derivative(x(t), t))**2)"
      ],
      "text/latex": "$\\displaystyle \\sqrt{\\left(- x_{cm} \\cos{\\left(\\theta{\\left(t \\right)} \\right)} \\frac{d}{d t} \\theta{\\left(t \\right)} - z_{cm} \\sin{\\left(\\theta{\\left(t \\right)} \\right)} \\frac{d}{d t} \\theta{\\left(t \\right)} + \\frac{d}{d t} z{\\left(t \\right)}\\right)^{2} + \\left(\\frac{d_{w} \\left(\\omega_{l} + \\omega_{r}\\right) \\sin{\\left(\\varphi{\\left(t \\right)} \\right)}}{4} - x_{cm} \\sin{\\left(\\theta{\\left(t \\right)} \\right)} \\sin{\\left(\\varphi{\\left(t \\right)} \\right)} \\frac{d}{d t} \\theta{\\left(t \\right)} + x_{cm} \\cos{\\left(\\theta{\\left(t \\right)} \\right)} \\cos{\\left(\\varphi{\\left(t \\right)} \\right)} \\frac{d}{d t} \\varphi{\\left(t \\right)} - y_{cm} \\sin{\\left(\\varphi{\\left(t \\right)} \\right)} \\frac{d}{d t} \\varphi{\\left(t \\right)} + z_{cm} \\sin{\\left(\\theta{\\left(t \\right)} \\right)} \\cos{\\left(\\varphi{\\left(t \\right)} \\right)} \\frac{d}{d t} \\varphi{\\left(t \\right)} + z_{cm} \\sin{\\left(\\varphi{\\left(t \\right)} \\right)} \\cos{\\left(\\theta{\\left(t \\right)} \\right)} \\frac{d}{d t} \\theta{\\left(t \\right)} + \\frac{d}{d t} y{\\left(t \\right)}\\right)^{2} + \\left(\\frac{d_{w} \\left(\\omega_{l} + \\omega_{r}\\right) \\cos{\\left(\\varphi{\\left(t \\right)} \\right)}}{4} - x_{cm} \\sin{\\left(\\theta{\\left(t \\right)} \\right)} \\cos{\\left(\\varphi{\\left(t \\right)} \\right)} \\frac{d}{d t} \\theta{\\left(t \\right)} - x_{cm} \\sin{\\left(\\varphi{\\left(t \\right)} \\right)} \\cos{\\left(\\theta{\\left(t \\right)} \\right)} \\frac{d}{d t} \\varphi{\\left(t \\right)} - y_{cm} \\cos{\\left(\\varphi{\\left(t \\right)} \\right)} \\frac{d}{d t} \\varphi{\\left(t \\right)} - z_{cm} \\sin{\\left(\\theta{\\left(t \\right)} \\right)} \\sin{\\left(\\varphi{\\left(t \\right)} \\right)} \\frac{d}{d t} \\varphi{\\left(t \\right)} + z_{cm} \\cos{\\left(\\theta{\\left(t \\right)} \\right)} \\cos{\\left(\\varphi{\\left(t \\right)} \\right)} \\frac{d}{d t} \\theta{\\left(t \\right)} + \\frac{d}{d t} x{\\left(t \\right)}\\right)^{2}}$"
     },
     "metadata": {},
     "output_type": "display_data"
    }
   ],
   "execution_count": 23
  },
  {
   "metadata": {},
   "cell_type": "markdown",
   "source": "### Dynamic model"
  },
  {
   "metadata": {},
   "cell_type": "markdown",
   "source": [
    "#### Kinect energy of the body\n",
    "\n",
    "The kinect energy $ T $ in the cart-pole system is given by the sum of the kinect energies from:\n",
    "- translational velocity of the body,\n",
    "- angular velocity of the body due to $ \\frac{d}{dt} \\theta $,\n",
    "- angular velocity of the body in the x-y plane due to $ \\frac{d}{dt} \\varphi $, and\n",
    "- angular velocity of the wheels.\n",
    "\n",
    "Assuming the hypothesis $ \\frac{ 2 || \\dot{q}_c || }{ dw } \\gg \\dot{\\theta} $, then the kinetic energy from $ \\omega_l $ and $ \\omega_r $ can be simplified by removing the effect of $ \\dot{\\theta} $.\n",
    "This hypothesis is valid when $ \\dot{\\theta} \\approx 0 $ or $ \\dot{\\theta} \\approx \\omega_l + \\omega_r $.\n",
    "\n",
    "We assume that $ \\dot{\\theta} \\ll \\omega_l + \\omega_r $ iff $ \\dot{\\theta} \\approx 0 $.\n",
    "Therefore, we can add a correction term only for the case $ \\dot{\\theta} \\gg \\omega_l + \\omega_r $ by adding $ c_{\\theta} \\cdot 2 \\dot{\\theta} ^2 $."
   ]
  },
  {
   "metadata": {
    "ExecuteTime": {
     "end_time": "2025-08-06T19:36:59.698694Z",
     "start_time": "2025-08-06T19:36:04.765623Z"
    }
   },
   "cell_type": "code",
   "source": [
    "l_kinect = Lagrangian('T', t, cs_q)\n",
    "\n",
    "l_kinect.L = (\n",
    "        sp_half * m * p_center.Xd_norm ** 2\n",
    "        + sp_half * (Iz + m * ((xcm * sp.cos(cs_q.theta)) ** 2 + ycm ** 2 + (zcm * sp.sin(cs_q.theta)) ** 2)) * cs_q.phid ** 2\n",
    "        + sp_half * Ir * cs_q.thetad ** 2\n",
    "        + sp_half * Iw * ((fv_omega_l + cs_q.thetad) ** 2 + (fv_omega_r + cs_q.thetad) ** 2 + ct * 2 * cs_q.thetad ** 2)\n",
    ")\n",
    "\n",
    "# Lambdify\n",
    "fn_l_kinect = sp.lambdify(args + params, l_kinect.L)\n",
    "\n",
    "# Output\n",
    "l_kinect.L = sp.simplify(l_kinect.L)\n",
    "display(l_kinect.L)"
   ],
   "outputs": [
    {
     "data": {
      "text/plain": [
       "I_r*Derivative(\\theta(t), t)**2/2 + I_w*(2*c_{\\theta}*Derivative(\\theta(t), t)**2 + (\\omega_l + Derivative(\\theta(t), t))**2 + (\\omega_r + Derivative(\\theta(t), t))**2)/2 + m*(16*(x_{cm}*cos(\\theta(t))*Derivative(\\theta(t), t) + z_{cm}*sin(\\theta(t))*Derivative(\\theta(t), t) - Derivative(z(t), t))**2 + (d_w*(\\omega_l + \\omega_r)*sin(\\varphi(t)) - 4*x_{cm}*sin(\\theta(t))*sin(\\varphi(t))*Derivative(\\theta(t), t) + 4*x_{cm}*cos(\\theta(t))*cos(\\varphi(t))*Derivative(\\varphi(t), t) - 4*y_{cm}*sin(\\varphi(t))*Derivative(\\varphi(t), t) + 4*z_{cm}*sin(\\theta(t))*cos(\\varphi(t))*Derivative(\\varphi(t), t) + 4*z_{cm}*sin(\\varphi(t))*cos(\\theta(t))*Derivative(\\theta(t), t) + 4*Derivative(y(t), t))**2 + (-d_w*(\\omega_l + \\omega_r)*cos(\\varphi(t)) + 4*x_{cm}*sin(\\theta(t))*cos(\\varphi(t))*Derivative(\\theta(t), t) + 4*x_{cm}*sin(\\varphi(t))*cos(\\theta(t))*Derivative(\\varphi(t), t) + 4*y_{cm}*cos(\\varphi(t))*Derivative(\\varphi(t), t) + 4*z_{cm}*sin(\\theta(t))*sin(\\varphi(t))*Derivative(\\varphi(t), t) - 4*z_{cm}*cos(\\theta(t))*cos(\\varphi(t))*Derivative(\\theta(t), t) - 4*Derivative(x(t), t))**2)/32 + (I_z + m*(x_{cm}**2*cos(\\theta(t))**2 + y_{cm}**2 + z_{cm}**2*sin(\\theta(t))**2))*Derivative(\\varphi(t), t)**2/2"
      ],
      "text/latex": "$\\displaystyle \\frac{I_{r} \\left(\\frac{d}{d t} \\theta{\\left(t \\right)}\\right)^{2}}{2} + \\frac{I_{w} \\left(2 c_{\\theta} \\left(\\frac{d}{d t} \\theta{\\left(t \\right)}\\right)^{2} + \\left(\\omega_{l} + \\frac{d}{d t} \\theta{\\left(t \\right)}\\right)^{2} + \\left(\\omega_{r} + \\frac{d}{d t} \\theta{\\left(t \\right)}\\right)^{2}\\right)}{2} + \\frac{m \\left(16 \\left(x_{cm} \\cos{\\left(\\theta{\\left(t \\right)} \\right)} \\frac{d}{d t} \\theta{\\left(t \\right)} + z_{cm} \\sin{\\left(\\theta{\\left(t \\right)} \\right)} \\frac{d}{d t} \\theta{\\left(t \\right)} - \\frac{d}{d t} z{\\left(t \\right)}\\right)^{2} + \\left(d_{w} \\left(\\omega_{l} + \\omega_{r}\\right) \\sin{\\left(\\varphi{\\left(t \\right)} \\right)} - 4 x_{cm} \\sin{\\left(\\theta{\\left(t \\right)} \\right)} \\sin{\\left(\\varphi{\\left(t \\right)} \\right)} \\frac{d}{d t} \\theta{\\left(t \\right)} + 4 x_{cm} \\cos{\\left(\\theta{\\left(t \\right)} \\right)} \\cos{\\left(\\varphi{\\left(t \\right)} \\right)} \\frac{d}{d t} \\varphi{\\left(t \\right)} - 4 y_{cm} \\sin{\\left(\\varphi{\\left(t \\right)} \\right)} \\frac{d}{d t} \\varphi{\\left(t \\right)} + 4 z_{cm} \\sin{\\left(\\theta{\\left(t \\right)} \\right)} \\cos{\\left(\\varphi{\\left(t \\right)} \\right)} \\frac{d}{d t} \\varphi{\\left(t \\right)} + 4 z_{cm} \\sin{\\left(\\varphi{\\left(t \\right)} \\right)} \\cos{\\left(\\theta{\\left(t \\right)} \\right)} \\frac{d}{d t} \\theta{\\left(t \\right)} + 4 \\frac{d}{d t} y{\\left(t \\right)}\\right)^{2} + \\left(- d_{w} \\left(\\omega_{l} + \\omega_{r}\\right) \\cos{\\left(\\varphi{\\left(t \\right)} \\right)} + 4 x_{cm} \\sin{\\left(\\theta{\\left(t \\right)} \\right)} \\cos{\\left(\\varphi{\\left(t \\right)} \\right)} \\frac{d}{d t} \\theta{\\left(t \\right)} + 4 x_{cm} \\sin{\\left(\\varphi{\\left(t \\right)} \\right)} \\cos{\\left(\\theta{\\left(t \\right)} \\right)} \\frac{d}{d t} \\varphi{\\left(t \\right)} + 4 y_{cm} \\cos{\\left(\\varphi{\\left(t \\right)} \\right)} \\frac{d}{d t} \\varphi{\\left(t \\right)} + 4 z_{cm} \\sin{\\left(\\theta{\\left(t \\right)} \\right)} \\sin{\\left(\\varphi{\\left(t \\right)} \\right)} \\frac{d}{d t} \\varphi{\\left(t \\right)} - 4 z_{cm} \\cos{\\left(\\theta{\\left(t \\right)} \\right)} \\cos{\\left(\\varphi{\\left(t \\right)} \\right)} \\frac{d}{d t} \\theta{\\left(t \\right)} - 4 \\frac{d}{d t} x{\\left(t \\right)}\\right)^{2}\\right)}{32} + \\frac{\\left(I_{z} + m \\left(x_{cm}^{2} \\cos^{2}{\\left(\\theta{\\left(t \\right)} \\right)} + y_{cm}^{2} + z_{cm}^{2} \\sin^{2}{\\left(\\theta{\\left(t \\right)} \\right)}\\right)\\right) \\left(\\frac{d}{d t} \\varphi{\\left(t \\right)}\\right)^{2}}{2}$"
     },
     "metadata": {},
     "output_type": "display_data"
    }
   ],
   "execution_count": 24
  },
  {
   "metadata": {},
   "cell_type": "markdown",
   "source": [
    "#### Potential energy of the body\n",
    "\n",
    "The potential energy $ V $ in the cart-pole system is determined only by the gravitational potential energy."
   ]
  },
  {
   "metadata": {
    "ExecuteTime": {
     "end_time": "2025-08-06T19:36:59.989926Z",
     "start_time": "2025-08-06T19:36:59.829705Z"
    }
   },
   "cell_type": "code",
   "source": [
    "l_potential = Lagrangian('V', t, cs_q)\n",
    "\n",
    "l_potential.L = m * g * p_center.X.dot(sp.Matrix([0, 0, 1]))\n",
    "\n",
    "# Lambdify\n",
    "fn_l_potential = sp.lambdify(args + params, l_potential.L)\n",
    "\n",
    "# Output\n",
    "l_potential.L = sp.simplify(l_potential.L)\n",
    "display(l_potential.L)"
   ],
   "outputs": [
    {
     "data": {
      "text/plain": [
       "g*m*(-x_{cm}*sin(\\theta(t)) + z_{cm}*cos(\\theta(t)) + z(t))"
      ],
      "text/latex": "$\\displaystyle g m \\left(- x_{cm} \\sin{\\left(\\theta{\\left(t \\right)} \\right)} + z_{cm} \\cos{\\left(\\theta{\\left(t \\right)} \\right)} + z{\\left(t \\right)}\\right)$"
     },
     "metadata": {},
     "output_type": "display_data"
    }
   ],
   "execution_count": 25
  },
  {
   "metadata": {},
   "cell_type": "markdown",
   "source": [
    "#### Dissipation energy of the body\n",
    "\n",
    "To handle the effects of velocity-proportional frictional forces in the axle and ground-wheel contact, the $ D_a $ and $ D_w $ Rayleigh dissipation functions are used, respectively.\n",
    "\n",
    "$$ D_a = \\frac{1}{2} b_a \\left( \\omega_l^2 + \\omega_r^2 \\right) $$\n",
    "\n",
    "$$ D_w = \\frac{1}{2} b_w \\left( || \\dot{q}_{w,l} ||^2 + || \\dot{q}_{w,r} ||^2 \\right) $$\n",
    "\n",
    "The total dissipation from velocity-proportional frictional forces is given by\n",
    "\n",
    "$$ D = D_a + D_w $$"
   ]
  },
  {
   "metadata": {
    "ExecuteTime": {
     "end_time": "2025-08-06T19:37:00.027910Z",
     "start_time": "2025-08-06T19:37:00.004706Z"
    }
   },
   "cell_type": "code",
   "source": [
    "l_diss_axle = Lagrangian('D,a', t, cs_q)\n",
    "\n",
    "l_diss_axle.L = sp_half * ba * (fv_omega_l ** 2 + fv_omega_r ** 2)\n",
    "\n",
    "# Output\n",
    "l_diss_axle.L = sp.simplify(l_diss_axle.L)\n",
    "display(l_diss_axle.L)"
   ],
   "outputs": [
    {
     "data": {
      "text/plain": [
       "b_a*(\\omega_l**2 + \\omega_r**2)/2"
      ],
      "text/latex": "$\\displaystyle \\frac{b_{a} \\left(\\omega_{l}^{2} + \\omega_{r}^{2}\\right)}{2}$"
     },
     "metadata": {},
     "output_type": "display_data"
    }
   ],
   "execution_count": 26
  },
  {
   "metadata": {
    "ExecuteTime": {
     "end_time": "2025-08-06T19:37:00.454995Z",
     "start_time": "2025-08-06T19:37:00.059343Z"
    }
   },
   "cell_type": "code",
   "source": [
    "l_diss_wheels = Lagrangian('D,w', t, cs_q)\n",
    "\n",
    "l_diss_wheels.L = sp_half * bw * (p_whl.Xd_norm ** 2 + p_whr.Xd_norm ** 2)\n",
    "\n",
    "# Output\n",
    "l_diss_wheels.L = sp.simplify(l_diss_wheels.L)\n",
    "display(l_diss_wheels.L)"
   ],
   "outputs": [
    {
     "data": {
      "text/plain": [
       "b_w*(\\omega_l**2*d_w**2 + 2*\\omega_l*d_w**2*Derivative(\\theta(t), t) + \\omega_r**2*d_w**2 + 2*\\omega_r*d_w**2*Derivative(\\theta(t), t) + 2*d_w**2*Derivative(\\theta(t), t)**2 + 8*Derivative(z(t), t)**2)/8"
      ],
      "text/latex": "$\\displaystyle \\frac{b_{w} \\left(\\omega_{l}^{2} d_{w}^{2} + 2 \\omega_{l} d_{w}^{2} \\frac{d}{d t} \\theta{\\left(t \\right)} + \\omega_{r}^{2} d_{w}^{2} + 2 \\omega_{r} d_{w}^{2} \\frac{d}{d t} \\theta{\\left(t \\right)} + 2 d_{w}^{2} \\left(\\frac{d}{d t} \\theta{\\left(t \\right)}\\right)^{2} + 8 \\left(\\frac{d}{d t} z{\\left(t \\right)}\\right)^{2}\\right)}{8}$"
     },
     "metadata": {},
     "output_type": "display_data"
    }
   ],
   "execution_count": 27
  },
  {
   "metadata": {
    "ExecuteTime": {
     "end_time": "2025-08-06T19:37:00.600674Z",
     "start_time": "2025-08-06T19:37:00.471051Z"
    }
   },
   "cell_type": "code",
   "source": [
    "l_diss = Lagrangian('D', t, cs_q)\n",
    "\n",
    "l_diss = l_diss_axle + l_diss_wheels\n",
    "\n",
    "# Output\n",
    "l_diss.L = sp.simplify(l_diss.L)\n",
    "display(l_diss.L)"
   ],
   "outputs": [
    {
     "data": {
      "text/plain": [
       "b_a*(\\omega_l**2 + \\omega_r**2)/2 + b_w*(\\omega_l**2*d_w**2 + 2*\\omega_l*d_w**2*Derivative(\\theta(t), t) + \\omega_r**2*d_w**2 + 2*\\omega_r*d_w**2*Derivative(\\theta(t), t) + 2*d_w**2*Derivative(\\theta(t), t)**2 + 8*Derivative(z(t), t)**2)/8"
      ],
      "text/latex": "$\\displaystyle \\frac{b_{a} \\left(\\omega_{l}^{2} + \\omega_{r}^{2}\\right)}{2} + \\frac{b_{w} \\left(\\omega_{l}^{2} d_{w}^{2} + 2 \\omega_{l} d_{w}^{2} \\frac{d}{d t} \\theta{\\left(t \\right)} + \\omega_{r}^{2} d_{w}^{2} + 2 \\omega_{r} d_{w}^{2} \\frac{d}{d t} \\theta{\\left(t \\right)} + 2 d_{w}^{2} \\left(\\frac{d}{d t} \\theta{\\left(t \\right)}\\right)^{2} + 8 \\left(\\frac{d}{d t} z{\\left(t \\right)}\\right)^{2}\\right)}{8}$"
     },
     "metadata": {},
     "output_type": "display_data"
    }
   ],
   "execution_count": 28
  },
  {
   "metadata": {},
   "cell_type": "markdown",
   "source": [
    "#### External forces\n",
    "\n",
    "The external force from the air drag $ E_d $ that executes the work $ W_d $ is taken as the only external force in the cart-pole system, with total work done $ W $.\n",
    "\n",
    "Assuming the hypothesis of the air relative velocity being small, we can take the first-order approximation $ x^2 \\approx x $ to avoid some non-linear terms and expensive square root computations."
   ]
  },
  {
   "metadata": {
    "ExecuteTime": {
     "end_time": "2025-08-06T19:37:00.619533Z",
     "start_time": "2025-08-06T19:37:00.606996Z"
    }
   },
   "cell_type": "code",
   "source": [
    "Xair_dot = p_center.Xd + zcm * cs_q.thetad * sp.Matrix([sp.sin(cs_q.theta) * sp.cos(cs_q.phi), sp.sin(cs_q.theta) * sp.sin(cs_q.phi), sp.cos(cs_q.theta)])\n",
    "Ed = - sp_half * rho * bd * Xair_dot\n",
    "\n",
    "# Output\n",
    "display(Ed)"
   ],
   "outputs": [
    {
     "data": {
      "text/plain": [
       "Matrix([\n",
       "[-\\rho*b_d*(d_w*(\\omega_l + \\omega_r)*cos(\\varphi(t))/4 - x_{cm}*sin(\\theta(t))*cos(\\varphi(t))*Derivative(\\theta(t), t) - x_{cm}*sin(\\varphi(t))*cos(\\theta(t))*Derivative(\\varphi(t), t) - y_{cm}*cos(\\varphi(t))*Derivative(\\varphi(t), t) - z_{cm}*sin(\\theta(t))*sin(\\varphi(t))*Derivative(\\varphi(t), t) + z_{cm}*sin(\\theta(t))*cos(\\varphi(t))*Derivative(\\theta(t), t) + z_{cm}*cos(\\theta(t))*cos(\\varphi(t))*Derivative(\\theta(t), t) + Derivative(x(t), t))/2],\n",
       "[-\\rho*b_d*(d_w*(\\omega_l + \\omega_r)*sin(\\varphi(t))/4 - x_{cm}*sin(\\theta(t))*sin(\\varphi(t))*Derivative(\\theta(t), t) + x_{cm}*cos(\\theta(t))*cos(\\varphi(t))*Derivative(\\varphi(t), t) - y_{cm}*sin(\\varphi(t))*Derivative(\\varphi(t), t) + z_{cm}*sin(\\theta(t))*sin(\\varphi(t))*Derivative(\\theta(t), t) + z_{cm}*sin(\\theta(t))*cos(\\varphi(t))*Derivative(\\varphi(t), t) + z_{cm}*sin(\\varphi(t))*cos(\\theta(t))*Derivative(\\theta(t), t) + Derivative(y(t), t))/2],\n",
       "[                                                                                                                                                                                                                                                                                    -\\rho*b_d*(-x_{cm}*cos(\\theta(t))*Derivative(\\theta(t), t) - z_{cm}*sin(\\theta(t))*Derivative(\\theta(t), t) + z_{cm}*cos(\\theta(t))*Derivative(\\theta(t), t) + Derivative(z(t), t))/2]])"
      ],
      "text/latex": "$\\displaystyle \\left[\\begin{matrix}- \\frac{\\rho b_{d} \\left(\\frac{d_{w} \\left(\\omega_{l} + \\omega_{r}\\right) \\cos{\\left(\\varphi{\\left(t \\right)} \\right)}}{4} - x_{cm} \\sin{\\left(\\theta{\\left(t \\right)} \\right)} \\cos{\\left(\\varphi{\\left(t \\right)} \\right)} \\frac{d}{d t} \\theta{\\left(t \\right)} - x_{cm} \\sin{\\left(\\varphi{\\left(t \\right)} \\right)} \\cos{\\left(\\theta{\\left(t \\right)} \\right)} \\frac{d}{d t} \\varphi{\\left(t \\right)} - y_{cm} \\cos{\\left(\\varphi{\\left(t \\right)} \\right)} \\frac{d}{d t} \\varphi{\\left(t \\right)} - z_{cm} \\sin{\\left(\\theta{\\left(t \\right)} \\right)} \\sin{\\left(\\varphi{\\left(t \\right)} \\right)} \\frac{d}{d t} \\varphi{\\left(t \\right)} + z_{cm} \\sin{\\left(\\theta{\\left(t \\right)} \\right)} \\cos{\\left(\\varphi{\\left(t \\right)} \\right)} \\frac{d}{d t} \\theta{\\left(t \\right)} + z_{cm} \\cos{\\left(\\theta{\\left(t \\right)} \\right)} \\cos{\\left(\\varphi{\\left(t \\right)} \\right)} \\frac{d}{d t} \\theta{\\left(t \\right)} + \\frac{d}{d t} x{\\left(t \\right)}\\right)}{2}\\\\- \\frac{\\rho b_{d} \\left(\\frac{d_{w} \\left(\\omega_{l} + \\omega_{r}\\right) \\sin{\\left(\\varphi{\\left(t \\right)} \\right)}}{4} - x_{cm} \\sin{\\left(\\theta{\\left(t \\right)} \\right)} \\sin{\\left(\\varphi{\\left(t \\right)} \\right)} \\frac{d}{d t} \\theta{\\left(t \\right)} + x_{cm} \\cos{\\left(\\theta{\\left(t \\right)} \\right)} \\cos{\\left(\\varphi{\\left(t \\right)} \\right)} \\frac{d}{d t} \\varphi{\\left(t \\right)} - y_{cm} \\sin{\\left(\\varphi{\\left(t \\right)} \\right)} \\frac{d}{d t} \\varphi{\\left(t \\right)} + z_{cm} \\sin{\\left(\\theta{\\left(t \\right)} \\right)} \\sin{\\left(\\varphi{\\left(t \\right)} \\right)} \\frac{d}{d t} \\theta{\\left(t \\right)} + z_{cm} \\sin{\\left(\\theta{\\left(t \\right)} \\right)} \\cos{\\left(\\varphi{\\left(t \\right)} \\right)} \\frac{d}{d t} \\varphi{\\left(t \\right)} + z_{cm} \\sin{\\left(\\varphi{\\left(t \\right)} \\right)} \\cos{\\left(\\theta{\\left(t \\right)} \\right)} \\frac{d}{d t} \\theta{\\left(t \\right)} + \\frac{d}{d t} y{\\left(t \\right)}\\right)}{2}\\\\- \\frac{\\rho b_{d} \\left(- x_{cm} \\cos{\\left(\\theta{\\left(t \\right)} \\right)} \\frac{d}{d t} \\theta{\\left(t \\right)} - z_{cm} \\sin{\\left(\\theta{\\left(t \\right)} \\right)} \\frac{d}{d t} \\theta{\\left(t \\right)} + z_{cm} \\cos{\\left(\\theta{\\left(t \\right)} \\right)} \\frac{d}{d t} \\theta{\\left(t \\right)} + \\frac{d}{d t} z{\\left(t \\right)}\\right)}{2}\\end{matrix}\\right]$"
     },
     "metadata": {},
     "output_type": "display_data"
    }
   ],
   "execution_count": 29
  },
  {
   "metadata": {
    "ExecuteTime": {
     "end_time": "2025-08-06T19:37:05.571249Z",
     "start_time": "2025-08-06T19:37:00.665864Z"
    }
   },
   "cell_type": "code",
   "source": [
    "Wd_dq = sp.Matrix([Ed.dot(p_center.X.diff(qi)) for qi in cs_q.Q])\n",
    "\n",
    "# Output\n",
    "Wd_dq = sp.simplify(Wd_dq)\n",
    "display(Wd_dq)"
   ],
   "outputs": [
    {
     "data": {
      "text/plain": [
       "Matrix([\n",
       "[                                                                                                                                                                                                                                                                                                                                                                                                                                                                                                                                                                                                                                   -\\rho*b_d*(\\omega_l*d_w*cos(\\varphi(t)) + \\omega_r*d_w*cos(\\varphi(t)) - 4*x_{cm}*sin(\\theta(t))*cos(\\varphi(t))*Derivative(\\theta(t), t) - 4*x_{cm}*sin(\\varphi(t))*cos(\\theta(t))*Derivative(\\varphi(t), t) - 4*y_{cm}*cos(\\varphi(t))*Derivative(\\varphi(t), t) + 4*sqrt(2)*z_{cm}*sin(\\theta(t) + pi/4)*cos(\\varphi(t))*Derivative(\\theta(t), t) - 4*z_{cm}*sin(\\theta(t))*sin(\\varphi(t))*Derivative(\\varphi(t), t) + 4*Derivative(x(t), t))/8],\n",
       "[                                                                                                                                                                                                                                                                                                                                                                                                                                                                                                                                                                                                                                   -\\rho*b_d*(\\omega_l*d_w*sin(\\varphi(t)) + \\omega_r*d_w*sin(\\varphi(t)) - 4*x_{cm}*sin(\\theta(t))*sin(\\varphi(t))*Derivative(\\theta(t), t) + 4*x_{cm}*cos(\\theta(t))*cos(\\varphi(t))*Derivative(\\varphi(t), t) - 4*y_{cm}*sin(\\varphi(t))*Derivative(\\varphi(t), t) + 4*sqrt(2)*z_{cm}*sin(\\theta(t) + pi/4)*sin(\\varphi(t))*Derivative(\\theta(t), t) + 4*z_{cm}*sin(\\theta(t))*cos(\\varphi(t))*Derivative(\\varphi(t), t) + 4*Derivative(y(t), t))/8],\n",
       "[                                                                                                                                                                                                                                                                                                                                                                                                                                                                                                                                                                                                                                                                                                                                                                                                                                                                                                                                     \\rho*b_d*(x_{cm}*cos(\\theta(t))*Derivative(\\theta(t), t) - sqrt(2)*z_{cm}*cos(\\theta(t) + pi/4)*Derivative(\\theta(t), t) - Derivative(z(t), t))/2],\n",
       "[                                                                                                                                                                                                                                                                                                                     \\rho*b_d*(\\omega_l*d_w*x_{cm}*sin(\\theta(t)) - \\omega_l*d_w*z_{cm}*cos(\\theta(t)) + \\omega_r*d_w*x_{cm}*sin(\\theta(t)) - \\omega_r*d_w*z_{cm}*cos(\\theta(t)) - 4*x_{cm}**2*Derivative(\\theta(t), t) - 4*x_{cm}*y_{cm}*sin(\\theta(t))*Derivative(\\varphi(t), t) + 4*x_{cm}*z_{cm}*Derivative(\\theta(t), t) + 4*x_{cm}*sin(\\theta(t))*sin(\\varphi(t))*Derivative(y(t), t) + 4*x_{cm}*sin(\\theta(t))*cos(\\varphi(t))*Derivative(x(t), t) + 4*x_{cm}*cos(\\theta(t))*Derivative(z(t), t) + 4*y_{cm}*z_{cm}*cos(\\theta(t))*Derivative(\\varphi(t), t) - 4*z_{cm}**2*Derivative(\\theta(t), t) + 4*z_{cm}*sin(\\theta(t))*Derivative(z(t), t) - 4*z_{cm}*sin(\\varphi(t))*cos(\\theta(t))*Derivative(y(t), t) - 4*z_{cm}*cos(\\theta(t))*cos(\\varphi(t))*Derivative(x(t), t))/8],\n",
       "[\\rho*b_d*(\\omega_l*d_w*y_{cm} + \\omega_r*d_w*y_{cm} - 2*x_{cm}**2*cos(2*\\theta(t))*Derivative(\\varphi(t), t) - 2*x_{cm}**2*Derivative(\\varphi(t), t) - 4*x_{cm}*y_{cm}*sin(\\theta(t))*Derivative(\\theta(t), t) - 4*x_{cm}*z_{cm}*sin(2*\\theta(t))*Derivative(\\varphi(t), t) - 2*x_{cm}*sin(\\theta(t) - \\varphi(t))*Derivative(x(t), t) + 2*x_{cm}*sin(\\theta(t) + \\varphi(t))*Derivative(x(t), t) - 2*x_{cm}*cos(\\theta(t) - \\varphi(t))*Derivative(y(t), t) - 2*x_{cm}*cos(\\theta(t) + \\varphi(t))*Derivative(y(t), t) - 4*y_{cm}**2*Derivative(\\varphi(t), t) + 4*sqrt(2)*y_{cm}*z_{cm}*sin(\\theta(t) + pi/4)*Derivative(\\theta(t), t) + 4*y_{cm}*sin(\\varphi(t))*Derivative(y(t), t) + 4*y_{cm}*cos(\\varphi(t))*Derivative(x(t), t) + 2*z_{cm}**2*cos(2*\\theta(t))*Derivative(\\varphi(t), t) - 2*z_{cm}**2*Derivative(\\varphi(t), t) - 2*z_{cm}*sin(\\theta(t) - \\varphi(t))*Derivative(y(t), t) - 2*z_{cm}*sin(\\theta(t) + \\varphi(t))*Derivative(y(t), t) + 2*z_{cm}*cos(\\theta(t) - \\varphi(t))*Derivative(x(t), t) - 2*z_{cm}*cos(\\theta(t) + \\varphi(t))*Derivative(x(t), t))/8]])"
      ],
      "text/latex": "$\\displaystyle \\left[\\begin{matrix}- \\frac{\\rho b_{d} \\left(\\omega_{l} d_{w} \\cos{\\left(\\varphi{\\left(t \\right)} \\right)} + \\omega_{r} d_{w} \\cos{\\left(\\varphi{\\left(t \\right)} \\right)} - 4 x_{cm} \\sin{\\left(\\theta{\\left(t \\right)} \\right)} \\cos{\\left(\\varphi{\\left(t \\right)} \\right)} \\frac{d}{d t} \\theta{\\left(t \\right)} - 4 x_{cm} \\sin{\\left(\\varphi{\\left(t \\right)} \\right)} \\cos{\\left(\\theta{\\left(t \\right)} \\right)} \\frac{d}{d t} \\varphi{\\left(t \\right)} - 4 y_{cm} \\cos{\\left(\\varphi{\\left(t \\right)} \\right)} \\frac{d}{d t} \\varphi{\\left(t \\right)} + 4 \\sqrt{2} z_{cm} \\sin{\\left(\\theta{\\left(t \\right)} + \\frac{\\pi}{4} \\right)} \\cos{\\left(\\varphi{\\left(t \\right)} \\right)} \\frac{d}{d t} \\theta{\\left(t \\right)} - 4 z_{cm} \\sin{\\left(\\theta{\\left(t \\right)} \\right)} \\sin{\\left(\\varphi{\\left(t \\right)} \\right)} \\frac{d}{d t} \\varphi{\\left(t \\right)} + 4 \\frac{d}{d t} x{\\left(t \\right)}\\right)}{8}\\\\- \\frac{\\rho b_{d} \\left(\\omega_{l} d_{w} \\sin{\\left(\\varphi{\\left(t \\right)} \\right)} + \\omega_{r} d_{w} \\sin{\\left(\\varphi{\\left(t \\right)} \\right)} - 4 x_{cm} \\sin{\\left(\\theta{\\left(t \\right)} \\right)} \\sin{\\left(\\varphi{\\left(t \\right)} \\right)} \\frac{d}{d t} \\theta{\\left(t \\right)} + 4 x_{cm} \\cos{\\left(\\theta{\\left(t \\right)} \\right)} \\cos{\\left(\\varphi{\\left(t \\right)} \\right)} \\frac{d}{d t} \\varphi{\\left(t \\right)} - 4 y_{cm} \\sin{\\left(\\varphi{\\left(t \\right)} \\right)} \\frac{d}{d t} \\varphi{\\left(t \\right)} + 4 \\sqrt{2} z_{cm} \\sin{\\left(\\theta{\\left(t \\right)} + \\frac{\\pi}{4} \\right)} \\sin{\\left(\\varphi{\\left(t \\right)} \\right)} \\frac{d}{d t} \\theta{\\left(t \\right)} + 4 z_{cm} \\sin{\\left(\\theta{\\left(t \\right)} \\right)} \\cos{\\left(\\varphi{\\left(t \\right)} \\right)} \\frac{d}{d t} \\varphi{\\left(t \\right)} + 4 \\frac{d}{d t} y{\\left(t \\right)}\\right)}{8}\\\\\\frac{\\rho b_{d} \\left(x_{cm} \\cos{\\left(\\theta{\\left(t \\right)} \\right)} \\frac{d}{d t} \\theta{\\left(t \\right)} - \\sqrt{2} z_{cm} \\cos{\\left(\\theta{\\left(t \\right)} + \\frac{\\pi}{4} \\right)} \\frac{d}{d t} \\theta{\\left(t \\right)} - \\frac{d}{d t} z{\\left(t \\right)}\\right)}{2}\\\\\\frac{\\rho b_{d} \\left(\\omega_{l} d_{w} x_{cm} \\sin{\\left(\\theta{\\left(t \\right)} \\right)} - \\omega_{l} d_{w} z_{cm} \\cos{\\left(\\theta{\\left(t \\right)} \\right)} + \\omega_{r} d_{w} x_{cm} \\sin{\\left(\\theta{\\left(t \\right)} \\right)} - \\omega_{r} d_{w} z_{cm} \\cos{\\left(\\theta{\\left(t \\right)} \\right)} - 4 x_{cm}^{2} \\frac{d}{d t} \\theta{\\left(t \\right)} - 4 x_{cm} y_{cm} \\sin{\\left(\\theta{\\left(t \\right)} \\right)} \\frac{d}{d t} \\varphi{\\left(t \\right)} + 4 x_{cm} z_{cm} \\frac{d}{d t} \\theta{\\left(t \\right)} + 4 x_{cm} \\sin{\\left(\\theta{\\left(t \\right)} \\right)} \\sin{\\left(\\varphi{\\left(t \\right)} \\right)} \\frac{d}{d t} y{\\left(t \\right)} + 4 x_{cm} \\sin{\\left(\\theta{\\left(t \\right)} \\right)} \\cos{\\left(\\varphi{\\left(t \\right)} \\right)} \\frac{d}{d t} x{\\left(t \\right)} + 4 x_{cm} \\cos{\\left(\\theta{\\left(t \\right)} \\right)} \\frac{d}{d t} z{\\left(t \\right)} + 4 y_{cm} z_{cm} \\cos{\\left(\\theta{\\left(t \\right)} \\right)} \\frac{d}{d t} \\varphi{\\left(t \\right)} - 4 z_{cm}^{2} \\frac{d}{d t} \\theta{\\left(t \\right)} + 4 z_{cm} \\sin{\\left(\\theta{\\left(t \\right)} \\right)} \\frac{d}{d t} z{\\left(t \\right)} - 4 z_{cm} \\sin{\\left(\\varphi{\\left(t \\right)} \\right)} \\cos{\\left(\\theta{\\left(t \\right)} \\right)} \\frac{d}{d t} y{\\left(t \\right)} - 4 z_{cm} \\cos{\\left(\\theta{\\left(t \\right)} \\right)} \\cos{\\left(\\varphi{\\left(t \\right)} \\right)} \\frac{d}{d t} x{\\left(t \\right)}\\right)}{8}\\\\\\frac{\\rho b_{d} \\left(\\omega_{l} d_{w} y_{cm} + \\omega_{r} d_{w} y_{cm} - 2 x_{cm}^{2} \\cos{\\left(2 \\theta{\\left(t \\right)} \\right)} \\frac{d}{d t} \\varphi{\\left(t \\right)} - 2 x_{cm}^{2} \\frac{d}{d t} \\varphi{\\left(t \\right)} - 4 x_{cm} y_{cm} \\sin{\\left(\\theta{\\left(t \\right)} \\right)} \\frac{d}{d t} \\theta{\\left(t \\right)} - 4 x_{cm} z_{cm} \\sin{\\left(2 \\theta{\\left(t \\right)} \\right)} \\frac{d}{d t} \\varphi{\\left(t \\right)} - 2 x_{cm} \\sin{\\left(\\theta{\\left(t \\right)} - \\varphi{\\left(t \\right)} \\right)} \\frac{d}{d t} x{\\left(t \\right)} + 2 x_{cm} \\sin{\\left(\\theta{\\left(t \\right)} + \\varphi{\\left(t \\right)} \\right)} \\frac{d}{d t} x{\\left(t \\right)} - 2 x_{cm} \\cos{\\left(\\theta{\\left(t \\right)} - \\varphi{\\left(t \\right)} \\right)} \\frac{d}{d t} y{\\left(t \\right)} - 2 x_{cm} \\cos{\\left(\\theta{\\left(t \\right)} + \\varphi{\\left(t \\right)} \\right)} \\frac{d}{d t} y{\\left(t \\right)} - 4 y_{cm}^{2} \\frac{d}{d t} \\varphi{\\left(t \\right)} + 4 \\sqrt{2} y_{cm} z_{cm} \\sin{\\left(\\theta{\\left(t \\right)} + \\frac{\\pi}{4} \\right)} \\frac{d}{d t} \\theta{\\left(t \\right)} + 4 y_{cm} \\sin{\\left(\\varphi{\\left(t \\right)} \\right)} \\frac{d}{d t} y{\\left(t \\right)} + 4 y_{cm} \\cos{\\left(\\varphi{\\left(t \\right)} \\right)} \\frac{d}{d t} x{\\left(t \\right)} + 2 z_{cm}^{2} \\cos{\\left(2 \\theta{\\left(t \\right)} \\right)} \\frac{d}{d t} \\varphi{\\left(t \\right)} - 2 z_{cm}^{2} \\frac{d}{d t} \\varphi{\\left(t \\right)} - 2 z_{cm} \\sin{\\left(\\theta{\\left(t \\right)} - \\varphi{\\left(t \\right)} \\right)} \\frac{d}{d t} y{\\left(t \\right)} - 2 z_{cm} \\sin{\\left(\\theta{\\left(t \\right)} + \\varphi{\\left(t \\right)} \\right)} \\frac{d}{d t} y{\\left(t \\right)} + 2 z_{cm} \\cos{\\left(\\theta{\\left(t \\right)} - \\varphi{\\left(t \\right)} \\right)} \\frac{d}{d t} x{\\left(t \\right)} - 2 z_{cm} \\cos{\\left(\\theta{\\left(t \\right)} + \\varphi{\\left(t \\right)} \\right)} \\frac{d}{d t} x{\\left(t \\right)}\\right)}{8}\\end{matrix}\\right]$"
     },
     "metadata": {},
     "output_type": "display_data"
    }
   ],
   "execution_count": 30
  },
  {
   "metadata": {
    "ExecuteTime": {
     "end_time": "2025-08-06T19:37:08.620074Z",
     "start_time": "2025-08-06T19:37:05.673145Z"
    }
   },
   "cell_type": "code",
   "source": [
    "W_dq = Wd_dq\n",
    "\n",
    "# Output\n",
    "W_dq = sp.simplify(W_dq)\n",
    "display(W_dq)"
   ],
   "outputs": [
    {
     "data": {
      "text/plain": [
       "Matrix([\n",
       "[                                                                                                                                                                                                                                                                                                                                                                                                                                                                                                                                                                                                                                     -\\rho*b_d*(\\omega_l*d_w*cos(\\varphi(t)) + \\omega_r*d_w*cos(\\varphi(t)) - 4*x_{cm}*sin(\\theta(t))*cos(\\varphi(t))*Derivative(\\theta(t), t) - 4*x_{cm}*sin(\\varphi(t))*cos(\\theta(t))*Derivative(\\varphi(t), t) - 4*y_{cm}*cos(\\varphi(t))*Derivative(\\varphi(t), t) + 4*sqrt(2)*z_{cm}*sin(\\theta(t) + pi/4)*cos(\\varphi(t))*Derivative(\\theta(t), t) - 4*z_{cm}*sin(\\theta(t))*sin(\\varphi(t))*Derivative(\\varphi(t), t) + 4*Derivative(x(t), t))/8],\n",
       "[                                                                                                                                                                                                                                                                                                                                                                                                                                                                                                                                                                                                                                     -\\rho*b_d*(\\omega_l*d_w*sin(\\varphi(t)) + \\omega_r*d_w*sin(\\varphi(t)) - 4*x_{cm}*sin(\\theta(t))*sin(\\varphi(t))*Derivative(\\theta(t), t) + 4*x_{cm}*cos(\\theta(t))*cos(\\varphi(t))*Derivative(\\varphi(t), t) - 4*y_{cm}*sin(\\varphi(t))*Derivative(\\varphi(t), t) + 4*sqrt(2)*z_{cm}*sin(\\theta(t) + pi/4)*sin(\\varphi(t))*Derivative(\\theta(t), t) + 4*z_{cm}*sin(\\theta(t))*cos(\\varphi(t))*Derivative(\\varphi(t), t) + 4*Derivative(y(t), t))/8],\n",
       "[                                                                                                                                                                                                                                                                                                                                                                                                                                                                                                                                                                                                                                                                                                                                                                                                                                                                                                                                     -\\rho*b_d*(-x_{cm}*cos(\\theta(t))*Derivative(\\theta(t), t) + sqrt(2)*z_{cm}*cos(\\theta(t) + pi/4)*Derivative(\\theta(t), t) + Derivative(z(t), t))/2],\n",
       "[                                                                                                                                                                                                                                                                                                                       \\rho*b_d*(\\omega_l*d_w*x_{cm}*sin(\\theta(t)) - \\omega_l*d_w*z_{cm}*cos(\\theta(t)) + \\omega_r*d_w*x_{cm}*sin(\\theta(t)) - \\omega_r*d_w*z_{cm}*cos(\\theta(t)) - 4*x_{cm}**2*Derivative(\\theta(t), t) - 4*x_{cm}*y_{cm}*sin(\\theta(t))*Derivative(\\varphi(t), t) + 4*x_{cm}*z_{cm}*Derivative(\\theta(t), t) + 4*x_{cm}*sin(\\theta(t))*sin(\\varphi(t))*Derivative(y(t), t) + 4*x_{cm}*sin(\\theta(t))*cos(\\varphi(t))*Derivative(x(t), t) + 4*x_{cm}*cos(\\theta(t))*Derivative(z(t), t) + 4*y_{cm}*z_{cm}*cos(\\theta(t))*Derivative(\\varphi(t), t) - 4*z_{cm}**2*Derivative(\\theta(t), t) + 4*z_{cm}*sin(\\theta(t))*Derivative(z(t), t) - 4*z_{cm}*sin(\\varphi(t))*cos(\\theta(t))*Derivative(y(t), t) - 4*z_{cm}*cos(\\theta(t))*cos(\\varphi(t))*Derivative(x(t), t))/8],\n",
       "[-\\rho*b_d*(-\\omega_l*d_w*y_{cm} - \\omega_r*d_w*y_{cm} + 2*x_{cm}**2*cos(2*\\theta(t))*Derivative(\\varphi(t), t) + 2*x_{cm}**2*Derivative(\\varphi(t), t) + 4*x_{cm}*y_{cm}*sin(\\theta(t))*Derivative(\\theta(t), t) + 4*x_{cm}*z_{cm}*sin(2*\\theta(t))*Derivative(\\varphi(t), t) + 2*x_{cm}*sin(\\theta(t) - \\varphi(t))*Derivative(x(t), t) - 2*x_{cm}*sin(\\theta(t) + \\varphi(t))*Derivative(x(t), t) + 2*x_{cm}*cos(\\theta(t) - \\varphi(t))*Derivative(y(t), t) + 2*x_{cm}*cos(\\theta(t) + \\varphi(t))*Derivative(y(t), t) + 4*y_{cm}**2*Derivative(\\varphi(t), t) - 4*sqrt(2)*y_{cm}*z_{cm}*sin(\\theta(t) + pi/4)*Derivative(\\theta(t), t) - 4*y_{cm}*sin(\\varphi(t))*Derivative(y(t), t) - 4*y_{cm}*cos(\\varphi(t))*Derivative(x(t), t) - 2*z_{cm}**2*cos(2*\\theta(t))*Derivative(\\varphi(t), t) + 2*z_{cm}**2*Derivative(\\varphi(t), t) + 2*z_{cm}*sin(\\theta(t) - \\varphi(t))*Derivative(y(t), t) + 2*z_{cm}*sin(\\theta(t) + \\varphi(t))*Derivative(y(t), t) - 2*z_{cm}*cos(\\theta(t) - \\varphi(t))*Derivative(x(t), t) + 2*z_{cm}*cos(\\theta(t) + \\varphi(t))*Derivative(x(t), t))/8]])"
      ],
      "text/latex": "$\\displaystyle \\left[\\begin{matrix}- \\frac{\\rho b_{d} \\left(\\omega_{l} d_{w} \\cos{\\left(\\varphi{\\left(t \\right)} \\right)} + \\omega_{r} d_{w} \\cos{\\left(\\varphi{\\left(t \\right)} \\right)} - 4 x_{cm} \\sin{\\left(\\theta{\\left(t \\right)} \\right)} \\cos{\\left(\\varphi{\\left(t \\right)} \\right)} \\frac{d}{d t} \\theta{\\left(t \\right)} - 4 x_{cm} \\sin{\\left(\\varphi{\\left(t \\right)} \\right)} \\cos{\\left(\\theta{\\left(t \\right)} \\right)} \\frac{d}{d t} \\varphi{\\left(t \\right)} - 4 y_{cm} \\cos{\\left(\\varphi{\\left(t \\right)} \\right)} \\frac{d}{d t} \\varphi{\\left(t \\right)} + 4 \\sqrt{2} z_{cm} \\sin{\\left(\\theta{\\left(t \\right)} + \\frac{\\pi}{4} \\right)} \\cos{\\left(\\varphi{\\left(t \\right)} \\right)} \\frac{d}{d t} \\theta{\\left(t \\right)} - 4 z_{cm} \\sin{\\left(\\theta{\\left(t \\right)} \\right)} \\sin{\\left(\\varphi{\\left(t \\right)} \\right)} \\frac{d}{d t} \\varphi{\\left(t \\right)} + 4 \\frac{d}{d t} x{\\left(t \\right)}\\right)}{8}\\\\- \\frac{\\rho b_{d} \\left(\\omega_{l} d_{w} \\sin{\\left(\\varphi{\\left(t \\right)} \\right)} + \\omega_{r} d_{w} \\sin{\\left(\\varphi{\\left(t \\right)} \\right)} - 4 x_{cm} \\sin{\\left(\\theta{\\left(t \\right)} \\right)} \\sin{\\left(\\varphi{\\left(t \\right)} \\right)} \\frac{d}{d t} \\theta{\\left(t \\right)} + 4 x_{cm} \\cos{\\left(\\theta{\\left(t \\right)} \\right)} \\cos{\\left(\\varphi{\\left(t \\right)} \\right)} \\frac{d}{d t} \\varphi{\\left(t \\right)} - 4 y_{cm} \\sin{\\left(\\varphi{\\left(t \\right)} \\right)} \\frac{d}{d t} \\varphi{\\left(t \\right)} + 4 \\sqrt{2} z_{cm} \\sin{\\left(\\theta{\\left(t \\right)} + \\frac{\\pi}{4} \\right)} \\sin{\\left(\\varphi{\\left(t \\right)} \\right)} \\frac{d}{d t} \\theta{\\left(t \\right)} + 4 z_{cm} \\sin{\\left(\\theta{\\left(t \\right)} \\right)} \\cos{\\left(\\varphi{\\left(t \\right)} \\right)} \\frac{d}{d t} \\varphi{\\left(t \\right)} + 4 \\frac{d}{d t} y{\\left(t \\right)}\\right)}{8}\\\\- \\frac{\\rho b_{d} \\left(- x_{cm} \\cos{\\left(\\theta{\\left(t \\right)} \\right)} \\frac{d}{d t} \\theta{\\left(t \\right)} + \\sqrt{2} z_{cm} \\cos{\\left(\\theta{\\left(t \\right)} + \\frac{\\pi}{4} \\right)} \\frac{d}{d t} \\theta{\\left(t \\right)} + \\frac{d}{d t} z{\\left(t \\right)}\\right)}{2}\\\\\\frac{\\rho b_{d} \\left(\\omega_{l} d_{w} x_{cm} \\sin{\\left(\\theta{\\left(t \\right)} \\right)} - \\omega_{l} d_{w} z_{cm} \\cos{\\left(\\theta{\\left(t \\right)} \\right)} + \\omega_{r} d_{w} x_{cm} \\sin{\\left(\\theta{\\left(t \\right)} \\right)} - \\omega_{r} d_{w} z_{cm} \\cos{\\left(\\theta{\\left(t \\right)} \\right)} - 4 x_{cm}^{2} \\frac{d}{d t} \\theta{\\left(t \\right)} - 4 x_{cm} y_{cm} \\sin{\\left(\\theta{\\left(t \\right)} \\right)} \\frac{d}{d t} \\varphi{\\left(t \\right)} + 4 x_{cm} z_{cm} \\frac{d}{d t} \\theta{\\left(t \\right)} + 4 x_{cm} \\sin{\\left(\\theta{\\left(t \\right)} \\right)} \\sin{\\left(\\varphi{\\left(t \\right)} \\right)} \\frac{d}{d t} y{\\left(t \\right)} + 4 x_{cm} \\sin{\\left(\\theta{\\left(t \\right)} \\right)} \\cos{\\left(\\varphi{\\left(t \\right)} \\right)} \\frac{d}{d t} x{\\left(t \\right)} + 4 x_{cm} \\cos{\\left(\\theta{\\left(t \\right)} \\right)} \\frac{d}{d t} z{\\left(t \\right)} + 4 y_{cm} z_{cm} \\cos{\\left(\\theta{\\left(t \\right)} \\right)} \\frac{d}{d t} \\varphi{\\left(t \\right)} - 4 z_{cm}^{2} \\frac{d}{d t} \\theta{\\left(t \\right)} + 4 z_{cm} \\sin{\\left(\\theta{\\left(t \\right)} \\right)} \\frac{d}{d t} z{\\left(t \\right)} - 4 z_{cm} \\sin{\\left(\\varphi{\\left(t \\right)} \\right)} \\cos{\\left(\\theta{\\left(t \\right)} \\right)} \\frac{d}{d t} y{\\left(t \\right)} - 4 z_{cm} \\cos{\\left(\\theta{\\left(t \\right)} \\right)} \\cos{\\left(\\varphi{\\left(t \\right)} \\right)} \\frac{d}{d t} x{\\left(t \\right)}\\right)}{8}\\\\- \\frac{\\rho b_{d} \\left(- \\omega_{l} d_{w} y_{cm} - \\omega_{r} d_{w} y_{cm} + 2 x_{cm}^{2} \\cos{\\left(2 \\theta{\\left(t \\right)} \\right)} \\frac{d}{d t} \\varphi{\\left(t \\right)} + 2 x_{cm}^{2} \\frac{d}{d t} \\varphi{\\left(t \\right)} + 4 x_{cm} y_{cm} \\sin{\\left(\\theta{\\left(t \\right)} \\right)} \\frac{d}{d t} \\theta{\\left(t \\right)} + 4 x_{cm} z_{cm} \\sin{\\left(2 \\theta{\\left(t \\right)} \\right)} \\frac{d}{d t} \\varphi{\\left(t \\right)} + 2 x_{cm} \\sin{\\left(\\theta{\\left(t \\right)} - \\varphi{\\left(t \\right)} \\right)} \\frac{d}{d t} x{\\left(t \\right)} - 2 x_{cm} \\sin{\\left(\\theta{\\left(t \\right)} + \\varphi{\\left(t \\right)} \\right)} \\frac{d}{d t} x{\\left(t \\right)} + 2 x_{cm} \\cos{\\left(\\theta{\\left(t \\right)} - \\varphi{\\left(t \\right)} \\right)} \\frac{d}{d t} y{\\left(t \\right)} + 2 x_{cm} \\cos{\\left(\\theta{\\left(t \\right)} + \\varphi{\\left(t \\right)} \\right)} \\frac{d}{d t} y{\\left(t \\right)} + 4 y_{cm}^{2} \\frac{d}{d t} \\varphi{\\left(t \\right)} - 4 \\sqrt{2} y_{cm} z_{cm} \\sin{\\left(\\theta{\\left(t \\right)} + \\frac{\\pi}{4} \\right)} \\frac{d}{d t} \\theta{\\left(t \\right)} - 4 y_{cm} \\sin{\\left(\\varphi{\\left(t \\right)} \\right)} \\frac{d}{d t} y{\\left(t \\right)} - 4 y_{cm} \\cos{\\left(\\varphi{\\left(t \\right)} \\right)} \\frac{d}{d t} x{\\left(t \\right)} - 2 z_{cm}^{2} \\cos{\\left(2 \\theta{\\left(t \\right)} \\right)} \\frac{d}{d t} \\varphi{\\left(t \\right)} + 2 z_{cm}^{2} \\frac{d}{d t} \\varphi{\\left(t \\right)} + 2 z_{cm} \\sin{\\left(\\theta{\\left(t \\right)} - \\varphi{\\left(t \\right)} \\right)} \\frac{d}{d t} y{\\left(t \\right)} + 2 z_{cm} \\sin{\\left(\\theta{\\left(t \\right)} + \\varphi{\\left(t \\right)} \\right)} \\frac{d}{d t} y{\\left(t \\right)} - 2 z_{cm} \\cos{\\left(\\theta{\\left(t \\right)} - \\varphi{\\left(t \\right)} \\right)} \\frac{d}{d t} x{\\left(t \\right)} + 2 z_{cm} \\cos{\\left(\\theta{\\left(t \\right)} + \\varphi{\\left(t \\right)} \\right)} \\frac{d}{d t} x{\\left(t \\right)}\\right)}{8}\\end{matrix}\\right]$"
     },
     "metadata": {},
     "output_type": "display_data"
    }
   ],
   "execution_count": 31
  },
  {
   "metadata": {},
   "cell_type": "markdown",
   "source": [
    "#### Constraints\n",
    "\n",
    "To apply physical constraints, we need to define the constraints in the form of a function of the state variables. The constraints can be holonomic $ c = 0 $ or non-holonomic $ c \\ge 0 $, which are solved using Lagrange multipliers and complementary slack variables, respectively."
   ]
  },
  {
   "metadata": {},
   "cell_type": "markdown",
   "source": [
    "##### Holomonic constraints\n",
    "\n",
    "The cart-pole system is assumed to move without slip on the ground-wheel contact. However, this constraint is already assumed and applied in the kinematic model, and therefore does not need to be explicitly solved."
   ]
  },
  {
   "metadata": {},
   "cell_type": "markdown",
   "source": [
    "##### Non-holomonic constraints\n",
    "\n",
    "To apply the ground contact constraint, the ground is taken as a plane at $ z_g = a_{g,x} x + a_{g,y} y - d_w / 2 $.\n",
    "\n",
    "We assume that if the ground constraints at the wheel and at the tip are satisfied, then the ground constraints at any point of the cart-pole system are also satisfied.\n",
    "\n",
    "$$ c_{g,wheel} = z_o - \\frac{ d_w }{ 2 } \\ge z_g $$\n",
    "\n",
    "$$ c_{g,tip} = z_o + h_b cos(\\theta) \\ge z_g $$"
   ]
  },
  {
   "metadata": {
    "ExecuteTime": {
     "end_time": "2025-08-06T19:37:08.709617Z",
     "start_time": "2025-08-06T19:37:08.697506Z"
    }
   },
   "cell_type": "code",
   "source": [
    "p_ground = StateXyz('o')\n",
    "\n",
    "p_ground.X = sp.Matrix([\n",
    "    p_origin.x,\n",
    "    p_origin.y,\n",
    "    agx * p_origin.x + agy * p_origin.y - dw / 2,\n",
    "])\n",
    "\n",
    "# Lambdify\n",
    "fn_ground = sp.lambdify(args + params, p_ground.X)\n",
    "\n",
    "# Output\n",
    "display(p_ground.X)"
   ],
   "outputs": [
    {
     "data": {
      "text/plain": [
       "Matrix([\n",
       "[                             x(t)],\n",
       "[                             y(t)],\n",
       "[a_{gx}*x(t) + a_{gy}*y(t) - d_w/2]])"
      ],
      "text/latex": "$\\displaystyle \\left[\\begin{matrix}x{\\left(t \\right)}\\\\y{\\left(t \\right)}\\\\a_{gx} x{\\left(t \\right)} + a_{gy} y{\\left(t \\right)} - \\frac{d_{w}}{2}\\end{matrix}\\right]$"
     },
     "metadata": {},
     "output_type": "display_data"
    }
   ],
   "execution_count": 32
  },
  {
   "metadata": {
    "ExecuteTime": {
     "end_time": "2025-08-06T19:37:08.764460Z",
     "start_time": "2025-08-06T19:37:08.757648Z"
    }
   },
   "cell_type": "code",
   "source": [
    "cons_gwheel = sp.Symbol(r'cons_{g,wheel}')\n",
    "cons_gwheel = p_origin.z - dw / 2 - p_ground.z\n",
    "\n",
    "# Output\n",
    "cons_gwheel"
   ],
   "outputs": [
    {
     "data": {
      "text/plain": [
       "-a_{gx}*x(t) - a_{gy}*y(t) + z(t)"
      ],
      "text/latex": "$\\displaystyle - a_{gx} x{\\left(t \\right)} - a_{gy} y{\\left(t \\right)} + z{\\left(t \\right)}$"
     },
     "execution_count": 33,
     "metadata": {},
     "output_type": "execute_result"
    }
   ],
   "execution_count": 33
  },
  {
   "metadata": {
    "ExecuteTime": {
     "end_time": "2025-08-06T19:37:08.823281Z",
     "start_time": "2025-08-06T19:37:08.815934Z"
    }
   },
   "cell_type": "code",
   "source": [
    "cons_gtip = sp.Symbol(r'cons_{g,tip}')\n",
    "cons_gtip = hb * sp.cos(cs_q.theta) - p_ground.z\n",
    "\n",
    "# Output\n",
    "cons_gtip"
   ],
   "outputs": [
    {
     "data": {
      "text/plain": [
       "-a_{gx}*x(t) - a_{gy}*y(t) + d_w/2 + h_b*cos(\\theta(t))"
      ],
      "text/latex": "$\\displaystyle - a_{gx} x{\\left(t \\right)} - a_{gy} y{\\left(t \\right)} + \\frac{d_{w}}{2} + h_{b} \\cos{\\left(\\theta{\\left(t \\right)} \\right)}$"
     },
     "execution_count": 34,
     "metadata": {},
     "output_type": "execute_result"
    }
   ],
   "execution_count": 34
  },
  {
   "metadata": {
    "ExecuteTime": {
     "end_time": "2025-08-06T19:37:08.894707Z",
     "start_time": "2025-08-06T19:37:08.872772Z"
    }
   },
   "cell_type": "code",
   "source": [
    "Cons = sp.Matrix([cons_gwheel, cons_gtip])\n",
    "ncons = len(Cons)\n",
    "\n",
    "# Lambdify\n",
    "fn_Cons = sp.lambdify(args + params, Cons)\n",
    "\n",
    "# Output\n",
    "Cons"
   ],
   "outputs": [
    {
     "data": {
      "text/plain": [
       "Matrix([\n",
       "[                      -a_{gx}*x(t) - a_{gy}*y(t) + z(t)],\n",
       "[-a_{gx}*x(t) - a_{gy}*y(t) + d_w/2 + h_b*cos(\\theta(t))]])"
      ],
      "text/latex": "$\\displaystyle \\left[\\begin{matrix}- a_{gx} x{\\left(t \\right)} - a_{gy} y{\\left(t \\right)} + z{\\left(t \\right)}\\\\- a_{gx} x{\\left(t \\right)} - a_{gy} y{\\left(t \\right)} + \\frac{d_{w}}{2} + h_{b} \\cos{\\left(\\theta{\\left(t \\right)} \\right)}\\end{matrix}\\right]$"
     },
     "execution_count": 35,
     "metadata": {},
     "output_type": "execute_result"
    }
   ],
   "execution_count": 35
  },
  {
   "metadata": {
    "ExecuteTime": {
     "end_time": "2025-08-06T19:37:09.097802Z",
     "start_time": "2025-08-06T19:37:09.066480Z"
    }
   },
   "cell_type": "code",
   "source": [
    "Cons_gradq = Cons.jacobian(cs_q.Q)\n",
    "\n",
    "# Lambdify\n",
    "fn_Cons_gradq = sp.lambdify(args + params, Cons_gradq)\n",
    "\n",
    "# Output\n",
    "Cons_gradq"
   ],
   "outputs": [
    {
     "data": {
      "text/plain": [
       "Matrix([\n",
       "[-a_{gx}, -a_{gy}, 1,                   0, 0],\n",
       "[-a_{gx}, -a_{gy}, 0, -h_b*sin(\\theta(t)), 0]])"
      ],
      "text/latex": "$\\displaystyle \\left[\\begin{matrix}- a_{gx} & - a_{gy} & 1 & 0 & 0\\\\- a_{gx} & - a_{gy} & 0 & - h_{b} \\sin{\\left(\\theta{\\left(t \\right)} \\right)} & 0\\end{matrix}\\right]$"
     },
     "execution_count": 36,
     "metadata": {},
     "output_type": "execute_result"
    }
   ],
   "execution_count": 36
  },
  {
   "metadata": {
    "ExecuteTime": {
     "end_time": "2025-08-06T19:37:09.191978Z",
     "start_time": "2025-08-06T19:37:09.171026Z"
    }
   },
   "cell_type": "code",
   "source": [
    "Cons_gradqd = Cons.jacobian(cs_q.Qd)\n",
    "\n",
    "# Lambdify\n",
    "fn_Cons_gradqd = sp.lambdify(args + params, Cons_gradqd)\n",
    "\n",
    "# Output\n",
    "Cons_gradqd"
   ],
   "outputs": [
    {
     "data": {
      "text/plain": [
       "Matrix([\n",
       "[0, 0, 0, 0, 0],\n",
       "[0, 0, 0, 0, 0]])"
      ],
      "text/latex": "$\\displaystyle \\left[\\begin{matrix}0 & 0 & 0 & 0 & 0\\\\0 & 0 & 0 & 0 & 0\\end{matrix}\\right]$"
     },
     "execution_count": 37,
     "metadata": {},
     "output_type": "execute_result"
    }
   ],
   "execution_count": 37
  },
  {
   "metadata": {},
   "cell_type": "markdown",
   "source": [
    "#### Lagrangian\n",
    "\n",
    "The lagrangian is defined as\n",
    "\n",
    "$$ L = T - V $$\n",
    "\n",
    "where $ T $ is the kinetic energy and $ V $ is the potential energy."
   ]
  },
  {
   "metadata": {
    "ExecuteTime": {
     "end_time": "2025-08-06T19:37:58.287516Z",
     "start_time": "2025-08-06T19:37:09.201054Z"
    }
   },
   "cell_type": "code",
   "source": [
    "l_lagrangian = Lagrangian('L', t, cs_q)\n",
    "\n",
    "l_lagrangian = l_kinect - l_potential\n",
    "\n",
    "# Output\n",
    "l_lagrangian.L = sp.simplify(l_lagrangian.L)\n",
    "display(l_lagrangian.L)"
   ],
   "outputs": [
    {
     "data": {
      "text/plain": [
       "I_r*Derivative(\\theta(t), t)**2/2 + I_w*(2*c_{\\theta}*Derivative(\\theta(t), t)**2 + (\\omega_l + Derivative(\\theta(t), t))**2 + (\\omega_r + Derivative(\\theta(t), t))**2)/2 - g*m*(-x_{cm}*sin(\\theta(t)) + z_{cm}*cos(\\theta(t)) + z(t)) + m*(16*(x_{cm}*cos(\\theta(t))*Derivative(\\theta(t), t) + z_{cm}*sin(\\theta(t))*Derivative(\\theta(t), t) - Derivative(z(t), t))**2 + (d_w*(\\omega_l + \\omega_r)*sin(\\varphi(t)) - 4*x_{cm}*sin(\\theta(t))*sin(\\varphi(t))*Derivative(\\theta(t), t) + 4*x_{cm}*cos(\\theta(t))*cos(\\varphi(t))*Derivative(\\varphi(t), t) - 4*y_{cm}*sin(\\varphi(t))*Derivative(\\varphi(t), t) + 4*z_{cm}*sin(\\theta(t))*cos(\\varphi(t))*Derivative(\\varphi(t), t) + 4*z_{cm}*sin(\\varphi(t))*cos(\\theta(t))*Derivative(\\theta(t), t) + 4*Derivative(y(t), t))**2 + (-d_w*(\\omega_l + \\omega_r)*cos(\\varphi(t)) + 4*x_{cm}*sin(\\theta(t))*cos(\\varphi(t))*Derivative(\\theta(t), t) + 4*x_{cm}*sin(\\varphi(t))*cos(\\theta(t))*Derivative(\\varphi(t), t) + 4*y_{cm}*cos(\\varphi(t))*Derivative(\\varphi(t), t) + 4*z_{cm}*sin(\\theta(t))*sin(\\varphi(t))*Derivative(\\varphi(t), t) - 4*z_{cm}*cos(\\theta(t))*cos(\\varphi(t))*Derivative(\\theta(t), t) - 4*Derivative(x(t), t))**2)/32 + (I_z + m*(x_{cm}**2*cos(\\theta(t))**2 + y_{cm}**2 + z_{cm}**2*sin(\\theta(t))**2))*Derivative(\\varphi(t), t)**2/2"
      ],
      "text/latex": "$\\displaystyle \\frac{I_{r} \\left(\\frac{d}{d t} \\theta{\\left(t \\right)}\\right)^{2}}{2} + \\frac{I_{w} \\left(2 c_{\\theta} \\left(\\frac{d}{d t} \\theta{\\left(t \\right)}\\right)^{2} + \\left(\\omega_{l} + \\frac{d}{d t} \\theta{\\left(t \\right)}\\right)^{2} + \\left(\\omega_{r} + \\frac{d}{d t} \\theta{\\left(t \\right)}\\right)^{2}\\right)}{2} - g m \\left(- x_{cm} \\sin{\\left(\\theta{\\left(t \\right)} \\right)} + z_{cm} \\cos{\\left(\\theta{\\left(t \\right)} \\right)} + z{\\left(t \\right)}\\right) + \\frac{m \\left(16 \\left(x_{cm} \\cos{\\left(\\theta{\\left(t \\right)} \\right)} \\frac{d}{d t} \\theta{\\left(t \\right)} + z_{cm} \\sin{\\left(\\theta{\\left(t \\right)} \\right)} \\frac{d}{d t} \\theta{\\left(t \\right)} - \\frac{d}{d t} z{\\left(t \\right)}\\right)^{2} + \\left(d_{w} \\left(\\omega_{l} + \\omega_{r}\\right) \\sin{\\left(\\varphi{\\left(t \\right)} \\right)} - 4 x_{cm} \\sin{\\left(\\theta{\\left(t \\right)} \\right)} \\sin{\\left(\\varphi{\\left(t \\right)} \\right)} \\frac{d}{d t} \\theta{\\left(t \\right)} + 4 x_{cm} \\cos{\\left(\\theta{\\left(t \\right)} \\right)} \\cos{\\left(\\varphi{\\left(t \\right)} \\right)} \\frac{d}{d t} \\varphi{\\left(t \\right)} - 4 y_{cm} \\sin{\\left(\\varphi{\\left(t \\right)} \\right)} \\frac{d}{d t} \\varphi{\\left(t \\right)} + 4 z_{cm} \\sin{\\left(\\theta{\\left(t \\right)} \\right)} \\cos{\\left(\\varphi{\\left(t \\right)} \\right)} \\frac{d}{d t} \\varphi{\\left(t \\right)} + 4 z_{cm} \\sin{\\left(\\varphi{\\left(t \\right)} \\right)} \\cos{\\left(\\theta{\\left(t \\right)} \\right)} \\frac{d}{d t} \\theta{\\left(t \\right)} + 4 \\frac{d}{d t} y{\\left(t \\right)}\\right)^{2} + \\left(- d_{w} \\left(\\omega_{l} + \\omega_{r}\\right) \\cos{\\left(\\varphi{\\left(t \\right)} \\right)} + 4 x_{cm} \\sin{\\left(\\theta{\\left(t \\right)} \\right)} \\cos{\\left(\\varphi{\\left(t \\right)} \\right)} \\frac{d}{d t} \\theta{\\left(t \\right)} + 4 x_{cm} \\sin{\\left(\\varphi{\\left(t \\right)} \\right)} \\cos{\\left(\\theta{\\left(t \\right)} \\right)} \\frac{d}{d t} \\varphi{\\left(t \\right)} + 4 y_{cm} \\cos{\\left(\\varphi{\\left(t \\right)} \\right)} \\frac{d}{d t} \\varphi{\\left(t \\right)} + 4 z_{cm} \\sin{\\left(\\theta{\\left(t \\right)} \\right)} \\sin{\\left(\\varphi{\\left(t \\right)} \\right)} \\frac{d}{d t} \\varphi{\\left(t \\right)} - 4 z_{cm} \\cos{\\left(\\theta{\\left(t \\right)} \\right)} \\cos{\\left(\\varphi{\\left(t \\right)} \\right)} \\frac{d}{d t} \\theta{\\left(t \\right)} - 4 \\frac{d}{d t} x{\\left(t \\right)}\\right)^{2}\\right)}{32} + \\frac{\\left(I_{z} + m \\left(x_{cm}^{2} \\cos^{2}{\\left(\\theta{\\left(t \\right)} \\right)} + y_{cm}^{2} + z_{cm}^{2} \\sin^{2}{\\left(\\theta{\\left(t \\right)} \\right)}\\right)\\right) \\left(\\frac{d}{d t} \\varphi{\\left(t \\right)}\\right)^{2}}{2}$"
     },
     "metadata": {},
     "output_type": "display_data"
    }
   ],
   "execution_count": 38
  },
  {
   "metadata": {},
   "cell_type": "markdown",
   "source": [
    "### Compiled model\n",
    "\n",
    "The dynamic model is given by the Euler-Lagrange in the form of\n",
    "\n",
    "$$ \\frac{d}{dt} \\left( \\frac{\\partial L}{\\partial \\dot{q}} \\right) - \\frac{\\partial L}{\\partial q} + \\frac{\\partial D}{\\partial \\dot{q}} = \\frac{\\partial W}{\\partial q} $$\n",
    "\n",
    "where $ L $ is the lagrangian, $ D $ is the dissipation energies, and $ W $ is the work done by external forces.\n",
    "\n",
    "The model's equation is then factorized as\n",
    "\n",
    "$$ M(q) \\ddot{q} + H(q, \\dot{q}) = 0 $$\n",
    "\n",
    "and as\n",
    "\n",
    "$$ M_{ii}(q) \\ddot{q} + B_{i2}(q) \\dot{q}^2 + B_{ij}(q, \\dot{q}) \\dot{q} + B_{i}(q) \\dot{q} + C(q) = 0 $$"
   ]
  },
  {
   "metadata": {
    "ExecuteTime": {
     "end_time": "2025-08-06T19:38:27.534429Z",
     "start_time": "2025-08-06T19:37:58.393973Z"
    }
   },
   "cell_type": "code",
   "source": [
    "model = l_lagrangian.L_dqd_dt - l_lagrangian.L_dq + l_diss.L_dqd - W_dq\n",
    "\n",
    "# Output\n",
    "model = sp.simplify(model)\n",
    "display(model)"
   ],
   "outputs": [
    {
     "data": {
      "text/plain": [
       "Matrix([\n",
       "[                                                                                                                                                                                                                                                                                                                                                                                                                                                                                                                                                                                                                                                                                                                                                                                                                                                                                                                                                                                                                                                                                                                                                                                                                                                                                                                                                                                                                                                                                                                                                                                      \\rho*b_d*(\\omega_l*d_w*cos(\\varphi(t)) + \\omega_r*d_w*cos(\\varphi(t)) - 4*x_{cm}*sin(\\theta(t))*cos(\\varphi(t))*Derivative(\\theta(t), t) - 4*x_{cm}*sin(\\varphi(t))*cos(\\theta(t))*Derivative(\\varphi(t), t) - 4*y_{cm}*cos(\\varphi(t))*Derivative(\\varphi(t), t) + 4*sqrt(2)*z_{cm}*sin(\\theta(t) + pi/4)*cos(\\varphi(t))*Derivative(\\theta(t), t) - 4*z_{cm}*sin(\\theta(t))*sin(\\varphi(t))*Derivative(\\varphi(t), t) + 4*Derivative(x(t), t))/8 - m*(d_w*(\\omega_l + \\omega_r)*sin(\\varphi(t))*Derivative(\\varphi(t), t) - 8*x_{cm}*sin(\\theta(t))*sin(\\varphi(t))*Derivative(\\theta(t), t)*Derivative(\\varphi(t), t) + 4*x_{cm}*sin(\\theta(t))*cos(\\varphi(t))*Derivative(\\theta(t), (t, 2)) + 4*x_{cm}*sin(\\varphi(t))*cos(\\theta(t))*Derivative(\\varphi(t), (t, 2)) + 4*x_{cm}*cos(\\theta(t))*cos(\\varphi(t))*Derivative(\\theta(t), t)**2 + 4*x_{cm}*cos(\\theta(t))*cos(\\varphi(t))*Derivative(\\varphi(t), t)**2 - 4*y_{cm}*sin(\\varphi(t))*Derivative(\\varphi(t), t)**2 + 4*y_{cm}*cos(\\varphi(t))*Derivative(\\varphi(t), (t, 2)) + 4*z_{cm}*sin(\\theta(t))*sin(\\varphi(t))*Derivative(\\varphi(t), (t, 2)) + 4*z_{cm}*sin(\\theta(t))*cos(\\varphi(t))*Derivative(\\theta(t), t)**2 + 4*z_{cm}*sin(\\theta(t))*cos(\\varphi(t))*Derivative(\\varphi(t), t)**2 + 8*z_{cm}*sin(\\varphi(t))*cos(\\theta(t))*Derivative(\\theta(t), t)*Derivative(\\varphi(t), t) - 4*z_{cm}*cos(\\theta(t))*cos(\\varphi(t))*Derivative(\\theta(t), (t, 2)) - 4*Derivative(x(t), (t, 2)))/4],\n",
       "[                                                                                                                                                                                                                                                                                                                                                                                                                                                                                                                                                                                                                                                                                                                                                                                                                                                                                                                                                                                                                                                                                                                                                                                                                                                                                                                                                                                                                                                                                                                                                                                     \\rho*b_d*(\\omega_l*d_w*sin(\\varphi(t)) + \\omega_r*d_w*sin(\\varphi(t)) - 4*x_{cm}*sin(\\theta(t))*sin(\\varphi(t))*Derivative(\\theta(t), t) + 4*x_{cm}*cos(\\theta(t))*cos(\\varphi(t))*Derivative(\\varphi(t), t) - 4*y_{cm}*sin(\\varphi(t))*Derivative(\\varphi(t), t) + 4*sqrt(2)*z_{cm}*sin(\\theta(t) + pi/4)*sin(\\varphi(t))*Derivative(\\theta(t), t) + 4*z_{cm}*sin(\\theta(t))*cos(\\varphi(t))*Derivative(\\varphi(t), t) + 4*Derivative(y(t), t))/8 - m*(-d_w*(\\omega_l + \\omega_r)*cos(\\varphi(t))*Derivative(\\varphi(t), t) + 4*x_{cm}*sin(\\theta(t))*sin(\\varphi(t))*Derivative(\\theta(t), (t, 2)) + 8*x_{cm}*sin(\\theta(t))*cos(\\varphi(t))*Derivative(\\theta(t), t)*Derivative(\\varphi(t), t) + 4*x_{cm}*sin(\\varphi(t))*cos(\\theta(t))*Derivative(\\theta(t), t)**2 + 4*x_{cm}*sin(\\varphi(t))*cos(\\theta(t))*Derivative(\\varphi(t), t)**2 - 4*x_{cm}*cos(\\theta(t))*cos(\\varphi(t))*Derivative(\\varphi(t), (t, 2)) + 4*y_{cm}*sin(\\varphi(t))*Derivative(\\varphi(t), (t, 2)) + 4*y_{cm}*cos(\\varphi(t))*Derivative(\\varphi(t), t)**2 + 4*z_{cm}*sin(\\theta(t))*sin(\\varphi(t))*Derivative(\\theta(t), t)**2 + 4*z_{cm}*sin(\\theta(t))*sin(\\varphi(t))*Derivative(\\varphi(t), t)**2 - 4*z_{cm}*sin(\\theta(t))*cos(\\varphi(t))*Derivative(\\varphi(t), (t, 2)) - 4*z_{cm}*sin(\\varphi(t))*cos(\\theta(t))*Derivative(\\theta(t), (t, 2)) - 8*z_{cm}*cos(\\theta(t))*cos(\\varphi(t))*Derivative(\\theta(t), t)*Derivative(\\varphi(t), t) - 4*Derivative(y(t), (t, 2)))/4],\n",
       "[                                                                                                                                                                                                                                                                                                                                                                                                                                                                                                                                                                                                                                                                                                                                                                                                                                                                                                                                                                                                                                                                                                                                                                                                                                                                                                                                                                                                                                                                                                                                                                                                                                                                                                                                                                                                                                                                                                                                                                                                                                                                                                                                                                                                                                                                                                                                                                                                                                                                                                                                                                                                                 \\rho*b_d*(-x_{cm}*cos(\\theta(t))*Derivative(\\theta(t), t) + sqrt(2)*z_{cm}*cos(\\theta(t) + pi/4)*Derivative(\\theta(t), t) + Derivative(z(t), t))/2 + 2*b_w*Derivative(z(t), t) + g*m - m*(-x_{cm}*sin(\\theta(t))*Derivative(\\theta(t), t)**2 + x_{cm}*cos(\\theta(t))*Derivative(\\theta(t), (t, 2)) + z_{cm}*sin(\\theta(t))*Derivative(\\theta(t), (t, 2)) + z_{cm}*cos(\\theta(t))*Derivative(\\theta(t), t)**2 - Derivative(z(t), (t, 2)))],\n",
       "[                                                                                                                                                                                                                                                                                                                                                                                                                                                                                                                                 I_r*Derivative(\\theta(t), (t, 2)) + 2*I_w*c_{\\theta}*Derivative(\\theta(t), (t, 2)) + 2*I_w*Derivative(\\theta(t), (t, 2)) - \\omega_l*\\rho*b_d*d_w*x_{cm}*sin(\\theta(t))/8 + \\omega_l*\\rho*b_d*d_w*z_{cm}*cos(\\theta(t))/8 + \\omega_l*b_w*d_w**2/4 - \\omega_r*\\rho*b_d*d_w*x_{cm}*sin(\\theta(t))/8 + \\omega_r*\\rho*b_d*d_w*z_{cm}*cos(\\theta(t))/8 + \\omega_r*b_w*d_w**2/4 + \\rho*b_d*x_{cm}**2*Derivative(\\theta(t), t)/2 + \\rho*b_d*x_{cm}*y_{cm}*sin(\\theta(t))*Derivative(\\varphi(t), t)/2 - \\rho*b_d*x_{cm}*z_{cm}*Derivative(\\theta(t), t)/2 - \\rho*b_d*x_{cm}*sin(\\theta(t) - \\varphi(t))*Derivative(x(t), t)/4 - \\rho*b_d*x_{cm}*sin(\\theta(t) + \\varphi(t))*Derivative(x(t), t)/4 - \\rho*b_d*x_{cm}*cos(\\theta(t) - \\varphi(t))*Derivative(y(t), t)/4 + \\rho*b_d*x_{cm}*cos(\\theta(t) + \\varphi(t))*Derivative(y(t), t)/4 - \\rho*b_d*x_{cm}*cos(\\theta(t))*Derivative(z(t), t)/2 - \\rho*b_d*y_{cm}*z_{cm}*cos(\\theta(t))*Derivative(\\varphi(t), t)/2 + \\rho*b_d*z_{cm}**2*Derivative(\\theta(t), t)/2 - \\rho*b_d*z_{cm}*sin(\\theta(t) - \\varphi(t))*Derivative(y(t), t)/4 + \\rho*b_d*z_{cm}*sin(\\theta(t) + \\varphi(t))*Derivative(y(t), t)/4 - \\rho*b_d*z_{cm}*sin(\\theta(t))*Derivative(z(t), t)/2 + \\rho*b_d*z_{cm}*cos(\\theta(t) - \\varphi(t))*Derivative(x(t), t)/4 + \\rho*b_d*z_{cm}*cos(\\theta(t) + \\varphi(t))*Derivative(x(t), t)/4 + b_w*d_w**2*Derivative(\\theta(t), t)/2 - g*m*x_{cm}*cos(\\theta(t)) - g*m*z_{cm}*sin(\\theta(t)) + m*x_{cm}**2*sin(2*\\theta(t))*Derivative(\\varphi(t), t)**2 + m*x_{cm}**2*Derivative(\\theta(t), (t, 2)) + m*x_{cm}*y_{cm}*sin(\\theta(t))*Derivative(\\varphi(t), (t, 2)) - m*x_{cm}*z_{cm}*cos(2*\\theta(t))*Derivative(\\varphi(t), t)**2 - m*x_{cm}*sin(\\theta(t) - \\varphi(t))*Derivative(x(t), (t, 2))/2 - m*x_{cm}*sin(\\theta(t) + \\varphi(t))*Derivative(x(t), (t, 2))/2 - m*x_{cm}*cos(\\theta(t) - \\varphi(t))*Derivative(y(t), (t, 2))/2 + m*x_{cm}*cos(\\theta(t) + \\varphi(t))*Derivative(y(t), (t, 2))/2 - m*x_{cm}*cos(\\theta(t))*Derivative(z(t), (t, 2)) - m*y_{cm}*z_{cm}*cos(\\theta(t))*Derivative(\\varphi(t), (t, 2)) - m*z_{cm}**2*sin(2*\\theta(t))*Derivative(\\varphi(t), t)**2 + m*z_{cm}**2*Derivative(\\theta(t), (t, 2)) - m*z_{cm}*sin(\\theta(t) - \\varphi(t))*Derivative(y(t), (t, 2))/2 + m*z_{cm}*sin(\\theta(t) + \\varphi(t))*Derivative(y(t), (t, 2))/2 - m*z_{cm}*sin(\\theta(t))*Derivative(z(t), (t, 2)) + m*z_{cm}*cos(\\theta(t) - \\varphi(t))*Derivative(x(t), (t, 2))/2 + m*z_{cm}*cos(\\theta(t) + \\varphi(t))*Derivative(x(t), (t, 2))/2],\n",
       "[I_z*Derivative(\\varphi(t), (t, 2)) - \\omega_l*\\rho*b_d*d_w*y_{cm}/8 + \\omega_l*d_w*m*sin(\\varphi(t))*Derivative(x(t), t)/4 - \\omega_l*d_w*m*cos(\\varphi(t))*Derivative(y(t), t)/4 - \\omega_r*\\rho*b_d*d_w*y_{cm}/8 + \\omega_r*d_w*m*sin(\\varphi(t))*Derivative(x(t), t)/4 - \\omega_r*d_w*m*cos(\\varphi(t))*Derivative(y(t), t)/4 + \\rho*b_d*x_{cm}**2*cos(2*\\theta(t))*Derivative(\\varphi(t), t)/4 + \\rho*b_d*x_{cm}**2*Derivative(\\varphi(t), t)/4 + \\rho*b_d*x_{cm}*y_{cm}*sin(\\theta(t))*Derivative(\\theta(t), t)/2 + \\rho*b_d*x_{cm}*z_{cm}*sin(2*\\theta(t))*Derivative(\\varphi(t), t)/2 + \\rho*b_d*x_{cm}*sin(\\theta(t) - \\varphi(t))*Derivative(x(t), t)/4 - \\rho*b_d*x_{cm}*sin(\\theta(t) + \\varphi(t))*Derivative(x(t), t)/4 + \\rho*b_d*x_{cm}*cos(\\theta(t) - \\varphi(t))*Derivative(y(t), t)/4 + \\rho*b_d*x_{cm}*cos(\\theta(t) + \\varphi(t))*Derivative(y(t), t)/4 + \\rho*b_d*y_{cm}**2*Derivative(\\varphi(t), t)/2 - sqrt(2)*\\rho*b_d*y_{cm}*z_{cm}*sin(\\theta(t) + pi/4)*Derivative(\\theta(t), t)/2 - \\rho*b_d*y_{cm}*sin(\\varphi(t))*Derivative(y(t), t)/2 - \\rho*b_d*y_{cm}*cos(\\varphi(t))*Derivative(x(t), t)/2 - \\rho*b_d*z_{cm}**2*cos(2*\\theta(t))*Derivative(\\varphi(t), t)/4 + \\rho*b_d*z_{cm}**2*Derivative(\\varphi(t), t)/4 + \\rho*b_d*z_{cm}*sin(\\theta(t) - \\varphi(t))*Derivative(y(t), t)/4 + \\rho*b_d*z_{cm}*sin(\\theta(t) + \\varphi(t))*Derivative(y(t), t)/4 - \\rho*b_d*z_{cm}*cos(\\theta(t) - \\varphi(t))*Derivative(x(t), t)/4 + \\rho*b_d*z_{cm}*cos(\\theta(t) + \\varphi(t))*Derivative(x(t), t)/4 - 2*m*x_{cm}**2*sin(2*\\theta(t))*Derivative(\\theta(t), t)*Derivative(\\varphi(t), t) + m*x_{cm}**2*cos(2*\\theta(t))*Derivative(\\varphi(t), (t, 2)) + m*x_{cm}**2*Derivative(\\varphi(t), (t, 2)) + m*x_{cm}*y_{cm}*sin(\\theta(t))*Derivative(\\theta(t), (t, 2)) + m*x_{cm}*y_{cm}*cos(\\theta(t))*Derivative(\\theta(t), t)**2 + m*x_{cm}*z_{cm}*sin(2*\\theta(t))*Derivative(\\varphi(t), (t, 2)) + 2*m*x_{cm}*z_{cm}*cos(2*\\theta(t))*Derivative(\\theta(t), t)*Derivative(\\varphi(t), t) + m*x_{cm}*sin(\\theta(t) - \\varphi(t))*Derivative(x(t), (t, 2))/2 - m*x_{cm}*sin(\\theta(t) + \\varphi(t))*Derivative(x(t), (t, 2))/2 + m*x_{cm}*cos(\\theta(t) - \\varphi(t))*Derivative(y(t), (t, 2))/2 + m*x_{cm}*cos(\\theta(t) + \\varphi(t))*Derivative(y(t), (t, 2))/2 + 2*m*y_{cm}**2*Derivative(\\varphi(t), (t, 2)) + m*y_{cm}*z_{cm}*sin(\\theta(t))*Derivative(\\theta(t), t)**2 - m*y_{cm}*z_{cm}*cos(\\theta(t))*Derivative(\\theta(t), (t, 2)) - m*y_{cm}*sin(\\varphi(t))*Derivative(y(t), (t, 2)) - m*y_{cm}*cos(\\varphi(t))*Derivative(x(t), (t, 2)) + 2*m*z_{cm}**2*sin(2*\\theta(t))*Derivative(\\theta(t), t)*Derivative(\\varphi(t), t) - m*z_{cm}**2*cos(2*\\theta(t))*Derivative(\\varphi(t), (t, 2)) + m*z_{cm}**2*Derivative(\\varphi(t), (t, 2)) + m*z_{cm}*sin(\\theta(t) - \\varphi(t))*Derivative(y(t), (t, 2))/2 + m*z_{cm}*sin(\\theta(t) + \\varphi(t))*Derivative(y(t), (t, 2))/2 - m*z_{cm}*cos(\\theta(t) - \\varphi(t))*Derivative(x(t), (t, 2))/2 + m*z_{cm}*cos(\\theta(t) + \\varphi(t))*Derivative(x(t), (t, 2))/2]])"
      ],
      "text/latex": "$\\displaystyle \\left[\\begin{matrix}\\frac{\\rho b_{d} \\left(\\omega_{l} d_{w} \\cos{\\left(\\varphi{\\left(t \\right)} \\right)} + \\omega_{r} d_{w} \\cos{\\left(\\varphi{\\left(t \\right)} \\right)} - 4 x_{cm} \\sin{\\left(\\theta{\\left(t \\right)} \\right)} \\cos{\\left(\\varphi{\\left(t \\right)} \\right)} \\frac{d}{d t} \\theta{\\left(t \\right)} - 4 x_{cm} \\sin{\\left(\\varphi{\\left(t \\right)} \\right)} \\cos{\\left(\\theta{\\left(t \\right)} \\right)} \\frac{d}{d t} \\varphi{\\left(t \\right)} - 4 y_{cm} \\cos{\\left(\\varphi{\\left(t \\right)} \\right)} \\frac{d}{d t} \\varphi{\\left(t \\right)} + 4 \\sqrt{2} z_{cm} \\sin{\\left(\\theta{\\left(t \\right)} + \\frac{\\pi}{4} \\right)} \\cos{\\left(\\varphi{\\left(t \\right)} \\right)} \\frac{d}{d t} \\theta{\\left(t \\right)} - 4 z_{cm} \\sin{\\left(\\theta{\\left(t \\right)} \\right)} \\sin{\\left(\\varphi{\\left(t \\right)} \\right)} \\frac{d}{d t} \\varphi{\\left(t \\right)} + 4 \\frac{d}{d t} x{\\left(t \\right)}\\right)}{8} - \\frac{m \\left(d_{w} \\left(\\omega_{l} + \\omega_{r}\\right) \\sin{\\left(\\varphi{\\left(t \\right)} \\right)} \\frac{d}{d t} \\varphi{\\left(t \\right)} - 8 x_{cm} \\sin{\\left(\\theta{\\left(t \\right)} \\right)} \\sin{\\left(\\varphi{\\left(t \\right)} \\right)} \\frac{d}{d t} \\theta{\\left(t \\right)} \\frac{d}{d t} \\varphi{\\left(t \\right)} + 4 x_{cm} \\sin{\\left(\\theta{\\left(t \\right)} \\right)} \\cos{\\left(\\varphi{\\left(t \\right)} \\right)} \\frac{d^{2}}{d t^{2}} \\theta{\\left(t \\right)} + 4 x_{cm} \\sin{\\left(\\varphi{\\left(t \\right)} \\right)} \\cos{\\left(\\theta{\\left(t \\right)} \\right)} \\frac{d^{2}}{d t^{2}} \\varphi{\\left(t \\right)} + 4 x_{cm} \\cos{\\left(\\theta{\\left(t \\right)} \\right)} \\cos{\\left(\\varphi{\\left(t \\right)} \\right)} \\left(\\frac{d}{d t} \\theta{\\left(t \\right)}\\right)^{2} + 4 x_{cm} \\cos{\\left(\\theta{\\left(t \\right)} \\right)} \\cos{\\left(\\varphi{\\left(t \\right)} \\right)} \\left(\\frac{d}{d t} \\varphi{\\left(t \\right)}\\right)^{2} - 4 y_{cm} \\sin{\\left(\\varphi{\\left(t \\right)} \\right)} \\left(\\frac{d}{d t} \\varphi{\\left(t \\right)}\\right)^{2} + 4 y_{cm} \\cos{\\left(\\varphi{\\left(t \\right)} \\right)} \\frac{d^{2}}{d t^{2}} \\varphi{\\left(t \\right)} + 4 z_{cm} \\sin{\\left(\\theta{\\left(t \\right)} \\right)} \\sin{\\left(\\varphi{\\left(t \\right)} \\right)} \\frac{d^{2}}{d t^{2}} \\varphi{\\left(t \\right)} + 4 z_{cm} \\sin{\\left(\\theta{\\left(t \\right)} \\right)} \\cos{\\left(\\varphi{\\left(t \\right)} \\right)} \\left(\\frac{d}{d t} \\theta{\\left(t \\right)}\\right)^{2} + 4 z_{cm} \\sin{\\left(\\theta{\\left(t \\right)} \\right)} \\cos{\\left(\\varphi{\\left(t \\right)} \\right)} \\left(\\frac{d}{d t} \\varphi{\\left(t \\right)}\\right)^{2} + 8 z_{cm} \\sin{\\left(\\varphi{\\left(t \\right)} \\right)} \\cos{\\left(\\theta{\\left(t \\right)} \\right)} \\frac{d}{d t} \\theta{\\left(t \\right)} \\frac{d}{d t} \\varphi{\\left(t \\right)} - 4 z_{cm} \\cos{\\left(\\theta{\\left(t \\right)} \\right)} \\cos{\\left(\\varphi{\\left(t \\right)} \\right)} \\frac{d^{2}}{d t^{2}} \\theta{\\left(t \\right)} - 4 \\frac{d^{2}}{d t^{2}} x{\\left(t \\right)}\\right)}{4}\\\\\\frac{\\rho b_{d} \\left(\\omega_{l} d_{w} \\sin{\\left(\\varphi{\\left(t \\right)} \\right)} + \\omega_{r} d_{w} \\sin{\\left(\\varphi{\\left(t \\right)} \\right)} - 4 x_{cm} \\sin{\\left(\\theta{\\left(t \\right)} \\right)} \\sin{\\left(\\varphi{\\left(t \\right)} \\right)} \\frac{d}{d t} \\theta{\\left(t \\right)} + 4 x_{cm} \\cos{\\left(\\theta{\\left(t \\right)} \\right)} \\cos{\\left(\\varphi{\\left(t \\right)} \\right)} \\frac{d}{d t} \\varphi{\\left(t \\right)} - 4 y_{cm} \\sin{\\left(\\varphi{\\left(t \\right)} \\right)} \\frac{d}{d t} \\varphi{\\left(t \\right)} + 4 \\sqrt{2} z_{cm} \\sin{\\left(\\theta{\\left(t \\right)} + \\frac{\\pi}{4} \\right)} \\sin{\\left(\\varphi{\\left(t \\right)} \\right)} \\frac{d}{d t} \\theta{\\left(t \\right)} + 4 z_{cm} \\sin{\\left(\\theta{\\left(t \\right)} \\right)} \\cos{\\left(\\varphi{\\left(t \\right)} \\right)} \\frac{d}{d t} \\varphi{\\left(t \\right)} + 4 \\frac{d}{d t} y{\\left(t \\right)}\\right)}{8} - \\frac{m \\left(- d_{w} \\left(\\omega_{l} + \\omega_{r}\\right) \\cos{\\left(\\varphi{\\left(t \\right)} \\right)} \\frac{d}{d t} \\varphi{\\left(t \\right)} + 4 x_{cm} \\sin{\\left(\\theta{\\left(t \\right)} \\right)} \\sin{\\left(\\varphi{\\left(t \\right)} \\right)} \\frac{d^{2}}{d t^{2}} \\theta{\\left(t \\right)} + 8 x_{cm} \\sin{\\left(\\theta{\\left(t \\right)} \\right)} \\cos{\\left(\\varphi{\\left(t \\right)} \\right)} \\frac{d}{d t} \\theta{\\left(t \\right)} \\frac{d}{d t} \\varphi{\\left(t \\right)} + 4 x_{cm} \\sin{\\left(\\varphi{\\left(t \\right)} \\right)} \\cos{\\left(\\theta{\\left(t \\right)} \\right)} \\left(\\frac{d}{d t} \\theta{\\left(t \\right)}\\right)^{2} + 4 x_{cm} \\sin{\\left(\\varphi{\\left(t \\right)} \\right)} \\cos{\\left(\\theta{\\left(t \\right)} \\right)} \\left(\\frac{d}{d t} \\varphi{\\left(t \\right)}\\right)^{2} - 4 x_{cm} \\cos{\\left(\\theta{\\left(t \\right)} \\right)} \\cos{\\left(\\varphi{\\left(t \\right)} \\right)} \\frac{d^{2}}{d t^{2}} \\varphi{\\left(t \\right)} + 4 y_{cm} \\sin{\\left(\\varphi{\\left(t \\right)} \\right)} \\frac{d^{2}}{d t^{2}} \\varphi{\\left(t \\right)} + 4 y_{cm} \\cos{\\left(\\varphi{\\left(t \\right)} \\right)} \\left(\\frac{d}{d t} \\varphi{\\left(t \\right)}\\right)^{2} + 4 z_{cm} \\sin{\\left(\\theta{\\left(t \\right)} \\right)} \\sin{\\left(\\varphi{\\left(t \\right)} \\right)} \\left(\\frac{d}{d t} \\theta{\\left(t \\right)}\\right)^{2} + 4 z_{cm} \\sin{\\left(\\theta{\\left(t \\right)} \\right)} \\sin{\\left(\\varphi{\\left(t \\right)} \\right)} \\left(\\frac{d}{d t} \\varphi{\\left(t \\right)}\\right)^{2} - 4 z_{cm} \\sin{\\left(\\theta{\\left(t \\right)} \\right)} \\cos{\\left(\\varphi{\\left(t \\right)} \\right)} \\frac{d^{2}}{d t^{2}} \\varphi{\\left(t \\right)} - 4 z_{cm} \\sin{\\left(\\varphi{\\left(t \\right)} \\right)} \\cos{\\left(\\theta{\\left(t \\right)} \\right)} \\frac{d^{2}}{d t^{2}} \\theta{\\left(t \\right)} - 8 z_{cm} \\cos{\\left(\\theta{\\left(t \\right)} \\right)} \\cos{\\left(\\varphi{\\left(t \\right)} \\right)} \\frac{d}{d t} \\theta{\\left(t \\right)} \\frac{d}{d t} \\varphi{\\left(t \\right)} - 4 \\frac{d^{2}}{d t^{2}} y{\\left(t \\right)}\\right)}{4}\\\\\\frac{\\rho b_{d} \\left(- x_{cm} \\cos{\\left(\\theta{\\left(t \\right)} \\right)} \\frac{d}{d t} \\theta{\\left(t \\right)} + \\sqrt{2} z_{cm} \\cos{\\left(\\theta{\\left(t \\right)} + \\frac{\\pi}{4} \\right)} \\frac{d}{d t} \\theta{\\left(t \\right)} + \\frac{d}{d t} z{\\left(t \\right)}\\right)}{2} + 2 b_{w} \\frac{d}{d t} z{\\left(t \\right)} + g m - m \\left(- x_{cm} \\sin{\\left(\\theta{\\left(t \\right)} \\right)} \\left(\\frac{d}{d t} \\theta{\\left(t \\right)}\\right)^{2} + x_{cm} \\cos{\\left(\\theta{\\left(t \\right)} \\right)} \\frac{d^{2}}{d t^{2}} \\theta{\\left(t \\right)} + z_{cm} \\sin{\\left(\\theta{\\left(t \\right)} \\right)} \\frac{d^{2}}{d t^{2}} \\theta{\\left(t \\right)} + z_{cm} \\cos{\\left(\\theta{\\left(t \\right)} \\right)} \\left(\\frac{d}{d t} \\theta{\\left(t \\right)}\\right)^{2} - \\frac{d^{2}}{d t^{2}} z{\\left(t \\right)}\\right)\\\\I_{r} \\frac{d^{2}}{d t^{2}} \\theta{\\left(t \\right)} + 2 I_{w} c_{\\theta} \\frac{d^{2}}{d t^{2}} \\theta{\\left(t \\right)} + 2 I_{w} \\frac{d^{2}}{d t^{2}} \\theta{\\left(t \\right)} - \\frac{\\omega_{l} \\rho b_{d} d_{w} x_{cm} \\sin{\\left(\\theta{\\left(t \\right)} \\right)}}{8} + \\frac{\\omega_{l} \\rho b_{d} d_{w} z_{cm} \\cos{\\left(\\theta{\\left(t \\right)} \\right)}}{8} + \\frac{\\omega_{l} b_{w} d_{w}^{2}}{4} - \\frac{\\omega_{r} \\rho b_{d} d_{w} x_{cm} \\sin{\\left(\\theta{\\left(t \\right)} \\right)}}{8} + \\frac{\\omega_{r} \\rho b_{d} d_{w} z_{cm} \\cos{\\left(\\theta{\\left(t \\right)} \\right)}}{8} + \\frac{\\omega_{r} b_{w} d_{w}^{2}}{4} + \\frac{\\rho b_{d} x_{cm}^{2} \\frac{d}{d t} \\theta{\\left(t \\right)}}{2} + \\frac{\\rho b_{d} x_{cm} y_{cm} \\sin{\\left(\\theta{\\left(t \\right)} \\right)} \\frac{d}{d t} \\varphi{\\left(t \\right)}}{2} - \\frac{\\rho b_{d} x_{cm} z_{cm} \\frac{d}{d t} \\theta{\\left(t \\right)}}{2} - \\frac{\\rho b_{d} x_{cm} \\sin{\\left(\\theta{\\left(t \\right)} - \\varphi{\\left(t \\right)} \\right)} \\frac{d}{d t} x{\\left(t \\right)}}{4} - \\frac{\\rho b_{d} x_{cm} \\sin{\\left(\\theta{\\left(t \\right)} + \\varphi{\\left(t \\right)} \\right)} \\frac{d}{d t} x{\\left(t \\right)}}{4} - \\frac{\\rho b_{d} x_{cm} \\cos{\\left(\\theta{\\left(t \\right)} - \\varphi{\\left(t \\right)} \\right)} \\frac{d}{d t} y{\\left(t \\right)}}{4} + \\frac{\\rho b_{d} x_{cm} \\cos{\\left(\\theta{\\left(t \\right)} + \\varphi{\\left(t \\right)} \\right)} \\frac{d}{d t} y{\\left(t \\right)}}{4} - \\frac{\\rho b_{d} x_{cm} \\cos{\\left(\\theta{\\left(t \\right)} \\right)} \\frac{d}{d t} z{\\left(t \\right)}}{2} - \\frac{\\rho b_{d} y_{cm} z_{cm} \\cos{\\left(\\theta{\\left(t \\right)} \\right)} \\frac{d}{d t} \\varphi{\\left(t \\right)}}{2} + \\frac{\\rho b_{d} z_{cm}^{2} \\frac{d}{d t} \\theta{\\left(t \\right)}}{2} - \\frac{\\rho b_{d} z_{cm} \\sin{\\left(\\theta{\\left(t \\right)} - \\varphi{\\left(t \\right)} \\right)} \\frac{d}{d t} y{\\left(t \\right)}}{4} + \\frac{\\rho b_{d} z_{cm} \\sin{\\left(\\theta{\\left(t \\right)} + \\varphi{\\left(t \\right)} \\right)} \\frac{d}{d t} y{\\left(t \\right)}}{4} - \\frac{\\rho b_{d} z_{cm} \\sin{\\left(\\theta{\\left(t \\right)} \\right)} \\frac{d}{d t} z{\\left(t \\right)}}{2} + \\frac{\\rho b_{d} z_{cm} \\cos{\\left(\\theta{\\left(t \\right)} - \\varphi{\\left(t \\right)} \\right)} \\frac{d}{d t} x{\\left(t \\right)}}{4} + \\frac{\\rho b_{d} z_{cm} \\cos{\\left(\\theta{\\left(t \\right)} + \\varphi{\\left(t \\right)} \\right)} \\frac{d}{d t} x{\\left(t \\right)}}{4} + \\frac{b_{w} d_{w}^{2} \\frac{d}{d t} \\theta{\\left(t \\right)}}{2} - g m x_{cm} \\cos{\\left(\\theta{\\left(t \\right)} \\right)} - g m z_{cm} \\sin{\\left(\\theta{\\left(t \\right)} \\right)} + m x_{cm}^{2} \\sin{\\left(2 \\theta{\\left(t \\right)} \\right)} \\left(\\frac{d}{d t} \\varphi{\\left(t \\right)}\\right)^{2} + m x_{cm}^{2} \\frac{d^{2}}{d t^{2}} \\theta{\\left(t \\right)} + m x_{cm} y_{cm} \\sin{\\left(\\theta{\\left(t \\right)} \\right)} \\frac{d^{2}}{d t^{2}} \\varphi{\\left(t \\right)} - m x_{cm} z_{cm} \\cos{\\left(2 \\theta{\\left(t \\right)} \\right)} \\left(\\frac{d}{d t} \\varphi{\\left(t \\right)}\\right)^{2} - \\frac{m x_{cm} \\sin{\\left(\\theta{\\left(t \\right)} - \\varphi{\\left(t \\right)} \\right)} \\frac{d^{2}}{d t^{2}} x{\\left(t \\right)}}{2} - \\frac{m x_{cm} \\sin{\\left(\\theta{\\left(t \\right)} + \\varphi{\\left(t \\right)} \\right)} \\frac{d^{2}}{d t^{2}} x{\\left(t \\right)}}{2} - \\frac{m x_{cm} \\cos{\\left(\\theta{\\left(t \\right)} - \\varphi{\\left(t \\right)} \\right)} \\frac{d^{2}}{d t^{2}} y{\\left(t \\right)}}{2} + \\frac{m x_{cm} \\cos{\\left(\\theta{\\left(t \\right)} + \\varphi{\\left(t \\right)} \\right)} \\frac{d^{2}}{d t^{2}} y{\\left(t \\right)}}{2} - m x_{cm} \\cos{\\left(\\theta{\\left(t \\right)} \\right)} \\frac{d^{2}}{d t^{2}} z{\\left(t \\right)} - m y_{cm} z_{cm} \\cos{\\left(\\theta{\\left(t \\right)} \\right)} \\frac{d^{2}}{d t^{2}} \\varphi{\\left(t \\right)} - m z_{cm}^{2} \\sin{\\left(2 \\theta{\\left(t \\right)} \\right)} \\left(\\frac{d}{d t} \\varphi{\\left(t \\right)}\\right)^{2} + m z_{cm}^{2} \\frac{d^{2}}{d t^{2}} \\theta{\\left(t \\right)} - \\frac{m z_{cm} \\sin{\\left(\\theta{\\left(t \\right)} - \\varphi{\\left(t \\right)} \\right)} \\frac{d^{2}}{d t^{2}} y{\\left(t \\right)}}{2} + \\frac{m z_{cm} \\sin{\\left(\\theta{\\left(t \\right)} + \\varphi{\\left(t \\right)} \\right)} \\frac{d^{2}}{d t^{2}} y{\\left(t \\right)}}{2} - m z_{cm} \\sin{\\left(\\theta{\\left(t \\right)} \\right)} \\frac{d^{2}}{d t^{2}} z{\\left(t \\right)} + \\frac{m z_{cm} \\cos{\\left(\\theta{\\left(t \\right)} - \\varphi{\\left(t \\right)} \\right)} \\frac{d^{2}}{d t^{2}} x{\\left(t \\right)}}{2} + \\frac{m z_{cm} \\cos{\\left(\\theta{\\left(t \\right)} + \\varphi{\\left(t \\right)} \\right)} \\frac{d^{2}}{d t^{2}} x{\\left(t \\right)}}{2}\\\\I_{z} \\frac{d^{2}}{d t^{2}} \\varphi{\\left(t \\right)} - \\frac{\\omega_{l} \\rho b_{d} d_{w} y_{cm}}{8} + \\frac{\\omega_{l} d_{w} m \\sin{\\left(\\varphi{\\left(t \\right)} \\right)} \\frac{d}{d t} x{\\left(t \\right)}}{4} - \\frac{\\omega_{l} d_{w} m \\cos{\\left(\\varphi{\\left(t \\right)} \\right)} \\frac{d}{d t} y{\\left(t \\right)}}{4} - \\frac{\\omega_{r} \\rho b_{d} d_{w} y_{cm}}{8} + \\frac{\\omega_{r} d_{w} m \\sin{\\left(\\varphi{\\left(t \\right)} \\right)} \\frac{d}{d t} x{\\left(t \\right)}}{4} - \\frac{\\omega_{r} d_{w} m \\cos{\\left(\\varphi{\\left(t \\right)} \\right)} \\frac{d}{d t} y{\\left(t \\right)}}{4} + \\frac{\\rho b_{d} x_{cm}^{2} \\cos{\\left(2 \\theta{\\left(t \\right)} \\right)} \\frac{d}{d t} \\varphi{\\left(t \\right)}}{4} + \\frac{\\rho b_{d} x_{cm}^{2} \\frac{d}{d t} \\varphi{\\left(t \\right)}}{4} + \\frac{\\rho b_{d} x_{cm} y_{cm} \\sin{\\left(\\theta{\\left(t \\right)} \\right)} \\frac{d}{d t} \\theta{\\left(t \\right)}}{2} + \\frac{\\rho b_{d} x_{cm} z_{cm} \\sin{\\left(2 \\theta{\\left(t \\right)} \\right)} \\frac{d}{d t} \\varphi{\\left(t \\right)}}{2} + \\frac{\\rho b_{d} x_{cm} \\sin{\\left(\\theta{\\left(t \\right)} - \\varphi{\\left(t \\right)} \\right)} \\frac{d}{d t} x{\\left(t \\right)}}{4} - \\frac{\\rho b_{d} x_{cm} \\sin{\\left(\\theta{\\left(t \\right)} + \\varphi{\\left(t \\right)} \\right)} \\frac{d}{d t} x{\\left(t \\right)}}{4} + \\frac{\\rho b_{d} x_{cm} \\cos{\\left(\\theta{\\left(t \\right)} - \\varphi{\\left(t \\right)} \\right)} \\frac{d}{d t} y{\\left(t \\right)}}{4} + \\frac{\\rho b_{d} x_{cm} \\cos{\\left(\\theta{\\left(t \\right)} + \\varphi{\\left(t \\right)} \\right)} \\frac{d}{d t} y{\\left(t \\right)}}{4} + \\frac{\\rho b_{d} y_{cm}^{2} \\frac{d}{d t} \\varphi{\\left(t \\right)}}{2} - \\frac{\\sqrt{2} \\rho b_{d} y_{cm} z_{cm} \\sin{\\left(\\theta{\\left(t \\right)} + \\frac{\\pi}{4} \\right)} \\frac{d}{d t} \\theta{\\left(t \\right)}}{2} - \\frac{\\rho b_{d} y_{cm} \\sin{\\left(\\varphi{\\left(t \\right)} \\right)} \\frac{d}{d t} y{\\left(t \\right)}}{2} - \\frac{\\rho b_{d} y_{cm} \\cos{\\left(\\varphi{\\left(t \\right)} \\right)} \\frac{d}{d t} x{\\left(t \\right)}}{2} - \\frac{\\rho b_{d} z_{cm}^{2} \\cos{\\left(2 \\theta{\\left(t \\right)} \\right)} \\frac{d}{d t} \\varphi{\\left(t \\right)}}{4} + \\frac{\\rho b_{d} z_{cm}^{2} \\frac{d}{d t} \\varphi{\\left(t \\right)}}{4} + \\frac{\\rho b_{d} z_{cm} \\sin{\\left(\\theta{\\left(t \\right)} - \\varphi{\\left(t \\right)} \\right)} \\frac{d}{d t} y{\\left(t \\right)}}{4} + \\frac{\\rho b_{d} z_{cm} \\sin{\\left(\\theta{\\left(t \\right)} + \\varphi{\\left(t \\right)} \\right)} \\frac{d}{d t} y{\\left(t \\right)}}{4} - \\frac{\\rho b_{d} z_{cm} \\cos{\\left(\\theta{\\left(t \\right)} - \\varphi{\\left(t \\right)} \\right)} \\frac{d}{d t} x{\\left(t \\right)}}{4} + \\frac{\\rho b_{d} z_{cm} \\cos{\\left(\\theta{\\left(t \\right)} + \\varphi{\\left(t \\right)} \\right)} \\frac{d}{d t} x{\\left(t \\right)}}{4} - 2 m x_{cm}^{2} \\sin{\\left(2 \\theta{\\left(t \\right)} \\right)} \\frac{d}{d t} \\theta{\\left(t \\right)} \\frac{d}{d t} \\varphi{\\left(t \\right)} + m x_{cm}^{2} \\cos{\\left(2 \\theta{\\left(t \\right)} \\right)} \\frac{d^{2}}{d t^{2}} \\varphi{\\left(t \\right)} + m x_{cm}^{2} \\frac{d^{2}}{d t^{2}} \\varphi{\\left(t \\right)} + m x_{cm} y_{cm} \\sin{\\left(\\theta{\\left(t \\right)} \\right)} \\frac{d^{2}}{d t^{2}} \\theta{\\left(t \\right)} + m x_{cm} y_{cm} \\cos{\\left(\\theta{\\left(t \\right)} \\right)} \\left(\\frac{d}{d t} \\theta{\\left(t \\right)}\\right)^{2} + m x_{cm} z_{cm} \\sin{\\left(2 \\theta{\\left(t \\right)} \\right)} \\frac{d^{2}}{d t^{2}} \\varphi{\\left(t \\right)} + 2 m x_{cm} z_{cm} \\cos{\\left(2 \\theta{\\left(t \\right)} \\right)} \\frac{d}{d t} \\theta{\\left(t \\right)} \\frac{d}{d t} \\varphi{\\left(t \\right)} + \\frac{m x_{cm} \\sin{\\left(\\theta{\\left(t \\right)} - \\varphi{\\left(t \\right)} \\right)} \\frac{d^{2}}{d t^{2}} x{\\left(t \\right)}}{2} - \\frac{m x_{cm} \\sin{\\left(\\theta{\\left(t \\right)} + \\varphi{\\left(t \\right)} \\right)} \\frac{d^{2}}{d t^{2}} x{\\left(t \\right)}}{2} + \\frac{m x_{cm} \\cos{\\left(\\theta{\\left(t \\right)} - \\varphi{\\left(t \\right)} \\right)} \\frac{d^{2}}{d t^{2}} y{\\left(t \\right)}}{2} + \\frac{m x_{cm} \\cos{\\left(\\theta{\\left(t \\right)} + \\varphi{\\left(t \\right)} \\right)} \\frac{d^{2}}{d t^{2}} y{\\left(t \\right)}}{2} + 2 m y_{cm}^{2} \\frac{d^{2}}{d t^{2}} \\varphi{\\left(t \\right)} + m y_{cm} z_{cm} \\sin{\\left(\\theta{\\left(t \\right)} \\right)} \\left(\\frac{d}{d t} \\theta{\\left(t \\right)}\\right)^{2} - m y_{cm} z_{cm} \\cos{\\left(\\theta{\\left(t \\right)} \\right)} \\frac{d^{2}}{d t^{2}} \\theta{\\left(t \\right)} - m y_{cm} \\sin{\\left(\\varphi{\\left(t \\right)} \\right)} \\frac{d^{2}}{d t^{2}} y{\\left(t \\right)} - m y_{cm} \\cos{\\left(\\varphi{\\left(t \\right)} \\right)} \\frac{d^{2}}{d t^{2}} x{\\left(t \\right)} + 2 m z_{cm}^{2} \\sin{\\left(2 \\theta{\\left(t \\right)} \\right)} \\frac{d}{d t} \\theta{\\left(t \\right)} \\frac{d}{d t} \\varphi{\\left(t \\right)} - m z_{cm}^{2} \\cos{\\left(2 \\theta{\\left(t \\right)} \\right)} \\frac{d^{2}}{d t^{2}} \\varphi{\\left(t \\right)} + m z_{cm}^{2} \\frac{d^{2}}{d t^{2}} \\varphi{\\left(t \\right)} + \\frac{m z_{cm} \\sin{\\left(\\theta{\\left(t \\right)} - \\varphi{\\left(t \\right)} \\right)} \\frac{d^{2}}{d t^{2}} y{\\left(t \\right)}}{2} + \\frac{m z_{cm} \\sin{\\left(\\theta{\\left(t \\right)} + \\varphi{\\left(t \\right)} \\right)} \\frac{d^{2}}{d t^{2}} y{\\left(t \\right)}}{2} - \\frac{m z_{cm} \\cos{\\left(\\theta{\\left(t \\right)} - \\varphi{\\left(t \\right)} \\right)} \\frac{d^{2}}{d t^{2}} x{\\left(t \\right)}}{2} + \\frac{m z_{cm} \\cos{\\left(\\theta{\\left(t \\right)} + \\varphi{\\left(t \\right)} \\right)} \\frac{d^{2}}{d t^{2}} x{\\left(t \\right)}}{2}\\end{matrix}\\right]$"
     },
     "metadata": {},
     "output_type": "display_data"
    }
   ],
   "execution_count": 39
  },
  {
   "metadata": {
    "ExecuteTime": {
     "end_time": "2025-08-06T19:38:44.017738Z",
     "start_time": "2025-08-06T19:38:27.664471Z"
    }
   },
   "cell_type": "code",
   "source": [
    "# Separate model into `M * Qi_ddot + H = Mii * Qi_ddot + Bi2 * Qi_dot**2 + Bij * Qi_dot * Qj_dot + Bi * Qi_dot + C` form\n",
    "dim = len(model)\n",
    "model_expand = sp.zeros(dim, 1)\n",
    "for i, eq in enumerate(model):\n",
    "    model_expand[i] = sp.expand(eq)\n",
    "\n",
    "Mii = sp.zeros(dim, dim)\n",
    "Bi2 = sp.zeros(dim, dim)\n",
    "Bij = sp.zeros(dim, dim)\n",
    "Bi = sp.zeros(dim, dim)\n",
    "C = sp.zeros(dim, 1)\n",
    "U = sp.zeros(dim, 1)\n",
    "\n",
    "# Collect coefficients for each second derivative term\n",
    "for i, eq in enumerate(model_expand):\n",
    "    subs_list = []\n",
    "\n",
    "    # Isolate second-order and squared first-order derivatives\n",
    "    for j, qi_dot in enumerate(cs_q.Qd):\n",
    "        Mii[i, j] = eq.coeff(cs_q.Qdd[j], 1)\n",
    "        subs_list += [(cs_q.Qdd[j], 0)]\n",
    "\n",
    "        Bi2[i, j] = eq.coeff(qi_dot, 2)\n",
    "        subs_list += [(qi_dot ** 2, 0)]\n",
    "\n",
    "    terms = sp.Add.make_args(eq)\n",
    "    for term in terms:\n",
    "        # Isolate second-order distinct derivatives\n",
    "        all_dot = [term.has(d) for d in cs_q.Qd]\n",
    "        idx_dot = [i for i in range(len(all_dot)) if all_dot[i] == True]\n",
    "        qi_dot = [d for d in all_dot if d == True]\n",
    "        if len(idx_dot) == 2:\n",
    "            for j in idx_dot:\n",
    "                Bij[i, j] += term.coeff(cs_q.Qd[j], 1) / len(idx_dot)\n",
    "                subs_list += [(term.coeff(cs_q.Qd[j], 1), 0)]\n",
    "\n",
    "        # Isolate first-order linear derivatives\n",
    "        for j, qi_dot in enumerate(cs_q.Qd):\n",
    "            if term.count(qi_dot) == 1:\n",
    "                other_derivs = [x for x in cs_q.Qd if x != qi_dot]\n",
    "                if not any(term.has(od) for od in other_derivs):\n",
    "                    Bi[i, j] += term.coeff(qi_dot, 1)\n",
    "                    subs_list += [(term.coeff(qi_dot, 1), 0)]\n",
    "\n",
    "        # Isolate zero-order derivatives\n",
    "        if (sum(term.count(qi_ddot) for qi_ddot in cs_q.Qdd) == 0) and (sum(term.count(qi_dot) for qi_dot in cs_q.Qd) == 0):\n",
    "            C[i] += term\n",
    "            subs_list += [(term, 0)]\n",
    "\n",
    "    model_expand[i] = eq.subs(subs_list)\n",
    "    model_expand[i] = sp.expand(model_expand[i])\n",
    "\n",
    "H = Bi2 * sp.Matrix([qi_dot ** 2 for qi_dot in cs_q.Qd]) + Bij * cs_q.Qd + Bi * cs_q.Qd + C + U\n",
    "H = sp.simplify(H)\n",
    "\n",
    "# Lambdify\n",
    "fn_M = sp.lambdify(args + params, Mii)\n",
    "fn_H = sp.lambdify(args + params, H)\n",
    "# U_fn = sp.lambdify(args + params, U)  # See [Solver](#solver).\n",
    "\n",
    "# Output\n",
    "Mii = sp.simplify(Mii)\n",
    "Bi2 = sp.simplify(Bi2)\n",
    "Bij = sp.simplify(Bij)\n",
    "Bi = sp.simplify(Bi)\n",
    "C = sp.simplify(C)\n",
    "\n",
    "display(Mii)\n",
    "display(Bi2)\n",
    "display(Bij)\n",
    "display(Bi)\n",
    "display(C)\n",
    "\n",
    "# Verification\n",
    "model_is_simplified = sp.simplify((Mii * cs_q.Qdd + Bi2 * sp.Matrix([qi_dot ** 2 for qi_dot in cs_q.Qd]) + Bij * cs_q.Qd + Bi * cs_q.Qd + C) - model) == sp.Matrix(dim * [0])\n",
    "print(model_is_simplified)"
   ],
   "outputs": [
    {
     "data": {
      "text/plain": [
       "Matrix([\n",
       "[                                                                                                          m,                                                                                                          0,                                                  0, m*(-x_{cm}*sin(\\theta(t)) + z_{cm}*cos(\\theta(t)))*cos(\\varphi(t)),                                      -m*(x_{cm}*sin(\\varphi(t))*cos(\\theta(t)) + y_{cm}*cos(\\varphi(t)) + z_{cm}*sin(\\theta(t))*sin(\\varphi(t)))],\n",
       "[                                                                                                          0,                                                                                                          m,                                                  0, m*(-x_{cm}*sin(\\theta(t)) + z_{cm}*cos(\\theta(t)))*sin(\\varphi(t)),                                       m*(x_{cm}*cos(\\theta(t))*cos(\\varphi(t)) - y_{cm}*sin(\\varphi(t)) + z_{cm}*sin(\\theta(t))*cos(\\varphi(t)))],\n",
       "[                                                                                                          0,                                                                                                          0,                                                  m,                 -m*(x_{cm}*cos(\\theta(t)) + z_{cm}*sin(\\theta(t))),                                                                                                                                                0],\n",
       "[                                         m*(-x_{cm}*sin(\\theta(t)) + z_{cm}*cos(\\theta(t)))*cos(\\varphi(t)),                                         m*(-x_{cm}*sin(\\theta(t)) + z_{cm}*cos(\\theta(t)))*sin(\\varphi(t)), -m*(x_{cm}*cos(\\theta(t)) + z_{cm}*sin(\\theta(t))),         I_r + 2*I_w*c_{\\theta} + 2*I_w + m*x_{cm}**2 + m*z_{cm}**2,                                                                                         m*y_{cm}*(x_{cm}*sin(\\theta(t)) - z_{cm}*cos(\\theta(t)))],\n",
       "[-m*(x_{cm}*sin(\\varphi(t))*cos(\\theta(t)) + y_{cm}*cos(\\varphi(t)) + z_{cm}*sin(\\theta(t))*sin(\\varphi(t))), m*(x_{cm}*cos(\\theta(t))*cos(\\varphi(t)) - y_{cm}*sin(\\varphi(t)) + z_{cm}*sin(\\theta(t))*cos(\\varphi(t))),                                                  0,           m*y_{cm}*(x_{cm}*sin(\\theta(t)) - z_{cm}*cos(\\theta(t))), I_z + m*x_{cm}**2*cos(2*\\theta(t)) + m*x_{cm}**2 + m*x_{cm}*z_{cm}*sin(2*\\theta(t)) + 2*m*y_{cm}**2 - m*z_{cm}**2*cos(2*\\theta(t)) + m*z_{cm}**2]])"
      ],
      "text/latex": "$\\displaystyle \\left[\\begin{matrix}m & 0 & 0 & m \\left(- x_{cm} \\sin{\\left(\\theta{\\left(t \\right)} \\right)} + z_{cm} \\cos{\\left(\\theta{\\left(t \\right)} \\right)}\\right) \\cos{\\left(\\varphi{\\left(t \\right)} \\right)} & - m \\left(x_{cm} \\sin{\\left(\\varphi{\\left(t \\right)} \\right)} \\cos{\\left(\\theta{\\left(t \\right)} \\right)} + y_{cm} \\cos{\\left(\\varphi{\\left(t \\right)} \\right)} + z_{cm} \\sin{\\left(\\theta{\\left(t \\right)} \\right)} \\sin{\\left(\\varphi{\\left(t \\right)} \\right)}\\right)\\\\0 & m & 0 & m \\left(- x_{cm} \\sin{\\left(\\theta{\\left(t \\right)} \\right)} + z_{cm} \\cos{\\left(\\theta{\\left(t \\right)} \\right)}\\right) \\sin{\\left(\\varphi{\\left(t \\right)} \\right)} & m \\left(x_{cm} \\cos{\\left(\\theta{\\left(t \\right)} \\right)} \\cos{\\left(\\varphi{\\left(t \\right)} \\right)} - y_{cm} \\sin{\\left(\\varphi{\\left(t \\right)} \\right)} + z_{cm} \\sin{\\left(\\theta{\\left(t \\right)} \\right)} \\cos{\\left(\\varphi{\\left(t \\right)} \\right)}\\right)\\\\0 & 0 & m & - m \\left(x_{cm} \\cos{\\left(\\theta{\\left(t \\right)} \\right)} + z_{cm} \\sin{\\left(\\theta{\\left(t \\right)} \\right)}\\right) & 0\\\\m \\left(- x_{cm} \\sin{\\left(\\theta{\\left(t \\right)} \\right)} + z_{cm} \\cos{\\left(\\theta{\\left(t \\right)} \\right)}\\right) \\cos{\\left(\\varphi{\\left(t \\right)} \\right)} & m \\left(- x_{cm} \\sin{\\left(\\theta{\\left(t \\right)} \\right)} + z_{cm} \\cos{\\left(\\theta{\\left(t \\right)} \\right)}\\right) \\sin{\\left(\\varphi{\\left(t \\right)} \\right)} & - m \\left(x_{cm} \\cos{\\left(\\theta{\\left(t \\right)} \\right)} + z_{cm} \\sin{\\left(\\theta{\\left(t \\right)} \\right)}\\right) & I_{r} + 2 I_{w} c_{\\theta} + 2 I_{w} + m x_{cm}^{2} + m z_{cm}^{2} & m y_{cm} \\left(x_{cm} \\sin{\\left(\\theta{\\left(t \\right)} \\right)} - z_{cm} \\cos{\\left(\\theta{\\left(t \\right)} \\right)}\\right)\\\\- m \\left(x_{cm} \\sin{\\left(\\varphi{\\left(t \\right)} \\right)} \\cos{\\left(\\theta{\\left(t \\right)} \\right)} + y_{cm} \\cos{\\left(\\varphi{\\left(t \\right)} \\right)} + z_{cm} \\sin{\\left(\\theta{\\left(t \\right)} \\right)} \\sin{\\left(\\varphi{\\left(t \\right)} \\right)}\\right) & m \\left(x_{cm} \\cos{\\left(\\theta{\\left(t \\right)} \\right)} \\cos{\\left(\\varphi{\\left(t \\right)} \\right)} - y_{cm} \\sin{\\left(\\varphi{\\left(t \\right)} \\right)} + z_{cm} \\sin{\\left(\\theta{\\left(t \\right)} \\right)} \\cos{\\left(\\varphi{\\left(t \\right)} \\right)}\\right) & 0 & m y_{cm} \\left(x_{cm} \\sin{\\left(\\theta{\\left(t \\right)} \\right)} - z_{cm} \\cos{\\left(\\theta{\\left(t \\right)} \\right)}\\right) & I_{z} + m x_{cm}^{2} \\cos{\\left(2 \\theta{\\left(t \\right)} \\right)} + m x_{cm}^{2} + m x_{cm} z_{cm} \\sin{\\left(2 \\theta{\\left(t \\right)} \\right)} + 2 m y_{cm}^{2} - m z_{cm}^{2} \\cos{\\left(2 \\theta{\\left(t \\right)} \\right)} + m z_{cm}^{2}\\end{matrix}\\right]$"
     },
     "metadata": {},
     "output_type": "display_data"
    },
    {
     "data": {
      "text/plain": [
       "Matrix([\n",
       "[0, 0, 0, -m*(x_{cm}*cos(\\theta(t)) + z_{cm}*sin(\\theta(t)))*cos(\\varphi(t)), m*(-x_{cm}*cos(\\theta(t))*cos(\\varphi(t)) + y_{cm}*sin(\\varphi(t)) - z_{cm}*sin(\\theta(t))*cos(\\varphi(t)))],\n",
       "[0, 0, 0, -m*(x_{cm}*cos(\\theta(t)) + z_{cm}*sin(\\theta(t)))*sin(\\varphi(t)), -m*(x_{cm}*sin(\\varphi(t))*cos(\\theta(t)) + y_{cm}*cos(\\varphi(t)) + z_{cm}*sin(\\theta(t))*sin(\\varphi(t)))],\n",
       "[0, 0, 0,                  m*(x_{cm}*sin(\\theta(t)) - z_{cm}*cos(\\theta(t))),                                                                                                           0],\n",
       "[0, 0, 0,                                                                  0,                m*(x_{cm}**2*sin(2*\\theta(t)) - x_{cm}*z_{cm}*cos(2*\\theta(t)) - z_{cm}**2*sin(2*\\theta(t)))],\n",
       "[0, 0, 0,           m*y_{cm}*(x_{cm}*cos(\\theta(t)) + z_{cm}*sin(\\theta(t))),                                                                                                           0]])"
      ],
      "text/latex": "$\\displaystyle \\left[\\begin{matrix}0 & 0 & 0 & - m \\left(x_{cm} \\cos{\\left(\\theta{\\left(t \\right)} \\right)} + z_{cm} \\sin{\\left(\\theta{\\left(t \\right)} \\right)}\\right) \\cos{\\left(\\varphi{\\left(t \\right)} \\right)} & m \\left(- x_{cm} \\cos{\\left(\\theta{\\left(t \\right)} \\right)} \\cos{\\left(\\varphi{\\left(t \\right)} \\right)} + y_{cm} \\sin{\\left(\\varphi{\\left(t \\right)} \\right)} - z_{cm} \\sin{\\left(\\theta{\\left(t \\right)} \\right)} \\cos{\\left(\\varphi{\\left(t \\right)} \\right)}\\right)\\\\0 & 0 & 0 & - m \\left(x_{cm} \\cos{\\left(\\theta{\\left(t \\right)} \\right)} + z_{cm} \\sin{\\left(\\theta{\\left(t \\right)} \\right)}\\right) \\sin{\\left(\\varphi{\\left(t \\right)} \\right)} & - m \\left(x_{cm} \\sin{\\left(\\varphi{\\left(t \\right)} \\right)} \\cos{\\left(\\theta{\\left(t \\right)} \\right)} + y_{cm} \\cos{\\left(\\varphi{\\left(t \\right)} \\right)} + z_{cm} \\sin{\\left(\\theta{\\left(t \\right)} \\right)} \\sin{\\left(\\varphi{\\left(t \\right)} \\right)}\\right)\\\\0 & 0 & 0 & m \\left(x_{cm} \\sin{\\left(\\theta{\\left(t \\right)} \\right)} - z_{cm} \\cos{\\left(\\theta{\\left(t \\right)} \\right)}\\right) & 0\\\\0 & 0 & 0 & 0 & m \\left(x_{cm}^{2} \\sin{\\left(2 \\theta{\\left(t \\right)} \\right)} - x_{cm} z_{cm} \\cos{\\left(2 \\theta{\\left(t \\right)} \\right)} - z_{cm}^{2} \\sin{\\left(2 \\theta{\\left(t \\right)} \\right)}\\right)\\\\0 & 0 & 0 & m y_{cm} \\left(x_{cm} \\cos{\\left(\\theta{\\left(t \\right)} \\right)} + z_{cm} \\sin{\\left(\\theta{\\left(t \\right)} \\right)}\\right) & 0\\end{matrix}\\right]$"
     },
     "metadata": {},
     "output_type": "display_data"
    },
    {
     "data": {
      "text/plain": [
       "Matrix([\n",
       "[0, 0, 0,                             m*(x_{cm}*sin(\\theta(t)) - z_{cm}*cos(\\theta(t)))*sin(\\varphi(t))*Derivative(\\varphi(t), t),                             m*(x_{cm}*sin(\\theta(t)) - z_{cm}*cos(\\theta(t)))*sin(\\varphi(t))*Derivative(\\theta(t), t)],\n",
       "[0, 0, 0,                            m*(-x_{cm}*sin(\\theta(t)) + z_{cm}*cos(\\theta(t)))*cos(\\varphi(t))*Derivative(\\varphi(t), t),                            m*(-x_{cm}*sin(\\theta(t)) + z_{cm}*cos(\\theta(t)))*cos(\\varphi(t))*Derivative(\\theta(t), t)],\n",
       "[0, 0, 0,                                                                                                                       0,                                                                                                                      0],\n",
       "[0, 0, 0,                                                                                                                       0,                                                                                                                      0],\n",
       "[0, 0, 0, m*(-x_{cm}**2*sin(2*\\theta(t)) + x_{cm}*z_{cm}*cos(2*\\theta(t)) + z_{cm}**2*sin(2*\\theta(t)))*Derivative(\\varphi(t), t), m*(-x_{cm}**2*sin(2*\\theta(t)) + x_{cm}*z_{cm}*cos(2*\\theta(t)) + z_{cm}**2*sin(2*\\theta(t)))*Derivative(\\theta(t), t)]])"
      ],
      "text/latex": "$\\displaystyle \\left[\\begin{matrix}0 & 0 & 0 & m \\left(x_{cm} \\sin{\\left(\\theta{\\left(t \\right)} \\right)} - z_{cm} \\cos{\\left(\\theta{\\left(t \\right)} \\right)}\\right) \\sin{\\left(\\varphi{\\left(t \\right)} \\right)} \\frac{d}{d t} \\varphi{\\left(t \\right)} & m \\left(x_{cm} \\sin{\\left(\\theta{\\left(t \\right)} \\right)} - z_{cm} \\cos{\\left(\\theta{\\left(t \\right)} \\right)}\\right) \\sin{\\left(\\varphi{\\left(t \\right)} \\right)} \\frac{d}{d t} \\theta{\\left(t \\right)}\\\\0 & 0 & 0 & m \\left(- x_{cm} \\sin{\\left(\\theta{\\left(t \\right)} \\right)} + z_{cm} \\cos{\\left(\\theta{\\left(t \\right)} \\right)}\\right) \\cos{\\left(\\varphi{\\left(t \\right)} \\right)} \\frac{d}{d t} \\varphi{\\left(t \\right)} & m \\left(- x_{cm} \\sin{\\left(\\theta{\\left(t \\right)} \\right)} + z_{cm} \\cos{\\left(\\theta{\\left(t \\right)} \\right)}\\right) \\cos{\\left(\\varphi{\\left(t \\right)} \\right)} \\frac{d}{d t} \\theta{\\left(t \\right)}\\\\0 & 0 & 0 & 0 & 0\\\\0 & 0 & 0 & 0 & 0\\\\0 & 0 & 0 & m \\left(- x_{cm}^{2} \\sin{\\left(2 \\theta{\\left(t \\right)} \\right)} + x_{cm} z_{cm} \\cos{\\left(2 \\theta{\\left(t \\right)} \\right)} + z_{cm}^{2} \\sin{\\left(2 \\theta{\\left(t \\right)} \\right)}\\right) \\frac{d}{d t} \\varphi{\\left(t \\right)} & m \\left(- x_{cm}^{2} \\sin{\\left(2 \\theta{\\left(t \\right)} \\right)} + x_{cm} z_{cm} \\cos{\\left(2 \\theta{\\left(t \\right)} \\right)} + z_{cm}^{2} \\sin{\\left(2 \\theta{\\left(t \\right)} \\right)}\\right) \\frac{d}{d t} \\theta{\\left(t \\right)}\\end{matrix}\\right]$"
     },
     "metadata": {},
     "output_type": "display_data"
    },
    {
     "data": {
      "text/plain": [
       "Matrix([\n",
       "[                                                                                                                                                                                                   \\rho*b_d/2,                                                                                                                                                                                                              0,                                                           0, \\rho*b_d*(-x_{cm}*sin(\\theta(t)) + sqrt(2)*z_{cm}*sin(\\theta(t) + pi/4))*cos(\\varphi(t))/2, -\\omega_l*d_w*m*sin(\\varphi(t))/4 - \\omega_r*d_w*m*sin(\\varphi(t))/4 - \\rho*b_d*x_{cm}*sin(\\varphi(t))*cos(\\theta(t))/2 - \\rho*b_d*y_{cm}*cos(\\varphi(t))/2 - \\rho*b_d*z_{cm}*sin(\\theta(t))*sin(\\varphi(t))/2],\n",
       "[                                                                                                                                                                                                            0,                                                                                                                                                                                                     \\rho*b_d/2,                                                           0, \\rho*b_d*(-x_{cm}*sin(\\theta(t)) + sqrt(2)*z_{cm}*sin(\\theta(t) + pi/4))*sin(\\varphi(t))/2,  \\omega_l*d_w*m*cos(\\varphi(t))/4 + \\omega_r*d_w*m*cos(\\varphi(t))/4 + \\rho*b_d*x_{cm}*cos(\\theta(t))*cos(\\varphi(t))/2 - \\rho*b_d*y_{cm}*sin(\\varphi(t))/2 + \\rho*b_d*z_{cm}*sin(\\theta(t))*cos(\\varphi(t))/2],\n",
       "[                                                                                                                                                                                                            0,                                                                                                                                                                                                              0,                                          \\rho*b_d/2 + 2*b_w,                 \\rho*b_d*(-x_{cm}*cos(\\theta(t)) + sqrt(2)*z_{cm}*cos(\\theta(t) + pi/4))/2,                                                                                                                                                                                                              0],\n",
       "[                                                                                                                                  \\rho*b_d*(-x_{cm}*sin(\\theta(t)) + z_{cm}*cos(\\theta(t)))*cos(\\varphi(t))/2,                                                                                                                                    \\rho*b_d*(-x_{cm}*sin(\\theta(t)) + z_{cm}*cos(\\theta(t)))*sin(\\varphi(t))/2, -\\rho*b_d*(x_{cm}*cos(\\theta(t)) + z_{cm}*sin(\\theta(t)))/2,      \\rho*b_d*x_{cm}**2/2 - \\rho*b_d*x_{cm}*z_{cm}/2 + \\rho*b_d*z_{cm}**2/2 + b_w*d_w**2/2,                                                                                                                                              \\rho*b_d*y_{cm}*(x_{cm}*sin(\\theta(t)) - z_{cm}*cos(\\theta(t)))/2],\n",
       "[\\omega_l*d_w*m*sin(\\varphi(t))/4 + \\omega_r*d_w*m*sin(\\varphi(t))/4 - \\rho*b_d*x_{cm}*sin(\\varphi(t))*cos(\\theta(t))/2 - \\rho*b_d*y_{cm}*cos(\\varphi(t))/2 - \\rho*b_d*z_{cm}*sin(\\theta(t))*sin(\\varphi(t))/2, -\\omega_l*d_w*m*cos(\\varphi(t))/4 - \\omega_r*d_w*m*cos(\\varphi(t))/4 + \\rho*b_d*x_{cm}*cos(\\theta(t))*cos(\\varphi(t))/2 - \\rho*b_d*y_{cm}*sin(\\varphi(t))/2 + \\rho*b_d*z_{cm}*sin(\\theta(t))*cos(\\varphi(t))/2,                                                           0,           \\rho*b_d*y_{cm}*(x_{cm}*sin(\\theta(t)) - sqrt(2)*z_{cm}*sin(\\theta(t) + pi/4))/2,                                                                  \\rho*b_d*(x_{cm}**2*cos(2*\\theta(t)) + x_{cm}**2 + 2*x_{cm}*z_{cm}*sin(2*\\theta(t)) + 2*y_{cm}**2 - z_{cm}**2*cos(2*\\theta(t)) + z_{cm}**2)/4]])"
      ],
      "text/latex": "$\\displaystyle \\left[\\begin{matrix}\\frac{\\rho b_{d}}{2} & 0 & 0 & \\frac{\\rho b_{d} \\left(- x_{cm} \\sin{\\left(\\theta{\\left(t \\right)} \\right)} + \\sqrt{2} z_{cm} \\sin{\\left(\\theta{\\left(t \\right)} + \\frac{\\pi}{4} \\right)}\\right) \\cos{\\left(\\varphi{\\left(t \\right)} \\right)}}{2} & - \\frac{\\omega_{l} d_{w} m \\sin{\\left(\\varphi{\\left(t \\right)} \\right)}}{4} - \\frac{\\omega_{r} d_{w} m \\sin{\\left(\\varphi{\\left(t \\right)} \\right)}}{4} - \\frac{\\rho b_{d} x_{cm} \\sin{\\left(\\varphi{\\left(t \\right)} \\right)} \\cos{\\left(\\theta{\\left(t \\right)} \\right)}}{2} - \\frac{\\rho b_{d} y_{cm} \\cos{\\left(\\varphi{\\left(t \\right)} \\right)}}{2} - \\frac{\\rho b_{d} z_{cm} \\sin{\\left(\\theta{\\left(t \\right)} \\right)} \\sin{\\left(\\varphi{\\left(t \\right)} \\right)}}{2}\\\\0 & \\frac{\\rho b_{d}}{2} & 0 & \\frac{\\rho b_{d} \\left(- x_{cm} \\sin{\\left(\\theta{\\left(t \\right)} \\right)} + \\sqrt{2} z_{cm} \\sin{\\left(\\theta{\\left(t \\right)} + \\frac{\\pi}{4} \\right)}\\right) \\sin{\\left(\\varphi{\\left(t \\right)} \\right)}}{2} & \\frac{\\omega_{l} d_{w} m \\cos{\\left(\\varphi{\\left(t \\right)} \\right)}}{4} + \\frac{\\omega_{r} d_{w} m \\cos{\\left(\\varphi{\\left(t \\right)} \\right)}}{4} + \\frac{\\rho b_{d} x_{cm} \\cos{\\left(\\theta{\\left(t \\right)} \\right)} \\cos{\\left(\\varphi{\\left(t \\right)} \\right)}}{2} - \\frac{\\rho b_{d} y_{cm} \\sin{\\left(\\varphi{\\left(t \\right)} \\right)}}{2} + \\frac{\\rho b_{d} z_{cm} \\sin{\\left(\\theta{\\left(t \\right)} \\right)} \\cos{\\left(\\varphi{\\left(t \\right)} \\right)}}{2}\\\\0 & 0 & \\frac{\\rho b_{d}}{2} + 2 b_{w} & \\frac{\\rho b_{d} \\left(- x_{cm} \\cos{\\left(\\theta{\\left(t \\right)} \\right)} + \\sqrt{2} z_{cm} \\cos{\\left(\\theta{\\left(t \\right)} + \\frac{\\pi}{4} \\right)}\\right)}{2} & 0\\\\\\frac{\\rho b_{d} \\left(- x_{cm} \\sin{\\left(\\theta{\\left(t \\right)} \\right)} + z_{cm} \\cos{\\left(\\theta{\\left(t \\right)} \\right)}\\right) \\cos{\\left(\\varphi{\\left(t \\right)} \\right)}}{2} & \\frac{\\rho b_{d} \\left(- x_{cm} \\sin{\\left(\\theta{\\left(t \\right)} \\right)} + z_{cm} \\cos{\\left(\\theta{\\left(t \\right)} \\right)}\\right) \\sin{\\left(\\varphi{\\left(t \\right)} \\right)}}{2} & - \\frac{\\rho b_{d} \\left(x_{cm} \\cos{\\left(\\theta{\\left(t \\right)} \\right)} + z_{cm} \\sin{\\left(\\theta{\\left(t \\right)} \\right)}\\right)}{2} & \\frac{\\rho b_{d} x_{cm}^{2}}{2} - \\frac{\\rho b_{d} x_{cm} z_{cm}}{2} + \\frac{\\rho b_{d} z_{cm}^{2}}{2} + \\frac{b_{w} d_{w}^{2}}{2} & \\frac{\\rho b_{d} y_{cm} \\left(x_{cm} \\sin{\\left(\\theta{\\left(t \\right)} \\right)} - z_{cm} \\cos{\\left(\\theta{\\left(t \\right)} \\right)}\\right)}{2}\\\\\\frac{\\omega_{l} d_{w} m \\sin{\\left(\\varphi{\\left(t \\right)} \\right)}}{4} + \\frac{\\omega_{r} d_{w} m \\sin{\\left(\\varphi{\\left(t \\right)} \\right)}}{4} - \\frac{\\rho b_{d} x_{cm} \\sin{\\left(\\varphi{\\left(t \\right)} \\right)} \\cos{\\left(\\theta{\\left(t \\right)} \\right)}}{2} - \\frac{\\rho b_{d} y_{cm} \\cos{\\left(\\varphi{\\left(t \\right)} \\right)}}{2} - \\frac{\\rho b_{d} z_{cm} \\sin{\\left(\\theta{\\left(t \\right)} \\right)} \\sin{\\left(\\varphi{\\left(t \\right)} \\right)}}{2} & - \\frac{\\omega_{l} d_{w} m \\cos{\\left(\\varphi{\\left(t \\right)} \\right)}}{4} - \\frac{\\omega_{r} d_{w} m \\cos{\\left(\\varphi{\\left(t \\right)} \\right)}}{4} + \\frac{\\rho b_{d} x_{cm} \\cos{\\left(\\theta{\\left(t \\right)} \\right)} \\cos{\\left(\\varphi{\\left(t \\right)} \\right)}}{2} - \\frac{\\rho b_{d} y_{cm} \\sin{\\left(\\varphi{\\left(t \\right)} \\right)}}{2} + \\frac{\\rho b_{d} z_{cm} \\sin{\\left(\\theta{\\left(t \\right)} \\right)} \\cos{\\left(\\varphi{\\left(t \\right)} \\right)}}{2} & 0 & \\frac{\\rho b_{d} y_{cm} \\left(x_{cm} \\sin{\\left(\\theta{\\left(t \\right)} \\right)} - \\sqrt{2} z_{cm} \\sin{\\left(\\theta{\\left(t \\right)} + \\frac{\\pi}{4} \\right)}\\right)}{2} & \\frac{\\rho b_{d} \\left(x_{cm}^{2} \\cos{\\left(2 \\theta{\\left(t \\right)} \\right)} + x_{cm}^{2} + 2 x_{cm} z_{cm} \\sin{\\left(2 \\theta{\\left(t \\right)} \\right)} + 2 y_{cm}^{2} - z_{cm}^{2} \\cos{\\left(2 \\theta{\\left(t \\right)} \\right)} + z_{cm}^{2}\\right)}{4}\\end{matrix}\\right]$"
     },
     "metadata": {},
     "output_type": "display_data"
    },
    {
     "data": {
      "text/plain": [
       "Matrix([\n",
       "[                                                                                                                                                                                                                                                  \\rho*b_d*d_w*(\\omega_l + \\omega_r)*cos(\\varphi(t))/8],\n",
       "[                                                                                                                                                                                                                                                  \\rho*b_d*d_w*(\\omega_l + \\omega_r)*sin(\\varphi(t))/8],\n",
       "[                                                                                                                                                                                                                                                                                                   g*m],\n",
       "[-\\omega_l*\\rho*b_d*d_w*x_{cm}*sin(\\theta(t))/8 + \\omega_l*\\rho*b_d*d_w*z_{cm}*cos(\\theta(t))/8 + \\omega_l*b_w*d_w**2/4 - \\omega_r*\\rho*b_d*d_w*x_{cm}*sin(\\theta(t))/8 + \\omega_r*\\rho*b_d*d_w*z_{cm}*cos(\\theta(t))/8 + \\omega_r*b_w*d_w**2/4 - g*m*x_{cm}*cos(\\theta(t)) - g*m*z_{cm}*sin(\\theta(t))],\n",
       "[                                                                                                                                                                                                                                                          \\rho*b_d*d_w*y_{cm}*(-\\omega_l - \\omega_r)/8]])"
      ],
      "text/latex": "$\\displaystyle \\left[\\begin{matrix}\\frac{\\rho b_{d} d_{w} \\left(\\omega_{l} + \\omega_{r}\\right) \\cos{\\left(\\varphi{\\left(t \\right)} \\right)}}{8}\\\\\\frac{\\rho b_{d} d_{w} \\left(\\omega_{l} + \\omega_{r}\\right) \\sin{\\left(\\varphi{\\left(t \\right)} \\right)}}{8}\\\\g m\\\\- \\frac{\\omega_{l} \\rho b_{d} d_{w} x_{cm} \\sin{\\left(\\theta{\\left(t \\right)} \\right)}}{8} + \\frac{\\omega_{l} \\rho b_{d} d_{w} z_{cm} \\cos{\\left(\\theta{\\left(t \\right)} \\right)}}{8} + \\frac{\\omega_{l} b_{w} d_{w}^{2}}{4} - \\frac{\\omega_{r} \\rho b_{d} d_{w} x_{cm} \\sin{\\left(\\theta{\\left(t \\right)} \\right)}}{8} + \\frac{\\omega_{r} \\rho b_{d} d_{w} z_{cm} \\cos{\\left(\\theta{\\left(t \\right)} \\right)}}{8} + \\frac{\\omega_{r} b_{w} d_{w}^{2}}{4} - g m x_{cm} \\cos{\\left(\\theta{\\left(t \\right)} \\right)} - g m z_{cm} \\sin{\\left(\\theta{\\left(t \\right)} \\right)}\\\\\\frac{\\rho b_{d} d_{w} y_{cm} \\left(- \\omega_{l} - \\omega_{r}\\right)}{8}\\end{matrix}\\right]$"
     },
     "metadata": {},
     "output_type": "display_data"
    },
    {
     "name": "stdout",
     "output_type": "stream",
     "text": [
      "True\n"
     ]
    }
   ],
   "execution_count": 40
  },
  {
   "metadata": {
    "ExecuteTime": {
     "end_time": "2025-08-06T19:38:44.107052Z",
     "start_time": "2025-08-06T19:38:44.105274Z"
    }
   },
   "cell_type": "code",
   "source": [
    "# See [Solver](#solver).\n",
    "# U = Mii.LUsolve(-H)\n",
    "#\n",
    "# # Output\n",
    "# U = sp.simplify(U)\n",
    "# U"
   ],
   "outputs": [],
   "execution_count": 41
  },
  {
   "metadata": {},
   "cell_type": "markdown",
   "source": [
    "#### First-order representation\n",
    "\n",
    "The first-order representation of the system is obtained by substituting\n",
    "\n",
    "$$\n",
    "\\begin{aligned}\n",
    "\\hat{x} = \\frac{d}{dt} x(t) \\\\\n",
    "\\hat{y} = \\frac{d}{dt} y(t) \\\\\n",
    "\\hat{z} = \\frac{d}{dt} z(t) \\\\\n",
    "\\hat{\\theta} = \\frac{d}{dt} \\theta(t) \\\\\n",
    "\\hat{\\varphi} = \\frac{d}{dt} \\varphi(t) \\\\\n",
    "\\end{aligned}\n",
    "$$\n",
    "\n",
    "which is need in some ordinary differential equations (ODE) and differential algebraic equations (DAE) solvers."
   ]
  },
  {
   "metadata": {
    "ExecuteTime": {
     "end_time": "2025-08-06T19:38:44.154766Z",
     "start_time": "2025-08-06T19:38:44.151466Z"
    }
   },
   "cell_type": "code",
   "source": [
    "xd1 = sp.Function(r\"\\hat{x}\")(t)\n",
    "yd1 = sp.Function(r\"\\hat{y}\")(t)\n",
    "zd1 = sp.Function(r\"\\hat{z}\")(t)\n",
    "td1 = sp.Function(r\"\\hat{\\theta}\")(t)\n",
    "pd1 = sp.Function(r\"\\hat{\\varphi}\")(t)\n",
    "\n",
    "subs_1ord = {\n",
    "    cs_q.xd: xd1,\n",
    "    cs_q.yd: yd1,\n",
    "    cs_q.zd: zd1,\n",
    "    cs_q.thetad: td1,\n",
    "    cs_q.phid: pd1,\n",
    "}\n",
    "\n",
    "subs_1ord_keys = list(subs_1ord.keys())\n",
    "subs_1ord_vals = list(subs_1ord.values())"
   ],
   "outputs": [],
   "execution_count": 42
  },
  {
   "metadata": {
    "ExecuteTime": {
     "end_time": "2025-08-06T19:38:44.345737Z",
     "start_time": "2025-08-06T19:38:44.201478Z"
    }
   },
   "cell_type": "code",
   "source": [
    "model_1ord = sp.Matrix([\n",
    "    *(k - v for k, v in zip(subs_1ord_keys, subs_1ord_vals)),\n",
    "    *(expr.subs(subs_1ord) for expr in model)\n",
    "])\n",
    "\n",
    "# Output\n",
    "model_1ord"
   ],
   "outputs": [
    {
     "data": {
      "text/plain": [
       "Matrix([\n",
       "[                                                                                                                                                                                                                                                                                                                                                                                                                                                                                                                                                                                                                                                                                                                                                                                                                                                                                                                                                                                                                                                                                                                                                                                                                                                                                                                                                                                                                                                                                                                                                                                                                                                                                                                                                                                                                                                                                                                                                                                                                                                                                                                                                                                                                                                                                                                                                                                                                                                                                                                                                                                                                                                                                                                                                             -\\hat{x}(t) + Derivative(x(t), t)],\n",
       "[                                                                                                                                                                                                                                                                                                                                                                                                                                                                                                                                                                                                                                                                                                                                                                                                                                                                                                                                                                                                                                                                                                                                                                                                                                                                                                                                                                                                                                                                                                                                                                                                                                                                                                                                                                                                                                                                                                                                                                                                                                                                                                                                                                                                                                                                                                                                                                                                                                                                                                                                                                                                                                                                                                                                                             -\\hat{y}(t) + Derivative(y(t), t)],\n",
       "[                                                                                                                                                                                                                                                                                                                                                                                                                                                                                                                                                                                                                                                                                                                                                                                                                                                                                                                                                                                                                                                                                                                                                                                                                                                                                                                                                                                                                                                                                                                                                                                                                                                                                                                                                                                                                                                                                                                                                                                                                                                                                                                                                                                                                                                                                                                                                                                                                                                                                                                                                                                                                                                                                                                                                             -\\hat{z}(t) + Derivative(z(t), t)],\n",
       "[                                                                                                                                                                                                                                                                                                                                                                                                                                                                                                                                                                                                                                                                                                                                                                                                                                                                                                                                                                                                                                                                                                                                                                                                                                                                                                                                                                                                                                                                                                                                                                                                                                                                                                                                                                                                                                                                                                                                                                                                                                                                                                                                                                                                                                                                                                                                                                                                                                                                                                                                                                                                                                                                                                                                                   -\\hat{\\theta}(t) + Derivative(\\theta(t), t)],\n",
       "[                                                                                                                                                                                                                                                                                                                                                                                                                                                                                                                                                                                                                                                                                                                                                                                                                                                                                                                                                                                                                                                                                                                                                                                                                                                                                                                                                                                                                                                                                                                                                                                                                                                                                                                                                                                                                                                                                                                                                                                                                                                                                                                                                                                                                                                                                                                                                                                                                                                                                                                                                                                                                                                                                                                                                 -\\hat{\\varphi}(t) + Derivative(\\varphi(t), t)],\n",
       "[                                                                                                                                                                                                                                                                                                                                                                                                                                                                                                                                                                                                                                                                                                                                                                                                                                                                                                                                                                                                                                                                                                                                                                                                                                                                                                                                                                                                                                                                     \\rho*b_d*(\\omega_l*d_w*cos(\\varphi(t)) + \\omega_r*d_w*cos(\\varphi(t)) - 4*x_{cm}*\\hat{\\theta}(t)*sin(\\theta(t))*cos(\\varphi(t)) - 4*x_{cm}*\\hat{\\varphi}(t)*sin(\\varphi(t))*cos(\\theta(t)) - 4*y_{cm}*\\hat{\\varphi}(t)*cos(\\varphi(t)) + 4*sqrt(2)*z_{cm}*\\hat{\\theta}(t)*sin(\\theta(t) + pi/4)*cos(\\varphi(t)) - 4*z_{cm}*\\hat{\\varphi}(t)*sin(\\theta(t))*sin(\\varphi(t)) + 4*\\hat{x}(t))/8 - m*(d_w*(\\omega_l + \\omega_r)*\\hat{\\varphi}(t)*sin(\\varphi(t)) + 4*x_{cm}*\\hat{\\theta}(t)**2*cos(\\theta(t))*cos(\\varphi(t)) - 8*x_{cm}*\\hat{\\theta}(t)*\\hat{\\varphi}(t)*sin(\\theta(t))*sin(\\varphi(t)) + 4*x_{cm}*\\hat{\\varphi}(t)**2*cos(\\theta(t))*cos(\\varphi(t)) + 4*x_{cm}*sin(\\theta(t))*cos(\\varphi(t))*Derivative(\\hat{\\theta}(t), t) + 4*x_{cm}*sin(\\varphi(t))*cos(\\theta(t))*Derivative(\\hat{\\varphi}(t), t) - 4*y_{cm}*\\hat{\\varphi}(t)**2*sin(\\varphi(t)) + 4*y_{cm}*cos(\\varphi(t))*Derivative(\\hat{\\varphi}(t), t) + 4*z_{cm}*\\hat{\\theta}(t)**2*sin(\\theta(t))*cos(\\varphi(t)) + 8*z_{cm}*\\hat{\\theta}(t)*\\hat{\\varphi}(t)*sin(\\varphi(t))*cos(\\theta(t)) + 4*z_{cm}*\\hat{\\varphi}(t)**2*sin(\\theta(t))*cos(\\varphi(t)) + 4*z_{cm}*sin(\\theta(t))*sin(\\varphi(t))*Derivative(\\hat{\\varphi}(t), t) - 4*z_{cm}*cos(\\theta(t))*cos(\\varphi(t))*Derivative(\\hat{\\theta}(t), t) - 4*Derivative(\\hat{x}(t), t))/4],\n",
       "[                                                                                                                                                                                                                                                                                                                                                                                                                                                                                                                                                                                                                                                                                                                                                                                                                                                                                                                                                                                                                                                                                                                                                                                                                                                                                                                                                                                                                                                                    \\rho*b_d*(\\omega_l*d_w*sin(\\varphi(t)) + \\omega_r*d_w*sin(\\varphi(t)) - 4*x_{cm}*\\hat{\\theta}(t)*sin(\\theta(t))*sin(\\varphi(t)) + 4*x_{cm}*\\hat{\\varphi}(t)*cos(\\theta(t))*cos(\\varphi(t)) - 4*y_{cm}*\\hat{\\varphi}(t)*sin(\\varphi(t)) + 4*sqrt(2)*z_{cm}*\\hat{\\theta}(t)*sin(\\theta(t) + pi/4)*sin(\\varphi(t)) + 4*z_{cm}*\\hat{\\varphi}(t)*sin(\\theta(t))*cos(\\varphi(t)) + 4*\\hat{y}(t))/8 - m*(-d_w*(\\omega_l + \\omega_r)*\\hat{\\varphi}(t)*cos(\\varphi(t)) + 4*x_{cm}*\\hat{\\theta}(t)**2*sin(\\varphi(t))*cos(\\theta(t)) + 8*x_{cm}*\\hat{\\theta}(t)*\\hat{\\varphi}(t)*sin(\\theta(t))*cos(\\varphi(t)) + 4*x_{cm}*\\hat{\\varphi}(t)**2*sin(\\varphi(t))*cos(\\theta(t)) + 4*x_{cm}*sin(\\theta(t))*sin(\\varphi(t))*Derivative(\\hat{\\theta}(t), t) - 4*x_{cm}*cos(\\theta(t))*cos(\\varphi(t))*Derivative(\\hat{\\varphi}(t), t) + 4*y_{cm}*\\hat{\\varphi}(t)**2*cos(\\varphi(t)) + 4*y_{cm}*sin(\\varphi(t))*Derivative(\\hat{\\varphi}(t), t) + 4*z_{cm}*\\hat{\\theta}(t)**2*sin(\\theta(t))*sin(\\varphi(t)) - 8*z_{cm}*\\hat{\\theta}(t)*\\hat{\\varphi}(t)*cos(\\theta(t))*cos(\\varphi(t)) + 4*z_{cm}*\\hat{\\varphi}(t)**2*sin(\\theta(t))*sin(\\varphi(t)) - 4*z_{cm}*sin(\\theta(t))*cos(\\varphi(t))*Derivative(\\hat{\\varphi}(t), t) - 4*z_{cm}*sin(\\varphi(t))*cos(\\theta(t))*Derivative(\\hat{\\theta}(t), t) - 4*Derivative(\\hat{y}(t), t))/4],\n",
       "[                                                                                                                                                                                                                                                                                                                                                                                                                                                                                                                                                                                                                                                                                                                                                                                                                                                                                                                                                                                                                                                                                                                                                                                                                                                                                                                                                                                                                                                                                                                                                                                                                                                                                                                                                                                                                                                                                                                                                                                                                                                                                                                                                                                                                                                                                                                                                                                                         \\rho*b_d*(-x_{cm}*\\hat{\\theta}(t)*cos(\\theta(t)) + sqrt(2)*z_{cm}*\\hat{\\theta}(t)*cos(\\theta(t) + pi/4) + \\hat{z}(t))/2 + 2*b_w*\\hat{z}(t) + g*m - m*(-x_{cm}*\\hat{\\theta}(t)**2*sin(\\theta(t)) + x_{cm}*cos(\\theta(t))*Derivative(\\hat{\\theta}(t), t) + z_{cm}*\\hat{\\theta}(t)**2*cos(\\theta(t)) + z_{cm}*sin(\\theta(t))*Derivative(\\hat{\\theta}(t), t) - Derivative(\\hat{z}(t), t))],\n",
       "[                                                                                                                                                                                                                                                                                                                                                                                                                                I_r*Derivative(\\hat{\\theta}(t), t) + 2*I_w*c_{\\theta}*Derivative(\\hat{\\theta}(t), t) + 2*I_w*Derivative(\\hat{\\theta}(t), t) - \\omega_l*\\rho*b_d*d_w*x_{cm}*sin(\\theta(t))/8 + \\omega_l*\\rho*b_d*d_w*z_{cm}*cos(\\theta(t))/8 + \\omega_l*b_w*d_w**2/4 - \\omega_r*\\rho*b_d*d_w*x_{cm}*sin(\\theta(t))/8 + \\omega_r*\\rho*b_d*d_w*z_{cm}*cos(\\theta(t))/8 + \\omega_r*b_w*d_w**2/4 + \\rho*b_d*x_{cm}**2*\\hat{\\theta}(t)/2 + \\rho*b_d*x_{cm}*y_{cm}*\\hat{\\varphi}(t)*sin(\\theta(t))/2 - \\rho*b_d*x_{cm}*z_{cm}*\\hat{\\theta}(t)/2 - \\rho*b_d*x_{cm}*\\hat{x}(t)*sin(\\theta(t) - \\varphi(t))/4 - \\rho*b_d*x_{cm}*\\hat{x}(t)*sin(\\theta(t) + \\varphi(t))/4 - \\rho*b_d*x_{cm}*\\hat{y}(t)*cos(\\theta(t) - \\varphi(t))/4 + \\rho*b_d*x_{cm}*\\hat{y}(t)*cos(\\theta(t) + \\varphi(t))/4 - \\rho*b_d*x_{cm}*\\hat{z}(t)*cos(\\theta(t))/2 - \\rho*b_d*y_{cm}*z_{cm}*\\hat{\\varphi}(t)*cos(\\theta(t))/2 + \\rho*b_d*z_{cm}**2*\\hat{\\theta}(t)/2 + \\rho*b_d*z_{cm}*\\hat{x}(t)*cos(\\theta(t) - \\varphi(t))/4 + \\rho*b_d*z_{cm}*\\hat{x}(t)*cos(\\theta(t) + \\varphi(t))/4 - \\rho*b_d*z_{cm}*\\hat{y}(t)*sin(\\theta(t) - \\varphi(t))/4 + \\rho*b_d*z_{cm}*\\hat{y}(t)*sin(\\theta(t) + \\varphi(t))/4 - \\rho*b_d*z_{cm}*\\hat{z}(t)*sin(\\theta(t))/2 + b_w*d_w**2*\\hat{\\theta}(t)/2 - g*m*x_{cm}*cos(\\theta(t)) - g*m*z_{cm}*sin(\\theta(t)) + m*x_{cm}**2*\\hat{\\varphi}(t)**2*sin(2*\\theta(t)) + m*x_{cm}**2*Derivative(\\hat{\\theta}(t), t) + m*x_{cm}*y_{cm}*sin(\\theta(t))*Derivative(\\hat{\\varphi}(t), t) - m*x_{cm}*z_{cm}*\\hat{\\varphi}(t)**2*cos(2*\\theta(t)) - m*x_{cm}*sin(\\theta(t) - \\varphi(t))*Derivative(\\hat{x}(t), t)/2 - m*x_{cm}*sin(\\theta(t) + \\varphi(t))*Derivative(\\hat{x}(t), t)/2 - m*x_{cm}*cos(\\theta(t) - \\varphi(t))*Derivative(\\hat{y}(t), t)/2 + m*x_{cm}*cos(\\theta(t) + \\varphi(t))*Derivative(\\hat{y}(t), t)/2 - m*x_{cm}*cos(\\theta(t))*Derivative(\\hat{z}(t), t) - m*y_{cm}*z_{cm}*cos(\\theta(t))*Derivative(\\hat{\\varphi}(t), t) - m*z_{cm}**2*\\hat{\\varphi}(t)**2*sin(2*\\theta(t)) + m*z_{cm}**2*Derivative(\\hat{\\theta}(t), t) - m*z_{cm}*sin(\\theta(t) - \\varphi(t))*Derivative(\\hat{y}(t), t)/2 + m*z_{cm}*sin(\\theta(t) + \\varphi(t))*Derivative(\\hat{y}(t), t)/2 - m*z_{cm}*sin(\\theta(t))*Derivative(\\hat{z}(t), t) + m*z_{cm}*cos(\\theta(t) - \\varphi(t))*Derivative(\\hat{x}(t), t)/2 + m*z_{cm}*cos(\\theta(t) + \\varphi(t))*Derivative(\\hat{x}(t), t)/2],\n",
       "[I_z*Derivative(\\hat{\\varphi}(t), t) - \\omega_l*\\rho*b_d*d_w*y_{cm}/8 + \\omega_l*d_w*m*\\hat{x}(t)*sin(\\varphi(t))/4 - \\omega_l*d_w*m*\\hat{y}(t)*cos(\\varphi(t))/4 - \\omega_r*\\rho*b_d*d_w*y_{cm}/8 + \\omega_r*d_w*m*\\hat{x}(t)*sin(\\varphi(t))/4 - \\omega_r*d_w*m*\\hat{y}(t)*cos(\\varphi(t))/4 + \\rho*b_d*x_{cm}**2*\\hat{\\varphi}(t)*cos(2*\\theta(t))/4 + \\rho*b_d*x_{cm}**2*\\hat{\\varphi}(t)/4 + \\rho*b_d*x_{cm}*y_{cm}*\\hat{\\theta}(t)*sin(\\theta(t))/2 + \\rho*b_d*x_{cm}*z_{cm}*\\hat{\\varphi}(t)*sin(2*\\theta(t))/2 + \\rho*b_d*x_{cm}*\\hat{x}(t)*sin(\\theta(t) - \\varphi(t))/4 - \\rho*b_d*x_{cm}*\\hat{x}(t)*sin(\\theta(t) + \\varphi(t))/4 + \\rho*b_d*x_{cm}*\\hat{y}(t)*cos(\\theta(t) - \\varphi(t))/4 + \\rho*b_d*x_{cm}*\\hat{y}(t)*cos(\\theta(t) + \\varphi(t))/4 + \\rho*b_d*y_{cm}**2*\\hat{\\varphi}(t)/2 - sqrt(2)*\\rho*b_d*y_{cm}*z_{cm}*\\hat{\\theta}(t)*sin(\\theta(t) + pi/4)/2 - \\rho*b_d*y_{cm}*\\hat{x}(t)*cos(\\varphi(t))/2 - \\rho*b_d*y_{cm}*\\hat{y}(t)*sin(\\varphi(t))/2 - \\rho*b_d*z_{cm}**2*\\hat{\\varphi}(t)*cos(2*\\theta(t))/4 + \\rho*b_d*z_{cm}**2*\\hat{\\varphi}(t)/4 - \\rho*b_d*z_{cm}*\\hat{x}(t)*cos(\\theta(t) - \\varphi(t))/4 + \\rho*b_d*z_{cm}*\\hat{x}(t)*cos(\\theta(t) + \\varphi(t))/4 + \\rho*b_d*z_{cm}*\\hat{y}(t)*sin(\\theta(t) - \\varphi(t))/4 + \\rho*b_d*z_{cm}*\\hat{y}(t)*sin(\\theta(t) + \\varphi(t))/4 - 2*m*x_{cm}**2*\\hat{\\theta}(t)*\\hat{\\varphi}(t)*sin(2*\\theta(t)) + m*x_{cm}**2*cos(2*\\theta(t))*Derivative(\\hat{\\varphi}(t), t) + m*x_{cm}**2*Derivative(\\hat{\\varphi}(t), t) + m*x_{cm}*y_{cm}*\\hat{\\theta}(t)**2*cos(\\theta(t)) + m*x_{cm}*y_{cm}*sin(\\theta(t))*Derivative(\\hat{\\theta}(t), t) + 2*m*x_{cm}*z_{cm}*\\hat{\\theta}(t)*\\hat{\\varphi}(t)*cos(2*\\theta(t)) + m*x_{cm}*z_{cm}*sin(2*\\theta(t))*Derivative(\\hat{\\varphi}(t), t) + m*x_{cm}*sin(\\theta(t) - \\varphi(t))*Derivative(\\hat{x}(t), t)/2 - m*x_{cm}*sin(\\theta(t) + \\varphi(t))*Derivative(\\hat{x}(t), t)/2 + m*x_{cm}*cos(\\theta(t) - \\varphi(t))*Derivative(\\hat{y}(t), t)/2 + m*x_{cm}*cos(\\theta(t) + \\varphi(t))*Derivative(\\hat{y}(t), t)/2 + 2*m*y_{cm}**2*Derivative(\\hat{\\varphi}(t), t) + m*y_{cm}*z_{cm}*\\hat{\\theta}(t)**2*sin(\\theta(t)) - m*y_{cm}*z_{cm}*cos(\\theta(t))*Derivative(\\hat{\\theta}(t), t) - m*y_{cm}*sin(\\varphi(t))*Derivative(\\hat{y}(t), t) - m*y_{cm}*cos(\\varphi(t))*Derivative(\\hat{x}(t), t) + 2*m*z_{cm}**2*\\hat{\\theta}(t)*\\hat{\\varphi}(t)*sin(2*\\theta(t)) - m*z_{cm}**2*cos(2*\\theta(t))*Derivative(\\hat{\\varphi}(t), t) + m*z_{cm}**2*Derivative(\\hat{\\varphi}(t), t) + m*z_{cm}*sin(\\theta(t) - \\varphi(t))*Derivative(\\hat{y}(t), t)/2 + m*z_{cm}*sin(\\theta(t) + \\varphi(t))*Derivative(\\hat{y}(t), t)/2 - m*z_{cm}*cos(\\theta(t) - \\varphi(t))*Derivative(\\hat{x}(t), t)/2 + m*z_{cm}*cos(\\theta(t) + \\varphi(t))*Derivative(\\hat{x}(t), t)/2]])"
      ],
      "text/latex": "$\\displaystyle \\left[\\begin{matrix}- \\hat{x}{\\left(t \\right)} + \\frac{d}{d t} x{\\left(t \\right)}\\\\- \\hat{y}{\\left(t \\right)} + \\frac{d}{d t} y{\\left(t \\right)}\\\\- \\hat{z}{\\left(t \\right)} + \\frac{d}{d t} z{\\left(t \\right)}\\\\- \\hat{\\theta}{\\left(t \\right)} + \\frac{d}{d t} \\theta{\\left(t \\right)}\\\\- \\hat{\\varphi}{\\left(t \\right)} + \\frac{d}{d t} \\varphi{\\left(t \\right)}\\\\\\frac{\\rho b_{d} \\left(\\omega_{l} d_{w} \\cos{\\left(\\varphi{\\left(t \\right)} \\right)} + \\omega_{r} d_{w} \\cos{\\left(\\varphi{\\left(t \\right)} \\right)} - 4 x_{cm} \\hat{\\theta}{\\left(t \\right)} \\sin{\\left(\\theta{\\left(t \\right)} \\right)} \\cos{\\left(\\varphi{\\left(t \\right)} \\right)} - 4 x_{cm} \\hat{\\varphi}{\\left(t \\right)} \\sin{\\left(\\varphi{\\left(t \\right)} \\right)} \\cos{\\left(\\theta{\\left(t \\right)} \\right)} - 4 y_{cm} \\hat{\\varphi}{\\left(t \\right)} \\cos{\\left(\\varphi{\\left(t \\right)} \\right)} + 4 \\sqrt{2} z_{cm} \\hat{\\theta}{\\left(t \\right)} \\sin{\\left(\\theta{\\left(t \\right)} + \\frac{\\pi}{4} \\right)} \\cos{\\left(\\varphi{\\left(t \\right)} \\right)} - 4 z_{cm} \\hat{\\varphi}{\\left(t \\right)} \\sin{\\left(\\theta{\\left(t \\right)} \\right)} \\sin{\\left(\\varphi{\\left(t \\right)} \\right)} + 4 \\hat{x}{\\left(t \\right)}\\right)}{8} - \\frac{m \\left(d_{w} \\left(\\omega_{l} + \\omega_{r}\\right) \\hat{\\varphi}{\\left(t \\right)} \\sin{\\left(\\varphi{\\left(t \\right)} \\right)} + 4 x_{cm} \\hat{\\theta}^{2}{\\left(t \\right)} \\cos{\\left(\\theta{\\left(t \\right)} \\right)} \\cos{\\left(\\varphi{\\left(t \\right)} \\right)} - 8 x_{cm} \\hat{\\theta}{\\left(t \\right)} \\hat{\\varphi}{\\left(t \\right)} \\sin{\\left(\\theta{\\left(t \\right)} \\right)} \\sin{\\left(\\varphi{\\left(t \\right)} \\right)} + 4 x_{cm} \\hat{\\varphi}^{2}{\\left(t \\right)} \\cos{\\left(\\theta{\\left(t \\right)} \\right)} \\cos{\\left(\\varphi{\\left(t \\right)} \\right)} + 4 x_{cm} \\sin{\\left(\\theta{\\left(t \\right)} \\right)} \\cos{\\left(\\varphi{\\left(t \\right)} \\right)} \\frac{d}{d t} \\hat{\\theta}{\\left(t \\right)} + 4 x_{cm} \\sin{\\left(\\varphi{\\left(t \\right)} \\right)} \\cos{\\left(\\theta{\\left(t \\right)} \\right)} \\frac{d}{d t} \\hat{\\varphi}{\\left(t \\right)} - 4 y_{cm} \\hat{\\varphi}^{2}{\\left(t \\right)} \\sin{\\left(\\varphi{\\left(t \\right)} \\right)} + 4 y_{cm} \\cos{\\left(\\varphi{\\left(t \\right)} \\right)} \\frac{d}{d t} \\hat{\\varphi}{\\left(t \\right)} + 4 z_{cm} \\hat{\\theta}^{2}{\\left(t \\right)} \\sin{\\left(\\theta{\\left(t \\right)} \\right)} \\cos{\\left(\\varphi{\\left(t \\right)} \\right)} + 8 z_{cm} \\hat{\\theta}{\\left(t \\right)} \\hat{\\varphi}{\\left(t \\right)} \\sin{\\left(\\varphi{\\left(t \\right)} \\right)} \\cos{\\left(\\theta{\\left(t \\right)} \\right)} + 4 z_{cm} \\hat{\\varphi}^{2}{\\left(t \\right)} \\sin{\\left(\\theta{\\left(t \\right)} \\right)} \\cos{\\left(\\varphi{\\left(t \\right)} \\right)} + 4 z_{cm} \\sin{\\left(\\theta{\\left(t \\right)} \\right)} \\sin{\\left(\\varphi{\\left(t \\right)} \\right)} \\frac{d}{d t} \\hat{\\varphi}{\\left(t \\right)} - 4 z_{cm} \\cos{\\left(\\theta{\\left(t \\right)} \\right)} \\cos{\\left(\\varphi{\\left(t \\right)} \\right)} \\frac{d}{d t} \\hat{\\theta}{\\left(t \\right)} - 4 \\frac{d}{d t} \\hat{x}{\\left(t \\right)}\\right)}{4}\\\\\\frac{\\rho b_{d} \\left(\\omega_{l} d_{w} \\sin{\\left(\\varphi{\\left(t \\right)} \\right)} + \\omega_{r} d_{w} \\sin{\\left(\\varphi{\\left(t \\right)} \\right)} - 4 x_{cm} \\hat{\\theta}{\\left(t \\right)} \\sin{\\left(\\theta{\\left(t \\right)} \\right)} \\sin{\\left(\\varphi{\\left(t \\right)} \\right)} + 4 x_{cm} \\hat{\\varphi}{\\left(t \\right)} \\cos{\\left(\\theta{\\left(t \\right)} \\right)} \\cos{\\left(\\varphi{\\left(t \\right)} \\right)} - 4 y_{cm} \\hat{\\varphi}{\\left(t \\right)} \\sin{\\left(\\varphi{\\left(t \\right)} \\right)} + 4 \\sqrt{2} z_{cm} \\hat{\\theta}{\\left(t \\right)} \\sin{\\left(\\theta{\\left(t \\right)} + \\frac{\\pi}{4} \\right)} \\sin{\\left(\\varphi{\\left(t \\right)} \\right)} + 4 z_{cm} \\hat{\\varphi}{\\left(t \\right)} \\sin{\\left(\\theta{\\left(t \\right)} \\right)} \\cos{\\left(\\varphi{\\left(t \\right)} \\right)} + 4 \\hat{y}{\\left(t \\right)}\\right)}{8} - \\frac{m \\left(- d_{w} \\left(\\omega_{l} + \\omega_{r}\\right) \\hat{\\varphi}{\\left(t \\right)} \\cos{\\left(\\varphi{\\left(t \\right)} \\right)} + 4 x_{cm} \\hat{\\theta}^{2}{\\left(t \\right)} \\sin{\\left(\\varphi{\\left(t \\right)} \\right)} \\cos{\\left(\\theta{\\left(t \\right)} \\right)} + 8 x_{cm} \\hat{\\theta}{\\left(t \\right)} \\hat{\\varphi}{\\left(t \\right)} \\sin{\\left(\\theta{\\left(t \\right)} \\right)} \\cos{\\left(\\varphi{\\left(t \\right)} \\right)} + 4 x_{cm} \\hat{\\varphi}^{2}{\\left(t \\right)} \\sin{\\left(\\varphi{\\left(t \\right)} \\right)} \\cos{\\left(\\theta{\\left(t \\right)} \\right)} + 4 x_{cm} \\sin{\\left(\\theta{\\left(t \\right)} \\right)} \\sin{\\left(\\varphi{\\left(t \\right)} \\right)} \\frac{d}{d t} \\hat{\\theta}{\\left(t \\right)} - 4 x_{cm} \\cos{\\left(\\theta{\\left(t \\right)} \\right)} \\cos{\\left(\\varphi{\\left(t \\right)} \\right)} \\frac{d}{d t} \\hat{\\varphi}{\\left(t \\right)} + 4 y_{cm} \\hat{\\varphi}^{2}{\\left(t \\right)} \\cos{\\left(\\varphi{\\left(t \\right)} \\right)} + 4 y_{cm} \\sin{\\left(\\varphi{\\left(t \\right)} \\right)} \\frac{d}{d t} \\hat{\\varphi}{\\left(t \\right)} + 4 z_{cm} \\hat{\\theta}^{2}{\\left(t \\right)} \\sin{\\left(\\theta{\\left(t \\right)} \\right)} \\sin{\\left(\\varphi{\\left(t \\right)} \\right)} - 8 z_{cm} \\hat{\\theta}{\\left(t \\right)} \\hat{\\varphi}{\\left(t \\right)} \\cos{\\left(\\theta{\\left(t \\right)} \\right)} \\cos{\\left(\\varphi{\\left(t \\right)} \\right)} + 4 z_{cm} \\hat{\\varphi}^{2}{\\left(t \\right)} \\sin{\\left(\\theta{\\left(t \\right)} \\right)} \\sin{\\left(\\varphi{\\left(t \\right)} \\right)} - 4 z_{cm} \\sin{\\left(\\theta{\\left(t \\right)} \\right)} \\cos{\\left(\\varphi{\\left(t \\right)} \\right)} \\frac{d}{d t} \\hat{\\varphi}{\\left(t \\right)} - 4 z_{cm} \\sin{\\left(\\varphi{\\left(t \\right)} \\right)} \\cos{\\left(\\theta{\\left(t \\right)} \\right)} \\frac{d}{d t} \\hat{\\theta}{\\left(t \\right)} - 4 \\frac{d}{d t} \\hat{y}{\\left(t \\right)}\\right)}{4}\\\\\\frac{\\rho b_{d} \\left(- x_{cm} \\hat{\\theta}{\\left(t \\right)} \\cos{\\left(\\theta{\\left(t \\right)} \\right)} + \\sqrt{2} z_{cm} \\hat{\\theta}{\\left(t \\right)} \\cos{\\left(\\theta{\\left(t \\right)} + \\frac{\\pi}{4} \\right)} + \\hat{z}{\\left(t \\right)}\\right)}{2} + 2 b_{w} \\hat{z}{\\left(t \\right)} + g m - m \\left(- x_{cm} \\hat{\\theta}^{2}{\\left(t \\right)} \\sin{\\left(\\theta{\\left(t \\right)} \\right)} + x_{cm} \\cos{\\left(\\theta{\\left(t \\right)} \\right)} \\frac{d}{d t} \\hat{\\theta}{\\left(t \\right)} + z_{cm} \\hat{\\theta}^{2}{\\left(t \\right)} \\cos{\\left(\\theta{\\left(t \\right)} \\right)} + z_{cm} \\sin{\\left(\\theta{\\left(t \\right)} \\right)} \\frac{d}{d t} \\hat{\\theta}{\\left(t \\right)} - \\frac{d}{d t} \\hat{z}{\\left(t \\right)}\\right)\\\\I_{r} \\frac{d}{d t} \\hat{\\theta}{\\left(t \\right)} + 2 I_{w} c_{\\theta} \\frac{d}{d t} \\hat{\\theta}{\\left(t \\right)} + 2 I_{w} \\frac{d}{d t} \\hat{\\theta}{\\left(t \\right)} - \\frac{\\omega_{l} \\rho b_{d} d_{w} x_{cm} \\sin{\\left(\\theta{\\left(t \\right)} \\right)}}{8} + \\frac{\\omega_{l} \\rho b_{d} d_{w} z_{cm} \\cos{\\left(\\theta{\\left(t \\right)} \\right)}}{8} + \\frac{\\omega_{l} b_{w} d_{w}^{2}}{4} - \\frac{\\omega_{r} \\rho b_{d} d_{w} x_{cm} \\sin{\\left(\\theta{\\left(t \\right)} \\right)}}{8} + \\frac{\\omega_{r} \\rho b_{d} d_{w} z_{cm} \\cos{\\left(\\theta{\\left(t \\right)} \\right)}}{8} + \\frac{\\omega_{r} b_{w} d_{w}^{2}}{4} + \\frac{\\rho b_{d} x_{cm}^{2} \\hat{\\theta}{\\left(t \\right)}}{2} + \\frac{\\rho b_{d} x_{cm} y_{cm} \\hat{\\varphi}{\\left(t \\right)} \\sin{\\left(\\theta{\\left(t \\right)} \\right)}}{2} - \\frac{\\rho b_{d} x_{cm} z_{cm} \\hat{\\theta}{\\left(t \\right)}}{2} - \\frac{\\rho b_{d} x_{cm} \\hat{x}{\\left(t \\right)} \\sin{\\left(\\theta{\\left(t \\right)} - \\varphi{\\left(t \\right)} \\right)}}{4} - \\frac{\\rho b_{d} x_{cm} \\hat{x}{\\left(t \\right)} \\sin{\\left(\\theta{\\left(t \\right)} + \\varphi{\\left(t \\right)} \\right)}}{4} - \\frac{\\rho b_{d} x_{cm} \\hat{y}{\\left(t \\right)} \\cos{\\left(\\theta{\\left(t \\right)} - \\varphi{\\left(t \\right)} \\right)}}{4} + \\frac{\\rho b_{d} x_{cm} \\hat{y}{\\left(t \\right)} \\cos{\\left(\\theta{\\left(t \\right)} + \\varphi{\\left(t \\right)} \\right)}}{4} - \\frac{\\rho b_{d} x_{cm} \\hat{z}{\\left(t \\right)} \\cos{\\left(\\theta{\\left(t \\right)} \\right)}}{2} - \\frac{\\rho b_{d} y_{cm} z_{cm} \\hat{\\varphi}{\\left(t \\right)} \\cos{\\left(\\theta{\\left(t \\right)} \\right)}}{2} + \\frac{\\rho b_{d} z_{cm}^{2} \\hat{\\theta}{\\left(t \\right)}}{2} + \\frac{\\rho b_{d} z_{cm} \\hat{x}{\\left(t \\right)} \\cos{\\left(\\theta{\\left(t \\right)} - \\varphi{\\left(t \\right)} \\right)}}{4} + \\frac{\\rho b_{d} z_{cm} \\hat{x}{\\left(t \\right)} \\cos{\\left(\\theta{\\left(t \\right)} + \\varphi{\\left(t \\right)} \\right)}}{4} - \\frac{\\rho b_{d} z_{cm} \\hat{y}{\\left(t \\right)} \\sin{\\left(\\theta{\\left(t \\right)} - \\varphi{\\left(t \\right)} \\right)}}{4} + \\frac{\\rho b_{d} z_{cm} \\hat{y}{\\left(t \\right)} \\sin{\\left(\\theta{\\left(t \\right)} + \\varphi{\\left(t \\right)} \\right)}}{4} - \\frac{\\rho b_{d} z_{cm} \\hat{z}{\\left(t \\right)} \\sin{\\left(\\theta{\\left(t \\right)} \\right)}}{2} + \\frac{b_{w} d_{w}^{2} \\hat{\\theta}{\\left(t \\right)}}{2} - g m x_{cm} \\cos{\\left(\\theta{\\left(t \\right)} \\right)} - g m z_{cm} \\sin{\\left(\\theta{\\left(t \\right)} \\right)} + m x_{cm}^{2} \\hat{\\varphi}^{2}{\\left(t \\right)} \\sin{\\left(2 \\theta{\\left(t \\right)} \\right)} + m x_{cm}^{2} \\frac{d}{d t} \\hat{\\theta}{\\left(t \\right)} + m x_{cm} y_{cm} \\sin{\\left(\\theta{\\left(t \\right)} \\right)} \\frac{d}{d t} \\hat{\\varphi}{\\left(t \\right)} - m x_{cm} z_{cm} \\hat{\\varphi}^{2}{\\left(t \\right)} \\cos{\\left(2 \\theta{\\left(t \\right)} \\right)} - \\frac{m x_{cm} \\sin{\\left(\\theta{\\left(t \\right)} - \\varphi{\\left(t \\right)} \\right)} \\frac{d}{d t} \\hat{x}{\\left(t \\right)}}{2} - \\frac{m x_{cm} \\sin{\\left(\\theta{\\left(t \\right)} + \\varphi{\\left(t \\right)} \\right)} \\frac{d}{d t} \\hat{x}{\\left(t \\right)}}{2} - \\frac{m x_{cm} \\cos{\\left(\\theta{\\left(t \\right)} - \\varphi{\\left(t \\right)} \\right)} \\frac{d}{d t} \\hat{y}{\\left(t \\right)}}{2} + \\frac{m x_{cm} \\cos{\\left(\\theta{\\left(t \\right)} + \\varphi{\\left(t \\right)} \\right)} \\frac{d}{d t} \\hat{y}{\\left(t \\right)}}{2} - m x_{cm} \\cos{\\left(\\theta{\\left(t \\right)} \\right)} \\frac{d}{d t} \\hat{z}{\\left(t \\right)} - m y_{cm} z_{cm} \\cos{\\left(\\theta{\\left(t \\right)} \\right)} \\frac{d}{d t} \\hat{\\varphi}{\\left(t \\right)} - m z_{cm}^{2} \\hat{\\varphi}^{2}{\\left(t \\right)} \\sin{\\left(2 \\theta{\\left(t \\right)} \\right)} + m z_{cm}^{2} \\frac{d}{d t} \\hat{\\theta}{\\left(t \\right)} - \\frac{m z_{cm} \\sin{\\left(\\theta{\\left(t \\right)} - \\varphi{\\left(t \\right)} \\right)} \\frac{d}{d t} \\hat{y}{\\left(t \\right)}}{2} + \\frac{m z_{cm} \\sin{\\left(\\theta{\\left(t \\right)} + \\varphi{\\left(t \\right)} \\right)} \\frac{d}{d t} \\hat{y}{\\left(t \\right)}}{2} - m z_{cm} \\sin{\\left(\\theta{\\left(t \\right)} \\right)} \\frac{d}{d t} \\hat{z}{\\left(t \\right)} + \\frac{m z_{cm} \\cos{\\left(\\theta{\\left(t \\right)} - \\varphi{\\left(t \\right)} \\right)} \\frac{d}{d t} \\hat{x}{\\left(t \\right)}}{2} + \\frac{m z_{cm} \\cos{\\left(\\theta{\\left(t \\right)} + \\varphi{\\left(t \\right)} \\right)} \\frac{d}{d t} \\hat{x}{\\left(t \\right)}}{2}\\\\I_{z} \\frac{d}{d t} \\hat{\\varphi}{\\left(t \\right)} - \\frac{\\omega_{l} \\rho b_{d} d_{w} y_{cm}}{8} + \\frac{\\omega_{l} d_{w} m \\hat{x}{\\left(t \\right)} \\sin{\\left(\\varphi{\\left(t \\right)} \\right)}}{4} - \\frac{\\omega_{l} d_{w} m \\hat{y}{\\left(t \\right)} \\cos{\\left(\\varphi{\\left(t \\right)} \\right)}}{4} - \\frac{\\omega_{r} \\rho b_{d} d_{w} y_{cm}}{8} + \\frac{\\omega_{r} d_{w} m \\hat{x}{\\left(t \\right)} \\sin{\\left(\\varphi{\\left(t \\right)} \\right)}}{4} - \\frac{\\omega_{r} d_{w} m \\hat{y}{\\left(t \\right)} \\cos{\\left(\\varphi{\\left(t \\right)} \\right)}}{4} + \\frac{\\rho b_{d} x_{cm}^{2} \\hat{\\varphi}{\\left(t \\right)} \\cos{\\left(2 \\theta{\\left(t \\right)} \\right)}}{4} + \\frac{\\rho b_{d} x_{cm}^{2} \\hat{\\varphi}{\\left(t \\right)}}{4} + \\frac{\\rho b_{d} x_{cm} y_{cm} \\hat{\\theta}{\\left(t \\right)} \\sin{\\left(\\theta{\\left(t \\right)} \\right)}}{2} + \\frac{\\rho b_{d} x_{cm} z_{cm} \\hat{\\varphi}{\\left(t \\right)} \\sin{\\left(2 \\theta{\\left(t \\right)} \\right)}}{2} + \\frac{\\rho b_{d} x_{cm} \\hat{x}{\\left(t \\right)} \\sin{\\left(\\theta{\\left(t \\right)} - \\varphi{\\left(t \\right)} \\right)}}{4} - \\frac{\\rho b_{d} x_{cm} \\hat{x}{\\left(t \\right)} \\sin{\\left(\\theta{\\left(t \\right)} + \\varphi{\\left(t \\right)} \\right)}}{4} + \\frac{\\rho b_{d} x_{cm} \\hat{y}{\\left(t \\right)} \\cos{\\left(\\theta{\\left(t \\right)} - \\varphi{\\left(t \\right)} \\right)}}{4} + \\frac{\\rho b_{d} x_{cm} \\hat{y}{\\left(t \\right)} \\cos{\\left(\\theta{\\left(t \\right)} + \\varphi{\\left(t \\right)} \\right)}}{4} + \\frac{\\rho b_{d} y_{cm}^{2} \\hat{\\varphi}{\\left(t \\right)}}{2} - \\frac{\\sqrt{2} \\rho b_{d} y_{cm} z_{cm} \\hat{\\theta}{\\left(t \\right)} \\sin{\\left(\\theta{\\left(t \\right)} + \\frac{\\pi}{4} \\right)}}{2} - \\frac{\\rho b_{d} y_{cm} \\hat{x}{\\left(t \\right)} \\cos{\\left(\\varphi{\\left(t \\right)} \\right)}}{2} - \\frac{\\rho b_{d} y_{cm} \\hat{y}{\\left(t \\right)} \\sin{\\left(\\varphi{\\left(t \\right)} \\right)}}{2} - \\frac{\\rho b_{d} z_{cm}^{2} \\hat{\\varphi}{\\left(t \\right)} \\cos{\\left(2 \\theta{\\left(t \\right)} \\right)}}{4} + \\frac{\\rho b_{d} z_{cm}^{2} \\hat{\\varphi}{\\left(t \\right)}}{4} - \\frac{\\rho b_{d} z_{cm} \\hat{x}{\\left(t \\right)} \\cos{\\left(\\theta{\\left(t \\right)} - \\varphi{\\left(t \\right)} \\right)}}{4} + \\frac{\\rho b_{d} z_{cm} \\hat{x}{\\left(t \\right)} \\cos{\\left(\\theta{\\left(t \\right)} + \\varphi{\\left(t \\right)} \\right)}}{4} + \\frac{\\rho b_{d} z_{cm} \\hat{y}{\\left(t \\right)} \\sin{\\left(\\theta{\\left(t \\right)} - \\varphi{\\left(t \\right)} \\right)}}{4} + \\frac{\\rho b_{d} z_{cm} \\hat{y}{\\left(t \\right)} \\sin{\\left(\\theta{\\left(t \\right)} + \\varphi{\\left(t \\right)} \\right)}}{4} - 2 m x_{cm}^{2} \\hat{\\theta}{\\left(t \\right)} \\hat{\\varphi}{\\left(t \\right)} \\sin{\\left(2 \\theta{\\left(t \\right)} \\right)} + m x_{cm}^{2} \\cos{\\left(2 \\theta{\\left(t \\right)} \\right)} \\frac{d}{d t} \\hat{\\varphi}{\\left(t \\right)} + m x_{cm}^{2} \\frac{d}{d t} \\hat{\\varphi}{\\left(t \\right)} + m x_{cm} y_{cm} \\hat{\\theta}^{2}{\\left(t \\right)} \\cos{\\left(\\theta{\\left(t \\right)} \\right)} + m x_{cm} y_{cm} \\sin{\\left(\\theta{\\left(t \\right)} \\right)} \\frac{d}{d t} \\hat{\\theta}{\\left(t \\right)} + 2 m x_{cm} z_{cm} \\hat{\\theta}{\\left(t \\right)} \\hat{\\varphi}{\\left(t \\right)} \\cos{\\left(2 \\theta{\\left(t \\right)} \\right)} + m x_{cm} z_{cm} \\sin{\\left(2 \\theta{\\left(t \\right)} \\right)} \\frac{d}{d t} \\hat{\\varphi}{\\left(t \\right)} + \\frac{m x_{cm} \\sin{\\left(\\theta{\\left(t \\right)} - \\varphi{\\left(t \\right)} \\right)} \\frac{d}{d t} \\hat{x}{\\left(t \\right)}}{2} - \\frac{m x_{cm} \\sin{\\left(\\theta{\\left(t \\right)} + \\varphi{\\left(t \\right)} \\right)} \\frac{d}{d t} \\hat{x}{\\left(t \\right)}}{2} + \\frac{m x_{cm} \\cos{\\left(\\theta{\\left(t \\right)} - \\varphi{\\left(t \\right)} \\right)} \\frac{d}{d t} \\hat{y}{\\left(t \\right)}}{2} + \\frac{m x_{cm} \\cos{\\left(\\theta{\\left(t \\right)} + \\varphi{\\left(t \\right)} \\right)} \\frac{d}{d t} \\hat{y}{\\left(t \\right)}}{2} + 2 m y_{cm}^{2} \\frac{d}{d t} \\hat{\\varphi}{\\left(t \\right)} + m y_{cm} z_{cm} \\hat{\\theta}^{2}{\\left(t \\right)} \\sin{\\left(\\theta{\\left(t \\right)} \\right)} - m y_{cm} z_{cm} \\cos{\\left(\\theta{\\left(t \\right)} \\right)} \\frac{d}{d t} \\hat{\\theta}{\\left(t \\right)} - m y_{cm} \\sin{\\left(\\varphi{\\left(t \\right)} \\right)} \\frac{d}{d t} \\hat{y}{\\left(t \\right)} - m y_{cm} \\cos{\\left(\\varphi{\\left(t \\right)} \\right)} \\frac{d}{d t} \\hat{x}{\\left(t \\right)} + 2 m z_{cm}^{2} \\hat{\\theta}{\\left(t \\right)} \\hat{\\varphi}{\\left(t \\right)} \\sin{\\left(2 \\theta{\\left(t \\right)} \\right)} - m z_{cm}^{2} \\cos{\\left(2 \\theta{\\left(t \\right)} \\right)} \\frac{d}{d t} \\hat{\\varphi}{\\left(t \\right)} + m z_{cm}^{2} \\frac{d}{d t} \\hat{\\varphi}{\\left(t \\right)} + \\frac{m z_{cm} \\sin{\\left(\\theta{\\left(t \\right)} - \\varphi{\\left(t \\right)} \\right)} \\frac{d}{d t} \\hat{y}{\\left(t \\right)}}{2} + \\frac{m z_{cm} \\sin{\\left(\\theta{\\left(t \\right)} + \\varphi{\\left(t \\right)} \\right)} \\frac{d}{d t} \\hat{y}{\\left(t \\right)}}{2} - \\frac{m z_{cm} \\cos{\\left(\\theta{\\left(t \\right)} - \\varphi{\\left(t \\right)} \\right)} \\frac{d}{d t} \\hat{x}{\\left(t \\right)}}{2} + \\frac{m z_{cm} \\cos{\\left(\\theta{\\left(t \\right)} + \\varphi{\\left(t \\right)} \\right)} \\frac{d}{d t} \\hat{x}{\\left(t \\right)}}{2}\\end{matrix}\\right]$"
     },
     "execution_count": 43,
     "metadata": {},
     "output_type": "execute_result"
    }
   ],
   "execution_count": 43
  },
  {
   "metadata": {
    "ExecuteTime": {
     "end_time": "2025-08-06T19:38:53.573252Z",
     "start_time": "2025-08-06T19:38:44.352736Z"
    }
   },
   "cell_type": "code",
   "source": [
    "# Separate model into `M * Xi_dot + H = M1dii * X1di_dot + H1d` form\n",
    "dim_1ord = len(model_1ord)\n",
    "model_1ord_expand = sp.zeros(dim_1ord, 1)\n",
    "for i, eq in enumerate(model_1ord):\n",
    "    model_1ord_expand[i] = sp.expand(eq)\n",
    "\n",
    "Q1di_dot = sp.Matrix.vstack(\n",
    "    cs_q.Qd,\n",
    "    sp.Matrix([v.diff(t) for v in subs_1ord_vals])\n",
    ")\n",
    "\n",
    "M1dii = sp.zeros(dim_1ord, dim_1ord)\n",
    "H1d = sp.zeros(dim_1ord, 1)\n",
    "\n",
    "# Collect coefficients for each second derivative term\n",
    "for i, eq in enumerate(model_1ord_expand):\n",
    "    subs_list = []\n",
    "\n",
    "    # Isolate second-order and squared first-order derivatives\n",
    "    for j, qi_dot in enumerate(Q1di_dot):\n",
    "        M1dii[i, j] = eq.coeff(Q1di_dot[j], 1)\n",
    "        subs_list += [(Q1di_dot[j], 0)]\n",
    "\n",
    "    terms = sp.Add.make_args(eq)\n",
    "    for term in terms:\n",
    "        # Isolate zero-order derivatives\n",
    "        if (sum(term.count(q1di_ddot) for q1di_ddot in Q1di_dot) == 0) and (sum(term.count(q1di_dot) for q1di_dot in Q1di_dot) == 0):\n",
    "            H1d[i] += term\n",
    "            subs_list += [(term, 0)]\n",
    "\n",
    "    model_1ord_expand[i] = eq.subs(subs_list)\n",
    "    model_1ord_expand[i] = sp.expand(model_1ord_expand[i])\n",
    "\n",
    "# Output\n",
    "M1dii = sp.simplify(M1dii)\n",
    "H1d = sp.simplify(H1d)\n",
    "\n",
    "display(M1dii)\n",
    "display(H1d)\n",
    "\n",
    "# Verification\n",
    "model_1ord_is_simplified = sp.simplify((M1dii * Q1di_dot + H1d) - model_1ord) == sp.Matrix(dim_1ord * [0])\n",
    "print(model_1ord_is_simplified)"
   ],
   "outputs": [
    {
     "data": {
      "text/plain": [
       "Matrix([\n",
       "[1, 0, 0, 0, 0,                                                                                                           0,                                                                                                          0,                                                  0,                                                                  0,                                                                                                                                                0],\n",
       "[0, 1, 0, 0, 0,                                                                                                           0,                                                                                                          0,                                                  0,                                                                  0,                                                                                                                                                0],\n",
       "[0, 0, 1, 0, 0,                                                                                                           0,                                                                                                          0,                                                  0,                                                                  0,                                                                                                                                                0],\n",
       "[0, 0, 0, 1, 0,                                                                                                           0,                                                                                                          0,                                                  0,                                                                  0,                                                                                                                                                0],\n",
       "[0, 0, 0, 0, 1,                                                                                                           0,                                                                                                          0,                                                  0,                                                                  0,                                                                                                                                                0],\n",
       "[0, 0, 0, 0, 0,                                                                                                           m,                                                                                                          0,                                                  0, m*(-x_{cm}*sin(\\theta(t)) + z_{cm}*cos(\\theta(t)))*cos(\\varphi(t)),                                      -m*(x_{cm}*sin(\\varphi(t))*cos(\\theta(t)) + y_{cm}*cos(\\varphi(t)) + z_{cm}*sin(\\theta(t))*sin(\\varphi(t)))],\n",
       "[0, 0, 0, 0, 0,                                                                                                           0,                                                                                                          m,                                                  0, m*(-x_{cm}*sin(\\theta(t)) + z_{cm}*cos(\\theta(t)))*sin(\\varphi(t)),                                       m*(x_{cm}*cos(\\theta(t))*cos(\\varphi(t)) - y_{cm}*sin(\\varphi(t)) + z_{cm}*sin(\\theta(t))*cos(\\varphi(t)))],\n",
       "[0, 0, 0, 0, 0,                                                                                                           0,                                                                                                          0,                                                  m,                 -m*(x_{cm}*cos(\\theta(t)) + z_{cm}*sin(\\theta(t))),                                                                                                                                                0],\n",
       "[0, 0, 0, 0, 0,                                          m*(-x_{cm}*sin(\\theta(t)) + z_{cm}*cos(\\theta(t)))*cos(\\varphi(t)),                                         m*(-x_{cm}*sin(\\theta(t)) + z_{cm}*cos(\\theta(t)))*sin(\\varphi(t)), -m*(x_{cm}*cos(\\theta(t)) + z_{cm}*sin(\\theta(t))),         I_r + 2*I_w*c_{\\theta} + 2*I_w + m*x_{cm}**2 + m*z_{cm}**2,                                                                                         m*y_{cm}*(x_{cm}*sin(\\theta(t)) - z_{cm}*cos(\\theta(t)))],\n",
       "[0, 0, 0, 0, 0, -m*(x_{cm}*sin(\\varphi(t))*cos(\\theta(t)) + y_{cm}*cos(\\varphi(t)) + z_{cm}*sin(\\theta(t))*sin(\\varphi(t))), m*(x_{cm}*cos(\\theta(t))*cos(\\varphi(t)) - y_{cm}*sin(\\varphi(t)) + z_{cm}*sin(\\theta(t))*cos(\\varphi(t))),                                                  0,           m*y_{cm}*(x_{cm}*sin(\\theta(t)) - z_{cm}*cos(\\theta(t))), I_z + m*x_{cm}**2*cos(2*\\theta(t)) + m*x_{cm}**2 + m*x_{cm}*z_{cm}*sin(2*\\theta(t)) + 2*m*y_{cm}**2 - m*z_{cm}**2*cos(2*\\theta(t)) + m*z_{cm}**2]])"
      ],
      "text/latex": "$\\displaystyle \\left[\\begin{matrix}1 & 0 & 0 & 0 & 0 & 0 & 0 & 0 & 0 & 0\\\\0 & 1 & 0 & 0 & 0 & 0 & 0 & 0 & 0 & 0\\\\0 & 0 & 1 & 0 & 0 & 0 & 0 & 0 & 0 & 0\\\\0 & 0 & 0 & 1 & 0 & 0 & 0 & 0 & 0 & 0\\\\0 & 0 & 0 & 0 & 1 & 0 & 0 & 0 & 0 & 0\\\\0 & 0 & 0 & 0 & 0 & m & 0 & 0 & m \\left(- x_{cm} \\sin{\\left(\\theta{\\left(t \\right)} \\right)} + z_{cm} \\cos{\\left(\\theta{\\left(t \\right)} \\right)}\\right) \\cos{\\left(\\varphi{\\left(t \\right)} \\right)} & - m \\left(x_{cm} \\sin{\\left(\\varphi{\\left(t \\right)} \\right)} \\cos{\\left(\\theta{\\left(t \\right)} \\right)} + y_{cm} \\cos{\\left(\\varphi{\\left(t \\right)} \\right)} + z_{cm} \\sin{\\left(\\theta{\\left(t \\right)} \\right)} \\sin{\\left(\\varphi{\\left(t \\right)} \\right)}\\right)\\\\0 & 0 & 0 & 0 & 0 & 0 & m & 0 & m \\left(- x_{cm} \\sin{\\left(\\theta{\\left(t \\right)} \\right)} + z_{cm} \\cos{\\left(\\theta{\\left(t \\right)} \\right)}\\right) \\sin{\\left(\\varphi{\\left(t \\right)} \\right)} & m \\left(x_{cm} \\cos{\\left(\\theta{\\left(t \\right)} \\right)} \\cos{\\left(\\varphi{\\left(t \\right)} \\right)} - y_{cm} \\sin{\\left(\\varphi{\\left(t \\right)} \\right)} + z_{cm} \\sin{\\left(\\theta{\\left(t \\right)} \\right)} \\cos{\\left(\\varphi{\\left(t \\right)} \\right)}\\right)\\\\0 & 0 & 0 & 0 & 0 & 0 & 0 & m & - m \\left(x_{cm} \\cos{\\left(\\theta{\\left(t \\right)} \\right)} + z_{cm} \\sin{\\left(\\theta{\\left(t \\right)} \\right)}\\right) & 0\\\\0 & 0 & 0 & 0 & 0 & m \\left(- x_{cm} \\sin{\\left(\\theta{\\left(t \\right)} \\right)} + z_{cm} \\cos{\\left(\\theta{\\left(t \\right)} \\right)}\\right) \\cos{\\left(\\varphi{\\left(t \\right)} \\right)} & m \\left(- x_{cm} \\sin{\\left(\\theta{\\left(t \\right)} \\right)} + z_{cm} \\cos{\\left(\\theta{\\left(t \\right)} \\right)}\\right) \\sin{\\left(\\varphi{\\left(t \\right)} \\right)} & - m \\left(x_{cm} \\cos{\\left(\\theta{\\left(t \\right)} \\right)} + z_{cm} \\sin{\\left(\\theta{\\left(t \\right)} \\right)}\\right) & I_{r} + 2 I_{w} c_{\\theta} + 2 I_{w} + m x_{cm}^{2} + m z_{cm}^{2} & m y_{cm} \\left(x_{cm} \\sin{\\left(\\theta{\\left(t \\right)} \\right)} - z_{cm} \\cos{\\left(\\theta{\\left(t \\right)} \\right)}\\right)\\\\0 & 0 & 0 & 0 & 0 & - m \\left(x_{cm} \\sin{\\left(\\varphi{\\left(t \\right)} \\right)} \\cos{\\left(\\theta{\\left(t \\right)} \\right)} + y_{cm} \\cos{\\left(\\varphi{\\left(t \\right)} \\right)} + z_{cm} \\sin{\\left(\\theta{\\left(t \\right)} \\right)} \\sin{\\left(\\varphi{\\left(t \\right)} \\right)}\\right) & m \\left(x_{cm} \\cos{\\left(\\theta{\\left(t \\right)} \\right)} \\cos{\\left(\\varphi{\\left(t \\right)} \\right)} - y_{cm} \\sin{\\left(\\varphi{\\left(t \\right)} \\right)} + z_{cm} \\sin{\\left(\\theta{\\left(t \\right)} \\right)} \\cos{\\left(\\varphi{\\left(t \\right)} \\right)}\\right) & 0 & m y_{cm} \\left(x_{cm} \\sin{\\left(\\theta{\\left(t \\right)} \\right)} - z_{cm} \\cos{\\left(\\theta{\\left(t \\right)} \\right)}\\right) & I_{z} + m x_{cm}^{2} \\cos{\\left(2 \\theta{\\left(t \\right)} \\right)} + m x_{cm}^{2} + m x_{cm} z_{cm} \\sin{\\left(2 \\theta{\\left(t \\right)} \\right)} + 2 m y_{cm}^{2} - m z_{cm}^{2} \\cos{\\left(2 \\theta{\\left(t \\right)} \\right)} + m z_{cm}^{2}\\end{matrix}\\right]$"
     },
     "metadata": {},
     "output_type": "display_data"
    },
    {
     "data": {
      "text/plain": [
       "Matrix([\n",
       "[                                                                                                                                                                                                                                                                                                                                                                                                                                                                                                                                                                                                                                                                                                                                                                                                                                                                                                                                                                                                                                                                                                                                                                                                                                                                                                                                                                                                                                                                                                                                                                                               -\\hat{x}(t)],\n",
       "[                                                                                                                                                                                                                                                                                                                                                                                                                                                                                                                                                                                                                                                                                                                                                                                                                                                                                                                                                                                                                                                                                                                                                                                                                                                                                                                                                                                                                                                                                                                                                                                               -\\hat{y}(t)],\n",
       "[                                                                                                                                                                                                                                                                                                                                                                                                                                                                                                                                                                                                                                                                                                                                                                                                                                                                                                                                                                                                                                                                                                                                                                                                                                                                                                                                                                                                                                                                                                                                                                                               -\\hat{z}(t)],\n",
       "[                                                                                                                                                                                                                                                                                                                                                                                                                                                                                                                                                                                                                                                                                                                                                                                                                                                                                                                                                                                                                                                                                                                                                                                                                                                                                                                                                                                                                                                                                                                                                                                          -\\hat{\\theta}(t)],\n",
       "[                                                                                                                                                                                                                                                                                                                                                                                                                                                                                                                                                                                                                                                                                                                                                                                                                                                                                                                                                                                                                                                                                                                                                                                                                                                                                                                                                                                                                                                                                                                                                                                         -\\hat{\\varphi}(t)],\n",
       "[                                                                                                                                                                                                                                                                                                                                                                                                                                                                                                                                                                        \\omega_l*\\rho*b_d*d_w*cos(\\varphi(t))/8 - \\omega_l*d_w*m*\\hat{\\varphi}(t)*sin(\\varphi(t))/4 + \\omega_r*\\rho*b_d*d_w*cos(\\varphi(t))/8 - \\omega_r*d_w*m*\\hat{\\varphi}(t)*sin(\\varphi(t))/4 - \\rho*b_d*x_{cm}*\\hat{\\theta}(t)*sin(\\theta(t))*cos(\\varphi(t))/2 - \\rho*b_d*x_{cm}*\\hat{\\varphi}(t)*sin(\\varphi(t))*cos(\\theta(t))/2 - \\rho*b_d*y_{cm}*\\hat{\\varphi}(t)*cos(\\varphi(t))/2 + sqrt(2)*\\rho*b_d*z_{cm}*\\hat{\\theta}(t)*sin(\\theta(t) + pi/4)*cos(\\varphi(t))/2 - \\rho*b_d*z_{cm}*\\hat{\\varphi}(t)*sin(\\theta(t))*sin(\\varphi(t))/2 + \\rho*b_d*\\hat{x}(t)/2 - m*x_{cm}*\\hat{\\theta}(t)**2*cos(\\theta(t))*cos(\\varphi(t)) + 2*m*x_{cm}*\\hat{\\theta}(t)*\\hat{\\varphi}(t)*sin(\\theta(t))*sin(\\varphi(t)) - m*x_{cm}*\\hat{\\varphi}(t)**2*cos(\\theta(t))*cos(\\varphi(t)) + m*y_{cm}*\\hat{\\varphi}(t)**2*sin(\\varphi(t)) - m*z_{cm}*\\hat{\\theta}(t)**2*sin(\\theta(t))*cos(\\varphi(t)) - 2*m*z_{cm}*\\hat{\\theta}(t)*\\hat{\\varphi}(t)*sin(\\varphi(t))*cos(\\theta(t)) - m*z_{cm}*\\hat{\\varphi}(t)**2*sin(\\theta(t))*cos(\\varphi(t))],\n",
       "[                                                                                                                                                                                                                                                                                                                                                                                                                                                                                                                                                                        \\omega_l*\\rho*b_d*d_w*sin(\\varphi(t))/8 + \\omega_l*d_w*m*\\hat{\\varphi}(t)*cos(\\varphi(t))/4 + \\omega_r*\\rho*b_d*d_w*sin(\\varphi(t))/8 + \\omega_r*d_w*m*\\hat{\\varphi}(t)*cos(\\varphi(t))/4 - \\rho*b_d*x_{cm}*\\hat{\\theta}(t)*sin(\\theta(t))*sin(\\varphi(t))/2 + \\rho*b_d*x_{cm}*\\hat{\\varphi}(t)*cos(\\theta(t))*cos(\\varphi(t))/2 - \\rho*b_d*y_{cm}*\\hat{\\varphi}(t)*sin(\\varphi(t))/2 + sqrt(2)*\\rho*b_d*z_{cm}*\\hat{\\theta}(t)*sin(\\theta(t) + pi/4)*sin(\\varphi(t))/2 + \\rho*b_d*z_{cm}*\\hat{\\varphi}(t)*sin(\\theta(t))*cos(\\varphi(t))/2 + \\rho*b_d*\\hat{y}(t)/2 - m*x_{cm}*\\hat{\\theta}(t)**2*sin(\\varphi(t))*cos(\\theta(t)) - 2*m*x_{cm}*\\hat{\\theta}(t)*\\hat{\\varphi}(t)*sin(\\theta(t))*cos(\\varphi(t)) - m*x_{cm}*\\hat{\\varphi}(t)**2*sin(\\varphi(t))*cos(\\theta(t)) - m*y_{cm}*\\hat{\\varphi}(t)**2*cos(\\varphi(t)) - m*z_{cm}*\\hat{\\theta}(t)**2*sin(\\theta(t))*sin(\\varphi(t)) + 2*m*z_{cm}*\\hat{\\theta}(t)*\\hat{\\varphi}(t)*cos(\\theta(t))*cos(\\varphi(t)) - m*z_{cm}*\\hat{\\varphi}(t)**2*sin(\\theta(t))*sin(\\varphi(t))],\n",
       "[                                                                                                                                                                                                                                                                                                                                                                                                                                                                                                                                                                                                                                                                                                                                                                                                                                                                                                                                                                                                                                                                                                                                                                                                                                                                                                                                            -\\rho*b_d*x_{cm}*\\hat{\\theta}(t)*cos(\\theta(t))/2 + sqrt(2)*\\rho*b_d*z_{cm}*\\hat{\\theta}(t)*cos(\\theta(t) + pi/4)/2 + \\rho*b_d*\\hat{z}(t)/2 + 2*b_w*\\hat{z}(t) + g*m + m*x_{cm}*\\hat{\\theta}(t)**2*sin(\\theta(t)) - m*z_{cm}*\\hat{\\theta}(t)**2*cos(\\theta(t))],\n",
       "[                                                                                                                                                                                                                                                                     -\\omega_l*\\rho*b_d*d_w*x_{cm}*sin(\\theta(t))/8 + \\omega_l*\\rho*b_d*d_w*z_{cm}*cos(\\theta(t))/8 + \\omega_l*b_w*d_w**2/4 - \\omega_r*\\rho*b_d*d_w*x_{cm}*sin(\\theta(t))/8 + \\omega_r*\\rho*b_d*d_w*z_{cm}*cos(\\theta(t))/8 + \\omega_r*b_w*d_w**2/4 + \\rho*b_d*x_{cm}**2*\\hat{\\theta}(t)/2 + \\rho*b_d*x_{cm}*y_{cm}*\\hat{\\varphi}(t)*sin(\\theta(t))/2 - \\rho*b_d*x_{cm}*z_{cm}*\\hat{\\theta}(t)/2 - \\rho*b_d*x_{cm}*\\hat{x}(t)*sin(\\theta(t) - \\varphi(t))/4 - \\rho*b_d*x_{cm}*\\hat{x}(t)*sin(\\theta(t) + \\varphi(t))/4 - \\rho*b_d*x_{cm}*\\hat{y}(t)*cos(\\theta(t) - \\varphi(t))/4 + \\rho*b_d*x_{cm}*\\hat{y}(t)*cos(\\theta(t) + \\varphi(t))/4 - \\rho*b_d*x_{cm}*\\hat{z}(t)*cos(\\theta(t))/2 - \\rho*b_d*y_{cm}*z_{cm}*\\hat{\\varphi}(t)*cos(\\theta(t))/2 + \\rho*b_d*z_{cm}**2*\\hat{\\theta}(t)/2 + \\rho*b_d*z_{cm}*\\hat{x}(t)*cos(\\theta(t) - \\varphi(t))/4 + \\rho*b_d*z_{cm}*\\hat{x}(t)*cos(\\theta(t) + \\varphi(t))/4 - \\rho*b_d*z_{cm}*\\hat{y}(t)*sin(\\theta(t) - \\varphi(t))/4 + \\rho*b_d*z_{cm}*\\hat{y}(t)*sin(\\theta(t) + \\varphi(t))/4 - \\rho*b_d*z_{cm}*\\hat{z}(t)*sin(\\theta(t))/2 + b_w*d_w**2*\\hat{\\theta}(t)/2 - g*m*x_{cm}*cos(\\theta(t)) - g*m*z_{cm}*sin(\\theta(t)) + m*x_{cm}**2*\\hat{\\varphi}(t)**2*sin(2*\\theta(t)) - m*x_{cm}*z_{cm}*\\hat{\\varphi}(t)**2*cos(2*\\theta(t)) - m*z_{cm}**2*\\hat{\\varphi}(t)**2*sin(2*\\theta(t))],\n",
       "[-\\omega_l*\\rho*b_d*d_w*y_{cm}/8 + \\omega_l*d_w*m*\\hat{x}(t)*sin(\\varphi(t))/4 - \\omega_l*d_w*m*\\hat{y}(t)*cos(\\varphi(t))/4 - \\omega_r*\\rho*b_d*d_w*y_{cm}/8 + \\omega_r*d_w*m*\\hat{x}(t)*sin(\\varphi(t))/4 - \\omega_r*d_w*m*\\hat{y}(t)*cos(\\varphi(t))/4 + \\rho*b_d*x_{cm}**2*\\hat{\\varphi}(t)*cos(2*\\theta(t))/4 + \\rho*b_d*x_{cm}**2*\\hat{\\varphi}(t)/4 + \\rho*b_d*x_{cm}*y_{cm}*\\hat{\\theta}(t)*sin(\\theta(t))/2 + \\rho*b_d*x_{cm}*z_{cm}*\\hat{\\varphi}(t)*sin(2*\\theta(t))/2 + \\rho*b_d*x_{cm}*\\hat{x}(t)*sin(\\theta(t) - \\varphi(t))/4 - \\rho*b_d*x_{cm}*\\hat{x}(t)*sin(\\theta(t) + \\varphi(t))/4 + \\rho*b_d*x_{cm}*\\hat{y}(t)*cos(\\theta(t) - \\varphi(t))/4 + \\rho*b_d*x_{cm}*\\hat{y}(t)*cos(\\theta(t) + \\varphi(t))/4 + \\rho*b_d*y_{cm}**2*\\hat{\\varphi}(t)/2 - sqrt(2)*\\rho*b_d*y_{cm}*z_{cm}*\\hat{\\theta}(t)*sin(\\theta(t) + pi/4)/2 - \\rho*b_d*y_{cm}*\\hat{x}(t)*cos(\\varphi(t))/2 - \\rho*b_d*y_{cm}*\\hat{y}(t)*sin(\\varphi(t))/2 - \\rho*b_d*z_{cm}**2*\\hat{\\varphi}(t)*cos(2*\\theta(t))/4 + \\rho*b_d*z_{cm}**2*\\hat{\\varphi}(t)/4 - \\rho*b_d*z_{cm}*\\hat{x}(t)*cos(\\theta(t) - \\varphi(t))/4 + \\rho*b_d*z_{cm}*\\hat{x}(t)*cos(\\theta(t) + \\varphi(t))/4 + \\rho*b_d*z_{cm}*\\hat{y}(t)*sin(\\theta(t) - \\varphi(t))/4 + \\rho*b_d*z_{cm}*\\hat{y}(t)*sin(\\theta(t) + \\varphi(t))/4 - 2*m*x_{cm}**2*\\hat{\\theta}(t)*\\hat{\\varphi}(t)*sin(2*\\theta(t)) + m*x_{cm}*y_{cm}*\\hat{\\theta}(t)**2*cos(\\theta(t)) + 2*m*x_{cm}*z_{cm}*\\hat{\\theta}(t)*\\hat{\\varphi}(t)*cos(2*\\theta(t)) + m*y_{cm}*z_{cm}*\\hat{\\theta}(t)**2*sin(\\theta(t)) + 2*m*z_{cm}**2*\\hat{\\theta}(t)*\\hat{\\varphi}(t)*sin(2*\\theta(t))]])"
      ],
      "text/latex": "$\\displaystyle \\left[\\begin{matrix}- \\hat{x}{\\left(t \\right)}\\\\- \\hat{y}{\\left(t \\right)}\\\\- \\hat{z}{\\left(t \\right)}\\\\- \\hat{\\theta}{\\left(t \\right)}\\\\- \\hat{\\varphi}{\\left(t \\right)}\\\\\\frac{\\omega_{l} \\rho b_{d} d_{w} \\cos{\\left(\\varphi{\\left(t \\right)} \\right)}}{8} - \\frac{\\omega_{l} d_{w} m \\hat{\\varphi}{\\left(t \\right)} \\sin{\\left(\\varphi{\\left(t \\right)} \\right)}}{4} + \\frac{\\omega_{r} \\rho b_{d} d_{w} \\cos{\\left(\\varphi{\\left(t \\right)} \\right)}}{8} - \\frac{\\omega_{r} d_{w} m \\hat{\\varphi}{\\left(t \\right)} \\sin{\\left(\\varphi{\\left(t \\right)} \\right)}}{4} - \\frac{\\rho b_{d} x_{cm} \\hat{\\theta}{\\left(t \\right)} \\sin{\\left(\\theta{\\left(t \\right)} \\right)} \\cos{\\left(\\varphi{\\left(t \\right)} \\right)}}{2} - \\frac{\\rho b_{d} x_{cm} \\hat{\\varphi}{\\left(t \\right)} \\sin{\\left(\\varphi{\\left(t \\right)} \\right)} \\cos{\\left(\\theta{\\left(t \\right)} \\right)}}{2} - \\frac{\\rho b_{d} y_{cm} \\hat{\\varphi}{\\left(t \\right)} \\cos{\\left(\\varphi{\\left(t \\right)} \\right)}}{2} + \\frac{\\sqrt{2} \\rho b_{d} z_{cm} \\hat{\\theta}{\\left(t \\right)} \\sin{\\left(\\theta{\\left(t \\right)} + \\frac{\\pi}{4} \\right)} \\cos{\\left(\\varphi{\\left(t \\right)} \\right)}}{2} - \\frac{\\rho b_{d} z_{cm} \\hat{\\varphi}{\\left(t \\right)} \\sin{\\left(\\theta{\\left(t \\right)} \\right)} \\sin{\\left(\\varphi{\\left(t \\right)} \\right)}}{2} + \\frac{\\rho b_{d} \\hat{x}{\\left(t \\right)}}{2} - m x_{cm} \\hat{\\theta}^{2}{\\left(t \\right)} \\cos{\\left(\\theta{\\left(t \\right)} \\right)} \\cos{\\left(\\varphi{\\left(t \\right)} \\right)} + 2 m x_{cm} \\hat{\\theta}{\\left(t \\right)} \\hat{\\varphi}{\\left(t \\right)} \\sin{\\left(\\theta{\\left(t \\right)} \\right)} \\sin{\\left(\\varphi{\\left(t \\right)} \\right)} - m x_{cm} \\hat{\\varphi}^{2}{\\left(t \\right)} \\cos{\\left(\\theta{\\left(t \\right)} \\right)} \\cos{\\left(\\varphi{\\left(t \\right)} \\right)} + m y_{cm} \\hat{\\varphi}^{2}{\\left(t \\right)} \\sin{\\left(\\varphi{\\left(t \\right)} \\right)} - m z_{cm} \\hat{\\theta}^{2}{\\left(t \\right)} \\sin{\\left(\\theta{\\left(t \\right)} \\right)} \\cos{\\left(\\varphi{\\left(t \\right)} \\right)} - 2 m z_{cm} \\hat{\\theta}{\\left(t \\right)} \\hat{\\varphi}{\\left(t \\right)} \\sin{\\left(\\varphi{\\left(t \\right)} \\right)} \\cos{\\left(\\theta{\\left(t \\right)} \\right)} - m z_{cm} \\hat{\\varphi}^{2}{\\left(t \\right)} \\sin{\\left(\\theta{\\left(t \\right)} \\right)} \\cos{\\left(\\varphi{\\left(t \\right)} \\right)}\\\\\\frac{\\omega_{l} \\rho b_{d} d_{w} \\sin{\\left(\\varphi{\\left(t \\right)} \\right)}}{8} + \\frac{\\omega_{l} d_{w} m \\hat{\\varphi}{\\left(t \\right)} \\cos{\\left(\\varphi{\\left(t \\right)} \\right)}}{4} + \\frac{\\omega_{r} \\rho b_{d} d_{w} \\sin{\\left(\\varphi{\\left(t \\right)} \\right)}}{8} + \\frac{\\omega_{r} d_{w} m \\hat{\\varphi}{\\left(t \\right)} \\cos{\\left(\\varphi{\\left(t \\right)} \\right)}}{4} - \\frac{\\rho b_{d} x_{cm} \\hat{\\theta}{\\left(t \\right)} \\sin{\\left(\\theta{\\left(t \\right)} \\right)} \\sin{\\left(\\varphi{\\left(t \\right)} \\right)}}{2} + \\frac{\\rho b_{d} x_{cm} \\hat{\\varphi}{\\left(t \\right)} \\cos{\\left(\\theta{\\left(t \\right)} \\right)} \\cos{\\left(\\varphi{\\left(t \\right)} \\right)}}{2} - \\frac{\\rho b_{d} y_{cm} \\hat{\\varphi}{\\left(t \\right)} \\sin{\\left(\\varphi{\\left(t \\right)} \\right)}}{2} + \\frac{\\sqrt{2} \\rho b_{d} z_{cm} \\hat{\\theta}{\\left(t \\right)} \\sin{\\left(\\theta{\\left(t \\right)} + \\frac{\\pi}{4} \\right)} \\sin{\\left(\\varphi{\\left(t \\right)} \\right)}}{2} + \\frac{\\rho b_{d} z_{cm} \\hat{\\varphi}{\\left(t \\right)} \\sin{\\left(\\theta{\\left(t \\right)} \\right)} \\cos{\\left(\\varphi{\\left(t \\right)} \\right)}}{2} + \\frac{\\rho b_{d} \\hat{y}{\\left(t \\right)}}{2} - m x_{cm} \\hat{\\theta}^{2}{\\left(t \\right)} \\sin{\\left(\\varphi{\\left(t \\right)} \\right)} \\cos{\\left(\\theta{\\left(t \\right)} \\right)} - 2 m x_{cm} \\hat{\\theta}{\\left(t \\right)} \\hat{\\varphi}{\\left(t \\right)} \\sin{\\left(\\theta{\\left(t \\right)} \\right)} \\cos{\\left(\\varphi{\\left(t \\right)} \\right)} - m x_{cm} \\hat{\\varphi}^{2}{\\left(t \\right)} \\sin{\\left(\\varphi{\\left(t \\right)} \\right)} \\cos{\\left(\\theta{\\left(t \\right)} \\right)} - m y_{cm} \\hat{\\varphi}^{2}{\\left(t \\right)} \\cos{\\left(\\varphi{\\left(t \\right)} \\right)} - m z_{cm} \\hat{\\theta}^{2}{\\left(t \\right)} \\sin{\\left(\\theta{\\left(t \\right)} \\right)} \\sin{\\left(\\varphi{\\left(t \\right)} \\right)} + 2 m z_{cm} \\hat{\\theta}{\\left(t \\right)} \\hat{\\varphi}{\\left(t \\right)} \\cos{\\left(\\theta{\\left(t \\right)} \\right)} \\cos{\\left(\\varphi{\\left(t \\right)} \\right)} - m z_{cm} \\hat{\\varphi}^{2}{\\left(t \\right)} \\sin{\\left(\\theta{\\left(t \\right)} \\right)} \\sin{\\left(\\varphi{\\left(t \\right)} \\right)}\\\\- \\frac{\\rho b_{d} x_{cm} \\hat{\\theta}{\\left(t \\right)} \\cos{\\left(\\theta{\\left(t \\right)} \\right)}}{2} + \\frac{\\sqrt{2} \\rho b_{d} z_{cm} \\hat{\\theta}{\\left(t \\right)} \\cos{\\left(\\theta{\\left(t \\right)} + \\frac{\\pi}{4} \\right)}}{2} + \\frac{\\rho b_{d} \\hat{z}{\\left(t \\right)}}{2} + 2 b_{w} \\hat{z}{\\left(t \\right)} + g m + m x_{cm} \\hat{\\theta}^{2}{\\left(t \\right)} \\sin{\\left(\\theta{\\left(t \\right)} \\right)} - m z_{cm} \\hat{\\theta}^{2}{\\left(t \\right)} \\cos{\\left(\\theta{\\left(t \\right)} \\right)}\\\\- \\frac{\\omega_{l} \\rho b_{d} d_{w} x_{cm} \\sin{\\left(\\theta{\\left(t \\right)} \\right)}}{8} + \\frac{\\omega_{l} \\rho b_{d} d_{w} z_{cm} \\cos{\\left(\\theta{\\left(t \\right)} \\right)}}{8} + \\frac{\\omega_{l} b_{w} d_{w}^{2}}{4} - \\frac{\\omega_{r} \\rho b_{d} d_{w} x_{cm} \\sin{\\left(\\theta{\\left(t \\right)} \\right)}}{8} + \\frac{\\omega_{r} \\rho b_{d} d_{w} z_{cm} \\cos{\\left(\\theta{\\left(t \\right)} \\right)}}{8} + \\frac{\\omega_{r} b_{w} d_{w}^{2}}{4} + \\frac{\\rho b_{d} x_{cm}^{2} \\hat{\\theta}{\\left(t \\right)}}{2} + \\frac{\\rho b_{d} x_{cm} y_{cm} \\hat{\\varphi}{\\left(t \\right)} \\sin{\\left(\\theta{\\left(t \\right)} \\right)}}{2} - \\frac{\\rho b_{d} x_{cm} z_{cm} \\hat{\\theta}{\\left(t \\right)}}{2} - \\frac{\\rho b_{d} x_{cm} \\hat{x}{\\left(t \\right)} \\sin{\\left(\\theta{\\left(t \\right)} - \\varphi{\\left(t \\right)} \\right)}}{4} - \\frac{\\rho b_{d} x_{cm} \\hat{x}{\\left(t \\right)} \\sin{\\left(\\theta{\\left(t \\right)} + \\varphi{\\left(t \\right)} \\right)}}{4} - \\frac{\\rho b_{d} x_{cm} \\hat{y}{\\left(t \\right)} \\cos{\\left(\\theta{\\left(t \\right)} - \\varphi{\\left(t \\right)} \\right)}}{4} + \\frac{\\rho b_{d} x_{cm} \\hat{y}{\\left(t \\right)} \\cos{\\left(\\theta{\\left(t \\right)} + \\varphi{\\left(t \\right)} \\right)}}{4} - \\frac{\\rho b_{d} x_{cm} \\hat{z}{\\left(t \\right)} \\cos{\\left(\\theta{\\left(t \\right)} \\right)}}{2} - \\frac{\\rho b_{d} y_{cm} z_{cm} \\hat{\\varphi}{\\left(t \\right)} \\cos{\\left(\\theta{\\left(t \\right)} \\right)}}{2} + \\frac{\\rho b_{d} z_{cm}^{2} \\hat{\\theta}{\\left(t \\right)}}{2} + \\frac{\\rho b_{d} z_{cm} \\hat{x}{\\left(t \\right)} \\cos{\\left(\\theta{\\left(t \\right)} - \\varphi{\\left(t \\right)} \\right)}}{4} + \\frac{\\rho b_{d} z_{cm} \\hat{x}{\\left(t \\right)} \\cos{\\left(\\theta{\\left(t \\right)} + \\varphi{\\left(t \\right)} \\right)}}{4} - \\frac{\\rho b_{d} z_{cm} \\hat{y}{\\left(t \\right)} \\sin{\\left(\\theta{\\left(t \\right)} - \\varphi{\\left(t \\right)} \\right)}}{4} + \\frac{\\rho b_{d} z_{cm} \\hat{y}{\\left(t \\right)} \\sin{\\left(\\theta{\\left(t \\right)} + \\varphi{\\left(t \\right)} \\right)}}{4} - \\frac{\\rho b_{d} z_{cm} \\hat{z}{\\left(t \\right)} \\sin{\\left(\\theta{\\left(t \\right)} \\right)}}{2} + \\frac{b_{w} d_{w}^{2} \\hat{\\theta}{\\left(t \\right)}}{2} - g m x_{cm} \\cos{\\left(\\theta{\\left(t \\right)} \\right)} - g m z_{cm} \\sin{\\left(\\theta{\\left(t \\right)} \\right)} + m x_{cm}^{2} \\hat{\\varphi}^{2}{\\left(t \\right)} \\sin{\\left(2 \\theta{\\left(t \\right)} \\right)} - m x_{cm} z_{cm} \\hat{\\varphi}^{2}{\\left(t \\right)} \\cos{\\left(2 \\theta{\\left(t \\right)} \\right)} - m z_{cm}^{2} \\hat{\\varphi}^{2}{\\left(t \\right)} \\sin{\\left(2 \\theta{\\left(t \\right)} \\right)}\\\\- \\frac{\\omega_{l} \\rho b_{d} d_{w} y_{cm}}{8} + \\frac{\\omega_{l} d_{w} m \\hat{x}{\\left(t \\right)} \\sin{\\left(\\varphi{\\left(t \\right)} \\right)}}{4} - \\frac{\\omega_{l} d_{w} m \\hat{y}{\\left(t \\right)} \\cos{\\left(\\varphi{\\left(t \\right)} \\right)}}{4} - \\frac{\\omega_{r} \\rho b_{d} d_{w} y_{cm}}{8} + \\frac{\\omega_{r} d_{w} m \\hat{x}{\\left(t \\right)} \\sin{\\left(\\varphi{\\left(t \\right)} \\right)}}{4} - \\frac{\\omega_{r} d_{w} m \\hat{y}{\\left(t \\right)} \\cos{\\left(\\varphi{\\left(t \\right)} \\right)}}{4} + \\frac{\\rho b_{d} x_{cm}^{2} \\hat{\\varphi}{\\left(t \\right)} \\cos{\\left(2 \\theta{\\left(t \\right)} \\right)}}{4} + \\frac{\\rho b_{d} x_{cm}^{2} \\hat{\\varphi}{\\left(t \\right)}}{4} + \\frac{\\rho b_{d} x_{cm} y_{cm} \\hat{\\theta}{\\left(t \\right)} \\sin{\\left(\\theta{\\left(t \\right)} \\right)}}{2} + \\frac{\\rho b_{d} x_{cm} z_{cm} \\hat{\\varphi}{\\left(t \\right)} \\sin{\\left(2 \\theta{\\left(t \\right)} \\right)}}{2} + \\frac{\\rho b_{d} x_{cm} \\hat{x}{\\left(t \\right)} \\sin{\\left(\\theta{\\left(t \\right)} - \\varphi{\\left(t \\right)} \\right)}}{4} - \\frac{\\rho b_{d} x_{cm} \\hat{x}{\\left(t \\right)} \\sin{\\left(\\theta{\\left(t \\right)} + \\varphi{\\left(t \\right)} \\right)}}{4} + \\frac{\\rho b_{d} x_{cm} \\hat{y}{\\left(t \\right)} \\cos{\\left(\\theta{\\left(t \\right)} - \\varphi{\\left(t \\right)} \\right)}}{4} + \\frac{\\rho b_{d} x_{cm} \\hat{y}{\\left(t \\right)} \\cos{\\left(\\theta{\\left(t \\right)} + \\varphi{\\left(t \\right)} \\right)}}{4} + \\frac{\\rho b_{d} y_{cm}^{2} \\hat{\\varphi}{\\left(t \\right)}}{2} - \\frac{\\sqrt{2} \\rho b_{d} y_{cm} z_{cm} \\hat{\\theta}{\\left(t \\right)} \\sin{\\left(\\theta{\\left(t \\right)} + \\frac{\\pi}{4} \\right)}}{2} - \\frac{\\rho b_{d} y_{cm} \\hat{x}{\\left(t \\right)} \\cos{\\left(\\varphi{\\left(t \\right)} \\right)}}{2} - \\frac{\\rho b_{d} y_{cm} \\hat{y}{\\left(t \\right)} \\sin{\\left(\\varphi{\\left(t \\right)} \\right)}}{2} - \\frac{\\rho b_{d} z_{cm}^{2} \\hat{\\varphi}{\\left(t \\right)} \\cos{\\left(2 \\theta{\\left(t \\right)} \\right)}}{4} + \\frac{\\rho b_{d} z_{cm}^{2} \\hat{\\varphi}{\\left(t \\right)}}{4} - \\frac{\\rho b_{d} z_{cm} \\hat{x}{\\left(t \\right)} \\cos{\\left(\\theta{\\left(t \\right)} - \\varphi{\\left(t \\right)} \\right)}}{4} + \\frac{\\rho b_{d} z_{cm} \\hat{x}{\\left(t \\right)} \\cos{\\left(\\theta{\\left(t \\right)} + \\varphi{\\left(t \\right)} \\right)}}{4} + \\frac{\\rho b_{d} z_{cm} \\hat{y}{\\left(t \\right)} \\sin{\\left(\\theta{\\left(t \\right)} - \\varphi{\\left(t \\right)} \\right)}}{4} + \\frac{\\rho b_{d} z_{cm} \\hat{y}{\\left(t \\right)} \\sin{\\left(\\theta{\\left(t \\right)} + \\varphi{\\left(t \\right)} \\right)}}{4} - 2 m x_{cm}^{2} \\hat{\\theta}{\\left(t \\right)} \\hat{\\varphi}{\\left(t \\right)} \\sin{\\left(2 \\theta{\\left(t \\right)} \\right)} + m x_{cm} y_{cm} \\hat{\\theta}^{2}{\\left(t \\right)} \\cos{\\left(\\theta{\\left(t \\right)} \\right)} + 2 m x_{cm} z_{cm} \\hat{\\theta}{\\left(t \\right)} \\hat{\\varphi}{\\left(t \\right)} \\cos{\\left(2 \\theta{\\left(t \\right)} \\right)} + m y_{cm} z_{cm} \\hat{\\theta}^{2}{\\left(t \\right)} \\sin{\\left(\\theta{\\left(t \\right)} \\right)} + 2 m z_{cm}^{2} \\hat{\\theta}{\\left(t \\right)} \\hat{\\varphi}{\\left(t \\right)} \\sin{\\left(2 \\theta{\\left(t \\right)} \\right)}\\end{matrix}\\right]$"
     },
     "metadata": {},
     "output_type": "display_data"
    },
    {
     "name": "stdout",
     "output_type": "stream",
     "text": [
      "True\n"
     ]
    }
   ],
   "execution_count": 44
  },
  {
   "metadata": {
    "ExecuteTime": {
     "end_time": "2025-08-06T19:38:53.737246Z",
     "start_time": "2025-08-06T19:38:53.734920Z"
    }
   },
   "cell_type": "code",
   "source": [
    "# See [Solver](#solver).\n",
    "# U1d = M1dii.LUsolve(-H1d)\n",
    "#\n",
    "# # Output\n",
    "# U1d = sp.simplify(U1d)\n",
    "# U1d"
   ],
   "outputs": [],
   "execution_count": 45
  },
  {
   "metadata": {},
   "cell_type": "markdown",
   "source": [
    "## Project\n",
    "\n",
    "The dynamic model developed is used to simulate and control the cart-pole system with its experimentally measured geometric parameters and properties.\n",
    "\n",
    "<img src=\"../assets/prototype.jpeg\" alt=\"Prototype\" width=\"300\"/>\n",
    "\n",
    "For the prototype, the initial estimation of geometric parameters and properties is given in the section [Applied dynamic model](#applied-dynamic-model).\n",
    "\n",
    "The section [Code generation](#code-generation) presents the code generation process for the developed model to be able to port it to the digital twin and embedded systems.\n",
    "\n",
    "The model is being solved with explict forward time step methods, and its mathematical development is described in the section [Solver](#solver).\n",
    "\n",
    "A simulation of the prototype is presented in the section [Simulation](#simulation)."
   ]
  },
  {
   "metadata": {},
   "cell_type": "markdown",
   "source": "### Applied dynamic model"
  },
  {
   "metadata": {
    "ExecuteTime": {
     "end_time": "2025-08-06T19:38:53.787279Z",
     "start_time": "2025-08-06T19:38:53.784024Z"
    }
   },
   "cell_type": "code",
   "source": [
    "params_sim = {\n",
    "    agx: 0.0,  # factor in the x coordinate for the ground plane\n",
    "    agy: 0.0,  # factor in the y coordinate for the ground plane\n",
    "    xcm: 0.0,  # x coordinate of the body's mass center\n",
    "    ycm: 0.0,  # y coordinate of the body's mass center\n",
    "    zcm: 8.0e-2,  # z coordinate of the body's mass center\n",
    "    hb: 25.0e-2,  # height of body\n",
    "    eb: 8.0e-2,  # body width\n",
    "    dw: 14.5e-2,  # wheel diameter\n",
    "    m: 0.700,  # mass in kg\n",
    "    Ir: 0.005,  # moment of inertia\n",
    "    Iz: 0.002,  # moment of inertia\n",
    "    Iw: 0.0005,  # moment of inertia\n",
    "    ba: 1.0,  # damping coefficient\n",
    "    bw: 4.0,  # damping coefficient\n",
    "    bd: 0.00002,  # drag coefficient\n",
    "    ct: 1.0,  # theta_dot correction factor, ideally sp.tanh(cs_q.thetad - (fv_omega_l + fv_omega_r))\n",
    "    rho: 1.225,  # air density\n",
    "    g: 9.81,  # gravity in m/s^2\n",
    "}"
   ],
   "outputs": [],
   "execution_count": 46
  },
  {
   "metadata": {},
   "cell_type": "markdown",
   "source": [
    "### Code generation\n",
    "\n",
    "To better port the developed model to the digital twin and embedded systems and handle future model updates, the sympy's auto code generation tool is used to produce the necessary Python and C code."
   ]
  },
  {
   "metadata": {
    "ExecuteTime": {
     "end_time": "2025-08-06T19:38:53.854571Z",
     "start_time": "2025-08-06T19:38:53.842065Z"
    }
   },
   "cell_type": "code",
   "source": [
    "subs_2ord_code = {\n",
    "    t: sp.Symbol(r\"t\", real=True),\n",
    "    cs_q.x: sp.Symbol(r\"x\", real=True),\n",
    "    sp.Derivative(cs_q.x, t): sp.Symbol(r\"x_dot\", real=True),\n",
    "    sp.Derivative(cs_q.x, (t, 2)): sp.Symbol(r\"x_ddot\", real=True),\n",
    "    cs_q.y: sp.Symbol(r\"y\", real=True),\n",
    "    sp.Derivative(cs_q.y, t): sp.Symbol(r\"y_dot\", real=True),\n",
    "    sp.Derivative(cs_q.y, (t, 2)): sp.Symbol(r\"y_ddot\", real=True),\n",
    "    cs_q.z: sp.Symbol(r\"z\", real=True),\n",
    "    sp.Derivative(cs_q.z, t): sp.Symbol(r\"z_dot\", real=True),\n",
    "    sp.Derivative(cs_q.z, (t, 2)): sp.Symbol(r\"z_ddot\", real=True),\n",
    "    cs_q.theta: sp.Symbol(r\"theta\", real=True),\n",
    "    sp.Derivative(cs_q.theta, t): sp.Symbol(r\"theta_dot\", real=True),\n",
    "    sp.Derivative(cs_q.theta, (t, 2)): sp.Symbol(r\"theta_ddot\", real=True),\n",
    "    cs_q.phi: sp.Symbol(r\"phi\", real=True),\n",
    "    sp.Derivative(cs_q.phi, t): sp.Symbol(r\"phi_dot\", real=True),\n",
    "    sp.Derivative(cs_q.phi, (t, 2)): sp.Symbol(r\"phi_ddot\", real=True),\n",
    "}\n",
    "\n",
    "subs_1ord_code = {\n",
    "    t: sp.Symbol(r\"t\", real=True),\n",
    "    cs_q.x: sp.Symbol(r\"x\", real=True),\n",
    "    xd1: sp.Symbol(r\"x_dot\", real=True),\n",
    "    sp.Derivative(xd1, t): sp.Symbol(r\"x_ddot\", real=True),\n",
    "    cs_q.y: sp.Symbol(r\"y\", real=True),\n",
    "    yd1: sp.Symbol(r\"y_dot\", real=True),\n",
    "    sp.Derivative(yd1, t): sp.Symbol(r\"y_ddot\", real=True),\n",
    "    cs_q.z: sp.Symbol(r\"z\", real=True),\n",
    "    zd1: sp.Symbol(r\"z_dot\", real=True),\n",
    "    sp.Derivative(zd1, t): sp.Symbol(r\"z_ddot\", real=True),\n",
    "    cs_q.theta: sp.Symbol(r\"theta\", real=True),\n",
    "    td1: sp.Symbol(r\"theta_dot\", real=True),\n",
    "    sp.Derivative(td1, t): sp.Symbol(r\"theta_ddot\", real=True),\n",
    "    cs_q.phi: sp.Symbol(r\"phi\", real=True),\n",
    "    pd1: sp.Symbol(r\"phi_dot\", real=True),\n",
    "    sp.Derivative(pd1, t): sp.Symbol(r\"phi_ddot\", real=True),\n",
    "}\n",
    "\n",
    "subs_fv_code =  {\n",
    "    fv_omega_l: sp.Symbol(r\"fv_omega_l\", real=True),\n",
    "    fv_omega_r: sp.Symbol(r\"fv_omega_r\", real=True),\n",
    "}\n",
    "\n",
    "subs_code = subs_2ord_code | subs_1ord_code | subs_fv_code"
   ],
   "outputs": [],
   "execution_count": 47
  },
  {
   "metadata": {},
   "cell_type": "markdown",
   "source": [
    "#### Python\n",
    "\n",
    "Auto code generation for Python."
   ]
  },
  {
   "metadata": {
    "ExecuteTime": {
     "end_time": "2025-08-06T19:38:53.912399Z",
     "start_time": "2025-08-06T19:38:53.899951Z"
    }
   },
   "cell_type": "code",
   "source": [
    "Xo_code = p_origin.X.subs(subs_code, simultaneous=True)\n",
    "Xo_code = sp.simplify(Xo_code)\n",
    "\n",
    "# Output\n",
    "display(sp.pycode(Xo_code, strict=False))"
   ],
   "outputs": [
    {
     "data": {
      "text/plain": [
       "'ImmutableDenseMatrix([[x], [y], [z]])'"
      ]
     },
     "metadata": {},
     "output_type": "display_data"
    }
   ],
   "execution_count": 48
  },
  {
   "metadata": {
    "ExecuteTime": {
     "end_time": "2025-08-06T19:38:54.064494Z",
     "start_time": "2025-08-06T19:38:53.959720Z"
    }
   },
   "cell_type": "code",
   "source": [
    "Xo_dot_code = p_origin.Xd.subs(subs_code, simultaneous=True)\n",
    "Xo_dot_code = sp.simplify(Xo_dot_code)\n",
    "\n",
    "# Output\n",
    "display(sp.pycode(Xo_dot_code, strict=False))"
   ],
   "outputs": [
    {
     "data": {
      "text/plain": [
       "'ImmutableDenseMatrix([[(1/4)*d_w*(fv_omega_l + fv_omega_r)*math.cos(phi) + x_dot], [(1/4)*d_w*(fv_omega_l + fv_omega_r)*math.sin(phi) + y_dot], [z_dot]])'"
      ]
     },
     "metadata": {},
     "output_type": "display_data"
    }
   ],
   "execution_count": 49
  },
  {
   "metadata": {
    "ExecuteTime": {
     "end_time": "2025-08-06T19:38:54.253515Z",
     "start_time": "2025-08-06T19:38:54.084944Z"
    }
   },
   "cell_type": "code",
   "source": [
    "Xco_code = p_center_origin.X.subs(subs_code, simultaneous=True)\n",
    "Xco_code = sp.simplify(Xco_code)\n",
    "\n",
    "# Output\n",
    "display(sp.pycode(Xco_code, strict=False))"
   ],
   "outputs": [
    {
     "data": {
      "text/plain": [
       "'ImmutableDenseMatrix([[x_cm*math.cos(phi)*math.cos(theta) - y_cm*math.sin(phi) + z_cm*math.sin(theta)*math.cos(phi)], [x_cm*math.sin(phi)*math.cos(theta) + y_cm*math.cos(phi) + z_cm*math.sin(phi)*math.sin(theta)], [-x_cm*math.sin(theta) + z_cm*math.cos(theta)]])'"
      ]
     },
     "metadata": {},
     "output_type": "display_data"
    }
   ],
   "execution_count": 50
  },
  {
   "metadata": {
    "ExecuteTime": {
     "end_time": "2025-08-06T19:38:54.710411Z",
     "start_time": "2025-08-06T19:38:54.261676Z"
    }
   },
   "cell_type": "code",
   "source": [
    "Xco_dot_code = p_center_origin.Xd.subs(subs_code, simultaneous=True)\n",
    "Xco_dot_code = sp.simplify(Xco_dot_code)\n",
    "\n",
    "# Output\n",
    "display(sp.pycode(Xco_dot_code, strict=False))"
   ],
   "outputs": [
    {
     "data": {
      "text/plain": [
       "'ImmutableDenseMatrix([[-phi_dot*x_cm*math.sin(phi)*math.cos(theta) - phi_dot*y_cm*math.cos(phi) - phi_dot*z_cm*math.sin(phi)*math.sin(theta) - theta_dot*x_cm*math.sin(theta)*math.cos(phi) + theta_dot*z_cm*math.cos(phi)*math.cos(theta)], [phi_dot*x_cm*math.cos(phi)*math.cos(theta) - phi_dot*y_cm*math.sin(phi) + phi_dot*z_cm*math.sin(theta)*math.cos(phi) - theta_dot*x_cm*math.sin(phi)*math.sin(theta) + theta_dot*z_cm*math.sin(phi)*math.cos(theta)], [-theta_dot*(x_cm*math.cos(theta) + z_cm*math.sin(theta))]])'"
      ]
     },
     "metadata": {},
     "output_type": "display_data"
    }
   ],
   "execution_count": 51
  },
  {
   "metadata": {
    "ExecuteTime": {
     "end_time": "2025-08-06T19:38:54.978223Z",
     "start_time": "2025-08-06T19:38:54.721974Z"
    }
   },
   "cell_type": "code",
   "source": [
    "Xc_code = p_center.X.subs(subs_code, simultaneous=True)\n",
    "Xc_code = sp.simplify(Xc_code)\n",
    "\n",
    "# Output\n",
    "display(sp.pycode(Xc_code, strict=False))"
   ],
   "outputs": [
    {
     "data": {
      "text/plain": [
       "'ImmutableDenseMatrix([[x + x_cm*math.cos(phi)*math.cos(theta) - y_cm*math.sin(phi) + z_cm*math.sin(theta)*math.cos(phi)], [x_cm*math.sin(phi)*math.cos(theta) + y + y_cm*math.cos(phi) + z_cm*math.sin(phi)*math.sin(theta)], [-x_cm*math.sin(theta) + z + z_cm*math.cos(theta)]])'"
      ]
     },
     "metadata": {},
     "output_type": "display_data"
    }
   ],
   "execution_count": 52
  },
  {
   "metadata": {
    "ExecuteTime": {
     "end_time": "2025-08-06T19:38:55.750121Z",
     "start_time": "2025-08-06T19:38:55.019597Z"
    }
   },
   "cell_type": "code",
   "source": [
    "Xc_dot_code = p_center.Xd.subs(subs_code, simultaneous=True)\n",
    "Xc_dot_code = sp.simplify(Xc_dot_code)\n",
    "\n",
    "# Output\n",
    "display(sp.pycode(Xc_dot_code, strict=False))"
   ],
   "outputs": [
    {
     "data": {
      "text/plain": [
       "'ImmutableDenseMatrix([[(1/4)*d_w*(fv_omega_l + fv_omega_r)*math.cos(phi) - phi_dot*x_cm*math.sin(phi)*math.cos(theta) - phi_dot*y_cm*math.cos(phi) - phi_dot*z_cm*math.sin(phi)*math.sin(theta) - theta_dot*x_cm*math.sin(theta)*math.cos(phi) + theta_dot*z_cm*math.cos(phi)*math.cos(theta) + x_dot], [(1/4)*d_w*(fv_omega_l + fv_omega_r)*math.sin(phi) + phi_dot*x_cm*math.cos(phi)*math.cos(theta) - phi_dot*y_cm*math.sin(phi) + phi_dot*z_cm*math.sin(theta)*math.cos(phi) - theta_dot*x_cm*math.sin(phi)*math.sin(theta) + theta_dot*z_cm*math.sin(phi)*math.cos(theta) + y_dot], [-theta_dot*x_cm*math.cos(theta) - theta_dot*z_cm*math.sin(theta) + z_dot]])'"
      ]
     },
     "metadata": {},
     "output_type": "display_data"
    }
   ],
   "execution_count": 53
  },
  {
   "metadata": {
    "ExecuteTime": {
     "end_time": "2025-08-06T19:38:56.527847Z",
     "start_time": "2025-08-06T19:38:55.760975Z"
    }
   },
   "cell_type": "code",
   "source": [
    "M_code = Mii.subs(subs_code, simultaneous=True)\n",
    "M_code = sp.simplify(M_code)\n",
    "\n",
    "# Output\n",
    "display(sp.pycode(M_code, strict=False))"
   ],
   "outputs": [
    {
     "data": {
      "text/plain": [
       "'ImmutableDenseMatrix([[m, 0, 0, m*(-x_cm*math.sin(theta) + z_cm*math.cos(theta))*math.cos(phi), -m*(x_cm*math.sin(phi)*math.cos(theta) + y_cm*math.cos(phi) + z_cm*math.sin(phi)*math.sin(theta))], [0, m, 0, m*(-x_cm*math.sin(theta) + z_cm*math.cos(theta))*math.sin(phi), m*(x_cm*math.cos(phi)*math.cos(theta) - y_cm*math.sin(phi) + z_cm*math.sin(theta)*math.cos(phi))], [0, 0, m, -m*(x_cm*math.cos(theta) + z_cm*math.sin(theta)), 0], [m*(-x_cm*math.sin(theta) + z_cm*math.cos(theta))*math.cos(phi), m*(-x_cm*math.sin(theta) + z_cm*math.cos(theta))*math.sin(phi), -m*(x_cm*math.cos(theta) + z_cm*math.sin(theta)), I_r + 2*I_w*c_\\\\theta + 2*I_w + m*x_cm**2 + m*z_cm**2, m*y_cm*(x_cm*math.sin(theta) - z_cm*math.cos(theta))], [-m*(x_cm*math.sin(phi)*math.cos(theta) + y_cm*math.cos(phi) + z_cm*math.sin(phi)*math.sin(theta)), m*(x_cm*math.cos(phi)*math.cos(theta) - y_cm*math.sin(phi) + z_cm*math.sin(theta)*math.cos(phi)), 0, m*y_cm*(x_cm*math.sin(theta) - z_cm*math.cos(theta)), I_z + m*x_cm**2*math.cos(2*theta) + m*x_cm**2 + m*x_cm*z_cm*math.sin(2*theta) + 2*m*y_cm**2 - m*z_cm**2*math.cos(2*theta) + m*z_cm**2]])'"
      ]
     },
     "metadata": {},
     "output_type": "display_data"
    }
   ],
   "execution_count": 54
  },
  {
   "metadata": {
    "ExecuteTime": {
     "end_time": "2025-08-06T19:39:04.285752Z",
     "start_time": "2025-08-06T19:38:56.533245Z"
    }
   },
   "cell_type": "code",
   "source": [
    "H_code = H.subs(subs_code, simultaneous=True)\n",
    "H_code = sp.simplify(H_code)\n",
    "\n",
    "# Output\n",
    "display(sp.pycode(H_code, strict=False))"
   ],
   "outputs": [
    {
     "data": {
      "text/plain": [
       "'ImmutableDenseMatrix([[(1/8)*\\\\rho*b_d*d_w*fv_omega_l*math.cos(phi) + (1/8)*\\\\rho*b_d*d_w*fv_omega_r*math.cos(phi) - 1/2*\\\\rho*b_d*theta_dot*(x_cm*math.sin(theta) - math.sqrt(2)*z_cm*math.sin(theta + (1/4)*math.pi))*math.cos(phi) + (1/2)*\\\\rho*b_d*x_dot - m*phi_dot**2*(x_cm*math.cos(phi)*math.cos(theta) - y_cm*math.sin(phi) + z_cm*math.sin(theta)*math.cos(phi)) + 2*m*phi_dot*theta_dot*(x_cm*math.sin(theta) - z_cm*math.cos(theta))*math.sin(phi) - m*theta_dot**2*(x_cm*math.cos(theta) + z_cm*math.sin(theta))*math.cos(phi) - 1/4*phi_dot*(2*\\\\rho*b_d*x_cm*math.sin(phi)*math.cos(theta) + 2*\\\\rho*b_d*y_cm*math.cos(phi) + 2*\\\\rho*b_d*z_cm*math.sin(phi)*math.sin(theta) + d_w*fv_omega_l*m*math.sin(phi) + d_w*fv_omega_r*m*math.sin(phi))], [(1/8)*\\\\rho*b_d*d_w*fv_omega_l*math.sin(phi) + (1/8)*\\\\rho*b_d*d_w*fv_omega_r*math.sin(phi) - 1/2*\\\\rho*b_d*theta_dot*(x_cm*math.sin(theta) - math.sqrt(2)*z_cm*math.sin(theta + (1/4)*math.pi))*math.sin(phi) + (1/2)*\\\\rho*b_d*y_dot - m*phi_dot**2*(x_cm*math.sin(phi)*math.cos(theta) + y_cm*math.cos(phi) + z_cm*math.sin(phi)*math.sin(theta)) - 2*m*phi_dot*theta_dot*(x_cm*math.sin(theta) - z_cm*math.cos(theta))*math.cos(phi) - m*theta_dot**2*(x_cm*math.cos(theta) + z_cm*math.sin(theta))*math.sin(phi) + (1/4)*phi_dot*(2*\\\\rho*b_d*x_cm*math.cos(phi)*math.cos(theta) - 2*\\\\rho*b_d*y_cm*math.sin(phi) + 2*\\\\rho*b_d*z_cm*math.sin(theta)*math.cos(phi) + d_w*fv_omega_l*m*math.cos(phi) + d_w*fv_omega_r*m*math.cos(phi))], [-1/2*\\\\rho*b_d*theta_dot*(x_cm*math.cos(theta) - math.sqrt(2)*z_cm*math.cos(theta + (1/4)*math.pi)) + g*m + m*theta_dot**2*(x_cm*math.sin(theta) - z_cm*math.cos(theta)) + (1/2)*z_dot*(\\\\rho*b_d + 4*b_w)], [-1/8*\\\\rho*b_d*d_w*fv_omega_l*x_cm*math.sin(theta) + (1/8)*\\\\rho*b_d*d_w*fv_omega_l*z_cm*math.cos(theta) - 1/8*\\\\rho*b_d*d_w*fv_omega_r*x_cm*math.sin(theta) + (1/8)*\\\\rho*b_d*d_w*fv_omega_r*z_cm*math.cos(theta) + (1/2)*\\\\rho*b_d*phi_dot*y_cm*(x_cm*math.sin(theta) - z_cm*math.cos(theta)) - 1/2*\\\\rho*b_d*x_dot*(x_cm*math.sin(theta) - z_cm*math.cos(theta))*math.cos(phi) - 1/2*\\\\rho*b_d*y_dot*(x_cm*math.sin(theta) - z_cm*math.cos(theta))*math.sin(phi) - 1/2*\\\\rho*b_d*z_dot*(x_cm*math.cos(theta) + z_cm*math.sin(theta)) + (1/4)*b_w*d_w**2*fv_omega_l + (1/4)*b_w*d_w**2*fv_omega_r - g*m*x_cm*math.cos(theta) - g*m*z_cm*math.sin(theta) - m*phi_dot**2*(-x_cm**2*math.sin(2*theta) + x_cm*z_cm*math.cos(2*theta) + z_cm**2*math.sin(2*theta)) + (1/2)*theta_dot*(\\\\rho*b_d*x_cm**2 - \\\\rho*b_d*x_cm*z_cm + \\\\rho*b_d*z_cm**2 + b_w*d_w**2)], [-1/8*\\\\rho*b_d*d_w*fv_omega_l*y_cm - 1/8*\\\\rho*b_d*d_w*fv_omega_r*y_cm + (1/4)*\\\\rho*b_d*phi_dot*(x_cm**2*math.cos(2*theta) + x_cm**2 + 2*x_cm*z_cm*math.sin(2*theta) + 2*y_cm**2 - z_cm**2*math.cos(2*theta) + z_cm**2) + (1/2)*\\\\rho*b_d*theta_dot*y_cm*(x_cm*math.sin(theta) - math.sqrt(2)*z_cm*math.sin(theta + (1/4)*math.pi)) + 2*m*phi_dot*theta_dot*(-x_cm**2*math.sin(2*theta) + x_cm*z_cm*math.cos(2*theta) + z_cm**2*math.sin(2*theta)) + m*theta_dot**2*y_cm*(x_cm*math.cos(theta) + z_cm*math.sin(theta)) - 1/4*x_dot*(2*\\\\rho*b_d*x_cm*math.sin(phi)*math.cos(theta) + 2*\\\\rho*b_d*y_cm*math.cos(phi) + 2*\\\\rho*b_d*z_cm*math.sin(phi)*math.sin(theta) - d_w*fv_omega_l*m*math.sin(phi) - d_w*fv_omega_r*m*math.sin(phi)) - 1/4*y_dot*(-2*\\\\rho*b_d*x_cm*math.cos(phi)*math.cos(theta) + 2*\\\\rho*b_d*y_cm*math.sin(phi) - 2*\\\\rho*b_d*z_cm*math.sin(theta)*math.cos(phi) + d_w*fv_omega_l*m*math.cos(phi) + d_w*fv_omega_r*m*math.cos(phi))]])'"
      ]
     },
     "metadata": {},
     "output_type": "display_data"
    }
   ],
   "execution_count": 55
  },
  {
   "metadata": {
    "ExecuteTime": {
     "end_time": "2025-08-06T19:39:04.462684Z",
     "start_time": "2025-08-06T19:39:04.460458Z"
    }
   },
   "cell_type": "code",
   "source": [
    "# See [Solver](#solver).\n",
    "# U_code = U.subs(subs_code, simultaneous=True)\n",
    "# U_code = sp.simplify(U_code)\n",
    "#\n",
    "# # Output\n",
    "# display(sp.pycode(U_code, strict=False))"
   ],
   "outputs": [],
   "execution_count": 56
  },
  {
   "metadata": {
    "ExecuteTime": {
     "end_time": "2025-08-06T19:39:04.604994Z",
     "start_time": "2025-08-06T19:39:04.511494Z"
    }
   },
   "cell_type": "code",
   "source": [
    "Cons_code = Cons.subs(subs_code, simultaneous=True)\n",
    "Cons_code = sp.simplify(Cons_code)\n",
    "\n",
    "# Output\n",
    "display(sp.pycode(Cons_code, strict=False))"
   ],
   "outputs": [
    {
     "data": {
      "text/plain": [
       "'ImmutableDenseMatrix([[-a_gx*x - a_gy*y + z], [-a_gx*x - a_gy*y + (1/2)*d_w + h_b*math.cos(theta)]])'"
      ]
     },
     "metadata": {},
     "output_type": "display_data"
    }
   ],
   "execution_count": 57
  },
  {
   "metadata": {
    "ExecuteTime": {
     "end_time": "2025-08-06T19:39:04.682216Z",
     "start_time": "2025-08-06T19:39:04.641954Z"
    }
   },
   "cell_type": "code",
   "source": [
    "Cons_gradq_code = Cons_gradq.subs(subs_code, simultaneous=True)\n",
    "Cons_gradq_code = sp.simplify(Cons_gradq_code)\n",
    "\n",
    "# Output\n",
    "display(sp.pycode(Cons_gradq_code, strict=False))"
   ],
   "outputs": [
    {
     "data": {
      "text/plain": [
       "'ImmutableDenseMatrix([[-a_gx, -a_gy, 1, 0, 0], [-a_gx, -a_gy, 0, -h_b*math.sin(theta), 0]])'"
      ]
     },
     "metadata": {},
     "output_type": "display_data"
    }
   ],
   "execution_count": 58
  },
  {
   "metadata": {},
   "cell_type": "markdown",
   "source": [
    "#### C\n",
    "\n",
    "Auto code generation for C."
   ]
  },
  {
   "metadata": {
    "ExecuteTime": {
     "end_time": "2025-08-06T19:39:04.702580Z",
     "start_time": "2025-08-06T19:39:04.695808Z"
    }
   },
   "cell_type": "code",
   "source": [
    "[(c_name, c_code), (h_name, h_code)] = codegen((\"f\", Xo_code), \"C99\", \"lambdify_xo\", project='fcp', header=False, empty=True)\n",
    "\n",
    "# Output\n",
    "print(f\"//{78 * '-'}\\n// Header file: {h_name}\\n//{78 * '-'}{h_code}\")\n",
    "print(f\"//{78 * '-'}\\n// Source file: {c_name}\\n//{78 * '-'}\\n{c_code}\")"
   ],
   "outputs": [
    {
     "name": "stdout",
     "output_type": "stream",
     "text": [
      "//------------------------------------------------------------------------------\n",
      "// Header file: lambdify_xo.h\n",
      "//------------------------------------------------------------------------------\n",
      "#ifndef FCP__LAMBDIFY_XO__H\n",
      "#define FCP__LAMBDIFY_XO__H\n",
      "\n",
      "void f(double x, double y, double z, double *out_319027705282636882);\n",
      "\n",
      "#endif\n",
      "\n",
      "\n",
      "//------------------------------------------------------------------------------\n",
      "// Source file: lambdify_xo.c\n",
      "//------------------------------------------------------------------------------\n",
      "#include \"lambdify_xo.h\"\n",
      "#include <math.h>\n",
      "\n",
      "void f(double x, double y, double z, double *out_319027705282636882) {\n",
      "\n",
      "   out_319027705282636882[0] = x;\n",
      "   out_319027705282636882[1] = y;\n",
      "   out_319027705282636882[2] = z;\n",
      "\n",
      "}\n",
      "\n"
     ]
    }
   ],
   "execution_count": 59
  },
  {
   "metadata": {
    "ExecuteTime": {
     "end_time": "2025-08-06T19:39:04.750203Z",
     "start_time": "2025-08-06T19:39:04.745621Z"
    }
   },
   "cell_type": "code",
   "source": [
    "[(c_name, c_code), (h_name, h_code)] = codegen((\"f\", Xo_dot_code), \"C99\", \"lambdify_xo_dot\", project='fcp', header=False, empty=True)\n",
    "\n",
    "# Output\n",
    "print(f\"//{78 * '-'}\\n// Header file: {h_name}\\n//{78 * '-'}{h_code}\")\n",
    "print(f\"//{78 * '-'}\\n// Source file: {c_name}\\n//{78 * '-'}\\n{c_code}\")"
   ],
   "outputs": [
    {
     "name": "stdout",
     "output_type": "stream",
     "text": [
      "//------------------------------------------------------------------------------\n",
      "// Header file: lambdify_xo_dot.h\n",
      "//------------------------------------------------------------------------------\n",
      "#ifndef FCP__LAMBDIFY_XO_DOT__H\n",
      "#define FCP__LAMBDIFY_XO_DOT__H\n",
      "\n",
      "void f(double d_w, double fv_omega_l, double fv_omega_r, double phi, double x_dot, double y_dot, double z_dot, double *out_4350574925470127910);\n",
      "\n",
      "#endif\n",
      "\n",
      "\n",
      "//------------------------------------------------------------------------------\n",
      "// Source file: lambdify_xo_dot.c\n",
      "//------------------------------------------------------------------------------\n",
      "#include \"lambdify_xo_dot.h\"\n",
      "#include <math.h>\n",
      "\n",
      "void f(double d_w, double fv_omega_l, double fv_omega_r, double phi, double x_dot, double y_dot, double z_dot, double *out_4350574925470127910) {\n",
      "\n",
      "   out_4350574925470127910[0] = (1.0/4.0)*d_w*(fv_omega_l + fv_omega_r)*cos(phi) + x_dot;\n",
      "   out_4350574925470127910[1] = (1.0/4.0)*d_w*(fv_omega_l + fv_omega_r)*sin(phi) + y_dot;\n",
      "   out_4350574925470127910[2] = z_dot;\n",
      "\n",
      "}\n",
      "\n"
     ]
    }
   ],
   "execution_count": 60
  },
  {
   "metadata": {
    "ExecuteTime": {
     "end_time": "2025-08-06T19:39:04.800900Z",
     "start_time": "2025-08-06T19:39:04.796155Z"
    }
   },
   "cell_type": "code",
   "source": [
    "[(c_name, c_code), (h_name, h_code)] = codegen((\"f\", Xco_code), \"C99\", \"lambdify_xco\", project='fcp', header=False, empty=True)\n",
    "\n",
    "# Output\n",
    "print(f\"//{78 * '-'}\\n// Header file: {h_name}\\n//{78 * '-'}{h_code}\")\n",
    "print(f\"//{78 * '-'}\\n// Source file: {c_name}\\n//{78 * '-'}\\n{c_code}\")"
   ],
   "outputs": [
    {
     "name": "stdout",
     "output_type": "stream",
     "text": [
      "//------------------------------------------------------------------------------\n",
      "// Header file: lambdify_xco.h\n",
      "//------------------------------------------------------------------------------\n",
      "#ifndef FCP__LAMBDIFY_XCO__H\n",
      "#define FCP__LAMBDIFY_XCO__H\n",
      "\n",
      "void f(double phi, double theta, double x_{cm}, double y_{cm}, double z_{cm}, double *out_922305772249627065);\n",
      "\n",
      "#endif\n",
      "\n",
      "\n",
      "//------------------------------------------------------------------------------\n",
      "// Source file: lambdify_xco.c\n",
      "//------------------------------------------------------------------------------\n",
      "#include \"lambdify_xco.h\"\n",
      "#include <math.h>\n",
      "\n",
      "void f(double phi, double theta, double x_{cm}, double y_{cm}, double z_{cm}, double *out_922305772249627065) {\n",
      "\n",
      "   out_922305772249627065[0] = x_{cm}*cos(phi)*cos(theta) - y_{cm}*sin(phi) + z_{cm}*sin(theta)*cos(phi);\n",
      "   out_922305772249627065[1] = x_{cm}*sin(phi)*cos(theta) + y_{cm}*cos(phi) + z_{cm}*sin(phi)*sin(theta);\n",
      "   out_922305772249627065[2] = -x_{cm}*sin(theta) + z_{cm}*cos(theta);\n",
      "\n",
      "}\n",
      "\n"
     ]
    }
   ],
   "execution_count": 61
  },
  {
   "metadata": {
    "ExecuteTime": {
     "end_time": "2025-08-06T19:39:04.852342Z",
     "start_time": "2025-08-06T19:39:04.844596Z"
    }
   },
   "cell_type": "code",
   "source": [
    "[(c_name, c_code), (h_name, h_code)] = codegen((\"f\", Xco_dot_code), \"C99\", \"lambdify_xco_dot\", project='fcp', header=False, empty=True)\n",
    "\n",
    "# Output\n",
    "print(f\"//{78 * '-'}\\n// Header file: {h_name}\\n//{78 * '-'}{h_code}\")\n",
    "print(f\"//{78 * '-'}\\n// Source file: {c_name}\\n//{78 * '-'}\\n{c_code}\")"
   ],
   "outputs": [
    {
     "name": "stdout",
     "output_type": "stream",
     "text": [
      "//------------------------------------------------------------------------------\n",
      "// Header file: lambdify_xco_dot.h\n",
      "//------------------------------------------------------------------------------\n",
      "#ifndef FCP__LAMBDIFY_XCO_DOT__H\n",
      "#define FCP__LAMBDIFY_XCO_DOT__H\n",
      "\n",
      "void f(double phi, double phi_dot, double theta, double theta_dot, double x_{cm}, double y_{cm}, double z_{cm}, double *out_4190537118751283878);\n",
      "\n",
      "#endif\n",
      "\n",
      "\n",
      "//------------------------------------------------------------------------------\n",
      "// Source file: lambdify_xco_dot.c\n",
      "//------------------------------------------------------------------------------\n",
      "#include \"lambdify_xco_dot.h\"\n",
      "#include <math.h>\n",
      "\n",
      "void f(double phi, double phi_dot, double theta, double theta_dot, double x_{cm}, double y_{cm}, double z_{cm}, double *out_4190537118751283878) {\n",
      "\n",
      "   out_4190537118751283878[0] = -phi_dot*x_{cm}*sin(phi)*cos(theta) - phi_dot*y_{cm}*cos(phi) - phi_dot*z_{cm}*sin(phi)*sin(theta) - theta_dot*x_{cm}*sin(theta)*cos(phi) + theta_dot*z_{cm}*cos(phi)*cos(theta);\n",
      "   out_4190537118751283878[1] = phi_dot*x_{cm}*cos(phi)*cos(theta) - phi_dot*y_{cm}*sin(phi) + phi_dot*z_{cm}*sin(theta)*cos(phi) - theta_dot*x_{cm}*sin(phi)*sin(theta) + theta_dot*z_{cm}*sin(phi)*cos(theta);\n",
      "   out_4190537118751283878[2] = -theta_dot*(x_{cm}*cos(theta) + z_{cm}*sin(theta));\n",
      "\n",
      "}\n",
      "\n"
     ]
    }
   ],
   "execution_count": 62
  },
  {
   "metadata": {
    "ExecuteTime": {
     "end_time": "2025-08-06T19:39:04.904619Z",
     "start_time": "2025-08-06T19:39:04.900010Z"
    }
   },
   "cell_type": "code",
   "source": [
    "[(c_name, c_code), (h_name, h_code)] = codegen((\"f\", Xc_code), \"C99\", \"lambdify_xc\", project='fcp', header=False, empty=True)\n",
    "\n",
    "# Output\n",
    "print(f\"//{78 * '-'}\\n// Header file: {h_name}\\n//{78 * '-'}{h_code}\")\n",
    "print(f\"//{78 * '-'}\\n// Source file: {c_name}\\n//{78 * '-'}\\n{c_code}\")"
   ],
   "outputs": [
    {
     "name": "stdout",
     "output_type": "stream",
     "text": [
      "//------------------------------------------------------------------------------\n",
      "// Header file: lambdify_xc.h\n",
      "//------------------------------------------------------------------------------\n",
      "#ifndef FCP__LAMBDIFY_XC__H\n",
      "#define FCP__LAMBDIFY_XC__H\n",
      "\n",
      "void f(double phi, double theta, double x, double x_{cm}, double y, double y_{cm}, double z, double z_{cm}, double *out_2208057014705492497);\n",
      "\n",
      "#endif\n",
      "\n",
      "\n",
      "//------------------------------------------------------------------------------\n",
      "// Source file: lambdify_xc.c\n",
      "//------------------------------------------------------------------------------\n",
      "#include \"lambdify_xc.h\"\n",
      "#include <math.h>\n",
      "\n",
      "void f(double phi, double theta, double x, double x_{cm}, double y, double y_{cm}, double z, double z_{cm}, double *out_2208057014705492497) {\n",
      "\n",
      "   out_2208057014705492497[0] = x + x_{cm}*cos(phi)*cos(theta) - y_{cm}*sin(phi) + z_{cm}*sin(theta)*cos(phi);\n",
      "   out_2208057014705492497[1] = x_{cm}*sin(phi)*cos(theta) + y + y_{cm}*cos(phi) + z_{cm}*sin(phi)*sin(theta);\n",
      "   out_2208057014705492497[2] = -x_{cm}*sin(theta) + z + z_{cm}*cos(theta);\n",
      "\n",
      "}\n",
      "\n"
     ]
    }
   ],
   "execution_count": 63
  },
  {
   "metadata": {
    "ExecuteTime": {
     "end_time": "2025-08-06T19:39:04.960956Z",
     "start_time": "2025-08-06T19:39:04.953206Z"
    }
   },
   "cell_type": "code",
   "source": [
    "[(c_name, c_code), (h_name, h_code)] = codegen((\"f\", Xc_dot_code), \"C99\", \"lambdify_xc_dot\", project='fcp', header=False, empty=True)\n",
    "\n",
    "# Output\n",
    "print(f\"//{78 * '-'}\\n// Header file: {h_name}\\n//{78 * '-'}{h_code}\")\n",
    "print(f\"//{78 * '-'}\\n// Source file: {c_name}\\n//{78 * '-'}\\n{c_code}\")"
   ],
   "outputs": [
    {
     "name": "stdout",
     "output_type": "stream",
     "text": [
      "//------------------------------------------------------------------------------\n",
      "// Header file: lambdify_xc_dot.h\n",
      "//------------------------------------------------------------------------------\n",
      "#ifndef FCP__LAMBDIFY_XC_DOT__H\n",
      "#define FCP__LAMBDIFY_XC_DOT__H\n",
      "\n",
      "void f(double d_w, double fv_omega_l, double fv_omega_r, double phi, double phi_dot, double theta, double theta_dot, double x_dot, double x_{cm}, double y_dot, double y_{cm}, double z_dot, double z_{cm}, double *out_6873081596739234958);\n",
      "\n",
      "#endif\n",
      "\n",
      "\n",
      "//------------------------------------------------------------------------------\n",
      "// Source file: lambdify_xc_dot.c\n",
      "//------------------------------------------------------------------------------\n",
      "#include \"lambdify_xc_dot.h\"\n",
      "#include <math.h>\n",
      "\n",
      "void f(double d_w, double fv_omega_l, double fv_omega_r, double phi, double phi_dot, double theta, double theta_dot, double x_dot, double x_{cm}, double y_dot, double y_{cm}, double z_dot, double z_{cm}, double *out_6873081596739234958) {\n",
      "\n",
      "   out_6873081596739234958[0] = (1.0/4.0)*d_w*(fv_omega_l + fv_omega_r)*cos(phi) - phi_dot*x_{cm}*sin(phi)*cos(theta) - phi_dot*y_{cm}*cos(phi) - phi_dot*z_{cm}*sin(phi)*sin(theta) - theta_dot*x_{cm}*sin(theta)*cos(phi) + theta_dot*z_{cm}*cos(phi)*cos(theta) + x_dot;\n",
      "   out_6873081596739234958[1] = (1.0/4.0)*d_w*(fv_omega_l + fv_omega_r)*sin(phi) + phi_dot*x_{cm}*cos(phi)*cos(theta) - phi_dot*y_{cm}*sin(phi) + phi_dot*z_{cm}*sin(theta)*cos(phi) - theta_dot*x_{cm}*sin(phi)*sin(theta) + theta_dot*z_{cm}*sin(phi)*cos(theta) + y_dot;\n",
      "   out_6873081596739234958[2] = -theta_dot*x_{cm}*cos(theta) - theta_dot*z_{cm}*sin(theta) + z_dot;\n",
      "\n",
      "}\n",
      "\n"
     ]
    }
   ],
   "execution_count": 64
  },
  {
   "metadata": {
    "ExecuteTime": {
     "end_time": "2025-08-06T19:39:05.031719Z",
     "start_time": "2025-08-06T19:39:05.021345Z"
    }
   },
   "cell_type": "code",
   "source": [
    "[(c_name, c_code), (h_name, h_code)] = codegen((\"f\", M_code), \"C99\", \"lambdify_m\", project='fcp', header=False, empty=True)\n",
    "\n",
    "# Output\n",
    "print(f\"//{78 * '-'}\\n// Header file: {h_name}\\n//{78 * '-'}{h_code}\")\n",
    "print(f\"//{78 * '-'}\\n// Source file: {c_name}\\n//{78 * '-'}\\n{c_code}\")"
   ],
   "outputs": [
    {
     "name": "stdout",
     "output_type": "stream",
     "text": [
      "//------------------------------------------------------------------------------\n",
      "// Header file: lambdify_m.h\n",
      "//------------------------------------------------------------------------------\n",
      "#ifndef FCP__LAMBDIFY_M__H\n",
      "#define FCP__LAMBDIFY_M__H\n",
      "\n",
      "void f(double I_r, double I_w, double I_z, double c_{\\theta}, double m, double phi, double theta, double x_{cm}, double y_{cm}, double z_{cm}, double *out_1448321625896938694);\n",
      "\n",
      "#endif\n",
      "\n",
      "\n",
      "//------------------------------------------------------------------------------\n",
      "// Source file: lambdify_m.c\n",
      "//------------------------------------------------------------------------------\n",
      "#include \"lambdify_m.h\"\n",
      "#include <math.h>\n",
      "\n",
      "void f(double I_r, double I_w, double I_z, double c_{\\theta}, double m, double phi, double theta, double x_{cm}, double y_{cm}, double z_{cm}, double *out_1448321625896938694) {\n",
      "\n",
      "   out_1448321625896938694[0] = m;\n",
      "   out_1448321625896938694[1] = 0;\n",
      "   out_1448321625896938694[2] = 0;\n",
      "   out_1448321625896938694[3] = m*(-x_{cm}*sin(theta) + z_{cm}*cos(theta))*cos(phi);\n",
      "   out_1448321625896938694[4] = -m*(x_{cm}*sin(phi)*cos(theta) + y_{cm}*cos(phi) + z_{cm}*sin(phi)*sin(theta));\n",
      "   out_1448321625896938694[5] = 0;\n",
      "   out_1448321625896938694[6] = m;\n",
      "   out_1448321625896938694[7] = 0;\n",
      "   out_1448321625896938694[8] = m*(-x_{cm}*sin(theta) + z_{cm}*cos(theta))*sin(phi);\n",
      "   out_1448321625896938694[9] = m*(x_{cm}*cos(phi)*cos(theta) - y_{cm}*sin(phi) + z_{cm}*sin(theta)*cos(phi));\n",
      "   out_1448321625896938694[10] = 0;\n",
      "   out_1448321625896938694[11] = 0;\n",
      "   out_1448321625896938694[12] = m;\n",
      "   out_1448321625896938694[13] = -m*(x_{cm}*cos(theta) + z_{cm}*sin(theta));\n",
      "   out_1448321625896938694[14] = 0;\n",
      "   out_1448321625896938694[15] = m*(-x_{cm}*sin(theta) + z_{cm}*cos(theta))*cos(phi);\n",
      "   out_1448321625896938694[16] = m*(-x_{cm}*sin(theta) + z_{cm}*cos(theta))*sin(phi);\n",
      "   out_1448321625896938694[17] = -m*(x_{cm}*cos(theta) + z_{cm}*sin(theta));\n",
      "   out_1448321625896938694[18] = I_r + 2*I_w*c_{\\theta} + 2*I_w + m*pow(x_{cm}, 2) + m*pow(z_{cm}, 2);\n",
      "   out_1448321625896938694[19] = m*y_{cm}*(x_{cm}*sin(theta) - z_{cm}*cos(theta));\n",
      "   out_1448321625896938694[20] = -m*(x_{cm}*sin(phi)*cos(theta) + y_{cm}*cos(phi) + z_{cm}*sin(phi)*sin(theta));\n",
      "   out_1448321625896938694[21] = m*(x_{cm}*cos(phi)*cos(theta) - y_{cm}*sin(phi) + z_{cm}*sin(theta)*cos(phi));\n",
      "   out_1448321625896938694[22] = 0;\n",
      "   out_1448321625896938694[23] = m*y_{cm}*(x_{cm}*sin(theta) - z_{cm}*cos(theta));\n",
      "   out_1448321625896938694[24] = I_z + m*pow(x_{cm}, 2)*cos(2*theta) + m*pow(x_{cm}, 2) + m*x_{cm}*z_{cm}*sin(2*theta) + 2*m*pow(y_{cm}, 2) - m*pow(z_{cm}, 2)*cos(2*theta) + m*pow(z_{cm}, 2);\n",
      "\n",
      "}\n",
      "\n"
     ]
    }
   ],
   "execution_count": 65
  },
  {
   "metadata": {
    "ExecuteTime": {
     "end_time": "2025-08-06T19:39:05.103630Z",
     "start_time": "2025-08-06T19:39:05.083932Z"
    }
   },
   "cell_type": "code",
   "source": [
    "[(c_name, c_code), (h_name, h_code)] = codegen((\"f\", H_code), \"C99\", \"lambdify_h\", project='fcp', header=False, empty=True)\n",
    "\n",
    "# Output\n",
    "print(f\"//{78 * '-'}\\n// Header file: {h_name}\\n//{78 * '-'}{h_code}\")\n",
    "print(f\"//{78 * '-'}\\n// Source file: {c_name}\\n//{78 * '-'}\\n{c_code}\")"
   ],
   "outputs": [
    {
     "name": "stdout",
     "output_type": "stream",
     "text": [
      "//------------------------------------------------------------------------------\n",
      "// Header file: lambdify_h.h\n",
      "//------------------------------------------------------------------------------\n",
      "#ifndef FCP__LAMBDIFY_H__H\n",
      "#define FCP__LAMBDIFY_H__H\n",
      "\n",
      "void f(double \\rho, double b_d, double b_w, double d_w, double fv_omega_l, double fv_omega_r, double g, double m, double phi, double phi_dot, double theta, double theta_dot, double x_dot, double x_{cm}, double y_dot, double y_{cm}, double z_dot, double z_{cm}, double *out_1610521209819319490);\n",
      "\n",
      "#endif\n",
      "\n",
      "\n",
      "//------------------------------------------------------------------------------\n",
      "// Source file: lambdify_h.c\n",
      "//------------------------------------------------------------------------------\n",
      "#include \"lambdify_h.h\"\n",
      "#include <math.h>\n",
      "\n",
      "void f(double \\rho, double b_d, double b_w, double d_w, double fv_omega_l, double fv_omega_r, double g, double m, double phi, double phi_dot, double theta, double theta_dot, double x_dot, double x_{cm}, double y_dot, double y_{cm}, double z_dot, double z_{cm}, double *out_1610521209819319490) {\n",
      "\n",
      "   out_1610521209819319490[0] = (1.0/8.0)*\\rho*b_d*d_w*fv_omega_l*cos(phi) + (1.0/8.0)*\\rho*b_d*d_w*fv_omega_r*cos(phi) - 1.0/2.0*\\rho*b_d*theta_dot*(x_{cm}*sin(theta) - M_SQRT2*z_{cm}*sin(theta + M_PI_4))*cos(phi) + (1.0/2.0)*\\rho*b_d*x_dot - m*pow(phi_dot, 2)*(x_{cm}*cos(phi)*cos(theta) - y_{cm}*sin(phi) + z_{cm}*sin(theta)*cos(phi)) + 2*m*phi_dot*theta_dot*(x_{cm}*sin(theta) - z_{cm}*cos(theta))*sin(phi) - m*pow(theta_dot, 2)*(x_{cm}*cos(theta) + z_{cm}*sin(theta))*cos(phi) - 1.0/4.0*phi_dot*(2*\\rho*b_d*x_{cm}*sin(phi)*cos(theta) + 2*\\rho*b_d*y_{cm}*cos(phi) + 2*\\rho*b_d*z_{cm}*sin(phi)*sin(theta) + d_w*fv_omega_l*m*sin(phi) + d_w*fv_omega_r*m*sin(phi));\n",
      "   out_1610521209819319490[1] = (1.0/8.0)*\\rho*b_d*d_w*fv_omega_l*sin(phi) + (1.0/8.0)*\\rho*b_d*d_w*fv_omega_r*sin(phi) - 1.0/2.0*\\rho*b_d*theta_dot*(x_{cm}*sin(theta) - M_SQRT2*z_{cm}*sin(theta + M_PI_4))*sin(phi) + (1.0/2.0)*\\rho*b_d*y_dot - m*pow(phi_dot, 2)*(x_{cm}*sin(phi)*cos(theta) + y_{cm}*cos(phi) + z_{cm}*sin(phi)*sin(theta)) - 2*m*phi_dot*theta_dot*(x_{cm}*sin(theta) - z_{cm}*cos(theta))*cos(phi) - m*pow(theta_dot, 2)*(x_{cm}*cos(theta) + z_{cm}*sin(theta))*sin(phi) + (1.0/4.0)*phi_dot*(2*\\rho*b_d*x_{cm}*cos(phi)*cos(theta) - 2*\\rho*b_d*y_{cm}*sin(phi) + 2*\\rho*b_d*z_{cm}*sin(theta)*cos(phi) + d_w*fv_omega_l*m*cos(phi) + d_w*fv_omega_r*m*cos(phi));\n",
      "   out_1610521209819319490[2] = -1.0/2.0*\\rho*b_d*theta_dot*(x_{cm}*cos(theta) - M_SQRT2*z_{cm}*cos(theta + M_PI_4)) + g*m + m*pow(theta_dot, 2)*(x_{cm}*sin(theta) - z_{cm}*cos(theta)) + (1.0/2.0)*z_dot*(\\rho*b_d + 4*b_w);\n",
      "   out_1610521209819319490[3] = -1.0/8.0*\\rho*b_d*d_w*fv_omega_l*x_{cm}*sin(theta) + (1.0/8.0)*\\rho*b_d*d_w*fv_omega_l*z_{cm}*cos(theta) - 1.0/8.0*\\rho*b_d*d_w*fv_omega_r*x_{cm}*sin(theta) + (1.0/8.0)*\\rho*b_d*d_w*fv_omega_r*z_{cm}*cos(theta) + (1.0/2.0)*\\rho*b_d*phi_dot*y_{cm}*(x_{cm}*sin(theta) - z_{cm}*cos(theta)) - 1.0/2.0*\\rho*b_d*x_dot*(x_{cm}*sin(theta) - z_{cm}*cos(theta))*cos(phi) - 1.0/2.0*\\rho*b_d*y_dot*(x_{cm}*sin(theta) - z_{cm}*cos(theta))*sin(phi) - 1.0/2.0*\\rho*b_d*z_dot*(x_{cm}*cos(theta) + z_{cm}*sin(theta)) + (1.0/4.0)*b_w*pow(d_w, 2)*fv_omega_l + (1.0/4.0)*b_w*pow(d_w, 2)*fv_omega_r - g*m*x_{cm}*cos(theta) - g*m*z_{cm}*sin(theta) - m*pow(phi_dot, 2)*(-pow(x_{cm}, 2)*sin(2*theta) + x_{cm}*z_{cm}*cos(2*theta) + pow(z_{cm}, 2)*sin(2*theta)) + (1.0/2.0)*theta_dot*(\\rho*b_d*pow(x_{cm}, 2) - \\rho*b_d*x_{cm}*z_{cm} + \\rho*b_d*pow(z_{cm}, 2) + b_w*pow(d_w, 2));\n",
      "   out_1610521209819319490[4] = -1.0/8.0*\\rho*b_d*d_w*fv_omega_l*y_{cm} - 1.0/8.0*\\rho*b_d*d_w*fv_omega_r*y_{cm} + (1.0/4.0)*\\rho*b_d*phi_dot*(pow(x_{cm}, 2)*cos(2*theta) + pow(x_{cm}, 2) + 2*x_{cm}*z_{cm}*sin(2*theta) + 2*pow(y_{cm}, 2) - pow(z_{cm}, 2)*cos(2*theta) + pow(z_{cm}, 2)) + (1.0/2.0)*\\rho*b_d*theta_dot*y_{cm}*(x_{cm}*sin(theta) - M_SQRT2*z_{cm}*sin(theta + M_PI_4)) + 2*m*phi_dot*theta_dot*(-pow(x_{cm}, 2)*sin(2*theta) + x_{cm}*z_{cm}*cos(2*theta) + pow(z_{cm}, 2)*sin(2*theta)) + m*pow(theta_dot, 2)*y_{cm}*(x_{cm}*cos(theta) + z_{cm}*sin(theta)) - 1.0/4.0*x_dot*(2*\\rho*b_d*x_{cm}*sin(phi)*cos(theta) + 2*\\rho*b_d*y_{cm}*cos(phi) + 2*\\rho*b_d*z_{cm}*sin(phi)*sin(theta) - d_w*fv_omega_l*m*sin(phi) - d_w*fv_omega_r*m*sin(phi)) - 1.0/4.0*y_dot*(-2*\\rho*b_d*x_{cm}*cos(phi)*cos(theta) + 2*\\rho*b_d*y_{cm}*sin(phi) - 2*\\rho*b_d*z_{cm}*sin(theta)*cos(phi) + d_w*fv_omega_l*m*cos(phi) + d_w*fv_omega_r*m*cos(phi));\n",
      "\n",
      "}\n",
      "\n"
     ]
    }
   ],
   "execution_count": 66
  },
  {
   "metadata": {
    "ExecuteTime": {
     "end_time": "2025-08-06T19:39:05.152949Z",
     "start_time": "2025-08-06T19:39:05.151159Z"
    }
   },
   "cell_type": "code",
   "source": [
    "# See [Solver](#solver).\n",
    "# [(c_name, c_code), (h_name, h_code)] = codegen((\"f\", U_code), \"C99\", \"lambdify_u\", project='fcp', header=False, empty=True)\n",
    "#\n",
    "# # Output\n",
    "# print(f\"//{78 * '-'}\\n// Header file: {h_name}\\n//{78 * '-'}{h_code}\")\n",
    "# print(f\"//{78 * '-'}\\n// Source file: {c_name}\\n//{78 * '-'}\\n{c_code}\")"
   ],
   "outputs": [],
   "execution_count": 67
  },
  {
   "metadata": {
    "ExecuteTime": {
     "end_time": "2025-08-06T19:39:05.208345Z",
     "start_time": "2025-08-06T19:39:05.199625Z"
    }
   },
   "cell_type": "code",
   "source": [
    "[(c_name, c_code), (h_name, h_code)] = codegen((\"f\", Cons_code), \"C99\", \"lambdify_cons\", project='fcp', header=False, empty=True)\n",
    "\n",
    "# Output\n",
    "print(f\"//{78 * '-'}\\n// Header file: {h_name}\\n//{78 * '-'}{h_code}\")\n",
    "print(f\"//{78 * '-'}\\n// Source file: {c_name}\\n//{78 * '-'}\\n{c_code}\")"
   ],
   "outputs": [
    {
     "name": "stdout",
     "output_type": "stream",
     "text": [
      "//------------------------------------------------------------------------------\n",
      "// Header file: lambdify_cons.h\n",
      "//------------------------------------------------------------------------------\n",
      "#ifndef FCP__LAMBDIFY_CONS__H\n",
      "#define FCP__LAMBDIFY_CONS__H\n",
      "\n",
      "void f(double a_{gx}, double a_{gy}, double d_w, double h_b, double theta, double x, double y, double z, double *out_2771790849975657867);\n",
      "\n",
      "#endif\n",
      "\n",
      "\n",
      "//------------------------------------------------------------------------------\n",
      "// Source file: lambdify_cons.c\n",
      "//------------------------------------------------------------------------------\n",
      "#include \"lambdify_cons.h\"\n",
      "#include <math.h>\n",
      "\n",
      "void f(double a_{gx}, double a_{gy}, double d_w, double h_b, double theta, double x, double y, double z, double *out_2771790849975657867) {\n",
      "\n",
      "   out_2771790849975657867[0] = -a_{gx}*x - a_{gy}*y + z;\n",
      "   out_2771790849975657867[1] = -a_{gx}*x - a_{gy}*y + (1.0/2.0)*d_w + h_b*cos(theta);\n",
      "\n",
      "}\n",
      "\n"
     ]
    }
   ],
   "execution_count": 68
  },
  {
   "metadata": {
    "ExecuteTime": {
     "end_time": "2025-08-06T19:39:05.283322Z",
     "start_time": "2025-08-06T19:39:05.279092Z"
    }
   },
   "cell_type": "code",
   "source": [
    "[(c_name, c_code), (h_name, h_code)] = codegen((\"f\", Cons_gradq_code), \"C99\", \"lambdify_cons_gradq\", project='fcp', header=False, empty=True)\n",
    "\n",
    "# Output\n",
    "print(f\"//{78 * '-'}\\n// Header file: {h_name}\\n//{78 * '-'}{h_code}\")\n",
    "print(f\"//{78 * '-'}\\n// Source file: {c_name}\\n//{78 * '-'}\\n{c_code}\")"
   ],
   "outputs": [
    {
     "name": "stdout",
     "output_type": "stream",
     "text": [
      "//------------------------------------------------------------------------------\n",
      "// Header file: lambdify_cons_gradq.h\n",
      "//------------------------------------------------------------------------------\n",
      "#ifndef FCP__LAMBDIFY_CONS_GRADQ__H\n",
      "#define FCP__LAMBDIFY_CONS_GRADQ__H\n",
      "\n",
      "void f(double a_{gx}, double a_{gy}, double h_b, double theta, double *out_498465823738979288);\n",
      "\n",
      "#endif\n",
      "\n",
      "\n",
      "//------------------------------------------------------------------------------\n",
      "// Source file: lambdify_cons_gradq.c\n",
      "//------------------------------------------------------------------------------\n",
      "#include \"lambdify_cons_gradq.h\"\n",
      "#include <math.h>\n",
      "\n",
      "void f(double a_{gx}, double a_{gy}, double h_b, double theta, double *out_498465823738979288) {\n",
      "\n",
      "   out_498465823738979288[0] = -a_{gx};\n",
      "   out_498465823738979288[1] = -a_{gy};\n",
      "   out_498465823738979288[2] = 1;\n",
      "   out_498465823738979288[3] = 0;\n",
      "   out_498465823738979288[4] = 0;\n",
      "   out_498465823738979288[5] = -a_{gx};\n",
      "   out_498465823738979288[6] = -a_{gy};\n",
      "   out_498465823738979288[7] = 0;\n",
      "   out_498465823738979288[8] = -h_b*sin(theta);\n",
      "   out_498465823738979288[9] = 0;\n",
      "\n",
      "}\n",
      "\n"
     ]
    }
   ],
   "execution_count": 69
  },
  {
   "metadata": {},
   "cell_type": "markdown",
   "source": [
    "### Solver\n",
    "\n",
    "Solve the dynamics governing equations as an initial value problem with unilateral constraints using the Moreau–Jean fixed-step scheme, a robust first-order integrator that enforces complementarity conditions at the velocity level, which ensures both non-penetration and energy dissipation.\n",
    "\n",
    "$$ M(q) \\ddot{q} + H(q, \\dot{q}) = J^T \\lambda $$\n",
    "\n",
    "$$ 0 \\le \\lambda \\>\\> \\bot \\>\\> [ J \\dot{q}^+ ] \\ge 0 $$\n",
    "\n",
    "where $ \\lambda $ is the constraint forces, $ J $ is the Jacobian of the constraints, and $ \\dot{q}^+ $ is the constrained velocity.\n",
    "\n",
    "The constrained system is expressed as a linear complementarity problem (LCP)\n",
    "\n",
    "$$ w = A \\lambda + b $$\n",
    "\n",
    "$$ w, \\lambda \\ge 0 $$\n",
    "\n",
    "$$ w^T \\lambda = 0$$\n",
    "\n",
    "where $ w $ represents the constraint violation measure. The complementarity condition $ w^T \\lambda = 0 $ ensures that a constraint is either active ($ w = 0 $, $ \\lambda \\ge 0 $) or inactive ($ w > 0 $, $ \\lambda = 0 $), but never both.\n",
    "\n",
    "The LCP is solved by recasting it as a convex quadratic programming (QP) problem\n",
    "\n",
    "$$ \\min\\nolimits_{\\lambda} \\>\\> \\frac{1}{2} \\lambda^T P \\lambda + b^T \\lambda $$\n",
    "\n",
    "$$ G \\lambda \\preceq h $$\n",
    "\n",
    "where the matrices are chosen as\n",
    "\n",
    "$$ P = \\frac{1}{2} \\left( A + A^T \\right) + \\epsilon I , \\>\\> G = -I , \\>\\> h = 0 $$\n",
    "\n",
    "The small regularization parameter $ \\epsilon $ ensures that $ P $ is positive definite, improving numerical stability and guaranteeing the uniqueness of the solution. The inequality $ G \\lambda \\preceq h $ corresponds to the component-wise non-negativity constraint $ \\lambda \\ge 0 $.\n",
    "\n",
    "For the unconstrained system, it was chosen to solve the $ M(q) \\ddot{q} = -H(q, \\dot{q}) $ system directly via factorization instead of the analytical inverse $ \\ddot{q} = - M^{-1}(q) H(q, \\dot{q}) $ due to similar computational performance while avoiding the long time to solve the analytical inverse $ M^{-1}(q) $.\n",
    "\n",
    "For each time step, the unconstrained velocity $ \\dot{q}^- $ is computed using the unconstrained system formulation, then corrected with the constraint violation velocity and integrated\n",
    "\n",
    "$$ \\dot{q}^+ = \\dot{q}^- + ( M^{-1} J^T ) \\lambda $$\n",
    "\n",
    "$$ q = q_o + \\int_0^t \\dot{q}^+ dt \\approx q_o + \\dot{q}^+ dt $$"
   ]
  },
  {
   "metadata": {
    "ExecuteTime": {
     "end_time": "2025-08-06T19:39:05.353479Z",
     "start_time": "2025-08-06T19:39:05.344497Z"
    }
   },
   "cell_type": "code",
   "source": [
    "class Solver:\n",
    "    def __init__(self, M_fn, H_fn, Cons_fn, Cons_gradq_fn, Cons_gradqd_fn, params):\n",
    "        self.M_fn = M_fn\n",
    "        self.H_fn = H_fn\n",
    "        self.Cons_fn = Cons_fn\n",
    "        self.Cons_gradq_fn = Cons_gradq_fn\n",
    "        self.Cons_gradqd_fn = Cons_gradqd_fn\n",
    "        self.params = params\n",
    "\n",
    "    @staticmethod\n",
    "    def solve_lcp(A: np.ndarray, b: np.ndarray, reg: float = 1e-8) -> np.ndarray:\n",
    "        \"\"\"\n",
    "        Solve the LCP:\n",
    "          w = A @ λ + b,    w >= 0,    λ >= 0,    wᵀ λ = 0\n",
    "        by recasting as the QP:\n",
    "          min_{λ >= 0} ½ λᵀ A λ + bᵀ λ\n",
    "\n",
    "        A small diagonal regularization term (reg*I) guarantees\n",
    "        that the matrix passed to quadprog is positive definite.\n",
    "\n",
    "        Parameters\n",
    "        ----------\n",
    "        A : (n,n) ndarray\n",
    "            Should be symmetric positive semidefinite (e.g. J M^{-1} Jᵀ).\n",
    "        b : (n,) ndarray\n",
    "        reg : float\n",
    "            Diagonal regularization to add to A for numerical stability.\n",
    "\n",
    "        Returns\n",
    "        -------\n",
    "        λ : (n,) ndarray\n",
    "            The contact forces satisfying the complementarity conditions.\n",
    "        \"\"\"\n",
    "        n = b.shape[0]\n",
    "\n",
    "        # Symmetrize and regularize to ensure PD\n",
    "        P = 0.5 * (A + A.T) + reg * np.eye(n)\n",
    "        q = b.copy()\n",
    "\n",
    "        # λ >= 0  →  G λ <= h  with  G = -I,  h = 0\n",
    "        G = -np.eye(n)\n",
    "        h = np.zeros(n)\n",
    "\n",
    "        # Solve the QP\n",
    "        lam = solve_qp(P, q, G=G, h=h, lb=np.zeros(n), solver='quadprog')\n",
    "\n",
    "        # Clamp any tiny negatives\n",
    "        lam = np.maximum(lam, 0.0)\n",
    "        return lam\n",
    "\n",
    "    def dynamics_constrained(self, t, fq, fv):\n",
    "        \"\"\"\n",
    "        Moreau-Jean fixed-step integrator for unilateral constraints.\n",
    "\n",
    "        Equations:\n",
    "          M(q) v_dot = -H(q,v) + J^T λ,\n",
    "          q_dot = v,\n",
    "        with 0 ≤ λ ⟂ [J v_plus] ≥ 0.\n",
    "\n",
    "        At each step:\n",
    "          v_minus = v^n + dt * M^{-1}(-H)\n",
    "          A = dt * J M^{-1} J^T\n",
    "          b = J v_minus\n",
    "          solve LCP: A λ + b ≥ 0, λ ≥ 0, (Aλ + b)^T λ = 0\n",
    "          v_plus = v_minus - dt * M^{-1} J^T λ\n",
    "          q^{n+1} = q^n + dt * v_plus\n",
    "        \"\"\"\n",
    "        qn = fq[0::2]\n",
    "        vn = fq[1::2]\n",
    "        dt = t\n",
    "\n",
    "        M_num = self.M_fn(t, *fq, *fv, *self.params.values())\n",
    "        H_num = self.H_fn(t, *fq, *fv, *self.params.values()).flatten()\n",
    "\n",
    "        # Free velocity update\n",
    "        a_minus = np.linalg.solve(M_num, -H_num)\n",
    "        v_minus = vn + dt * a_minus\n",
    "\n",
    "        # Constraints\n",
    "        Cons = self.Cons_fn(t, *fq, *fv, *self.params.values()).flatten()\n",
    "        Cons_jac = self.Cons_gradq_fn(t, *fq, *fv, *self.params.values())\n",
    "\n",
    "        # Predicted constraints after free motion: g + dt * J v_minus\n",
    "        Cons_pred = Cons + dt * (Cons_jac.dot(v_minus))\n",
    "        Cons_active = Cons_pred < 0.0\n",
    "\n",
    "        # Build and solve LCP matrices (no dt scaling for stability)\n",
    "        # Optimize performance by solving the LCP only when at least one restriction is set\n",
    "        v_plus = v_minus\n",
    "        lam = np.zeros(Cons_jac.shape[0])\n",
    "        if np.any(Cons_active):\n",
    "            Cons_jac_active = Cons_jac[Cons_active]\n",
    "            M_inv_Jt = np.linalg.solve(M_num, Cons_jac.T)\n",
    "            MinvJt_act = M_inv_Jt[:, Cons_active]\n",
    "            A_active = Cons_jac_active @ MinvJt_act\n",
    "            b_active = Cons_jac_active.dot(v_minus)\n",
    "\n",
    "            lam[Cons_active] = Solver.solve_lcp(A_active, b_active)\n",
    "            v_plus += M_inv_Jt @ lam\n",
    "\n",
    "        # Update states\n",
    "        qn_next = qn + dt * v_plus\n",
    "\n",
    "        fq_next = np.zeros_like(fq)\n",
    "        fq_next[0::2] = qn_next\n",
    "        fq_next[1::2] = v_plus\n",
    "        return fq_next\n",
    "\n",
    "    def step_dyn(self, dt, f0, fv):\n",
    "        sol_y = self.dynamics_constrained(dt, f0, fv)\n",
    "        return sol_t, sol_y.T\n",
    "\n",
    "    def solve_dyn(self, t_span, f0, fv, dt):\n",
    "        n_steps = math.ceil((t_span[1] - t_span[0]) / dt)\n",
    "        sol_t = np.linspace(t_span[0], t_span[1], n_steps + 1)\n",
    "\n",
    "        sol_y = np.zeros((n_steps + 1, 2 * dof))\n",
    "        sol_y[0] = f0\n",
    "\n",
    "        for iter in range(1, n_steps + 1):\n",
    "            sol_y[iter] = self.dynamics_constrained(dt, sol_y[iter - 1], fv)\n",
    "\n",
    "        return sol_t, sol_y.T"
   ],
   "outputs": [],
   "execution_count": 70
  },
  {
   "metadata": {},
   "cell_type": "markdown",
   "source": [
    "### Simulation\n",
    "\n",
    "Simulation of the mathematical model without active control using the Moreau-Jean solver.\n",
    "\n",
    "The initial state is set with zero velocities and a small perturbation in $ \\theta $.\n",
    "\n",
    "The plots show the evolution of the cart-pole system in time and the constraints being satisfied.\n",
    "Note that in the energy differentiation plot, the value should approach zero after the cart is static, $ \\lim_{dt \\to 0} \\frac{d}{dt} \\left(T + V \\right) = 0 $."
   ]
  },
  {
   "metadata": {
    "ExecuteTime": {
     "end_time": "2025-08-06T19:39:06.658516Z",
     "start_time": "2025-08-06T19:39:05.412307Z"
    }
   },
   "cell_type": "code",
   "source": [
    "t_span = (0.0, 5.0)\n",
    "\n",
    "f0 = np.zeros(2 * dof)\n",
    "f0[6] = 1.0e-7\n",
    "\n",
    "fv = [0.0, 0.0]\n",
    "dt = 1.0e-3\n",
    "\n",
    "solver_lcp = Solver(fn_M, fn_H, fn_Cons, fn_Cons_gradq, fn_Cons_gradqd, params_sim)\n",
    "\n",
    "sol_t, sol_f = solver_lcp.solve_dyn(t_span, f0, fv, dt)\n",
    "\n",
    "sol_x, sol_x_dot, sol_y, sol_y_dot, sol_z, sol_z_dot, sol_theta, sol_theta_dot, sol_phi, sol_phi_dot = sol_f"
   ],
   "outputs": [],
   "execution_count": 71
  },
  {
   "metadata": {
    "ExecuteTime": {
     "end_time": "2025-08-06T19:39:07.098135Z",
     "start_time": "2025-08-06T19:39:06.805830Z"
    }
   },
   "cell_type": "code",
   "source": [
    "sol_xo = np.array([fn_Xo(sol_t[i], *sol_f[:, i], *fv, *params_sim.values()) for i in range(len(sol_t))]).reshape((len(sol_t), 3))\n",
    "sol_xo_dot = np.array([fn_Xo_dot(sol_t[i], *sol_f[:, i], *fv, *params_sim.values()) for i in range(len(sol_t))]).reshape((len(sol_t), 3))\n",
    "\n",
    "sol_xc = np.array([fn_Xc(sol_t[i], *sol_f[:, i], *fv, *params_sim.values()) for i in range(len(sol_t))]).reshape((len(sol_t), 3))\n",
    "sol_xc_dot = np.array([fn_Xc_dot(sol_t[i], *sol_f[:, i], *fv, *params_sim.values()) for i in range(len(sol_t))]).reshape((len(sol_t), 3))\n",
    "\n",
    "sol_l_kinect = np.array([fn_l_kinect(sol_t[i], *sol_f[:, i], *fv, *params_sim.values()) for i in range(len(sol_t))]).reshape((len(sol_t),))\n",
    "sol_l_potential = np.array([fn_l_potential(sol_t[i], *sol_f[:, i], *fv, *params_sim.values()) for i in range(len(sol_t))]).reshape((len(sol_t),))\n",
    "sol_l_lagrangian = sol_l_kinect - sol_l_potential\n",
    "sol_l_mechanical = sol_l_kinect + sol_l_potential"
   ],
   "outputs": [],
   "execution_count": 72
  },
  {
   "metadata": {
    "ExecuteTime": {
     "end_time": "2025-08-06T19:39:07.605242Z",
     "start_time": "2025-08-06T19:39:07.106288Z"
    }
   },
   "cell_type": "code",
   "source": [
    "plt.figure(figsize=(15, 5))\n",
    "\n",
    "plt.axhline(y=0.0, linestyle='-', color='gray')\n",
    "plt.axhline(y=np.pi, linestyle='--', color='gray', label=r'$\\pi$')\n",
    "plt.axhline(y=-np.pi, linestyle='--', color='gray', label=r'$-\\pi$')\n",
    "\n",
    "plt.plot(sol_t, sol_x, label=r'$x(t)$')\n",
    "plt.plot(sol_t, sol_y, label=r'$y(t)$')\n",
    "plt.plot(sol_t, sol_z, label=r'$z(t)$')\n",
    "plt.plot(sol_t, sol_theta, label=r'$\\theta(t)$')\n",
    "plt.plot(sol_t, sol_phi, label=r'$\\varphi(t)$')\n",
    "\n",
    "plt.xlabel('Time $t$')\n",
    "plt.ylabel('State values')\n",
    "plt.title('Evolution of state')\n",
    "plt.legend(loc='upper right')\n",
    "plt.grid(True)\n",
    "plt.tight_layout()\n",
    "plt.show()"
   ],
   "outputs": [
    {
     "data": {
      "text/plain": [
       "<Figure size 1500x500 with 1 Axes>"
      ],
      "image/png": "[encoded data removed]"
     },
     "metadata": {},
     "output_type": "display_data"
    }
   ],
   "execution_count": 73
  },
  {
   "metadata": {
    "ExecuteTime": {
     "end_time": "2025-08-06T19:39:08.333066Z",
     "start_time": "2025-08-06T19:39:07.731554Z"
    }
   },
   "cell_type": "code",
   "source": [
    "fig, axes = plt.subplots(3, 1, figsize=(15, 12), sharex=True, sharey=True)\n",
    "\n",
    "# Evolution of X_o\n",
    "axes[0].axhline(y=0.0, linestyle='-', color='gray')\n",
    "axes[0].plot(sol_t, sol_xo, label=[r'$x_o(t)$', r'$y_o(t)$', r'$z_o(t)$'])\n",
    "axes[0].set_ylabel('State values')\n",
    "axes[0].set_title('Evolution of $X_o(t)$')\n",
    "axes[0].legend(loc='upper right')\n",
    "axes[0].grid(True)\n",
    "\n",
    "# Evolution of X_c - X_o\n",
    "axes[1].axhline(y=0.0, linestyle='-', color='gray')\n",
    "axes[1].plot(sol_t, sol_xc - sol_xo, label=[r'$x_c(t)-x_o(t)$', r'$y_c(t)-y_o(t)$', r'$z_c(t)-z_o(t)$'])\n",
    "axes[1].set_ylabel('State values')\n",
    "axes[1].set_title('Evolution of $X_c(t) - X_o(t)$')\n",
    "axes[1].legend(loc='upper right')\n",
    "axes[1].grid(True)\n",
    "\n",
    "# Evolution of X_c\n",
    "axes[2].axhline(y=0.0, linestyle='-', color='gray')\n",
    "axes[2].plot(sol_t, sol_xc, label=[r'$x_c(t)$', r'$y_c(t)$', r'$z_c(t)$'])\n",
    "axes[2].set_xlabel('Time $t$')\n",
    "axes[2].set_ylabel('State values')\n",
    "axes[2].set_title('Evolution of $X_c(t)$')\n",
    "axes[2].legend(loc='upper right')\n",
    "axes[2].grid(True)\n",
    "\n",
    "plt.tight_layout()\n",
    "plt.show()"
   ],
   "outputs": [
    {
     "data": {
      "text/plain": [
       "<Figure size 1500x1200 with 3 Axes>"
      ],
      "image/png": "[encoded data removed]"
     },
     "metadata": {},
     "output_type": "display_data"
    }
   ],
   "execution_count": 74
  },
  {
   "metadata": {
    "ExecuteTime": {
     "end_time": "2025-08-06T19:39:08.595381Z",
     "start_time": "2025-08-06T19:39:08.342358Z"
    }
   },
   "cell_type": "code",
   "source": [
    "fig, axes = plt.subplots(2, 1, figsize=(15, 8), sharex=True)\n",
    "\n",
    "# Evolution of Energies\n",
    "axes[0].axhline(y=0.0, linestyle='-', color='gray')\n",
    "axes[0].plot(sol_t, sol_l_kinect, label=r'$T(t)$')\n",
    "axes[0].plot(sol_t, sol_l_potential, label=r'$V(t)$')\n",
    "axes[0].plot(sol_t, sol_l_lagrangian, label=r'$L(t)$')\n",
    "axes[0].plot(sol_t, sol_l_mechanical, label=r'$T(t) + V(t)$')\n",
    "axes[0].set_ylabel('State values')\n",
    "axes[0].set_title('Evolution of Energies')\n",
    "axes[0].legend(loc='upper right')\n",
    "axes[0].grid(True)\n",
    "\n",
    "# Energy Differentiation\n",
    "sol_l_mechanical_diff = [(sol_l_mechanical[i] - sol_l_mechanical[i - 1]) / dt for i in range(1, len(sol_t))]\n",
    "axes[1].axhline(y=0.0, linestyle='-', color='gray')\n",
    "axes[1].plot(sol_t[1:], sol_l_mechanical_diff, label=r'$\\frac{d}{dt}\\left(T(t) + V(t)\\right)$')\n",
    "lres_ylim = 10.0 ** math.ceil(np.log10(np.abs(np.max(sol_l_mechanical_diff))))\n",
    "axes[1].set_ylim(-lres_ylim, lres_ylim)\n",
    "axes[1].set_ylabel('State values')\n",
    "axes[1].set_title('Energy Differentiation')\n",
    "axes[1].legend(loc='upper right')\n",
    "axes[1].grid(True)\n",
    "\n",
    "plt.tight_layout()\n",
    "plt.show()"
   ],
   "outputs": [
    {
     "data": {
      "text/plain": [
       "<Figure size 1500x800 with 2 Axes>"
      ],
      "image/png": "[encoded data removed]"
     },
     "metadata": {},
     "output_type": "display_data"
    }
   ],
   "execution_count": 75
  },
  {
   "metadata": {
    "ExecuteTime": {
     "end_time": "2025-08-06T19:39:08.604015Z",
     "start_time": "2025-08-06T19:39:08.602366Z"
    }
   },
   "cell_type": "code",
   "source": "",
   "outputs": [],
   "execution_count": null
  }
 ]
}
